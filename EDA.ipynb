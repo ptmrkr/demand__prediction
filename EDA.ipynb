{
 "cells": [
  {
   "cell_type": "code",
   "execution_count": 1,
   "source": [
    "#import libraries\r\n",
    "\r\n",
    "import pandas as pd\r\n",
    "import numpy as np\r\n",
    "import cufflinks as cf\r\n",
    "import plotly.offline as pyo\r\n",
    "import chart_studio.plotly as py\r\n",
    "import plotly.express as px\r\n",
    "import matplotlib.pyplot as plt\r\n",
    "%matplotlib inline\r\n",
    "\r\n",
    "from plotly.offline import download_plotlyjs, init_notebook_mode, plot, iplot\r\n",
    "init_notebook_mode(connected=True)\r\n",
    "cf.go_offline()"
   ],
   "outputs": [
    {
     "output_type": "display_data",
     "data": {
      "text/html": [
       "        <script type=\"text/javascript\">\n",
       "        window.PlotlyConfig = {MathJaxConfig: 'local'};\n",
       "        if (window.MathJax) {MathJax.Hub.Config({SVG: {font: \"STIX-Web\"}});}\n",
       "        if (typeof require !== 'undefined') {\n",
       "        require.undef(\"plotly\");\n",
       "        requirejs.config({\n",
       "            paths: {\n",
       "                'plotly': ['https://cdn.plot.ly/plotly-2.4.2.min']\n",
       "            }\n",
       "        });\n",
       "        require(['plotly'], function(Plotly) {\n",
       "            window._Plotly = Plotly;\n",
       "        });\n",
       "        }\n",
       "        </script>\n",
       "        "
      ]
     },
     "metadata": {}
    },
    {
     "output_type": "display_data",
     "data": {
      "text/html": [
       "        <script type=\"text/javascript\">\n",
       "        window.PlotlyConfig = {MathJaxConfig: 'local'};\n",
       "        if (window.MathJax) {MathJax.Hub.Config({SVG: {font: \"STIX-Web\"}});}\n",
       "        if (typeof require !== 'undefined') {\n",
       "        require.undef(\"plotly\");\n",
       "        requirejs.config({\n",
       "            paths: {\n",
       "                'plotly': ['https://cdn.plot.ly/plotly-2.4.2.min']\n",
       "            }\n",
       "        });\n",
       "        require(['plotly'], function(Plotly) {\n",
       "            window._Plotly = Plotly;\n",
       "        });\n",
       "        }\n",
       "        </script>\n",
       "        "
      ]
     },
     "metadata": {}
    }
   ],
   "metadata": {}
  },
  {
   "cell_type": "code",
   "execution_count": 2,
   "source": [
    "#import datasets\r\n",
    "\r\n",
    "train=pd.read_csv(r'C:\\Users\\hp\\Downloads\\demand prediction\\train.csv')\r\n",
    "test=pd.read_csv(r'C:\\Users\\hp\\Downloads\\demand prediction\\test.csv')\r\n",
    "meal_info=pd.read_csv(r'C:\\Users\\hp\\Downloads\\demand prediction\\meal_info.csv')\r\n",
    "fulfilment_center_info=pd.read_csv(r'C:\\Users\\hp\\Downloads\\demand prediction\\fulfilment_center_info.csv')"
   ],
   "outputs": [],
   "metadata": {}
  },
  {
   "cell_type": "code",
   "execution_count": 3,
   "source": [
    "#merge datasets\r\n",
    "merge1=pd.merge(train,fulfilment_center_info,how='inner',on='center_id')\r\n",
    "df=pd.merge(merge1,meal_info,how='inner',on='meal_id')\r\n",
    "\r\n",
    "#reorder columns\r\n",
    "df.rename(columns = {'id':'order_id'}, inplace = True)\r\n",
    "df=df.loc[:, ['week','region_code','city_code','center_id','center_type','num_orders','checkout_price','cuisine','category','emailer_for_promotion','homepage_featured']]\r\n",
    "df=df.sort_values(by=['week','region_code','city_code','center_id','center_type','num_orders'])\r\n"
   ],
   "outputs": [],
   "metadata": {}
  },
  {
   "cell_type": "code",
   "execution_count": 4,
   "source": [
    "#Exploratory Data Analysis\r\n",
    "\r\n",
    "for i in df.columns:\r\n",
    "    print(i)\r\n",
    "    print(df[i].value_counts())\r\n",
    "    print('Unique Values: '+str(len(df.groupby(i).count()))+'\\n')"
   ],
   "outputs": [
    {
     "output_type": "stream",
     "name": "stdout",
     "text": [
      "week\n",
      "122    3359\n",
      "105    3348\n",
      "106    3347\n",
      "140    3332\n",
      "123    3331\n",
      "       ... \n",
      "13     2838\n",
      "12     2831\n",
      "14     2830\n",
      "7      2795\n",
      "8      2786\n",
      "Name: week, Length: 145, dtype: int64\n",
      "Unique Values: 145\n",
      "\n",
      "region_code\n",
      "56    191228\n",
      "34    116713\n",
      "77     94612\n",
      "85     30283\n",
      "23      6434\n",
      "71      6293\n",
      "93      5721\n",
      "35      5264\n",
      "Name: region_code, dtype: int64\n",
      "Unique Values: 8\n",
      "\n",
      "city_code\n",
      "590    54746\n",
      "526    43525\n",
      "638    20047\n",
      "522    13459\n",
      "517    13109\n",
      "604    13062\n",
      "699    12098\n",
      "647    11833\n",
      "576    11456\n",
      "614    11332\n",
      "676    11177\n",
      "593    10804\n",
      "685     6993\n",
      "700     6891\n",
      "713     6853\n",
      "579     6843\n",
      "679     6801\n",
      "456     6716\n",
      "703     6706\n",
      "698     6434\n",
      "577     6389\n",
      "599     6296\n",
      "596     6293\n",
      "648     6090\n",
      "602     6057\n",
      "659     6053\n",
      "654     6041\n",
      "628     5983\n",
      "651     5975\n",
      "562     5938\n",
      "615     5892\n",
      "556     5885\n",
      "473     5855\n",
      "561     5846\n",
      "461     5763\n",
      "620     5732\n",
      "609     5721\n",
      "675     5715\n",
      "485     5712\n",
      "658     5591\n",
      "553     5547\n",
      "649     5528\n",
      "680     5379\n",
      "683     5296\n",
      "695     5296\n",
      "632     5292\n",
      "702     5264\n",
      "515     5085\n",
      "478     5021\n",
      "693     4627\n",
      "541     4501\n",
      "Name: city_code, dtype: int64\n",
      "Unique Values: 51\n",
      "\n",
      "center_id\n",
      "13     7046\n",
      "10     7015\n",
      "52     6993\n",
      "43     6970\n",
      "67     6915\n",
      "       ... \n",
      "139    4627\n",
      "57     4501\n",
      "162    4366\n",
      "41     4083\n",
      "91     3432\n",
      "Name: center_id, Length: 77, dtype: int64\n",
      "Unique Values: 77\n",
      "\n",
      "center_type\n",
      "TYPE_A    262881\n",
      "TYPE_C     99593\n",
      "TYPE_B     94074\n",
      "Name: center_type, dtype: int64\n",
      "Unique Values: 3\n",
      "\n",
      "num_orders\n",
      "13      12397\n",
      "15      12294\n",
      "14      12270\n",
      "28      11548\n",
      "27      11462\n",
      "        ...  \n",
      "4819        1\n",
      "7262        1\n",
      "6750        1\n",
      "7007        1\n",
      "5629        1\n",
      "Name: num_orders, Length: 1250, dtype: int64\n",
      "Unique Values: 1250\n",
      "\n",
      "checkout_price\n",
      "290.03    7342\n",
      "291.03    7276\n",
      "292.03    7200\n",
      "486.03    6635\n",
      "484.03    6631\n",
      "          ... \n",
      "671.27       1\n",
      "553.90       1\n",
      "70.81        1\n",
      "66.96        1\n",
      "694.58       1\n",
      "Name: checkout_price, Length: 1992, dtype: int64\n",
      "Unique Values: 1992\n",
      "\n",
      "cuisine\n",
      "Italian        122925\n",
      "Thai           118216\n",
      "Indian         112612\n",
      "Continental    102795\n",
      "Name: cuisine, dtype: int64\n",
      "Unique Values: 4\n",
      "\n",
      "category\n",
      "Beverages       127890\n",
      "Rice Bowl        33408\n",
      "Sandwich         33291\n",
      "Pizza            33138\n",
      "Starters         29941\n",
      "Other Snacks     29379\n",
      "Desert           29294\n",
      "Salad            28559\n",
      "Pasta            27694\n",
      "Seafood          26916\n",
      "Biryani          20614\n",
      "Extras           13562\n",
      "Soup             12675\n",
      "Fish             10187\n",
      "Name: category, dtype: int64\n",
      "Unique Values: 14\n",
      "\n",
      "emailer_for_promotion\n",
      "0    419498\n",
      "1     37050\n",
      "Name: emailer_for_promotion, dtype: int64\n",
      "Unique Values: 2\n",
      "\n",
      "homepage_featured\n",
      "0    406693\n",
      "1     49855\n",
      "Name: homepage_featured, dtype: int64\n",
      "Unique Values: 2\n",
      "\n"
     ]
    }
   ],
   "metadata": {}
  },
  {
   "cell_type": "code",
   "execution_count": 5,
   "source": [
    "#analysing sales over 145 weeks, 77 centers, 51 cities, 8 regions and 3 types of centers.\r\n",
    "#the store sells 51 different meals over 14 meal categories.\r\n",
    "#the store uses promotional emails and homepage features on the website to drive sales."
   ],
   "outputs": [],
   "metadata": {}
  },
  {
   "cell_type": "code",
   "execution_count": 6,
   "source": [
    "#calculate total orders per week\r\n",
    "weekly_orders=df.groupby('week',as_index=False)['num_orders'].sum() #group num_orders by week & calculate sum of orders.\r\n",
    "\r\n",
    "#plot the total orders per week\r\n",
    "import plotly.graph_objects as go\r\n",
    "fig=go.Figure()\r\n",
    "fig.add_trace(go.Scatter(x=weekly_orders.week,y=weekly_orders.num_orders,mode='lines+markers',line=dict(color='firebrick',width=1)))\r\n",
    "fig.update_layout(title='Total Number of Orders per Week',xaxis_title='Week',yaxis_title='Number of Orders')\r\n",
    "\r\n"
   ],
   "outputs": [
    {
     "output_type": "display_data",
     "data": {
      "application/vnd.plotly.v1+json": {
       "config": {
        "plotlyServerURL": "https://plot.ly"
       },
       "data": [
        {
         "line": {
          "color": "firebrick",
          "width": 1
         },
         "mode": "lines+markers",
         "type": "scatter",
         "x": [
          1,
          2,
          3,
          4,
          5,
          6,
          7,
          8,
          9,
          10,
          11,
          12,
          13,
          14,
          15,
          16,
          17,
          18,
          19,
          20,
          21,
          22,
          23,
          24,
          25,
          26,
          27,
          28,
          29,
          30,
          31,
          32,
          33,
          34,
          35,
          36,
          37,
          38,
          39,
          40,
          41,
          42,
          43,
          44,
          45,
          46,
          47,
          48,
          49,
          50,
          51,
          52,
          53,
          54,
          55,
          56,
          57,
          58,
          59,
          60,
          61,
          62,
          63,
          64,
          65,
          66,
          67,
          68,
          69,
          70,
          71,
          72,
          73,
          74,
          75,
          76,
          77,
          78,
          79,
          80,
          81,
          82,
          83,
          84,
          85,
          86,
          87,
          88,
          89,
          90,
          91,
          92,
          93,
          94,
          95,
          96,
          97,
          98,
          99,
          100,
          101,
          102,
          103,
          104,
          105,
          106,
          107,
          108,
          109,
          110,
          111,
          112,
          113,
          114,
          115,
          116,
          117,
          118,
          119,
          120,
          121,
          122,
          123,
          124,
          125,
          126,
          127,
          128,
          129,
          130,
          131,
          132,
          133,
          134,
          135,
          136,
          137,
          138,
          139,
          140,
          141,
          142,
          143,
          144,
          145
         ],
         "y": [
          792261,
          787084,
          695262,
          743529,
          1198675,
          947288,
          934803,
          670518,
          723243,
          811825,
          772225,
          690259,
          656102,
          636981,
          651719,
          611515,
          820285,
          932560,
          787196,
          677834,
          707013,
          834111,
          773271,
          647341,
          749583,
          805805,
          740014,
          648863,
          625414,
          915399,
          783214,
          1034202,
          730936,
          693603,
          630458,
          724865,
          877853,
          974566,
          770964,
          807159,
          791493,
          766289,
          693271,
          738583,
          981199,
          862620,
          808269,
          1303457,
          936980,
          890778,
          723036,
          1046811,
          1108236,
          757268,
          875145,
          843250,
          916721,
          834445,
          776781,
          1131459,
          860105,
          380065,
          812075,
          784508,
          844869,
          710083,
          756281,
          1009974,
          1075188,
          1004649,
          1015726,
          732551,
          702678,
          789591,
          970760,
          902928,
          833394,
          862030,
          1004611,
          698063,
          681412,
          859477,
          900091,
          768315,
          860433,
          823515,
          805140,
          745193,
          743489,
          849868,
          834397,
          908145,
          900170,
          825030,
          905841,
          765117,
          609977,
          894021,
          742048,
          1088162,
          999447,
          890983,
          713569,
          774644,
          891479,
          847485,
          783851,
          908764,
          1068318,
          889255,
          892631,
          852107,
          889696,
          813601,
          805469,
          855465,
          809625,
          777707,
          811709,
          753871,
          950500,
          944706,
          889926,
          827257,
          750541,
          810838,
          762737,
          878397,
          843661,
          920019,
          899953,
          939374,
          835583,
          975072,
          777106,
          769623,
          719740,
          667343,
          751935,
          802689,
          776240,
          739661,
          759926,
          801197,
          671926
         ]
        }
       ],
       "layout": {
        "template": {
         "data": {
          "bar": [
           {
            "error_x": {
             "color": "#2a3f5f"
            },
            "error_y": {
             "color": "#2a3f5f"
            },
            "marker": {
             "line": {
              "color": "#E5ECF6",
              "width": 0.5
             },
             "pattern": {
              "fillmode": "overlay",
              "size": 10,
              "solidity": 0.2
             }
            },
            "type": "bar"
           }
          ],
          "barpolar": [
           {
            "marker": {
             "line": {
              "color": "#E5ECF6",
              "width": 0.5
             },
             "pattern": {
              "fillmode": "overlay",
              "size": 10,
              "solidity": 0.2
             }
            },
            "type": "barpolar"
           }
          ],
          "carpet": [
           {
            "aaxis": {
             "endlinecolor": "#2a3f5f",
             "gridcolor": "white",
             "linecolor": "white",
             "minorgridcolor": "white",
             "startlinecolor": "#2a3f5f"
            },
            "baxis": {
             "endlinecolor": "#2a3f5f",
             "gridcolor": "white",
             "linecolor": "white",
             "minorgridcolor": "white",
             "startlinecolor": "#2a3f5f"
            },
            "type": "carpet"
           }
          ],
          "choropleth": [
           {
            "colorbar": {
             "outlinewidth": 0,
             "ticks": ""
            },
            "type": "choropleth"
           }
          ],
          "contour": [
           {
            "colorbar": {
             "outlinewidth": 0,
             "ticks": ""
            },
            "colorscale": [
             [
              0,
              "#0d0887"
             ],
             [
              0.1111111111111111,
              "#46039f"
             ],
             [
              0.2222222222222222,
              "#7201a8"
             ],
             [
              0.3333333333333333,
              "#9c179e"
             ],
             [
              0.4444444444444444,
              "#bd3786"
             ],
             [
              0.5555555555555556,
              "#d8576b"
             ],
             [
              0.6666666666666666,
              "#ed7953"
             ],
             [
              0.7777777777777778,
              "#fb9f3a"
             ],
             [
              0.8888888888888888,
              "#fdca26"
             ],
             [
              1,
              "#f0f921"
             ]
            ],
            "type": "contour"
           }
          ],
          "contourcarpet": [
           {
            "colorbar": {
             "outlinewidth": 0,
             "ticks": ""
            },
            "type": "contourcarpet"
           }
          ],
          "heatmap": [
           {
            "colorbar": {
             "outlinewidth": 0,
             "ticks": ""
            },
            "colorscale": [
             [
              0,
              "#0d0887"
             ],
             [
              0.1111111111111111,
              "#46039f"
             ],
             [
              0.2222222222222222,
              "#7201a8"
             ],
             [
              0.3333333333333333,
              "#9c179e"
             ],
             [
              0.4444444444444444,
              "#bd3786"
             ],
             [
              0.5555555555555556,
              "#d8576b"
             ],
             [
              0.6666666666666666,
              "#ed7953"
             ],
             [
              0.7777777777777778,
              "#fb9f3a"
             ],
             [
              0.8888888888888888,
              "#fdca26"
             ],
             [
              1,
              "#f0f921"
             ]
            ],
            "type": "heatmap"
           }
          ],
          "heatmapgl": [
           {
            "colorbar": {
             "outlinewidth": 0,
             "ticks": ""
            },
            "colorscale": [
             [
              0,
              "#0d0887"
             ],
             [
              0.1111111111111111,
              "#46039f"
             ],
             [
              0.2222222222222222,
              "#7201a8"
             ],
             [
              0.3333333333333333,
              "#9c179e"
             ],
             [
              0.4444444444444444,
              "#bd3786"
             ],
             [
              0.5555555555555556,
              "#d8576b"
             ],
             [
              0.6666666666666666,
              "#ed7953"
             ],
             [
              0.7777777777777778,
              "#fb9f3a"
             ],
             [
              0.8888888888888888,
              "#fdca26"
             ],
             [
              1,
              "#f0f921"
             ]
            ],
            "type": "heatmapgl"
           }
          ],
          "histogram": [
           {
            "marker": {
             "pattern": {
              "fillmode": "overlay",
              "size": 10,
              "solidity": 0.2
             }
            },
            "type": "histogram"
           }
          ],
          "histogram2d": [
           {
            "colorbar": {
             "outlinewidth": 0,
             "ticks": ""
            },
            "colorscale": [
             [
              0,
              "#0d0887"
             ],
             [
              0.1111111111111111,
              "#46039f"
             ],
             [
              0.2222222222222222,
              "#7201a8"
             ],
             [
              0.3333333333333333,
              "#9c179e"
             ],
             [
              0.4444444444444444,
              "#bd3786"
             ],
             [
              0.5555555555555556,
              "#d8576b"
             ],
             [
              0.6666666666666666,
              "#ed7953"
             ],
             [
              0.7777777777777778,
              "#fb9f3a"
             ],
             [
              0.8888888888888888,
              "#fdca26"
             ],
             [
              1,
              "#f0f921"
             ]
            ],
            "type": "histogram2d"
           }
          ],
          "histogram2dcontour": [
           {
            "colorbar": {
             "outlinewidth": 0,
             "ticks": ""
            },
            "colorscale": [
             [
              0,
              "#0d0887"
             ],
             [
              0.1111111111111111,
              "#46039f"
             ],
             [
              0.2222222222222222,
              "#7201a8"
             ],
             [
              0.3333333333333333,
              "#9c179e"
             ],
             [
              0.4444444444444444,
              "#bd3786"
             ],
             [
              0.5555555555555556,
              "#d8576b"
             ],
             [
              0.6666666666666666,
              "#ed7953"
             ],
             [
              0.7777777777777778,
              "#fb9f3a"
             ],
             [
              0.8888888888888888,
              "#fdca26"
             ],
             [
              1,
              "#f0f921"
             ]
            ],
            "type": "histogram2dcontour"
           }
          ],
          "mesh3d": [
           {
            "colorbar": {
             "outlinewidth": 0,
             "ticks": ""
            },
            "type": "mesh3d"
           }
          ],
          "parcoords": [
           {
            "line": {
             "colorbar": {
              "outlinewidth": 0,
              "ticks": ""
             }
            },
            "type": "parcoords"
           }
          ],
          "pie": [
           {
            "automargin": true,
            "type": "pie"
           }
          ],
          "scatter": [
           {
            "marker": {
             "colorbar": {
              "outlinewidth": 0,
              "ticks": ""
             }
            },
            "type": "scatter"
           }
          ],
          "scatter3d": [
           {
            "line": {
             "colorbar": {
              "outlinewidth": 0,
              "ticks": ""
             }
            },
            "marker": {
             "colorbar": {
              "outlinewidth": 0,
              "ticks": ""
             }
            },
            "type": "scatter3d"
           }
          ],
          "scattercarpet": [
           {
            "marker": {
             "colorbar": {
              "outlinewidth": 0,
              "ticks": ""
             }
            },
            "type": "scattercarpet"
           }
          ],
          "scattergeo": [
           {
            "marker": {
             "colorbar": {
              "outlinewidth": 0,
              "ticks": ""
             }
            },
            "type": "scattergeo"
           }
          ],
          "scattergl": [
           {
            "marker": {
             "colorbar": {
              "outlinewidth": 0,
              "ticks": ""
             }
            },
            "type": "scattergl"
           }
          ],
          "scattermapbox": [
           {
            "marker": {
             "colorbar": {
              "outlinewidth": 0,
              "ticks": ""
             }
            },
            "type": "scattermapbox"
           }
          ],
          "scatterpolar": [
           {
            "marker": {
             "colorbar": {
              "outlinewidth": 0,
              "ticks": ""
             }
            },
            "type": "scatterpolar"
           }
          ],
          "scatterpolargl": [
           {
            "marker": {
             "colorbar": {
              "outlinewidth": 0,
              "ticks": ""
             }
            },
            "type": "scatterpolargl"
           }
          ],
          "scatterternary": [
           {
            "marker": {
             "colorbar": {
              "outlinewidth": 0,
              "ticks": ""
             }
            },
            "type": "scatterternary"
           }
          ],
          "surface": [
           {
            "colorbar": {
             "outlinewidth": 0,
             "ticks": ""
            },
            "colorscale": [
             [
              0,
              "#0d0887"
             ],
             [
              0.1111111111111111,
              "#46039f"
             ],
             [
              0.2222222222222222,
              "#7201a8"
             ],
             [
              0.3333333333333333,
              "#9c179e"
             ],
             [
              0.4444444444444444,
              "#bd3786"
             ],
             [
              0.5555555555555556,
              "#d8576b"
             ],
             [
              0.6666666666666666,
              "#ed7953"
             ],
             [
              0.7777777777777778,
              "#fb9f3a"
             ],
             [
              0.8888888888888888,
              "#fdca26"
             ],
             [
              1,
              "#f0f921"
             ]
            ],
            "type": "surface"
           }
          ],
          "table": [
           {
            "cells": {
             "fill": {
              "color": "#EBF0F8"
             },
             "line": {
              "color": "white"
             }
            },
            "header": {
             "fill": {
              "color": "#C8D4E3"
             },
             "line": {
              "color": "white"
             }
            },
            "type": "table"
           }
          ]
         },
         "layout": {
          "annotationdefaults": {
           "arrowcolor": "#2a3f5f",
           "arrowhead": 0,
           "arrowwidth": 1
          },
          "autotypenumbers": "strict",
          "coloraxis": {
           "colorbar": {
            "outlinewidth": 0,
            "ticks": ""
           }
          },
          "colorscale": {
           "diverging": [
            [
             0,
             "#8e0152"
            ],
            [
             0.1,
             "#c51b7d"
            ],
            [
             0.2,
             "#de77ae"
            ],
            [
             0.3,
             "#f1b6da"
            ],
            [
             0.4,
             "#fde0ef"
            ],
            [
             0.5,
             "#f7f7f7"
            ],
            [
             0.6,
             "#e6f5d0"
            ],
            [
             0.7,
             "#b8e186"
            ],
            [
             0.8,
             "#7fbc41"
            ],
            [
             0.9,
             "#4d9221"
            ],
            [
             1,
             "#276419"
            ]
           ],
           "sequential": [
            [
             0,
             "#0d0887"
            ],
            [
             0.1111111111111111,
             "#46039f"
            ],
            [
             0.2222222222222222,
             "#7201a8"
            ],
            [
             0.3333333333333333,
             "#9c179e"
            ],
            [
             0.4444444444444444,
             "#bd3786"
            ],
            [
             0.5555555555555556,
             "#d8576b"
            ],
            [
             0.6666666666666666,
             "#ed7953"
            ],
            [
             0.7777777777777778,
             "#fb9f3a"
            ],
            [
             0.8888888888888888,
             "#fdca26"
            ],
            [
             1,
             "#f0f921"
            ]
           ],
           "sequentialminus": [
            [
             0,
             "#0d0887"
            ],
            [
             0.1111111111111111,
             "#46039f"
            ],
            [
             0.2222222222222222,
             "#7201a8"
            ],
            [
             0.3333333333333333,
             "#9c179e"
            ],
            [
             0.4444444444444444,
             "#bd3786"
            ],
            [
             0.5555555555555556,
             "#d8576b"
            ],
            [
             0.6666666666666666,
             "#ed7953"
            ],
            [
             0.7777777777777778,
             "#fb9f3a"
            ],
            [
             0.8888888888888888,
             "#fdca26"
            ],
            [
             1,
             "#f0f921"
            ]
           ]
          },
          "colorway": [
           "#636efa",
           "#EF553B",
           "#00cc96",
           "#ab63fa",
           "#FFA15A",
           "#19d3f3",
           "#FF6692",
           "#B6E880",
           "#FF97FF",
           "#FECB52"
          ],
          "font": {
           "color": "#2a3f5f"
          },
          "geo": {
           "bgcolor": "white",
           "lakecolor": "white",
           "landcolor": "#E5ECF6",
           "showlakes": true,
           "showland": true,
           "subunitcolor": "white"
          },
          "hoverlabel": {
           "align": "left"
          },
          "hovermode": "closest",
          "mapbox": {
           "style": "light"
          },
          "paper_bgcolor": "white",
          "plot_bgcolor": "#E5ECF6",
          "polar": {
           "angularaxis": {
            "gridcolor": "white",
            "linecolor": "white",
            "ticks": ""
           },
           "bgcolor": "#E5ECF6",
           "radialaxis": {
            "gridcolor": "white",
            "linecolor": "white",
            "ticks": ""
           }
          },
          "scene": {
           "xaxis": {
            "backgroundcolor": "#E5ECF6",
            "gridcolor": "white",
            "gridwidth": 2,
            "linecolor": "white",
            "showbackground": true,
            "ticks": "",
            "zerolinecolor": "white"
           },
           "yaxis": {
            "backgroundcolor": "#E5ECF6",
            "gridcolor": "white",
            "gridwidth": 2,
            "linecolor": "white",
            "showbackground": true,
            "ticks": "",
            "zerolinecolor": "white"
           },
           "zaxis": {
            "backgroundcolor": "#E5ECF6",
            "gridcolor": "white",
            "gridwidth": 2,
            "linecolor": "white",
            "showbackground": true,
            "ticks": "",
            "zerolinecolor": "white"
           }
          },
          "shapedefaults": {
           "line": {
            "color": "#2a3f5f"
           }
          },
          "ternary": {
           "aaxis": {
            "gridcolor": "white",
            "linecolor": "white",
            "ticks": ""
           },
           "baxis": {
            "gridcolor": "white",
            "linecolor": "white",
            "ticks": ""
           },
           "bgcolor": "#E5ECF6",
           "caxis": {
            "gridcolor": "white",
            "linecolor": "white",
            "ticks": ""
           }
          },
          "title": {
           "x": 0.05
          },
          "xaxis": {
           "automargin": true,
           "gridcolor": "white",
           "linecolor": "white",
           "ticks": "",
           "title": {
            "standoff": 15
           },
           "zerolinecolor": "white",
           "zerolinewidth": 2
          },
          "yaxis": {
           "automargin": true,
           "gridcolor": "white",
           "linecolor": "white",
           "ticks": "",
           "title": {
            "standoff": 15
           },
           "zerolinecolor": "white",
           "zerolinewidth": 2
          }
         }
        },
        "title": {
         "text": "Total Number of Orders per Week"
        },
        "xaxis": {
         "title": {
          "text": "Week"
         }
        },
        "yaxis": {
         "title": {
          "text": "Number of Orders"
         }
        }
       }
      },
      "text/html": [
       "<div>                            <div id=\"def75de6-aff1-4e04-ba06-5f1472b63c4c\" class=\"plotly-graph-div\" style=\"height:525px; width:100%;\"></div>            <script type=\"text/javascript\">                require([\"plotly\"], function(Plotly) {                    window.PLOTLYENV=window.PLOTLYENV || {};                                    if (document.getElementById(\"def75de6-aff1-4e04-ba06-5f1472b63c4c\")) {                    Plotly.newPlot(                        \"def75de6-aff1-4e04-ba06-5f1472b63c4c\",                        [{\"line\":{\"color\":\"firebrick\",\"width\":1},\"mode\":\"lines+markers\",\"type\":\"scatter\",\"x\":[1,2,3,4,5,6,7,8,9,10,11,12,13,14,15,16,17,18,19,20,21,22,23,24,25,26,27,28,29,30,31,32,33,34,35,36,37,38,39,40,41,42,43,44,45,46,47,48,49,50,51,52,53,54,55,56,57,58,59,60,61,62,63,64,65,66,67,68,69,70,71,72,73,74,75,76,77,78,79,80,81,82,83,84,85,86,87,88,89,90,91,92,93,94,95,96,97,98,99,100,101,102,103,104,105,106,107,108,109,110,111,112,113,114,115,116,117,118,119,120,121,122,123,124,125,126,127,128,129,130,131,132,133,134,135,136,137,138,139,140,141,142,143,144,145],\"y\":[792261,787084,695262,743529,1198675,947288,934803,670518,723243,811825,772225,690259,656102,636981,651719,611515,820285,932560,787196,677834,707013,834111,773271,647341,749583,805805,740014,648863,625414,915399,783214,1034202,730936,693603,630458,724865,877853,974566,770964,807159,791493,766289,693271,738583,981199,862620,808269,1303457,936980,890778,723036,1046811,1108236,757268,875145,843250,916721,834445,776781,1131459,860105,380065,812075,784508,844869,710083,756281,1009974,1075188,1004649,1015726,732551,702678,789591,970760,902928,833394,862030,1004611,698063,681412,859477,900091,768315,860433,823515,805140,745193,743489,849868,834397,908145,900170,825030,905841,765117,609977,894021,742048,1088162,999447,890983,713569,774644,891479,847485,783851,908764,1068318,889255,892631,852107,889696,813601,805469,855465,809625,777707,811709,753871,950500,944706,889926,827257,750541,810838,762737,878397,843661,920019,899953,939374,835583,975072,777106,769623,719740,667343,751935,802689,776240,739661,759926,801197,671926]}],                        {\"template\":{\"data\":{\"bar\":[{\"error_x\":{\"color\":\"#2a3f5f\"},\"error_y\":{\"color\":\"#2a3f5f\"},\"marker\":{\"line\":{\"color\":\"#E5ECF6\",\"width\":0.5},\"pattern\":{\"fillmode\":\"overlay\",\"size\":10,\"solidity\":0.2}},\"type\":\"bar\"}],\"barpolar\":[{\"marker\":{\"line\":{\"color\":\"#E5ECF6\",\"width\":0.5},\"pattern\":{\"fillmode\":\"overlay\",\"size\":10,\"solidity\":0.2}},\"type\":\"barpolar\"}],\"carpet\":[{\"aaxis\":{\"endlinecolor\":\"#2a3f5f\",\"gridcolor\":\"white\",\"linecolor\":\"white\",\"minorgridcolor\":\"white\",\"startlinecolor\":\"#2a3f5f\"},\"baxis\":{\"endlinecolor\":\"#2a3f5f\",\"gridcolor\":\"white\",\"linecolor\":\"white\",\"minorgridcolor\":\"white\",\"startlinecolor\":\"#2a3f5f\"},\"type\":\"carpet\"}],\"choropleth\":[{\"colorbar\":{\"outlinewidth\":0,\"ticks\":\"\"},\"type\":\"choropleth\"}],\"contour\":[{\"colorbar\":{\"outlinewidth\":0,\"ticks\":\"\"},\"colorscale\":[[0.0,\"#0d0887\"],[0.1111111111111111,\"#46039f\"],[0.2222222222222222,\"#7201a8\"],[0.3333333333333333,\"#9c179e\"],[0.4444444444444444,\"#bd3786\"],[0.5555555555555556,\"#d8576b\"],[0.6666666666666666,\"#ed7953\"],[0.7777777777777778,\"#fb9f3a\"],[0.8888888888888888,\"#fdca26\"],[1.0,\"#f0f921\"]],\"type\":\"contour\"}],\"contourcarpet\":[{\"colorbar\":{\"outlinewidth\":0,\"ticks\":\"\"},\"type\":\"contourcarpet\"}],\"heatmap\":[{\"colorbar\":{\"outlinewidth\":0,\"ticks\":\"\"},\"colorscale\":[[0.0,\"#0d0887\"],[0.1111111111111111,\"#46039f\"],[0.2222222222222222,\"#7201a8\"],[0.3333333333333333,\"#9c179e\"],[0.4444444444444444,\"#bd3786\"],[0.5555555555555556,\"#d8576b\"],[0.6666666666666666,\"#ed7953\"],[0.7777777777777778,\"#fb9f3a\"],[0.8888888888888888,\"#fdca26\"],[1.0,\"#f0f921\"]],\"type\":\"heatmap\"}],\"heatmapgl\":[{\"colorbar\":{\"outlinewidth\":0,\"ticks\":\"\"},\"colorscale\":[[0.0,\"#0d0887\"],[0.1111111111111111,\"#46039f\"],[0.2222222222222222,\"#7201a8\"],[0.3333333333333333,\"#9c179e\"],[0.4444444444444444,\"#bd3786\"],[0.5555555555555556,\"#d8576b\"],[0.6666666666666666,\"#ed7953\"],[0.7777777777777778,\"#fb9f3a\"],[0.8888888888888888,\"#fdca26\"],[1.0,\"#f0f921\"]],\"type\":\"heatmapgl\"}],\"histogram\":[{\"marker\":{\"pattern\":{\"fillmode\":\"overlay\",\"size\":10,\"solidity\":0.2}},\"type\":\"histogram\"}],\"histogram2d\":[{\"colorbar\":{\"outlinewidth\":0,\"ticks\":\"\"},\"colorscale\":[[0.0,\"#0d0887\"],[0.1111111111111111,\"#46039f\"],[0.2222222222222222,\"#7201a8\"],[0.3333333333333333,\"#9c179e\"],[0.4444444444444444,\"#bd3786\"],[0.5555555555555556,\"#d8576b\"],[0.6666666666666666,\"#ed7953\"],[0.7777777777777778,\"#fb9f3a\"],[0.8888888888888888,\"#fdca26\"],[1.0,\"#f0f921\"]],\"type\":\"histogram2d\"}],\"histogram2dcontour\":[{\"colorbar\":{\"outlinewidth\":0,\"ticks\":\"\"},\"colorscale\":[[0.0,\"#0d0887\"],[0.1111111111111111,\"#46039f\"],[0.2222222222222222,\"#7201a8\"],[0.3333333333333333,\"#9c179e\"],[0.4444444444444444,\"#bd3786\"],[0.5555555555555556,\"#d8576b\"],[0.6666666666666666,\"#ed7953\"],[0.7777777777777778,\"#fb9f3a\"],[0.8888888888888888,\"#fdca26\"],[1.0,\"#f0f921\"]],\"type\":\"histogram2dcontour\"}],\"mesh3d\":[{\"colorbar\":{\"outlinewidth\":0,\"ticks\":\"\"},\"type\":\"mesh3d\"}],\"parcoords\":[{\"line\":{\"colorbar\":{\"outlinewidth\":0,\"ticks\":\"\"}},\"type\":\"parcoords\"}],\"pie\":[{\"automargin\":true,\"type\":\"pie\"}],\"scatter\":[{\"marker\":{\"colorbar\":{\"outlinewidth\":0,\"ticks\":\"\"}},\"type\":\"scatter\"}],\"scatter3d\":[{\"line\":{\"colorbar\":{\"outlinewidth\":0,\"ticks\":\"\"}},\"marker\":{\"colorbar\":{\"outlinewidth\":0,\"ticks\":\"\"}},\"type\":\"scatter3d\"}],\"scattercarpet\":[{\"marker\":{\"colorbar\":{\"outlinewidth\":0,\"ticks\":\"\"}},\"type\":\"scattercarpet\"}],\"scattergeo\":[{\"marker\":{\"colorbar\":{\"outlinewidth\":0,\"ticks\":\"\"}},\"type\":\"scattergeo\"}],\"scattergl\":[{\"marker\":{\"colorbar\":{\"outlinewidth\":0,\"ticks\":\"\"}},\"type\":\"scattergl\"}],\"scattermapbox\":[{\"marker\":{\"colorbar\":{\"outlinewidth\":0,\"ticks\":\"\"}},\"type\":\"scattermapbox\"}],\"scatterpolar\":[{\"marker\":{\"colorbar\":{\"outlinewidth\":0,\"ticks\":\"\"}},\"type\":\"scatterpolar\"}],\"scatterpolargl\":[{\"marker\":{\"colorbar\":{\"outlinewidth\":0,\"ticks\":\"\"}},\"type\":\"scatterpolargl\"}],\"scatterternary\":[{\"marker\":{\"colorbar\":{\"outlinewidth\":0,\"ticks\":\"\"}},\"type\":\"scatterternary\"}],\"surface\":[{\"colorbar\":{\"outlinewidth\":0,\"ticks\":\"\"},\"colorscale\":[[0.0,\"#0d0887\"],[0.1111111111111111,\"#46039f\"],[0.2222222222222222,\"#7201a8\"],[0.3333333333333333,\"#9c179e\"],[0.4444444444444444,\"#bd3786\"],[0.5555555555555556,\"#d8576b\"],[0.6666666666666666,\"#ed7953\"],[0.7777777777777778,\"#fb9f3a\"],[0.8888888888888888,\"#fdca26\"],[1.0,\"#f0f921\"]],\"type\":\"surface\"}],\"table\":[{\"cells\":{\"fill\":{\"color\":\"#EBF0F8\"},\"line\":{\"color\":\"white\"}},\"header\":{\"fill\":{\"color\":\"#C8D4E3\"},\"line\":{\"color\":\"white\"}},\"type\":\"table\"}]},\"layout\":{\"annotationdefaults\":{\"arrowcolor\":\"#2a3f5f\",\"arrowhead\":0,\"arrowwidth\":1},\"autotypenumbers\":\"strict\",\"coloraxis\":{\"colorbar\":{\"outlinewidth\":0,\"ticks\":\"\"}},\"colorscale\":{\"diverging\":[[0,\"#8e0152\"],[0.1,\"#c51b7d\"],[0.2,\"#de77ae\"],[0.3,\"#f1b6da\"],[0.4,\"#fde0ef\"],[0.5,\"#f7f7f7\"],[0.6,\"#e6f5d0\"],[0.7,\"#b8e186\"],[0.8,\"#7fbc41\"],[0.9,\"#4d9221\"],[1,\"#276419\"]],\"sequential\":[[0.0,\"#0d0887\"],[0.1111111111111111,\"#46039f\"],[0.2222222222222222,\"#7201a8\"],[0.3333333333333333,\"#9c179e\"],[0.4444444444444444,\"#bd3786\"],[0.5555555555555556,\"#d8576b\"],[0.6666666666666666,\"#ed7953\"],[0.7777777777777778,\"#fb9f3a\"],[0.8888888888888888,\"#fdca26\"],[1.0,\"#f0f921\"]],\"sequentialminus\":[[0.0,\"#0d0887\"],[0.1111111111111111,\"#46039f\"],[0.2222222222222222,\"#7201a8\"],[0.3333333333333333,\"#9c179e\"],[0.4444444444444444,\"#bd3786\"],[0.5555555555555556,\"#d8576b\"],[0.6666666666666666,\"#ed7953\"],[0.7777777777777778,\"#fb9f3a\"],[0.8888888888888888,\"#fdca26\"],[1.0,\"#f0f921\"]]},\"colorway\":[\"#636efa\",\"#EF553B\",\"#00cc96\",\"#ab63fa\",\"#FFA15A\",\"#19d3f3\",\"#FF6692\",\"#B6E880\",\"#FF97FF\",\"#FECB52\"],\"font\":{\"color\":\"#2a3f5f\"},\"geo\":{\"bgcolor\":\"white\",\"lakecolor\":\"white\",\"landcolor\":\"#E5ECF6\",\"showlakes\":true,\"showland\":true,\"subunitcolor\":\"white\"},\"hoverlabel\":{\"align\":\"left\"},\"hovermode\":\"closest\",\"mapbox\":{\"style\":\"light\"},\"paper_bgcolor\":\"white\",\"plot_bgcolor\":\"#E5ECF6\",\"polar\":{\"angularaxis\":{\"gridcolor\":\"white\",\"linecolor\":\"white\",\"ticks\":\"\"},\"bgcolor\":\"#E5ECF6\",\"radialaxis\":{\"gridcolor\":\"white\",\"linecolor\":\"white\",\"ticks\":\"\"}},\"scene\":{\"xaxis\":{\"backgroundcolor\":\"#E5ECF6\",\"gridcolor\":\"white\",\"gridwidth\":2,\"linecolor\":\"white\",\"showbackground\":true,\"ticks\":\"\",\"zerolinecolor\":\"white\"},\"yaxis\":{\"backgroundcolor\":\"#E5ECF6\",\"gridcolor\":\"white\",\"gridwidth\":2,\"linecolor\":\"white\",\"showbackground\":true,\"ticks\":\"\",\"zerolinecolor\":\"white\"},\"zaxis\":{\"backgroundcolor\":\"#E5ECF6\",\"gridcolor\":\"white\",\"gridwidth\":2,\"linecolor\":\"white\",\"showbackground\":true,\"ticks\":\"\",\"zerolinecolor\":\"white\"}},\"shapedefaults\":{\"line\":{\"color\":\"#2a3f5f\"}},\"ternary\":{\"aaxis\":{\"gridcolor\":\"white\",\"linecolor\":\"white\",\"ticks\":\"\"},\"baxis\":{\"gridcolor\":\"white\",\"linecolor\":\"white\",\"ticks\":\"\"},\"bgcolor\":\"#E5ECF6\",\"caxis\":{\"gridcolor\":\"white\",\"linecolor\":\"white\",\"ticks\":\"\"}},\"title\":{\"x\":0.05},\"xaxis\":{\"automargin\":true,\"gridcolor\":\"white\",\"linecolor\":\"white\",\"ticks\":\"\",\"title\":{\"standoff\":15},\"zerolinecolor\":\"white\",\"zerolinewidth\":2},\"yaxis\":{\"automargin\":true,\"gridcolor\":\"white\",\"linecolor\":\"white\",\"ticks\":\"\",\"title\":{\"standoff\":15},\"zerolinecolor\":\"white\",\"zerolinewidth\":2}}},\"title\":{\"text\":\"Total Number of Orders per Week\"},\"xaxis\":{\"title\":{\"text\":\"Week\"}},\"yaxis\":{\"title\":{\"text\":\"Number of Orders\"}}},                        {\"responsive\": true}                    ).then(function(){\n",
       "                            \n",
       "var gd = document.getElementById('def75de6-aff1-4e04-ba06-5f1472b63c4c');\n",
       "var x = new MutationObserver(function (mutations, observer) {{\n",
       "        var display = window.getComputedStyle(gd).display;\n",
       "        if (!display || display === 'none') {{\n",
       "            console.log([gd, 'removed!']);\n",
       "            Plotly.purge(gd);\n",
       "            observer.disconnect();\n",
       "        }}\n",
       "}});\n",
       "\n",
       "// Listen for the removal of the full notebook cells\n",
       "var notebookContainer = gd.closest('#notebook-container');\n",
       "if (notebookContainer) {{\n",
       "    x.observe(notebookContainer, {childList: true});\n",
       "}}\n",
       "\n",
       "// Listen for the clearing of the current output cell\n",
       "var outputEl = gd.closest('.output');\n",
       "if (outputEl) {{\n",
       "    x.observe(outputEl, {childList: true});\n",
       "}}\n",
       "\n",
       "                        })                };                });            </script>        </div>"
      ]
     },
     "metadata": {}
    }
   ],
   "metadata": {}
  },
  {
   "cell_type": "code",
   "execution_count": 7,
   "source": [
    "#calculate revenue per week\r\n",
    "weekly_revenue=df.groupby('week',as_index=False)['checkout_price'].sum() #group num_orders by week and calculate total revenue\r\n",
    "\r\n",
    "#plot the total orders per week\r\n",
    "import plotly.graph_objects as go\r\n",
    "fig=go.Figure()\r\n",
    "fig.add_trace(go.Scatter(x=weekly_revenue.week,y=weekly_revenue.checkout_price,mode='lines+markers',line=dict(color='royalblue',width=1)))\r\n",
    "fig.update_layout(title='Total Revenue per Week',xaxis_title='Week',yaxis_title='Revenue')"
   ],
   "outputs": [
    {
     "output_type": "display_data",
     "data": {
      "application/vnd.plotly.v1+json": {
       "config": {
        "plotlyServerURL": "https://plot.ly"
       },
       "data": [
        {
         "line": {
          "color": "royalblue",
          "width": 1
         },
         "mode": "lines+markers",
         "type": "scatter",
         "x": [
          1,
          2,
          3,
          4,
          5,
          6,
          7,
          8,
          9,
          10,
          11,
          12,
          13,
          14,
          15,
          16,
          17,
          18,
          19,
          20,
          21,
          22,
          23,
          24,
          25,
          26,
          27,
          28,
          29,
          30,
          31,
          32,
          33,
          34,
          35,
          36,
          37,
          38,
          39,
          40,
          41,
          42,
          43,
          44,
          45,
          46,
          47,
          48,
          49,
          50,
          51,
          52,
          53,
          54,
          55,
          56,
          57,
          58,
          59,
          60,
          61,
          62,
          63,
          64,
          65,
          66,
          67,
          68,
          69,
          70,
          71,
          72,
          73,
          74,
          75,
          76,
          77,
          78,
          79,
          80,
          81,
          82,
          83,
          84,
          85,
          86,
          87,
          88,
          89,
          90,
          91,
          92,
          93,
          94,
          95,
          96,
          97,
          98,
          99,
          100,
          101,
          102,
          103,
          104,
          105,
          106,
          107,
          108,
          109,
          110,
          111,
          112,
          113,
          114,
          115,
          116,
          117,
          118,
          119,
          120,
          121,
          122,
          123,
          124,
          125,
          126,
          127,
          128,
          129,
          130,
          131,
          132,
          133,
          134,
          135,
          136,
          137,
          138,
          139,
          140,
          141,
          142,
          143,
          144,
          145
         ],
         "y": [
          965809.2600000086,
          938092.430000013,
          948560.2800000126,
          953833.690000013,
          901141.5800000163,
          912920.0100000125,
          942304.3800000089,
          919479.7800000082,
          923631.460000012,
          925551.3800000183,
          930291.3800000185,
          938199.6600000147,
          958654.2500000133,
          948343.4000000076,
          946032.620000009,
          943644.030000013,
          942337.1500000112,
          948992.2900000126,
          978698.3000000085,
          949013.0400000105,
          970826.0000000123,
          985284.2700000047,
          994359.5900000021,
          985073.8800000019,
          963286.150000011,
          948994.3900000144,
          948660.6400000133,
          1011116.000000015,
          1006382.3900000118,
          1007449.3800000096,
          1019994.0200000098,
          1012802.9700000103,
          981842.7100000074,
          976465.6300000087,
          1002868.8800000037,
          1028077.1100000028,
          956609.160000001,
          954022.1300000021,
          968998.0900000005,
          958669.1500000044,
          1017131.090000013,
          1036497.7100000094,
          1053538.6000000103,
          1052187.9000000057,
          994974.1100000079,
          972127.2700000078,
          965264.2800000076,
          1027473.6500000114,
          1036613.4400000147,
          1036294.7300000131,
          1024297.3200000137,
          1008140.2200000153,
          1007339.3200000154,
          1035674.5400000126,
          1017677.5000000149,
          1027458.3400000131,
          1046417.4300000174,
          1038271.8500000181,
          1076865.4900000168,
          1069368.4600000193,
          1047043.3700000113,
          921837.0400000117,
          1024468.8700000107,
          1048978.0600000138,
          1085066.9800000226,
          1099991.5200000168,
          1105542.3400000157,
          1096210.2200000146,
          1083141.4900000195,
          1085034.330000018,
          1102792.710000017,
          1103804.0500000156,
          1095823.510000017,
          1114956.8600000145,
          1075517.1600000127,
          1054855.9000000122,
          1076469.9100000162,
          1084652.7300000142,
          1041892.4200000121,
          1101122.9900000165,
          1103047.0800000182,
          1108364.0300000184,
          1107694.7600000238,
          1056224.2600000238,
          1031032.2600000242,
          1029158.6900000232,
          1052060.2000000183,
          1074794.3600000143,
          1077234.8500000113,
          1052656.410000025,
          1048946.1100000257,
          1056448.8100000217,
          1061173.1200000169,
          1090277.750000018,
          1090084.01000002,
          1113356.3900000113,
          1103167.450000011,
          1080156.3900000113,
          1058846.0700000082,
          1074353.9000000174,
          1063753.670000015,
          1073019.5400000098,
          1009596.6200000067,
          1092912.7500000107,
          1138084.0700000173,
          1122074.8600000234,
          1074486.4700000205,
          1058398.0700000192,
          1093574.3700000127,
          1090141.7500000081,
          1083865.410000011,
          1085959.4500000118,
          1101326.150000009,
          1098225.550000007,
          1105601.1800000065,
          1109512.560000008,
          1132047.4900000144,
          1140144.830000013,
          1121645.4700000165,
          1131995.1700000193,
          1089848.480000021,
          1106111.9100000164,
          1077816.3100000175,
          1094843.2600000151,
          1091508.2600000105,
          1109478.5200000082,
          1120450.3800000092,
          1122463.4000000106,
          1119302.2400000063,
          1088024.9900000142,
          1103022.2000000172,
          1105421.5200000086,
          1122135.22000001,
          1124229.220000014,
          1116361.0900000106,
          1128192.4500000118,
          1111671.8300000157,
          1128568.020000017,
          1086550.9900000207,
          1120859.9100000141,
          1133461.4000000085,
          1124552.9000000078,
          1131454.1500000127,
          1113608.580000012,
          1127512.0000000075
         ]
        }
       ],
       "layout": {
        "template": {
         "data": {
          "bar": [
           {
            "error_x": {
             "color": "#2a3f5f"
            },
            "error_y": {
             "color": "#2a3f5f"
            },
            "marker": {
             "line": {
              "color": "#E5ECF6",
              "width": 0.5
             },
             "pattern": {
              "fillmode": "overlay",
              "size": 10,
              "solidity": 0.2
             }
            },
            "type": "bar"
           }
          ],
          "barpolar": [
           {
            "marker": {
             "line": {
              "color": "#E5ECF6",
              "width": 0.5
             },
             "pattern": {
              "fillmode": "overlay",
              "size": 10,
              "solidity": 0.2
             }
            },
            "type": "barpolar"
           }
          ],
          "carpet": [
           {
            "aaxis": {
             "endlinecolor": "#2a3f5f",
             "gridcolor": "white",
             "linecolor": "white",
             "minorgridcolor": "white",
             "startlinecolor": "#2a3f5f"
            },
            "baxis": {
             "endlinecolor": "#2a3f5f",
             "gridcolor": "white",
             "linecolor": "white",
             "minorgridcolor": "white",
             "startlinecolor": "#2a3f5f"
            },
            "type": "carpet"
           }
          ],
          "choropleth": [
           {
            "colorbar": {
             "outlinewidth": 0,
             "ticks": ""
            },
            "type": "choropleth"
           }
          ],
          "contour": [
           {
            "colorbar": {
             "outlinewidth": 0,
             "ticks": ""
            },
            "colorscale": [
             [
              0,
              "#0d0887"
             ],
             [
              0.1111111111111111,
              "#46039f"
             ],
             [
              0.2222222222222222,
              "#7201a8"
             ],
             [
              0.3333333333333333,
              "#9c179e"
             ],
             [
              0.4444444444444444,
              "#bd3786"
             ],
             [
              0.5555555555555556,
              "#d8576b"
             ],
             [
              0.6666666666666666,
              "#ed7953"
             ],
             [
              0.7777777777777778,
              "#fb9f3a"
             ],
             [
              0.8888888888888888,
              "#fdca26"
             ],
             [
              1,
              "#f0f921"
             ]
            ],
            "type": "contour"
           }
          ],
          "contourcarpet": [
           {
            "colorbar": {
             "outlinewidth": 0,
             "ticks": ""
            },
            "type": "contourcarpet"
           }
          ],
          "heatmap": [
           {
            "colorbar": {
             "outlinewidth": 0,
             "ticks": ""
            },
            "colorscale": [
             [
              0,
              "#0d0887"
             ],
             [
              0.1111111111111111,
              "#46039f"
             ],
             [
              0.2222222222222222,
              "#7201a8"
             ],
             [
              0.3333333333333333,
              "#9c179e"
             ],
             [
              0.4444444444444444,
              "#bd3786"
             ],
             [
              0.5555555555555556,
              "#d8576b"
             ],
             [
              0.6666666666666666,
              "#ed7953"
             ],
             [
              0.7777777777777778,
              "#fb9f3a"
             ],
             [
              0.8888888888888888,
              "#fdca26"
             ],
             [
              1,
              "#f0f921"
             ]
            ],
            "type": "heatmap"
           }
          ],
          "heatmapgl": [
           {
            "colorbar": {
             "outlinewidth": 0,
             "ticks": ""
            },
            "colorscale": [
             [
              0,
              "#0d0887"
             ],
             [
              0.1111111111111111,
              "#46039f"
             ],
             [
              0.2222222222222222,
              "#7201a8"
             ],
             [
              0.3333333333333333,
              "#9c179e"
             ],
             [
              0.4444444444444444,
              "#bd3786"
             ],
             [
              0.5555555555555556,
              "#d8576b"
             ],
             [
              0.6666666666666666,
              "#ed7953"
             ],
             [
              0.7777777777777778,
              "#fb9f3a"
             ],
             [
              0.8888888888888888,
              "#fdca26"
             ],
             [
              1,
              "#f0f921"
             ]
            ],
            "type": "heatmapgl"
           }
          ],
          "histogram": [
           {
            "marker": {
             "pattern": {
              "fillmode": "overlay",
              "size": 10,
              "solidity": 0.2
             }
            },
            "type": "histogram"
           }
          ],
          "histogram2d": [
           {
            "colorbar": {
             "outlinewidth": 0,
             "ticks": ""
            },
            "colorscale": [
             [
              0,
              "#0d0887"
             ],
             [
              0.1111111111111111,
              "#46039f"
             ],
             [
              0.2222222222222222,
              "#7201a8"
             ],
             [
              0.3333333333333333,
              "#9c179e"
             ],
             [
              0.4444444444444444,
              "#bd3786"
             ],
             [
              0.5555555555555556,
              "#d8576b"
             ],
             [
              0.6666666666666666,
              "#ed7953"
             ],
             [
              0.7777777777777778,
              "#fb9f3a"
             ],
             [
              0.8888888888888888,
              "#fdca26"
             ],
             [
              1,
              "#f0f921"
             ]
            ],
            "type": "histogram2d"
           }
          ],
          "histogram2dcontour": [
           {
            "colorbar": {
             "outlinewidth": 0,
             "ticks": ""
            },
            "colorscale": [
             [
              0,
              "#0d0887"
             ],
             [
              0.1111111111111111,
              "#46039f"
             ],
             [
              0.2222222222222222,
              "#7201a8"
             ],
             [
              0.3333333333333333,
              "#9c179e"
             ],
             [
              0.4444444444444444,
              "#bd3786"
             ],
             [
              0.5555555555555556,
              "#d8576b"
             ],
             [
              0.6666666666666666,
              "#ed7953"
             ],
             [
              0.7777777777777778,
              "#fb9f3a"
             ],
             [
              0.8888888888888888,
              "#fdca26"
             ],
             [
              1,
              "#f0f921"
             ]
            ],
            "type": "histogram2dcontour"
           }
          ],
          "mesh3d": [
           {
            "colorbar": {
             "outlinewidth": 0,
             "ticks": ""
            },
            "type": "mesh3d"
           }
          ],
          "parcoords": [
           {
            "line": {
             "colorbar": {
              "outlinewidth": 0,
              "ticks": ""
             }
            },
            "type": "parcoords"
           }
          ],
          "pie": [
           {
            "automargin": true,
            "type": "pie"
           }
          ],
          "scatter": [
           {
            "marker": {
             "colorbar": {
              "outlinewidth": 0,
              "ticks": ""
             }
            },
            "type": "scatter"
           }
          ],
          "scatter3d": [
           {
            "line": {
             "colorbar": {
              "outlinewidth": 0,
              "ticks": ""
             }
            },
            "marker": {
             "colorbar": {
              "outlinewidth": 0,
              "ticks": ""
             }
            },
            "type": "scatter3d"
           }
          ],
          "scattercarpet": [
           {
            "marker": {
             "colorbar": {
              "outlinewidth": 0,
              "ticks": ""
             }
            },
            "type": "scattercarpet"
           }
          ],
          "scattergeo": [
           {
            "marker": {
             "colorbar": {
              "outlinewidth": 0,
              "ticks": ""
             }
            },
            "type": "scattergeo"
           }
          ],
          "scattergl": [
           {
            "marker": {
             "colorbar": {
              "outlinewidth": 0,
              "ticks": ""
             }
            },
            "type": "scattergl"
           }
          ],
          "scattermapbox": [
           {
            "marker": {
             "colorbar": {
              "outlinewidth": 0,
              "ticks": ""
             }
            },
            "type": "scattermapbox"
           }
          ],
          "scatterpolar": [
           {
            "marker": {
             "colorbar": {
              "outlinewidth": 0,
              "ticks": ""
             }
            },
            "type": "scatterpolar"
           }
          ],
          "scatterpolargl": [
           {
            "marker": {
             "colorbar": {
              "outlinewidth": 0,
              "ticks": ""
             }
            },
            "type": "scatterpolargl"
           }
          ],
          "scatterternary": [
           {
            "marker": {
             "colorbar": {
              "outlinewidth": 0,
              "ticks": ""
             }
            },
            "type": "scatterternary"
           }
          ],
          "surface": [
           {
            "colorbar": {
             "outlinewidth": 0,
             "ticks": ""
            },
            "colorscale": [
             [
              0,
              "#0d0887"
             ],
             [
              0.1111111111111111,
              "#46039f"
             ],
             [
              0.2222222222222222,
              "#7201a8"
             ],
             [
              0.3333333333333333,
              "#9c179e"
             ],
             [
              0.4444444444444444,
              "#bd3786"
             ],
             [
              0.5555555555555556,
              "#d8576b"
             ],
             [
              0.6666666666666666,
              "#ed7953"
             ],
             [
              0.7777777777777778,
              "#fb9f3a"
             ],
             [
              0.8888888888888888,
              "#fdca26"
             ],
             [
              1,
              "#f0f921"
             ]
            ],
            "type": "surface"
           }
          ],
          "table": [
           {
            "cells": {
             "fill": {
              "color": "#EBF0F8"
             },
             "line": {
              "color": "white"
             }
            },
            "header": {
             "fill": {
              "color": "#C8D4E3"
             },
             "line": {
              "color": "white"
             }
            },
            "type": "table"
           }
          ]
         },
         "layout": {
          "annotationdefaults": {
           "arrowcolor": "#2a3f5f",
           "arrowhead": 0,
           "arrowwidth": 1
          },
          "autotypenumbers": "strict",
          "coloraxis": {
           "colorbar": {
            "outlinewidth": 0,
            "ticks": ""
           }
          },
          "colorscale": {
           "diverging": [
            [
             0,
             "#8e0152"
            ],
            [
             0.1,
             "#c51b7d"
            ],
            [
             0.2,
             "#de77ae"
            ],
            [
             0.3,
             "#f1b6da"
            ],
            [
             0.4,
             "#fde0ef"
            ],
            [
             0.5,
             "#f7f7f7"
            ],
            [
             0.6,
             "#e6f5d0"
            ],
            [
             0.7,
             "#b8e186"
            ],
            [
             0.8,
             "#7fbc41"
            ],
            [
             0.9,
             "#4d9221"
            ],
            [
             1,
             "#276419"
            ]
           ],
           "sequential": [
            [
             0,
             "#0d0887"
            ],
            [
             0.1111111111111111,
             "#46039f"
            ],
            [
             0.2222222222222222,
             "#7201a8"
            ],
            [
             0.3333333333333333,
             "#9c179e"
            ],
            [
             0.4444444444444444,
             "#bd3786"
            ],
            [
             0.5555555555555556,
             "#d8576b"
            ],
            [
             0.6666666666666666,
             "#ed7953"
            ],
            [
             0.7777777777777778,
             "#fb9f3a"
            ],
            [
             0.8888888888888888,
             "#fdca26"
            ],
            [
             1,
             "#f0f921"
            ]
           ],
           "sequentialminus": [
            [
             0,
             "#0d0887"
            ],
            [
             0.1111111111111111,
             "#46039f"
            ],
            [
             0.2222222222222222,
             "#7201a8"
            ],
            [
             0.3333333333333333,
             "#9c179e"
            ],
            [
             0.4444444444444444,
             "#bd3786"
            ],
            [
             0.5555555555555556,
             "#d8576b"
            ],
            [
             0.6666666666666666,
             "#ed7953"
            ],
            [
             0.7777777777777778,
             "#fb9f3a"
            ],
            [
             0.8888888888888888,
             "#fdca26"
            ],
            [
             1,
             "#f0f921"
            ]
           ]
          },
          "colorway": [
           "#636efa",
           "#EF553B",
           "#00cc96",
           "#ab63fa",
           "#FFA15A",
           "#19d3f3",
           "#FF6692",
           "#B6E880",
           "#FF97FF",
           "#FECB52"
          ],
          "font": {
           "color": "#2a3f5f"
          },
          "geo": {
           "bgcolor": "white",
           "lakecolor": "white",
           "landcolor": "#E5ECF6",
           "showlakes": true,
           "showland": true,
           "subunitcolor": "white"
          },
          "hoverlabel": {
           "align": "left"
          },
          "hovermode": "closest",
          "mapbox": {
           "style": "light"
          },
          "paper_bgcolor": "white",
          "plot_bgcolor": "#E5ECF6",
          "polar": {
           "angularaxis": {
            "gridcolor": "white",
            "linecolor": "white",
            "ticks": ""
           },
           "bgcolor": "#E5ECF6",
           "radialaxis": {
            "gridcolor": "white",
            "linecolor": "white",
            "ticks": ""
           }
          },
          "scene": {
           "xaxis": {
            "backgroundcolor": "#E5ECF6",
            "gridcolor": "white",
            "gridwidth": 2,
            "linecolor": "white",
            "showbackground": true,
            "ticks": "",
            "zerolinecolor": "white"
           },
           "yaxis": {
            "backgroundcolor": "#E5ECF6",
            "gridcolor": "white",
            "gridwidth": 2,
            "linecolor": "white",
            "showbackground": true,
            "ticks": "",
            "zerolinecolor": "white"
           },
           "zaxis": {
            "backgroundcolor": "#E5ECF6",
            "gridcolor": "white",
            "gridwidth": 2,
            "linecolor": "white",
            "showbackground": true,
            "ticks": "",
            "zerolinecolor": "white"
           }
          },
          "shapedefaults": {
           "line": {
            "color": "#2a3f5f"
           }
          },
          "ternary": {
           "aaxis": {
            "gridcolor": "white",
            "linecolor": "white",
            "ticks": ""
           },
           "baxis": {
            "gridcolor": "white",
            "linecolor": "white",
            "ticks": ""
           },
           "bgcolor": "#E5ECF6",
           "caxis": {
            "gridcolor": "white",
            "linecolor": "white",
            "ticks": ""
           }
          },
          "title": {
           "x": 0.05
          },
          "xaxis": {
           "automargin": true,
           "gridcolor": "white",
           "linecolor": "white",
           "ticks": "",
           "title": {
            "standoff": 15
           },
           "zerolinecolor": "white",
           "zerolinewidth": 2
          },
          "yaxis": {
           "automargin": true,
           "gridcolor": "white",
           "linecolor": "white",
           "ticks": "",
           "title": {
            "standoff": 15
           },
           "zerolinecolor": "white",
           "zerolinewidth": 2
          }
         }
        },
        "title": {
         "text": "Total Revenue per Week"
        },
        "xaxis": {
         "title": {
          "text": "Week"
         }
        },
        "yaxis": {
         "title": {
          "text": "Revenue"
         }
        }
       }
      },
      "text/html": [
       "<div>                            <div id=\"4284f819-005c-4d18-8e3e-fe619b49b66f\" class=\"plotly-graph-div\" style=\"height:525px; width:100%;\"></div>            <script type=\"text/javascript\">                require([\"plotly\"], function(Plotly) {                    window.PLOTLYENV=window.PLOTLYENV || {};                                    if (document.getElementById(\"4284f819-005c-4d18-8e3e-fe619b49b66f\")) {                    Plotly.newPlot(                        \"4284f819-005c-4d18-8e3e-fe619b49b66f\",                        [{\"line\":{\"color\":\"royalblue\",\"width\":1},\"mode\":\"lines+markers\",\"type\":\"scatter\",\"x\":[1,2,3,4,5,6,7,8,9,10,11,12,13,14,15,16,17,18,19,20,21,22,23,24,25,26,27,28,29,30,31,32,33,34,35,36,37,38,39,40,41,42,43,44,45,46,47,48,49,50,51,52,53,54,55,56,57,58,59,60,61,62,63,64,65,66,67,68,69,70,71,72,73,74,75,76,77,78,79,80,81,82,83,84,85,86,87,88,89,90,91,92,93,94,95,96,97,98,99,100,101,102,103,104,105,106,107,108,109,110,111,112,113,114,115,116,117,118,119,120,121,122,123,124,125,126,127,128,129,130,131,132,133,134,135,136,137,138,139,140,141,142,143,144,145],\"y\":[965809.2600000086,938092.430000013,948560.2800000126,953833.690000013,901141.5800000163,912920.0100000125,942304.3800000089,919479.7800000082,923631.460000012,925551.3800000183,930291.3800000185,938199.6600000147,958654.2500000133,948343.4000000076,946032.620000009,943644.030000013,942337.1500000112,948992.2900000126,978698.3000000085,949013.0400000105,970826.0000000123,985284.2700000047,994359.5900000021,985073.8800000019,963286.150000011,948994.3900000144,948660.6400000133,1011116.000000015,1006382.3900000118,1007449.3800000096,1019994.0200000098,1012802.9700000103,981842.7100000074,976465.6300000087,1002868.8800000037,1028077.1100000028,956609.160000001,954022.1300000021,968998.0900000005,958669.1500000044,1017131.090000013,1036497.7100000094,1053538.6000000103,1052187.9000000057,994974.1100000079,972127.2700000078,965264.2800000076,1027473.6500000114,1036613.4400000147,1036294.7300000131,1024297.3200000137,1008140.2200000153,1007339.3200000154,1035674.5400000126,1017677.5000000149,1027458.3400000131,1046417.4300000174,1038271.8500000181,1076865.4900000168,1069368.4600000193,1047043.3700000113,921837.0400000117,1024468.8700000107,1048978.0600000138,1085066.9800000226,1099991.5200000168,1105542.3400000157,1096210.2200000146,1083141.4900000195,1085034.330000018,1102792.710000017,1103804.0500000156,1095823.510000017,1114956.8600000145,1075517.1600000127,1054855.9000000122,1076469.9100000162,1084652.7300000142,1041892.4200000121,1101122.9900000165,1103047.0800000182,1108364.0300000184,1107694.7600000238,1056224.2600000238,1031032.2600000242,1029158.6900000232,1052060.2000000183,1074794.3600000143,1077234.8500000113,1052656.410000025,1048946.1100000257,1056448.8100000217,1061173.1200000169,1090277.750000018,1090084.01000002,1113356.3900000113,1103167.450000011,1080156.3900000113,1058846.0700000082,1074353.9000000174,1063753.670000015,1073019.5400000098,1009596.6200000067,1092912.7500000107,1138084.0700000173,1122074.8600000234,1074486.4700000205,1058398.0700000192,1093574.3700000127,1090141.7500000081,1083865.410000011,1085959.4500000118,1101326.150000009,1098225.550000007,1105601.1800000065,1109512.560000008,1132047.4900000144,1140144.830000013,1121645.4700000165,1131995.1700000193,1089848.480000021,1106111.9100000164,1077816.3100000175,1094843.2600000151,1091508.2600000105,1109478.5200000082,1120450.3800000092,1122463.4000000106,1119302.2400000063,1088024.9900000142,1103022.2000000172,1105421.5200000086,1122135.22000001,1124229.220000014,1116361.0900000106,1128192.4500000118,1111671.8300000157,1128568.020000017,1086550.9900000207,1120859.9100000141,1133461.4000000085,1124552.9000000078,1131454.1500000127,1113608.580000012,1127512.0000000075]}],                        {\"template\":{\"data\":{\"bar\":[{\"error_x\":{\"color\":\"#2a3f5f\"},\"error_y\":{\"color\":\"#2a3f5f\"},\"marker\":{\"line\":{\"color\":\"#E5ECF6\",\"width\":0.5},\"pattern\":{\"fillmode\":\"overlay\",\"size\":10,\"solidity\":0.2}},\"type\":\"bar\"}],\"barpolar\":[{\"marker\":{\"line\":{\"color\":\"#E5ECF6\",\"width\":0.5},\"pattern\":{\"fillmode\":\"overlay\",\"size\":10,\"solidity\":0.2}},\"type\":\"barpolar\"}],\"carpet\":[{\"aaxis\":{\"endlinecolor\":\"#2a3f5f\",\"gridcolor\":\"white\",\"linecolor\":\"white\",\"minorgridcolor\":\"white\",\"startlinecolor\":\"#2a3f5f\"},\"baxis\":{\"endlinecolor\":\"#2a3f5f\",\"gridcolor\":\"white\",\"linecolor\":\"white\",\"minorgridcolor\":\"white\",\"startlinecolor\":\"#2a3f5f\"},\"type\":\"carpet\"}],\"choropleth\":[{\"colorbar\":{\"outlinewidth\":0,\"ticks\":\"\"},\"type\":\"choropleth\"}],\"contour\":[{\"colorbar\":{\"outlinewidth\":0,\"ticks\":\"\"},\"colorscale\":[[0.0,\"#0d0887\"],[0.1111111111111111,\"#46039f\"],[0.2222222222222222,\"#7201a8\"],[0.3333333333333333,\"#9c179e\"],[0.4444444444444444,\"#bd3786\"],[0.5555555555555556,\"#d8576b\"],[0.6666666666666666,\"#ed7953\"],[0.7777777777777778,\"#fb9f3a\"],[0.8888888888888888,\"#fdca26\"],[1.0,\"#f0f921\"]],\"type\":\"contour\"}],\"contourcarpet\":[{\"colorbar\":{\"outlinewidth\":0,\"ticks\":\"\"},\"type\":\"contourcarpet\"}],\"heatmap\":[{\"colorbar\":{\"outlinewidth\":0,\"ticks\":\"\"},\"colorscale\":[[0.0,\"#0d0887\"],[0.1111111111111111,\"#46039f\"],[0.2222222222222222,\"#7201a8\"],[0.3333333333333333,\"#9c179e\"],[0.4444444444444444,\"#bd3786\"],[0.5555555555555556,\"#d8576b\"],[0.6666666666666666,\"#ed7953\"],[0.7777777777777778,\"#fb9f3a\"],[0.8888888888888888,\"#fdca26\"],[1.0,\"#f0f921\"]],\"type\":\"heatmap\"}],\"heatmapgl\":[{\"colorbar\":{\"outlinewidth\":0,\"ticks\":\"\"},\"colorscale\":[[0.0,\"#0d0887\"],[0.1111111111111111,\"#46039f\"],[0.2222222222222222,\"#7201a8\"],[0.3333333333333333,\"#9c179e\"],[0.4444444444444444,\"#bd3786\"],[0.5555555555555556,\"#d8576b\"],[0.6666666666666666,\"#ed7953\"],[0.7777777777777778,\"#fb9f3a\"],[0.8888888888888888,\"#fdca26\"],[1.0,\"#f0f921\"]],\"type\":\"heatmapgl\"}],\"histogram\":[{\"marker\":{\"pattern\":{\"fillmode\":\"overlay\",\"size\":10,\"solidity\":0.2}},\"type\":\"histogram\"}],\"histogram2d\":[{\"colorbar\":{\"outlinewidth\":0,\"ticks\":\"\"},\"colorscale\":[[0.0,\"#0d0887\"],[0.1111111111111111,\"#46039f\"],[0.2222222222222222,\"#7201a8\"],[0.3333333333333333,\"#9c179e\"],[0.4444444444444444,\"#bd3786\"],[0.5555555555555556,\"#d8576b\"],[0.6666666666666666,\"#ed7953\"],[0.7777777777777778,\"#fb9f3a\"],[0.8888888888888888,\"#fdca26\"],[1.0,\"#f0f921\"]],\"type\":\"histogram2d\"}],\"histogram2dcontour\":[{\"colorbar\":{\"outlinewidth\":0,\"ticks\":\"\"},\"colorscale\":[[0.0,\"#0d0887\"],[0.1111111111111111,\"#46039f\"],[0.2222222222222222,\"#7201a8\"],[0.3333333333333333,\"#9c179e\"],[0.4444444444444444,\"#bd3786\"],[0.5555555555555556,\"#d8576b\"],[0.6666666666666666,\"#ed7953\"],[0.7777777777777778,\"#fb9f3a\"],[0.8888888888888888,\"#fdca26\"],[1.0,\"#f0f921\"]],\"type\":\"histogram2dcontour\"}],\"mesh3d\":[{\"colorbar\":{\"outlinewidth\":0,\"ticks\":\"\"},\"type\":\"mesh3d\"}],\"parcoords\":[{\"line\":{\"colorbar\":{\"outlinewidth\":0,\"ticks\":\"\"}},\"type\":\"parcoords\"}],\"pie\":[{\"automargin\":true,\"type\":\"pie\"}],\"scatter\":[{\"marker\":{\"colorbar\":{\"outlinewidth\":0,\"ticks\":\"\"}},\"type\":\"scatter\"}],\"scatter3d\":[{\"line\":{\"colorbar\":{\"outlinewidth\":0,\"ticks\":\"\"}},\"marker\":{\"colorbar\":{\"outlinewidth\":0,\"ticks\":\"\"}},\"type\":\"scatter3d\"}],\"scattercarpet\":[{\"marker\":{\"colorbar\":{\"outlinewidth\":0,\"ticks\":\"\"}},\"type\":\"scattercarpet\"}],\"scattergeo\":[{\"marker\":{\"colorbar\":{\"outlinewidth\":0,\"ticks\":\"\"}},\"type\":\"scattergeo\"}],\"scattergl\":[{\"marker\":{\"colorbar\":{\"outlinewidth\":0,\"ticks\":\"\"}},\"type\":\"scattergl\"}],\"scattermapbox\":[{\"marker\":{\"colorbar\":{\"outlinewidth\":0,\"ticks\":\"\"}},\"type\":\"scattermapbox\"}],\"scatterpolar\":[{\"marker\":{\"colorbar\":{\"outlinewidth\":0,\"ticks\":\"\"}},\"type\":\"scatterpolar\"}],\"scatterpolargl\":[{\"marker\":{\"colorbar\":{\"outlinewidth\":0,\"ticks\":\"\"}},\"type\":\"scatterpolargl\"}],\"scatterternary\":[{\"marker\":{\"colorbar\":{\"outlinewidth\":0,\"ticks\":\"\"}},\"type\":\"scatterternary\"}],\"surface\":[{\"colorbar\":{\"outlinewidth\":0,\"ticks\":\"\"},\"colorscale\":[[0.0,\"#0d0887\"],[0.1111111111111111,\"#46039f\"],[0.2222222222222222,\"#7201a8\"],[0.3333333333333333,\"#9c179e\"],[0.4444444444444444,\"#bd3786\"],[0.5555555555555556,\"#d8576b\"],[0.6666666666666666,\"#ed7953\"],[0.7777777777777778,\"#fb9f3a\"],[0.8888888888888888,\"#fdca26\"],[1.0,\"#f0f921\"]],\"type\":\"surface\"}],\"table\":[{\"cells\":{\"fill\":{\"color\":\"#EBF0F8\"},\"line\":{\"color\":\"white\"}},\"header\":{\"fill\":{\"color\":\"#C8D4E3\"},\"line\":{\"color\":\"white\"}},\"type\":\"table\"}]},\"layout\":{\"annotationdefaults\":{\"arrowcolor\":\"#2a3f5f\",\"arrowhead\":0,\"arrowwidth\":1},\"autotypenumbers\":\"strict\",\"coloraxis\":{\"colorbar\":{\"outlinewidth\":0,\"ticks\":\"\"}},\"colorscale\":{\"diverging\":[[0,\"#8e0152\"],[0.1,\"#c51b7d\"],[0.2,\"#de77ae\"],[0.3,\"#f1b6da\"],[0.4,\"#fde0ef\"],[0.5,\"#f7f7f7\"],[0.6,\"#e6f5d0\"],[0.7,\"#b8e186\"],[0.8,\"#7fbc41\"],[0.9,\"#4d9221\"],[1,\"#276419\"]],\"sequential\":[[0.0,\"#0d0887\"],[0.1111111111111111,\"#46039f\"],[0.2222222222222222,\"#7201a8\"],[0.3333333333333333,\"#9c179e\"],[0.4444444444444444,\"#bd3786\"],[0.5555555555555556,\"#d8576b\"],[0.6666666666666666,\"#ed7953\"],[0.7777777777777778,\"#fb9f3a\"],[0.8888888888888888,\"#fdca26\"],[1.0,\"#f0f921\"]],\"sequentialminus\":[[0.0,\"#0d0887\"],[0.1111111111111111,\"#46039f\"],[0.2222222222222222,\"#7201a8\"],[0.3333333333333333,\"#9c179e\"],[0.4444444444444444,\"#bd3786\"],[0.5555555555555556,\"#d8576b\"],[0.6666666666666666,\"#ed7953\"],[0.7777777777777778,\"#fb9f3a\"],[0.8888888888888888,\"#fdca26\"],[1.0,\"#f0f921\"]]},\"colorway\":[\"#636efa\",\"#EF553B\",\"#00cc96\",\"#ab63fa\",\"#FFA15A\",\"#19d3f3\",\"#FF6692\",\"#B6E880\",\"#FF97FF\",\"#FECB52\"],\"font\":{\"color\":\"#2a3f5f\"},\"geo\":{\"bgcolor\":\"white\",\"lakecolor\":\"white\",\"landcolor\":\"#E5ECF6\",\"showlakes\":true,\"showland\":true,\"subunitcolor\":\"white\"},\"hoverlabel\":{\"align\":\"left\"},\"hovermode\":\"closest\",\"mapbox\":{\"style\":\"light\"},\"paper_bgcolor\":\"white\",\"plot_bgcolor\":\"#E5ECF6\",\"polar\":{\"angularaxis\":{\"gridcolor\":\"white\",\"linecolor\":\"white\",\"ticks\":\"\"},\"bgcolor\":\"#E5ECF6\",\"radialaxis\":{\"gridcolor\":\"white\",\"linecolor\":\"white\",\"ticks\":\"\"}},\"scene\":{\"xaxis\":{\"backgroundcolor\":\"#E5ECF6\",\"gridcolor\":\"white\",\"gridwidth\":2,\"linecolor\":\"white\",\"showbackground\":true,\"ticks\":\"\",\"zerolinecolor\":\"white\"},\"yaxis\":{\"backgroundcolor\":\"#E5ECF6\",\"gridcolor\":\"white\",\"gridwidth\":2,\"linecolor\":\"white\",\"showbackground\":true,\"ticks\":\"\",\"zerolinecolor\":\"white\"},\"zaxis\":{\"backgroundcolor\":\"#E5ECF6\",\"gridcolor\":\"white\",\"gridwidth\":2,\"linecolor\":\"white\",\"showbackground\":true,\"ticks\":\"\",\"zerolinecolor\":\"white\"}},\"shapedefaults\":{\"line\":{\"color\":\"#2a3f5f\"}},\"ternary\":{\"aaxis\":{\"gridcolor\":\"white\",\"linecolor\":\"white\",\"ticks\":\"\"},\"baxis\":{\"gridcolor\":\"white\",\"linecolor\":\"white\",\"ticks\":\"\"},\"bgcolor\":\"#E5ECF6\",\"caxis\":{\"gridcolor\":\"white\",\"linecolor\":\"white\",\"ticks\":\"\"}},\"title\":{\"x\":0.05},\"xaxis\":{\"automargin\":true,\"gridcolor\":\"white\",\"linecolor\":\"white\",\"ticks\":\"\",\"title\":{\"standoff\":15},\"zerolinecolor\":\"white\",\"zerolinewidth\":2},\"yaxis\":{\"automargin\":true,\"gridcolor\":\"white\",\"linecolor\":\"white\",\"ticks\":\"\",\"title\":{\"standoff\":15},\"zerolinecolor\":\"white\",\"zerolinewidth\":2}}},\"title\":{\"text\":\"Total Revenue per Week\"},\"xaxis\":{\"title\":{\"text\":\"Week\"}},\"yaxis\":{\"title\":{\"text\":\"Revenue\"}}},                        {\"responsive\": true}                    ).then(function(){\n",
       "                            \n",
       "var gd = document.getElementById('4284f819-005c-4d18-8e3e-fe619b49b66f');\n",
       "var x = new MutationObserver(function (mutations, observer) {{\n",
       "        var display = window.getComputedStyle(gd).display;\n",
       "        if (!display || display === 'none') {{\n",
       "            console.log([gd, 'removed!']);\n",
       "            Plotly.purge(gd);\n",
       "            observer.disconnect();\n",
       "        }}\n",
       "}});\n",
       "\n",
       "// Listen for the removal of the full notebook cells\n",
       "var notebookContainer = gd.closest('#notebook-container');\n",
       "if (notebookContainer) {{\n",
       "    x.observe(notebookContainer, {childList: true});\n",
       "}}\n",
       "\n",
       "// Listen for the clearing of the current output cell\n",
       "var outputEl = gd.closest('.output');\n",
       "if (outputEl) {{\n",
       "    x.observe(outputEl, {childList: true});\n",
       "}}\n",
       "\n",
       "                        })                };                });            </script>        </div>"
      ]
     },
     "metadata": {}
    }
   ],
   "metadata": {}
  },
  {
   "cell_type": "code",
   "execution_count": 8,
   "source": [
    "from plotly.subplots import make_subplots\r\n",
    "\r\n",
    "category_num_orders=df.groupby('category',as_index=False)['num_orders'].sum() #group num_orders by week\r\n",
    " \r\n",
    "grouped_df=df.groupby('category',as_index=False) #group num_orders by week\r\n",
    "category_revenue=grouped_df['checkout_price'].sum() \r\n",
    "\r\n",
    "fig = make_subplots(rows=1, cols=2, specs=[[{'type':'domain'}, {'type':'domain'}]])\r\n",
    "fig.add_trace(go.Pie(labels=category_num_orders.category, values=category_num_orders.num_orders, title=\"Number of orders per Week\"),1, 1)\r\n",
    "fig.add_trace(go.Pie(labels=category_revenue.category, values=category_revenue.checkout_price, title=\"Revenue per Week\"),1, 2)\r\n"
   ],
   "outputs": [
    {
     "output_type": "display_data",
     "data": {
      "application/vnd.plotly.v1+json": {
       "config": {
        "plotlyServerURL": "https://plot.ly"
       },
       "data": [
        {
         "domain": {
          "x": [
           0,
           0.45
          ],
          "y": [
           0,
           1
          ]
         },
         "labels": [
          "Beverages",
          "Biryani",
          "Desert",
          "Extras",
          "Fish",
          "Other Snacks",
          "Pasta",
          "Pizza",
          "Rice Bowl",
          "Salad",
          "Sandwich",
          "Seafood",
          "Soup",
          "Starters"
         ],
         "title": {
          "text": "Number of orders per Week"
         },
         "type": "pie",
         "values": [
          40480525,
          631848,
          1940754,
          3984979,
          871959,
          4766293,
          1637744,
          7383720,
          20874063,
          10944336,
          17636782,
          2715714,
          1039646,
          4649122
         ]
        },
        {
         "domain": {
          "x": [
           0.55,
           1
          ],
          "y": [
           0,
           1
          ]
         },
         "labels": [
          "Beverages",
          "Biryani",
          "Desert",
          "Extras",
          "Fish",
          "Other Snacks",
          "Pasta",
          "Pizza",
          "Rice Bowl",
          "Salad",
          "Sandwich",
          "Seafood",
          "Soup",
          "Starters"
         ],
         "title": {
          "text": "Revenue per Week"
         },
         "type": "pie",
         "values": [
          27274335.970000163,
          9284651.880002134,
          12819059.26999964,
          2348847.520000014,
          5898192.320000032,
          7583670.849999978,
          10957496.950000623,
          19352729.399999198,
          10608117.080000667,
          8309396.399999742,
          9654023.749999652,
          16434870.57000111,
          2825886.360000082,
          8331741.8600018285
         ]
        }
       ],
       "layout": {
        "template": {
         "data": {
          "bar": [
           {
            "error_x": {
             "color": "#2a3f5f"
            },
            "error_y": {
             "color": "#2a3f5f"
            },
            "marker": {
             "line": {
              "color": "#E5ECF6",
              "width": 0.5
             },
             "pattern": {
              "fillmode": "overlay",
              "size": 10,
              "solidity": 0.2
             }
            },
            "type": "bar"
           }
          ],
          "barpolar": [
           {
            "marker": {
             "line": {
              "color": "#E5ECF6",
              "width": 0.5
             },
             "pattern": {
              "fillmode": "overlay",
              "size": 10,
              "solidity": 0.2
             }
            },
            "type": "barpolar"
           }
          ],
          "carpet": [
           {
            "aaxis": {
             "endlinecolor": "#2a3f5f",
             "gridcolor": "white",
             "linecolor": "white",
             "minorgridcolor": "white",
             "startlinecolor": "#2a3f5f"
            },
            "baxis": {
             "endlinecolor": "#2a3f5f",
             "gridcolor": "white",
             "linecolor": "white",
             "minorgridcolor": "white",
             "startlinecolor": "#2a3f5f"
            },
            "type": "carpet"
           }
          ],
          "choropleth": [
           {
            "colorbar": {
             "outlinewidth": 0,
             "ticks": ""
            },
            "type": "choropleth"
           }
          ],
          "contour": [
           {
            "colorbar": {
             "outlinewidth": 0,
             "ticks": ""
            },
            "colorscale": [
             [
              0,
              "#0d0887"
             ],
             [
              0.1111111111111111,
              "#46039f"
             ],
             [
              0.2222222222222222,
              "#7201a8"
             ],
             [
              0.3333333333333333,
              "#9c179e"
             ],
             [
              0.4444444444444444,
              "#bd3786"
             ],
             [
              0.5555555555555556,
              "#d8576b"
             ],
             [
              0.6666666666666666,
              "#ed7953"
             ],
             [
              0.7777777777777778,
              "#fb9f3a"
             ],
             [
              0.8888888888888888,
              "#fdca26"
             ],
             [
              1,
              "#f0f921"
             ]
            ],
            "type": "contour"
           }
          ],
          "contourcarpet": [
           {
            "colorbar": {
             "outlinewidth": 0,
             "ticks": ""
            },
            "type": "contourcarpet"
           }
          ],
          "heatmap": [
           {
            "colorbar": {
             "outlinewidth": 0,
             "ticks": ""
            },
            "colorscale": [
             [
              0,
              "#0d0887"
             ],
             [
              0.1111111111111111,
              "#46039f"
             ],
             [
              0.2222222222222222,
              "#7201a8"
             ],
             [
              0.3333333333333333,
              "#9c179e"
             ],
             [
              0.4444444444444444,
              "#bd3786"
             ],
             [
              0.5555555555555556,
              "#d8576b"
             ],
             [
              0.6666666666666666,
              "#ed7953"
             ],
             [
              0.7777777777777778,
              "#fb9f3a"
             ],
             [
              0.8888888888888888,
              "#fdca26"
             ],
             [
              1,
              "#f0f921"
             ]
            ],
            "type": "heatmap"
           }
          ],
          "heatmapgl": [
           {
            "colorbar": {
             "outlinewidth": 0,
             "ticks": ""
            },
            "colorscale": [
             [
              0,
              "#0d0887"
             ],
             [
              0.1111111111111111,
              "#46039f"
             ],
             [
              0.2222222222222222,
              "#7201a8"
             ],
             [
              0.3333333333333333,
              "#9c179e"
             ],
             [
              0.4444444444444444,
              "#bd3786"
             ],
             [
              0.5555555555555556,
              "#d8576b"
             ],
             [
              0.6666666666666666,
              "#ed7953"
             ],
             [
              0.7777777777777778,
              "#fb9f3a"
             ],
             [
              0.8888888888888888,
              "#fdca26"
             ],
             [
              1,
              "#f0f921"
             ]
            ],
            "type": "heatmapgl"
           }
          ],
          "histogram": [
           {
            "marker": {
             "pattern": {
              "fillmode": "overlay",
              "size": 10,
              "solidity": 0.2
             }
            },
            "type": "histogram"
           }
          ],
          "histogram2d": [
           {
            "colorbar": {
             "outlinewidth": 0,
             "ticks": ""
            },
            "colorscale": [
             [
              0,
              "#0d0887"
             ],
             [
              0.1111111111111111,
              "#46039f"
             ],
             [
              0.2222222222222222,
              "#7201a8"
             ],
             [
              0.3333333333333333,
              "#9c179e"
             ],
             [
              0.4444444444444444,
              "#bd3786"
             ],
             [
              0.5555555555555556,
              "#d8576b"
             ],
             [
              0.6666666666666666,
              "#ed7953"
             ],
             [
              0.7777777777777778,
              "#fb9f3a"
             ],
             [
              0.8888888888888888,
              "#fdca26"
             ],
             [
              1,
              "#f0f921"
             ]
            ],
            "type": "histogram2d"
           }
          ],
          "histogram2dcontour": [
           {
            "colorbar": {
             "outlinewidth": 0,
             "ticks": ""
            },
            "colorscale": [
             [
              0,
              "#0d0887"
             ],
             [
              0.1111111111111111,
              "#46039f"
             ],
             [
              0.2222222222222222,
              "#7201a8"
             ],
             [
              0.3333333333333333,
              "#9c179e"
             ],
             [
              0.4444444444444444,
              "#bd3786"
             ],
             [
              0.5555555555555556,
              "#d8576b"
             ],
             [
              0.6666666666666666,
              "#ed7953"
             ],
             [
              0.7777777777777778,
              "#fb9f3a"
             ],
             [
              0.8888888888888888,
              "#fdca26"
             ],
             [
              1,
              "#f0f921"
             ]
            ],
            "type": "histogram2dcontour"
           }
          ],
          "mesh3d": [
           {
            "colorbar": {
             "outlinewidth": 0,
             "ticks": ""
            },
            "type": "mesh3d"
           }
          ],
          "parcoords": [
           {
            "line": {
             "colorbar": {
              "outlinewidth": 0,
              "ticks": ""
             }
            },
            "type": "parcoords"
           }
          ],
          "pie": [
           {
            "automargin": true,
            "type": "pie"
           }
          ],
          "scatter": [
           {
            "marker": {
             "colorbar": {
              "outlinewidth": 0,
              "ticks": ""
             }
            },
            "type": "scatter"
           }
          ],
          "scatter3d": [
           {
            "line": {
             "colorbar": {
              "outlinewidth": 0,
              "ticks": ""
             }
            },
            "marker": {
             "colorbar": {
              "outlinewidth": 0,
              "ticks": ""
             }
            },
            "type": "scatter3d"
           }
          ],
          "scattercarpet": [
           {
            "marker": {
             "colorbar": {
              "outlinewidth": 0,
              "ticks": ""
             }
            },
            "type": "scattercarpet"
           }
          ],
          "scattergeo": [
           {
            "marker": {
             "colorbar": {
              "outlinewidth": 0,
              "ticks": ""
             }
            },
            "type": "scattergeo"
           }
          ],
          "scattergl": [
           {
            "marker": {
             "colorbar": {
              "outlinewidth": 0,
              "ticks": ""
             }
            },
            "type": "scattergl"
           }
          ],
          "scattermapbox": [
           {
            "marker": {
             "colorbar": {
              "outlinewidth": 0,
              "ticks": ""
             }
            },
            "type": "scattermapbox"
           }
          ],
          "scatterpolar": [
           {
            "marker": {
             "colorbar": {
              "outlinewidth": 0,
              "ticks": ""
             }
            },
            "type": "scatterpolar"
           }
          ],
          "scatterpolargl": [
           {
            "marker": {
             "colorbar": {
              "outlinewidth": 0,
              "ticks": ""
             }
            },
            "type": "scatterpolargl"
           }
          ],
          "scatterternary": [
           {
            "marker": {
             "colorbar": {
              "outlinewidth": 0,
              "ticks": ""
             }
            },
            "type": "scatterternary"
           }
          ],
          "surface": [
           {
            "colorbar": {
             "outlinewidth": 0,
             "ticks": ""
            },
            "colorscale": [
             [
              0,
              "#0d0887"
             ],
             [
              0.1111111111111111,
              "#46039f"
             ],
             [
              0.2222222222222222,
              "#7201a8"
             ],
             [
              0.3333333333333333,
              "#9c179e"
             ],
             [
              0.4444444444444444,
              "#bd3786"
             ],
             [
              0.5555555555555556,
              "#d8576b"
             ],
             [
              0.6666666666666666,
              "#ed7953"
             ],
             [
              0.7777777777777778,
              "#fb9f3a"
             ],
             [
              0.8888888888888888,
              "#fdca26"
             ],
             [
              1,
              "#f0f921"
             ]
            ],
            "type": "surface"
           }
          ],
          "table": [
           {
            "cells": {
             "fill": {
              "color": "#EBF0F8"
             },
             "line": {
              "color": "white"
             }
            },
            "header": {
             "fill": {
              "color": "#C8D4E3"
             },
             "line": {
              "color": "white"
             }
            },
            "type": "table"
           }
          ]
         },
         "layout": {
          "annotationdefaults": {
           "arrowcolor": "#2a3f5f",
           "arrowhead": 0,
           "arrowwidth": 1
          },
          "autotypenumbers": "strict",
          "coloraxis": {
           "colorbar": {
            "outlinewidth": 0,
            "ticks": ""
           }
          },
          "colorscale": {
           "diverging": [
            [
             0,
             "#8e0152"
            ],
            [
             0.1,
             "#c51b7d"
            ],
            [
             0.2,
             "#de77ae"
            ],
            [
             0.3,
             "#f1b6da"
            ],
            [
             0.4,
             "#fde0ef"
            ],
            [
             0.5,
             "#f7f7f7"
            ],
            [
             0.6,
             "#e6f5d0"
            ],
            [
             0.7,
             "#b8e186"
            ],
            [
             0.8,
             "#7fbc41"
            ],
            [
             0.9,
             "#4d9221"
            ],
            [
             1,
             "#276419"
            ]
           ],
           "sequential": [
            [
             0,
             "#0d0887"
            ],
            [
             0.1111111111111111,
             "#46039f"
            ],
            [
             0.2222222222222222,
             "#7201a8"
            ],
            [
             0.3333333333333333,
             "#9c179e"
            ],
            [
             0.4444444444444444,
             "#bd3786"
            ],
            [
             0.5555555555555556,
             "#d8576b"
            ],
            [
             0.6666666666666666,
             "#ed7953"
            ],
            [
             0.7777777777777778,
             "#fb9f3a"
            ],
            [
             0.8888888888888888,
             "#fdca26"
            ],
            [
             1,
             "#f0f921"
            ]
           ],
           "sequentialminus": [
            [
             0,
             "#0d0887"
            ],
            [
             0.1111111111111111,
             "#46039f"
            ],
            [
             0.2222222222222222,
             "#7201a8"
            ],
            [
             0.3333333333333333,
             "#9c179e"
            ],
            [
             0.4444444444444444,
             "#bd3786"
            ],
            [
             0.5555555555555556,
             "#d8576b"
            ],
            [
             0.6666666666666666,
             "#ed7953"
            ],
            [
             0.7777777777777778,
             "#fb9f3a"
            ],
            [
             0.8888888888888888,
             "#fdca26"
            ],
            [
             1,
             "#f0f921"
            ]
           ]
          },
          "colorway": [
           "#636efa",
           "#EF553B",
           "#00cc96",
           "#ab63fa",
           "#FFA15A",
           "#19d3f3",
           "#FF6692",
           "#B6E880",
           "#FF97FF",
           "#FECB52"
          ],
          "font": {
           "color": "#2a3f5f"
          },
          "geo": {
           "bgcolor": "white",
           "lakecolor": "white",
           "landcolor": "#E5ECF6",
           "showlakes": true,
           "showland": true,
           "subunitcolor": "white"
          },
          "hoverlabel": {
           "align": "left"
          },
          "hovermode": "closest",
          "mapbox": {
           "style": "light"
          },
          "paper_bgcolor": "white",
          "plot_bgcolor": "#E5ECF6",
          "polar": {
           "angularaxis": {
            "gridcolor": "white",
            "linecolor": "white",
            "ticks": ""
           },
           "bgcolor": "#E5ECF6",
           "radialaxis": {
            "gridcolor": "white",
            "linecolor": "white",
            "ticks": ""
           }
          },
          "scene": {
           "xaxis": {
            "backgroundcolor": "#E5ECF6",
            "gridcolor": "white",
            "gridwidth": 2,
            "linecolor": "white",
            "showbackground": true,
            "ticks": "",
            "zerolinecolor": "white"
           },
           "yaxis": {
            "backgroundcolor": "#E5ECF6",
            "gridcolor": "white",
            "gridwidth": 2,
            "linecolor": "white",
            "showbackground": true,
            "ticks": "",
            "zerolinecolor": "white"
           },
           "zaxis": {
            "backgroundcolor": "#E5ECF6",
            "gridcolor": "white",
            "gridwidth": 2,
            "linecolor": "white",
            "showbackground": true,
            "ticks": "",
            "zerolinecolor": "white"
           }
          },
          "shapedefaults": {
           "line": {
            "color": "#2a3f5f"
           }
          },
          "ternary": {
           "aaxis": {
            "gridcolor": "white",
            "linecolor": "white",
            "ticks": ""
           },
           "baxis": {
            "gridcolor": "white",
            "linecolor": "white",
            "ticks": ""
           },
           "bgcolor": "#E5ECF6",
           "caxis": {
            "gridcolor": "white",
            "linecolor": "white",
            "ticks": ""
           }
          },
          "title": {
           "x": 0.05
          },
          "xaxis": {
           "automargin": true,
           "gridcolor": "white",
           "linecolor": "white",
           "ticks": "",
           "title": {
            "standoff": 15
           },
           "zerolinecolor": "white",
           "zerolinewidth": 2
          },
          "yaxis": {
           "automargin": true,
           "gridcolor": "white",
           "linecolor": "white",
           "ticks": "",
           "title": {
            "standoff": 15
           },
           "zerolinecolor": "white",
           "zerolinewidth": 2
          }
         }
        }
       }
      },
      "text/html": [
       "<div>                            <div id=\"9d0f5804-3765-4389-96f9-28097eaf0d41\" class=\"plotly-graph-div\" style=\"height:525px; width:100%;\"></div>            <script type=\"text/javascript\">                require([\"plotly\"], function(Plotly) {                    window.PLOTLYENV=window.PLOTLYENV || {};                                    if (document.getElementById(\"9d0f5804-3765-4389-96f9-28097eaf0d41\")) {                    Plotly.newPlot(                        \"9d0f5804-3765-4389-96f9-28097eaf0d41\",                        [{\"domain\":{\"x\":[0.0,0.45],\"y\":[0.0,1.0]},\"labels\":[\"Beverages\",\"Biryani\",\"Desert\",\"Extras\",\"Fish\",\"Other Snacks\",\"Pasta\",\"Pizza\",\"Rice Bowl\",\"Salad\",\"Sandwich\",\"Seafood\",\"Soup\",\"Starters\"],\"title\":{\"text\":\"Number of orders per Week\"},\"type\":\"pie\",\"values\":[40480525,631848,1940754,3984979,871959,4766293,1637744,7383720,20874063,10944336,17636782,2715714,1039646,4649122]},{\"domain\":{\"x\":[0.55,1.0],\"y\":[0.0,1.0]},\"labels\":[\"Beverages\",\"Biryani\",\"Desert\",\"Extras\",\"Fish\",\"Other Snacks\",\"Pasta\",\"Pizza\",\"Rice Bowl\",\"Salad\",\"Sandwich\",\"Seafood\",\"Soup\",\"Starters\"],\"title\":{\"text\":\"Revenue per Week\"},\"type\":\"pie\",\"values\":[27274335.970000163,9284651.880002134,12819059.26999964,2348847.520000014,5898192.320000032,7583670.849999978,10957496.950000623,19352729.399999198,10608117.080000667,8309396.399999742,9654023.749999652,16434870.57000111,2825886.360000082,8331741.8600018285]}],                        {\"template\":{\"data\":{\"bar\":[{\"error_x\":{\"color\":\"#2a3f5f\"},\"error_y\":{\"color\":\"#2a3f5f\"},\"marker\":{\"line\":{\"color\":\"#E5ECF6\",\"width\":0.5},\"pattern\":{\"fillmode\":\"overlay\",\"size\":10,\"solidity\":0.2}},\"type\":\"bar\"}],\"barpolar\":[{\"marker\":{\"line\":{\"color\":\"#E5ECF6\",\"width\":0.5},\"pattern\":{\"fillmode\":\"overlay\",\"size\":10,\"solidity\":0.2}},\"type\":\"barpolar\"}],\"carpet\":[{\"aaxis\":{\"endlinecolor\":\"#2a3f5f\",\"gridcolor\":\"white\",\"linecolor\":\"white\",\"minorgridcolor\":\"white\",\"startlinecolor\":\"#2a3f5f\"},\"baxis\":{\"endlinecolor\":\"#2a3f5f\",\"gridcolor\":\"white\",\"linecolor\":\"white\",\"minorgridcolor\":\"white\",\"startlinecolor\":\"#2a3f5f\"},\"type\":\"carpet\"}],\"choropleth\":[{\"colorbar\":{\"outlinewidth\":0,\"ticks\":\"\"},\"type\":\"choropleth\"}],\"contour\":[{\"colorbar\":{\"outlinewidth\":0,\"ticks\":\"\"},\"colorscale\":[[0.0,\"#0d0887\"],[0.1111111111111111,\"#46039f\"],[0.2222222222222222,\"#7201a8\"],[0.3333333333333333,\"#9c179e\"],[0.4444444444444444,\"#bd3786\"],[0.5555555555555556,\"#d8576b\"],[0.6666666666666666,\"#ed7953\"],[0.7777777777777778,\"#fb9f3a\"],[0.8888888888888888,\"#fdca26\"],[1.0,\"#f0f921\"]],\"type\":\"contour\"}],\"contourcarpet\":[{\"colorbar\":{\"outlinewidth\":0,\"ticks\":\"\"},\"type\":\"contourcarpet\"}],\"heatmap\":[{\"colorbar\":{\"outlinewidth\":0,\"ticks\":\"\"},\"colorscale\":[[0.0,\"#0d0887\"],[0.1111111111111111,\"#46039f\"],[0.2222222222222222,\"#7201a8\"],[0.3333333333333333,\"#9c179e\"],[0.4444444444444444,\"#bd3786\"],[0.5555555555555556,\"#d8576b\"],[0.6666666666666666,\"#ed7953\"],[0.7777777777777778,\"#fb9f3a\"],[0.8888888888888888,\"#fdca26\"],[1.0,\"#f0f921\"]],\"type\":\"heatmap\"}],\"heatmapgl\":[{\"colorbar\":{\"outlinewidth\":0,\"ticks\":\"\"},\"colorscale\":[[0.0,\"#0d0887\"],[0.1111111111111111,\"#46039f\"],[0.2222222222222222,\"#7201a8\"],[0.3333333333333333,\"#9c179e\"],[0.4444444444444444,\"#bd3786\"],[0.5555555555555556,\"#d8576b\"],[0.6666666666666666,\"#ed7953\"],[0.7777777777777778,\"#fb9f3a\"],[0.8888888888888888,\"#fdca26\"],[1.0,\"#f0f921\"]],\"type\":\"heatmapgl\"}],\"histogram\":[{\"marker\":{\"pattern\":{\"fillmode\":\"overlay\",\"size\":10,\"solidity\":0.2}},\"type\":\"histogram\"}],\"histogram2d\":[{\"colorbar\":{\"outlinewidth\":0,\"ticks\":\"\"},\"colorscale\":[[0.0,\"#0d0887\"],[0.1111111111111111,\"#46039f\"],[0.2222222222222222,\"#7201a8\"],[0.3333333333333333,\"#9c179e\"],[0.4444444444444444,\"#bd3786\"],[0.5555555555555556,\"#d8576b\"],[0.6666666666666666,\"#ed7953\"],[0.7777777777777778,\"#fb9f3a\"],[0.8888888888888888,\"#fdca26\"],[1.0,\"#f0f921\"]],\"type\":\"histogram2d\"}],\"histogram2dcontour\":[{\"colorbar\":{\"outlinewidth\":0,\"ticks\":\"\"},\"colorscale\":[[0.0,\"#0d0887\"],[0.1111111111111111,\"#46039f\"],[0.2222222222222222,\"#7201a8\"],[0.3333333333333333,\"#9c179e\"],[0.4444444444444444,\"#bd3786\"],[0.5555555555555556,\"#d8576b\"],[0.6666666666666666,\"#ed7953\"],[0.7777777777777778,\"#fb9f3a\"],[0.8888888888888888,\"#fdca26\"],[1.0,\"#f0f921\"]],\"type\":\"histogram2dcontour\"}],\"mesh3d\":[{\"colorbar\":{\"outlinewidth\":0,\"ticks\":\"\"},\"type\":\"mesh3d\"}],\"parcoords\":[{\"line\":{\"colorbar\":{\"outlinewidth\":0,\"ticks\":\"\"}},\"type\":\"parcoords\"}],\"pie\":[{\"automargin\":true,\"type\":\"pie\"}],\"scatter\":[{\"marker\":{\"colorbar\":{\"outlinewidth\":0,\"ticks\":\"\"}},\"type\":\"scatter\"}],\"scatter3d\":[{\"line\":{\"colorbar\":{\"outlinewidth\":0,\"ticks\":\"\"}},\"marker\":{\"colorbar\":{\"outlinewidth\":0,\"ticks\":\"\"}},\"type\":\"scatter3d\"}],\"scattercarpet\":[{\"marker\":{\"colorbar\":{\"outlinewidth\":0,\"ticks\":\"\"}},\"type\":\"scattercarpet\"}],\"scattergeo\":[{\"marker\":{\"colorbar\":{\"outlinewidth\":0,\"ticks\":\"\"}},\"type\":\"scattergeo\"}],\"scattergl\":[{\"marker\":{\"colorbar\":{\"outlinewidth\":0,\"ticks\":\"\"}},\"type\":\"scattergl\"}],\"scattermapbox\":[{\"marker\":{\"colorbar\":{\"outlinewidth\":0,\"ticks\":\"\"}},\"type\":\"scattermapbox\"}],\"scatterpolar\":[{\"marker\":{\"colorbar\":{\"outlinewidth\":0,\"ticks\":\"\"}},\"type\":\"scatterpolar\"}],\"scatterpolargl\":[{\"marker\":{\"colorbar\":{\"outlinewidth\":0,\"ticks\":\"\"}},\"type\":\"scatterpolargl\"}],\"scatterternary\":[{\"marker\":{\"colorbar\":{\"outlinewidth\":0,\"ticks\":\"\"}},\"type\":\"scatterternary\"}],\"surface\":[{\"colorbar\":{\"outlinewidth\":0,\"ticks\":\"\"},\"colorscale\":[[0.0,\"#0d0887\"],[0.1111111111111111,\"#46039f\"],[0.2222222222222222,\"#7201a8\"],[0.3333333333333333,\"#9c179e\"],[0.4444444444444444,\"#bd3786\"],[0.5555555555555556,\"#d8576b\"],[0.6666666666666666,\"#ed7953\"],[0.7777777777777778,\"#fb9f3a\"],[0.8888888888888888,\"#fdca26\"],[1.0,\"#f0f921\"]],\"type\":\"surface\"}],\"table\":[{\"cells\":{\"fill\":{\"color\":\"#EBF0F8\"},\"line\":{\"color\":\"white\"}},\"header\":{\"fill\":{\"color\":\"#C8D4E3\"},\"line\":{\"color\":\"white\"}},\"type\":\"table\"}]},\"layout\":{\"annotationdefaults\":{\"arrowcolor\":\"#2a3f5f\",\"arrowhead\":0,\"arrowwidth\":1},\"autotypenumbers\":\"strict\",\"coloraxis\":{\"colorbar\":{\"outlinewidth\":0,\"ticks\":\"\"}},\"colorscale\":{\"diverging\":[[0,\"#8e0152\"],[0.1,\"#c51b7d\"],[0.2,\"#de77ae\"],[0.3,\"#f1b6da\"],[0.4,\"#fde0ef\"],[0.5,\"#f7f7f7\"],[0.6,\"#e6f5d0\"],[0.7,\"#b8e186\"],[0.8,\"#7fbc41\"],[0.9,\"#4d9221\"],[1,\"#276419\"]],\"sequential\":[[0.0,\"#0d0887\"],[0.1111111111111111,\"#46039f\"],[0.2222222222222222,\"#7201a8\"],[0.3333333333333333,\"#9c179e\"],[0.4444444444444444,\"#bd3786\"],[0.5555555555555556,\"#d8576b\"],[0.6666666666666666,\"#ed7953\"],[0.7777777777777778,\"#fb9f3a\"],[0.8888888888888888,\"#fdca26\"],[1.0,\"#f0f921\"]],\"sequentialminus\":[[0.0,\"#0d0887\"],[0.1111111111111111,\"#46039f\"],[0.2222222222222222,\"#7201a8\"],[0.3333333333333333,\"#9c179e\"],[0.4444444444444444,\"#bd3786\"],[0.5555555555555556,\"#d8576b\"],[0.6666666666666666,\"#ed7953\"],[0.7777777777777778,\"#fb9f3a\"],[0.8888888888888888,\"#fdca26\"],[1.0,\"#f0f921\"]]},\"colorway\":[\"#636efa\",\"#EF553B\",\"#00cc96\",\"#ab63fa\",\"#FFA15A\",\"#19d3f3\",\"#FF6692\",\"#B6E880\",\"#FF97FF\",\"#FECB52\"],\"font\":{\"color\":\"#2a3f5f\"},\"geo\":{\"bgcolor\":\"white\",\"lakecolor\":\"white\",\"landcolor\":\"#E5ECF6\",\"showlakes\":true,\"showland\":true,\"subunitcolor\":\"white\"},\"hoverlabel\":{\"align\":\"left\"},\"hovermode\":\"closest\",\"mapbox\":{\"style\":\"light\"},\"paper_bgcolor\":\"white\",\"plot_bgcolor\":\"#E5ECF6\",\"polar\":{\"angularaxis\":{\"gridcolor\":\"white\",\"linecolor\":\"white\",\"ticks\":\"\"},\"bgcolor\":\"#E5ECF6\",\"radialaxis\":{\"gridcolor\":\"white\",\"linecolor\":\"white\",\"ticks\":\"\"}},\"scene\":{\"xaxis\":{\"backgroundcolor\":\"#E5ECF6\",\"gridcolor\":\"white\",\"gridwidth\":2,\"linecolor\":\"white\",\"showbackground\":true,\"ticks\":\"\",\"zerolinecolor\":\"white\"},\"yaxis\":{\"backgroundcolor\":\"#E5ECF6\",\"gridcolor\":\"white\",\"gridwidth\":2,\"linecolor\":\"white\",\"showbackground\":true,\"ticks\":\"\",\"zerolinecolor\":\"white\"},\"zaxis\":{\"backgroundcolor\":\"#E5ECF6\",\"gridcolor\":\"white\",\"gridwidth\":2,\"linecolor\":\"white\",\"showbackground\":true,\"ticks\":\"\",\"zerolinecolor\":\"white\"}},\"shapedefaults\":{\"line\":{\"color\":\"#2a3f5f\"}},\"ternary\":{\"aaxis\":{\"gridcolor\":\"white\",\"linecolor\":\"white\",\"ticks\":\"\"},\"baxis\":{\"gridcolor\":\"white\",\"linecolor\":\"white\",\"ticks\":\"\"},\"bgcolor\":\"#E5ECF6\",\"caxis\":{\"gridcolor\":\"white\",\"linecolor\":\"white\",\"ticks\":\"\"}},\"title\":{\"x\":0.05},\"xaxis\":{\"automargin\":true,\"gridcolor\":\"white\",\"linecolor\":\"white\",\"ticks\":\"\",\"title\":{\"standoff\":15},\"zerolinecolor\":\"white\",\"zerolinewidth\":2},\"yaxis\":{\"automargin\":true,\"gridcolor\":\"white\",\"linecolor\":\"white\",\"ticks\":\"\",\"title\":{\"standoff\":15},\"zerolinecolor\":\"white\",\"zerolinewidth\":2}}}},                        {\"responsive\": true}                    ).then(function(){\n",
       "                            \n",
       "var gd = document.getElementById('9d0f5804-3765-4389-96f9-28097eaf0d41');\n",
       "var x = new MutationObserver(function (mutations, observer) {{\n",
       "        var display = window.getComputedStyle(gd).display;\n",
       "        if (!display || display === 'none') {{\n",
       "            console.log([gd, 'removed!']);\n",
       "            Plotly.purge(gd);\n",
       "            observer.disconnect();\n",
       "        }}\n",
       "}});\n",
       "\n",
       "// Listen for the removal of the full notebook cells\n",
       "var notebookContainer = gd.closest('#notebook-container');\n",
       "if (notebookContainer) {{\n",
       "    x.observe(notebookContainer, {childList: true});\n",
       "}}\n",
       "\n",
       "// Listen for the clearing of the current output cell\n",
       "var outputEl = gd.closest('.output');\n",
       "if (outputEl) {{\n",
       "    x.observe(outputEl, {childList: true});\n",
       "}}\n",
       "\n",
       "                        })                };                });            </script>        </div>"
      ]
     },
     "metadata": {}
    }
   ],
   "metadata": {}
  },
  {
   "cell_type": "code",
   "execution_count": 9,
   "source": [
    "#Beverages are the most popular order and bring in the maximum revenue."
   ],
   "outputs": [],
   "metadata": {}
  },
  {
   "cell_type": "code",
   "execution_count": 10,
   "source": [
    "#density heatmap shows cuisine vs category vs num_orders\r\n",
    "#describes the kind of orders\r\n",
    "grouped_df=df.groupby(['cuisine','category'],as_index=False) #group num_orders by week\r\n",
    "cuisine_category_orders=grouped_df['num_orders'].sum()\r\n",
    "fig=px.density_heatmap(cuisine_category_orders,y='category',x='cuisine',z='num_orders',title='Number of orders in Cuisine x Category',color_continuous_scale='Inferno')\r\n",
    "fig.show()"
   ],
   "outputs": [
    {
     "output_type": "display_data",
     "data": {
      "application/vnd.plotly.v1+json": {
       "config": {
        "plotlyServerURL": "https://plot.ly"
       },
       "data": [
        {
         "coloraxis": "coloraxis",
         "histfunc": "sum",
         "hovertemplate": "cuisine=%{x}<br>category=%{y}<br>sum of num_orders=%{z}<extra></extra>",
         "name": "",
         "type": "histogram2d",
         "x": [
          "Continental",
          "Continental",
          "Continental",
          "Continental",
          "Indian",
          "Indian",
          "Indian",
          "Indian",
          "Italian",
          "Italian",
          "Italian",
          "Italian",
          "Thai",
          "Thai",
          "Thai",
          "Thai",
          "Thai"
         ],
         "xaxis": "x",
         "xbingroup": "x",
         "y": [
          "Beverages",
          "Fish",
          "Pizza",
          "Seafood",
          "Beverages",
          "Biryani",
          "Desert",
          "Rice Bowl",
          "Beverages",
          "Pasta",
          "Salad",
          "Sandwich",
          "Beverages",
          "Extras",
          "Other Snacks",
          "Soup",
          "Starters"
         ],
         "yaxis": "y",
         "ybingroup": "y",
         "z": [
          5943046,
          871959,
          7383720,
          2715714,
          2345879,
          631848,
          1940754,
          20874063,
          13953970,
          1637744,
          10944336,
          17636782,
          18237630,
          3984979,
          4766293,
          1039646,
          4649122
         ]
        }
       ],
       "layout": {
        "coloraxis": {
         "colorbar": {
          "title": {
           "text": "sum of num_orders"
          }
         },
         "colorscale": [
          [
           0,
           "#000004"
          ],
          [
           0.1111111111111111,
           "#1b0c41"
          ],
          [
           0.2222222222222222,
           "#4a0c6b"
          ],
          [
           0.3333333333333333,
           "#781c6d"
          ],
          [
           0.4444444444444444,
           "#a52c60"
          ],
          [
           0.5555555555555556,
           "#cf4446"
          ],
          [
           0.6666666666666666,
           "#ed6925"
          ],
          [
           0.7777777777777778,
           "#fb9b06"
          ],
          [
           0.8888888888888888,
           "#f7d13d"
          ],
          [
           1,
           "#fcffa4"
          ]
         ]
        },
        "legend": {
         "tracegroupgap": 0
        },
        "template": {
         "data": {
          "bar": [
           {
            "error_x": {
             "color": "#2a3f5f"
            },
            "error_y": {
             "color": "#2a3f5f"
            },
            "marker": {
             "line": {
              "color": "#E5ECF6",
              "width": 0.5
             },
             "pattern": {
              "fillmode": "overlay",
              "size": 10,
              "solidity": 0.2
             }
            },
            "type": "bar"
           }
          ],
          "barpolar": [
           {
            "marker": {
             "line": {
              "color": "#E5ECF6",
              "width": 0.5
             },
             "pattern": {
              "fillmode": "overlay",
              "size": 10,
              "solidity": 0.2
             }
            },
            "type": "barpolar"
           }
          ],
          "carpet": [
           {
            "aaxis": {
             "endlinecolor": "#2a3f5f",
             "gridcolor": "white",
             "linecolor": "white",
             "minorgridcolor": "white",
             "startlinecolor": "#2a3f5f"
            },
            "baxis": {
             "endlinecolor": "#2a3f5f",
             "gridcolor": "white",
             "linecolor": "white",
             "minorgridcolor": "white",
             "startlinecolor": "#2a3f5f"
            },
            "type": "carpet"
           }
          ],
          "choropleth": [
           {
            "colorbar": {
             "outlinewidth": 0,
             "ticks": ""
            },
            "type": "choropleth"
           }
          ],
          "contour": [
           {
            "colorbar": {
             "outlinewidth": 0,
             "ticks": ""
            },
            "colorscale": [
             [
              0,
              "#0d0887"
             ],
             [
              0.1111111111111111,
              "#46039f"
             ],
             [
              0.2222222222222222,
              "#7201a8"
             ],
             [
              0.3333333333333333,
              "#9c179e"
             ],
             [
              0.4444444444444444,
              "#bd3786"
             ],
             [
              0.5555555555555556,
              "#d8576b"
             ],
             [
              0.6666666666666666,
              "#ed7953"
             ],
             [
              0.7777777777777778,
              "#fb9f3a"
             ],
             [
              0.8888888888888888,
              "#fdca26"
             ],
             [
              1,
              "#f0f921"
             ]
            ],
            "type": "contour"
           }
          ],
          "contourcarpet": [
           {
            "colorbar": {
             "outlinewidth": 0,
             "ticks": ""
            },
            "type": "contourcarpet"
           }
          ],
          "heatmap": [
           {
            "colorbar": {
             "outlinewidth": 0,
             "ticks": ""
            },
            "colorscale": [
             [
              0,
              "#0d0887"
             ],
             [
              0.1111111111111111,
              "#46039f"
             ],
             [
              0.2222222222222222,
              "#7201a8"
             ],
             [
              0.3333333333333333,
              "#9c179e"
             ],
             [
              0.4444444444444444,
              "#bd3786"
             ],
             [
              0.5555555555555556,
              "#d8576b"
             ],
             [
              0.6666666666666666,
              "#ed7953"
             ],
             [
              0.7777777777777778,
              "#fb9f3a"
             ],
             [
              0.8888888888888888,
              "#fdca26"
             ],
             [
              1,
              "#f0f921"
             ]
            ],
            "type": "heatmap"
           }
          ],
          "heatmapgl": [
           {
            "colorbar": {
             "outlinewidth": 0,
             "ticks": ""
            },
            "colorscale": [
             [
              0,
              "#0d0887"
             ],
             [
              0.1111111111111111,
              "#46039f"
             ],
             [
              0.2222222222222222,
              "#7201a8"
             ],
             [
              0.3333333333333333,
              "#9c179e"
             ],
             [
              0.4444444444444444,
              "#bd3786"
             ],
             [
              0.5555555555555556,
              "#d8576b"
             ],
             [
              0.6666666666666666,
              "#ed7953"
             ],
             [
              0.7777777777777778,
              "#fb9f3a"
             ],
             [
              0.8888888888888888,
              "#fdca26"
             ],
             [
              1,
              "#f0f921"
             ]
            ],
            "type": "heatmapgl"
           }
          ],
          "histogram": [
           {
            "marker": {
             "pattern": {
              "fillmode": "overlay",
              "size": 10,
              "solidity": 0.2
             }
            },
            "type": "histogram"
           }
          ],
          "histogram2d": [
           {
            "colorbar": {
             "outlinewidth": 0,
             "ticks": ""
            },
            "colorscale": [
             [
              0,
              "#0d0887"
             ],
             [
              0.1111111111111111,
              "#46039f"
             ],
             [
              0.2222222222222222,
              "#7201a8"
             ],
             [
              0.3333333333333333,
              "#9c179e"
             ],
             [
              0.4444444444444444,
              "#bd3786"
             ],
             [
              0.5555555555555556,
              "#d8576b"
             ],
             [
              0.6666666666666666,
              "#ed7953"
             ],
             [
              0.7777777777777778,
              "#fb9f3a"
             ],
             [
              0.8888888888888888,
              "#fdca26"
             ],
             [
              1,
              "#f0f921"
             ]
            ],
            "type": "histogram2d"
           }
          ],
          "histogram2dcontour": [
           {
            "colorbar": {
             "outlinewidth": 0,
             "ticks": ""
            },
            "colorscale": [
             [
              0,
              "#0d0887"
             ],
             [
              0.1111111111111111,
              "#46039f"
             ],
             [
              0.2222222222222222,
              "#7201a8"
             ],
             [
              0.3333333333333333,
              "#9c179e"
             ],
             [
              0.4444444444444444,
              "#bd3786"
             ],
             [
              0.5555555555555556,
              "#d8576b"
             ],
             [
              0.6666666666666666,
              "#ed7953"
             ],
             [
              0.7777777777777778,
              "#fb9f3a"
             ],
             [
              0.8888888888888888,
              "#fdca26"
             ],
             [
              1,
              "#f0f921"
             ]
            ],
            "type": "histogram2dcontour"
           }
          ],
          "mesh3d": [
           {
            "colorbar": {
             "outlinewidth": 0,
             "ticks": ""
            },
            "type": "mesh3d"
           }
          ],
          "parcoords": [
           {
            "line": {
             "colorbar": {
              "outlinewidth": 0,
              "ticks": ""
             }
            },
            "type": "parcoords"
           }
          ],
          "pie": [
           {
            "automargin": true,
            "type": "pie"
           }
          ],
          "scatter": [
           {
            "marker": {
             "colorbar": {
              "outlinewidth": 0,
              "ticks": ""
             }
            },
            "type": "scatter"
           }
          ],
          "scatter3d": [
           {
            "line": {
             "colorbar": {
              "outlinewidth": 0,
              "ticks": ""
             }
            },
            "marker": {
             "colorbar": {
              "outlinewidth": 0,
              "ticks": ""
             }
            },
            "type": "scatter3d"
           }
          ],
          "scattercarpet": [
           {
            "marker": {
             "colorbar": {
              "outlinewidth": 0,
              "ticks": ""
             }
            },
            "type": "scattercarpet"
           }
          ],
          "scattergeo": [
           {
            "marker": {
             "colorbar": {
              "outlinewidth": 0,
              "ticks": ""
             }
            },
            "type": "scattergeo"
           }
          ],
          "scattergl": [
           {
            "marker": {
             "colorbar": {
              "outlinewidth": 0,
              "ticks": ""
             }
            },
            "type": "scattergl"
           }
          ],
          "scattermapbox": [
           {
            "marker": {
             "colorbar": {
              "outlinewidth": 0,
              "ticks": ""
             }
            },
            "type": "scattermapbox"
           }
          ],
          "scatterpolar": [
           {
            "marker": {
             "colorbar": {
              "outlinewidth": 0,
              "ticks": ""
             }
            },
            "type": "scatterpolar"
           }
          ],
          "scatterpolargl": [
           {
            "marker": {
             "colorbar": {
              "outlinewidth": 0,
              "ticks": ""
             }
            },
            "type": "scatterpolargl"
           }
          ],
          "scatterternary": [
           {
            "marker": {
             "colorbar": {
              "outlinewidth": 0,
              "ticks": ""
             }
            },
            "type": "scatterternary"
           }
          ],
          "surface": [
           {
            "colorbar": {
             "outlinewidth": 0,
             "ticks": ""
            },
            "colorscale": [
             [
              0,
              "#0d0887"
             ],
             [
              0.1111111111111111,
              "#46039f"
             ],
             [
              0.2222222222222222,
              "#7201a8"
             ],
             [
              0.3333333333333333,
              "#9c179e"
             ],
             [
              0.4444444444444444,
              "#bd3786"
             ],
             [
              0.5555555555555556,
              "#d8576b"
             ],
             [
              0.6666666666666666,
              "#ed7953"
             ],
             [
              0.7777777777777778,
              "#fb9f3a"
             ],
             [
              0.8888888888888888,
              "#fdca26"
             ],
             [
              1,
              "#f0f921"
             ]
            ],
            "type": "surface"
           }
          ],
          "table": [
           {
            "cells": {
             "fill": {
              "color": "#EBF0F8"
             },
             "line": {
              "color": "white"
             }
            },
            "header": {
             "fill": {
              "color": "#C8D4E3"
             },
             "line": {
              "color": "white"
             }
            },
            "type": "table"
           }
          ]
         },
         "layout": {
          "annotationdefaults": {
           "arrowcolor": "#2a3f5f",
           "arrowhead": 0,
           "arrowwidth": 1
          },
          "autotypenumbers": "strict",
          "coloraxis": {
           "colorbar": {
            "outlinewidth": 0,
            "ticks": ""
           }
          },
          "colorscale": {
           "diverging": [
            [
             0,
             "#8e0152"
            ],
            [
             0.1,
             "#c51b7d"
            ],
            [
             0.2,
             "#de77ae"
            ],
            [
             0.3,
             "#f1b6da"
            ],
            [
             0.4,
             "#fde0ef"
            ],
            [
             0.5,
             "#f7f7f7"
            ],
            [
             0.6,
             "#e6f5d0"
            ],
            [
             0.7,
             "#b8e186"
            ],
            [
             0.8,
             "#7fbc41"
            ],
            [
             0.9,
             "#4d9221"
            ],
            [
             1,
             "#276419"
            ]
           ],
           "sequential": [
            [
             0,
             "#0d0887"
            ],
            [
             0.1111111111111111,
             "#46039f"
            ],
            [
             0.2222222222222222,
             "#7201a8"
            ],
            [
             0.3333333333333333,
             "#9c179e"
            ],
            [
             0.4444444444444444,
             "#bd3786"
            ],
            [
             0.5555555555555556,
             "#d8576b"
            ],
            [
             0.6666666666666666,
             "#ed7953"
            ],
            [
             0.7777777777777778,
             "#fb9f3a"
            ],
            [
             0.8888888888888888,
             "#fdca26"
            ],
            [
             1,
             "#f0f921"
            ]
           ],
           "sequentialminus": [
            [
             0,
             "#0d0887"
            ],
            [
             0.1111111111111111,
             "#46039f"
            ],
            [
             0.2222222222222222,
             "#7201a8"
            ],
            [
             0.3333333333333333,
             "#9c179e"
            ],
            [
             0.4444444444444444,
             "#bd3786"
            ],
            [
             0.5555555555555556,
             "#d8576b"
            ],
            [
             0.6666666666666666,
             "#ed7953"
            ],
            [
             0.7777777777777778,
             "#fb9f3a"
            ],
            [
             0.8888888888888888,
             "#fdca26"
            ],
            [
             1,
             "#f0f921"
            ]
           ]
          },
          "colorway": [
           "#636efa",
           "#EF553B",
           "#00cc96",
           "#ab63fa",
           "#FFA15A",
           "#19d3f3",
           "#FF6692",
           "#B6E880",
           "#FF97FF",
           "#FECB52"
          ],
          "font": {
           "color": "#2a3f5f"
          },
          "geo": {
           "bgcolor": "white",
           "lakecolor": "white",
           "landcolor": "#E5ECF6",
           "showlakes": true,
           "showland": true,
           "subunitcolor": "white"
          },
          "hoverlabel": {
           "align": "left"
          },
          "hovermode": "closest",
          "mapbox": {
           "style": "light"
          },
          "paper_bgcolor": "white",
          "plot_bgcolor": "#E5ECF6",
          "polar": {
           "angularaxis": {
            "gridcolor": "white",
            "linecolor": "white",
            "ticks": ""
           },
           "bgcolor": "#E5ECF6",
           "radialaxis": {
            "gridcolor": "white",
            "linecolor": "white",
            "ticks": ""
           }
          },
          "scene": {
           "xaxis": {
            "backgroundcolor": "#E5ECF6",
            "gridcolor": "white",
            "gridwidth": 2,
            "linecolor": "white",
            "showbackground": true,
            "ticks": "",
            "zerolinecolor": "white"
           },
           "yaxis": {
            "backgroundcolor": "#E5ECF6",
            "gridcolor": "white",
            "gridwidth": 2,
            "linecolor": "white",
            "showbackground": true,
            "ticks": "",
            "zerolinecolor": "white"
           },
           "zaxis": {
            "backgroundcolor": "#E5ECF6",
            "gridcolor": "white",
            "gridwidth": 2,
            "linecolor": "white",
            "showbackground": true,
            "ticks": "",
            "zerolinecolor": "white"
           }
          },
          "shapedefaults": {
           "line": {
            "color": "#2a3f5f"
           }
          },
          "ternary": {
           "aaxis": {
            "gridcolor": "white",
            "linecolor": "white",
            "ticks": ""
           },
           "baxis": {
            "gridcolor": "white",
            "linecolor": "white",
            "ticks": ""
           },
           "bgcolor": "#E5ECF6",
           "caxis": {
            "gridcolor": "white",
            "linecolor": "white",
            "ticks": ""
           }
          },
          "title": {
           "x": 0.05
          },
          "xaxis": {
           "automargin": true,
           "gridcolor": "white",
           "linecolor": "white",
           "ticks": "",
           "title": {
            "standoff": 15
           },
           "zerolinecolor": "white",
           "zerolinewidth": 2
          },
          "yaxis": {
           "automargin": true,
           "gridcolor": "white",
           "linecolor": "white",
           "ticks": "",
           "title": {
            "standoff": 15
           },
           "zerolinecolor": "white",
           "zerolinewidth": 2
          }
         }
        },
        "title": {
         "text": "Number of orders in Cuisine x Category"
        },
        "xaxis": {
         "anchor": "y",
         "domain": [
          0,
          1
         ],
         "title": {
          "text": "cuisine"
         }
        },
        "yaxis": {
         "anchor": "x",
         "domain": [
          0,
          1
         ],
         "title": {
          "text": "category"
         }
        }
       }
      },
      "text/html": [
       "<div>                            <div id=\"321dd0f7-0b6b-4ee8-8da8-84d5335aaca8\" class=\"plotly-graph-div\" style=\"height:525px; width:100%;\"></div>            <script type=\"text/javascript\">                require([\"plotly\"], function(Plotly) {                    window.PLOTLYENV=window.PLOTLYENV || {};                                    if (document.getElementById(\"321dd0f7-0b6b-4ee8-8da8-84d5335aaca8\")) {                    Plotly.newPlot(                        \"321dd0f7-0b6b-4ee8-8da8-84d5335aaca8\",                        [{\"coloraxis\":\"coloraxis\",\"histfunc\":\"sum\",\"hovertemplate\":\"cuisine=%{x}<br>category=%{y}<br>sum of num_orders=%{z}<extra></extra>\",\"name\":\"\",\"type\":\"histogram2d\",\"x\":[\"Continental\",\"Continental\",\"Continental\",\"Continental\",\"Indian\",\"Indian\",\"Indian\",\"Indian\",\"Italian\",\"Italian\",\"Italian\",\"Italian\",\"Thai\",\"Thai\",\"Thai\",\"Thai\",\"Thai\"],\"xaxis\":\"x\",\"xbingroup\":\"x\",\"y\":[\"Beverages\",\"Fish\",\"Pizza\",\"Seafood\",\"Beverages\",\"Biryani\",\"Desert\",\"Rice Bowl\",\"Beverages\",\"Pasta\",\"Salad\",\"Sandwich\",\"Beverages\",\"Extras\",\"Other Snacks\",\"Soup\",\"Starters\"],\"yaxis\":\"y\",\"ybingroup\":\"y\",\"z\":[5943046,871959,7383720,2715714,2345879,631848,1940754,20874063,13953970,1637744,10944336,17636782,18237630,3984979,4766293,1039646,4649122]}],                        {\"coloraxis\":{\"colorbar\":{\"title\":{\"text\":\"sum of num_orders\"}},\"colorscale\":[[0.0,\"#000004\"],[0.1111111111111111,\"#1b0c41\"],[0.2222222222222222,\"#4a0c6b\"],[0.3333333333333333,\"#781c6d\"],[0.4444444444444444,\"#a52c60\"],[0.5555555555555556,\"#cf4446\"],[0.6666666666666666,\"#ed6925\"],[0.7777777777777778,\"#fb9b06\"],[0.8888888888888888,\"#f7d13d\"],[1.0,\"#fcffa4\"]]},\"legend\":{\"tracegroupgap\":0},\"template\":{\"data\":{\"bar\":[{\"error_x\":{\"color\":\"#2a3f5f\"},\"error_y\":{\"color\":\"#2a3f5f\"},\"marker\":{\"line\":{\"color\":\"#E5ECF6\",\"width\":0.5},\"pattern\":{\"fillmode\":\"overlay\",\"size\":10,\"solidity\":0.2}},\"type\":\"bar\"}],\"barpolar\":[{\"marker\":{\"line\":{\"color\":\"#E5ECF6\",\"width\":0.5},\"pattern\":{\"fillmode\":\"overlay\",\"size\":10,\"solidity\":0.2}},\"type\":\"barpolar\"}],\"carpet\":[{\"aaxis\":{\"endlinecolor\":\"#2a3f5f\",\"gridcolor\":\"white\",\"linecolor\":\"white\",\"minorgridcolor\":\"white\",\"startlinecolor\":\"#2a3f5f\"},\"baxis\":{\"endlinecolor\":\"#2a3f5f\",\"gridcolor\":\"white\",\"linecolor\":\"white\",\"minorgridcolor\":\"white\",\"startlinecolor\":\"#2a3f5f\"},\"type\":\"carpet\"}],\"choropleth\":[{\"colorbar\":{\"outlinewidth\":0,\"ticks\":\"\"},\"type\":\"choropleth\"}],\"contour\":[{\"colorbar\":{\"outlinewidth\":0,\"ticks\":\"\"},\"colorscale\":[[0.0,\"#0d0887\"],[0.1111111111111111,\"#46039f\"],[0.2222222222222222,\"#7201a8\"],[0.3333333333333333,\"#9c179e\"],[0.4444444444444444,\"#bd3786\"],[0.5555555555555556,\"#d8576b\"],[0.6666666666666666,\"#ed7953\"],[0.7777777777777778,\"#fb9f3a\"],[0.8888888888888888,\"#fdca26\"],[1.0,\"#f0f921\"]],\"type\":\"contour\"}],\"contourcarpet\":[{\"colorbar\":{\"outlinewidth\":0,\"ticks\":\"\"},\"type\":\"contourcarpet\"}],\"heatmap\":[{\"colorbar\":{\"outlinewidth\":0,\"ticks\":\"\"},\"colorscale\":[[0.0,\"#0d0887\"],[0.1111111111111111,\"#46039f\"],[0.2222222222222222,\"#7201a8\"],[0.3333333333333333,\"#9c179e\"],[0.4444444444444444,\"#bd3786\"],[0.5555555555555556,\"#d8576b\"],[0.6666666666666666,\"#ed7953\"],[0.7777777777777778,\"#fb9f3a\"],[0.8888888888888888,\"#fdca26\"],[1.0,\"#f0f921\"]],\"type\":\"heatmap\"}],\"heatmapgl\":[{\"colorbar\":{\"outlinewidth\":0,\"ticks\":\"\"},\"colorscale\":[[0.0,\"#0d0887\"],[0.1111111111111111,\"#46039f\"],[0.2222222222222222,\"#7201a8\"],[0.3333333333333333,\"#9c179e\"],[0.4444444444444444,\"#bd3786\"],[0.5555555555555556,\"#d8576b\"],[0.6666666666666666,\"#ed7953\"],[0.7777777777777778,\"#fb9f3a\"],[0.8888888888888888,\"#fdca26\"],[1.0,\"#f0f921\"]],\"type\":\"heatmapgl\"}],\"histogram\":[{\"marker\":{\"pattern\":{\"fillmode\":\"overlay\",\"size\":10,\"solidity\":0.2}},\"type\":\"histogram\"}],\"histogram2d\":[{\"colorbar\":{\"outlinewidth\":0,\"ticks\":\"\"},\"colorscale\":[[0.0,\"#0d0887\"],[0.1111111111111111,\"#46039f\"],[0.2222222222222222,\"#7201a8\"],[0.3333333333333333,\"#9c179e\"],[0.4444444444444444,\"#bd3786\"],[0.5555555555555556,\"#d8576b\"],[0.6666666666666666,\"#ed7953\"],[0.7777777777777778,\"#fb9f3a\"],[0.8888888888888888,\"#fdca26\"],[1.0,\"#f0f921\"]],\"type\":\"histogram2d\"}],\"histogram2dcontour\":[{\"colorbar\":{\"outlinewidth\":0,\"ticks\":\"\"},\"colorscale\":[[0.0,\"#0d0887\"],[0.1111111111111111,\"#46039f\"],[0.2222222222222222,\"#7201a8\"],[0.3333333333333333,\"#9c179e\"],[0.4444444444444444,\"#bd3786\"],[0.5555555555555556,\"#d8576b\"],[0.6666666666666666,\"#ed7953\"],[0.7777777777777778,\"#fb9f3a\"],[0.8888888888888888,\"#fdca26\"],[1.0,\"#f0f921\"]],\"type\":\"histogram2dcontour\"}],\"mesh3d\":[{\"colorbar\":{\"outlinewidth\":0,\"ticks\":\"\"},\"type\":\"mesh3d\"}],\"parcoords\":[{\"line\":{\"colorbar\":{\"outlinewidth\":0,\"ticks\":\"\"}},\"type\":\"parcoords\"}],\"pie\":[{\"automargin\":true,\"type\":\"pie\"}],\"scatter\":[{\"marker\":{\"colorbar\":{\"outlinewidth\":0,\"ticks\":\"\"}},\"type\":\"scatter\"}],\"scatter3d\":[{\"line\":{\"colorbar\":{\"outlinewidth\":0,\"ticks\":\"\"}},\"marker\":{\"colorbar\":{\"outlinewidth\":0,\"ticks\":\"\"}},\"type\":\"scatter3d\"}],\"scattercarpet\":[{\"marker\":{\"colorbar\":{\"outlinewidth\":0,\"ticks\":\"\"}},\"type\":\"scattercarpet\"}],\"scattergeo\":[{\"marker\":{\"colorbar\":{\"outlinewidth\":0,\"ticks\":\"\"}},\"type\":\"scattergeo\"}],\"scattergl\":[{\"marker\":{\"colorbar\":{\"outlinewidth\":0,\"ticks\":\"\"}},\"type\":\"scattergl\"}],\"scattermapbox\":[{\"marker\":{\"colorbar\":{\"outlinewidth\":0,\"ticks\":\"\"}},\"type\":\"scattermapbox\"}],\"scatterpolar\":[{\"marker\":{\"colorbar\":{\"outlinewidth\":0,\"ticks\":\"\"}},\"type\":\"scatterpolar\"}],\"scatterpolargl\":[{\"marker\":{\"colorbar\":{\"outlinewidth\":0,\"ticks\":\"\"}},\"type\":\"scatterpolargl\"}],\"scatterternary\":[{\"marker\":{\"colorbar\":{\"outlinewidth\":0,\"ticks\":\"\"}},\"type\":\"scatterternary\"}],\"surface\":[{\"colorbar\":{\"outlinewidth\":0,\"ticks\":\"\"},\"colorscale\":[[0.0,\"#0d0887\"],[0.1111111111111111,\"#46039f\"],[0.2222222222222222,\"#7201a8\"],[0.3333333333333333,\"#9c179e\"],[0.4444444444444444,\"#bd3786\"],[0.5555555555555556,\"#d8576b\"],[0.6666666666666666,\"#ed7953\"],[0.7777777777777778,\"#fb9f3a\"],[0.8888888888888888,\"#fdca26\"],[1.0,\"#f0f921\"]],\"type\":\"surface\"}],\"table\":[{\"cells\":{\"fill\":{\"color\":\"#EBF0F8\"},\"line\":{\"color\":\"white\"}},\"header\":{\"fill\":{\"color\":\"#C8D4E3\"},\"line\":{\"color\":\"white\"}},\"type\":\"table\"}]},\"layout\":{\"annotationdefaults\":{\"arrowcolor\":\"#2a3f5f\",\"arrowhead\":0,\"arrowwidth\":1},\"autotypenumbers\":\"strict\",\"coloraxis\":{\"colorbar\":{\"outlinewidth\":0,\"ticks\":\"\"}},\"colorscale\":{\"diverging\":[[0,\"#8e0152\"],[0.1,\"#c51b7d\"],[0.2,\"#de77ae\"],[0.3,\"#f1b6da\"],[0.4,\"#fde0ef\"],[0.5,\"#f7f7f7\"],[0.6,\"#e6f5d0\"],[0.7,\"#b8e186\"],[0.8,\"#7fbc41\"],[0.9,\"#4d9221\"],[1,\"#276419\"]],\"sequential\":[[0.0,\"#0d0887\"],[0.1111111111111111,\"#46039f\"],[0.2222222222222222,\"#7201a8\"],[0.3333333333333333,\"#9c179e\"],[0.4444444444444444,\"#bd3786\"],[0.5555555555555556,\"#d8576b\"],[0.6666666666666666,\"#ed7953\"],[0.7777777777777778,\"#fb9f3a\"],[0.8888888888888888,\"#fdca26\"],[1.0,\"#f0f921\"]],\"sequentialminus\":[[0.0,\"#0d0887\"],[0.1111111111111111,\"#46039f\"],[0.2222222222222222,\"#7201a8\"],[0.3333333333333333,\"#9c179e\"],[0.4444444444444444,\"#bd3786\"],[0.5555555555555556,\"#d8576b\"],[0.6666666666666666,\"#ed7953\"],[0.7777777777777778,\"#fb9f3a\"],[0.8888888888888888,\"#fdca26\"],[1.0,\"#f0f921\"]]},\"colorway\":[\"#636efa\",\"#EF553B\",\"#00cc96\",\"#ab63fa\",\"#FFA15A\",\"#19d3f3\",\"#FF6692\",\"#B6E880\",\"#FF97FF\",\"#FECB52\"],\"font\":{\"color\":\"#2a3f5f\"},\"geo\":{\"bgcolor\":\"white\",\"lakecolor\":\"white\",\"landcolor\":\"#E5ECF6\",\"showlakes\":true,\"showland\":true,\"subunitcolor\":\"white\"},\"hoverlabel\":{\"align\":\"left\"},\"hovermode\":\"closest\",\"mapbox\":{\"style\":\"light\"},\"paper_bgcolor\":\"white\",\"plot_bgcolor\":\"#E5ECF6\",\"polar\":{\"angularaxis\":{\"gridcolor\":\"white\",\"linecolor\":\"white\",\"ticks\":\"\"},\"bgcolor\":\"#E5ECF6\",\"radialaxis\":{\"gridcolor\":\"white\",\"linecolor\":\"white\",\"ticks\":\"\"}},\"scene\":{\"xaxis\":{\"backgroundcolor\":\"#E5ECF6\",\"gridcolor\":\"white\",\"gridwidth\":2,\"linecolor\":\"white\",\"showbackground\":true,\"ticks\":\"\",\"zerolinecolor\":\"white\"},\"yaxis\":{\"backgroundcolor\":\"#E5ECF6\",\"gridcolor\":\"white\",\"gridwidth\":2,\"linecolor\":\"white\",\"showbackground\":true,\"ticks\":\"\",\"zerolinecolor\":\"white\"},\"zaxis\":{\"backgroundcolor\":\"#E5ECF6\",\"gridcolor\":\"white\",\"gridwidth\":2,\"linecolor\":\"white\",\"showbackground\":true,\"ticks\":\"\",\"zerolinecolor\":\"white\"}},\"shapedefaults\":{\"line\":{\"color\":\"#2a3f5f\"}},\"ternary\":{\"aaxis\":{\"gridcolor\":\"white\",\"linecolor\":\"white\",\"ticks\":\"\"},\"baxis\":{\"gridcolor\":\"white\",\"linecolor\":\"white\",\"ticks\":\"\"},\"bgcolor\":\"#E5ECF6\",\"caxis\":{\"gridcolor\":\"white\",\"linecolor\":\"white\",\"ticks\":\"\"}},\"title\":{\"x\":0.05},\"xaxis\":{\"automargin\":true,\"gridcolor\":\"white\",\"linecolor\":\"white\",\"ticks\":\"\",\"title\":{\"standoff\":15},\"zerolinecolor\":\"white\",\"zerolinewidth\":2},\"yaxis\":{\"automargin\":true,\"gridcolor\":\"white\",\"linecolor\":\"white\",\"ticks\":\"\",\"title\":{\"standoff\":15},\"zerolinecolor\":\"white\",\"zerolinewidth\":2}}},\"title\":{\"text\":\"Number of orders in Cuisine x Category\"},\"xaxis\":{\"anchor\":\"y\",\"domain\":[0.0,1.0],\"title\":{\"text\":\"cuisine\"}},\"yaxis\":{\"anchor\":\"x\",\"domain\":[0.0,1.0],\"title\":{\"text\":\"category\"}}},                        {\"responsive\": true}                    ).then(function(){\n",
       "                            \n",
       "var gd = document.getElementById('321dd0f7-0b6b-4ee8-8da8-84d5335aaca8');\n",
       "var x = new MutationObserver(function (mutations, observer) {{\n",
       "        var display = window.getComputedStyle(gd).display;\n",
       "        if (!display || display === 'none') {{\n",
       "            console.log([gd, 'removed!']);\n",
       "            Plotly.purge(gd);\n",
       "            observer.disconnect();\n",
       "        }}\n",
       "}});\n",
       "\n",
       "// Listen for the removal of the full notebook cells\n",
       "var notebookContainer = gd.closest('#notebook-container');\n",
       "if (notebookContainer) {{\n",
       "    x.observe(notebookContainer, {childList: true});\n",
       "}}\n",
       "\n",
       "// Listen for the clearing of the current output cell\n",
       "var outputEl = gd.closest('.output');\n",
       "if (outputEl) {{\n",
       "    x.observe(outputEl, {childList: true});\n",
       "}}\n",
       "\n",
       "                        })                };                });            </script>        </div>"
      ]
     },
     "metadata": {}
    }
   ],
   "metadata": {}
  },
  {
   "cell_type": "code",
   "execution_count": 11,
   "source": [
    "#Four types of beverages are sold, hence the high number of orders.\r\n",
    "#All other categories are sold under a single cuisine."
   ],
   "outputs": [],
   "metadata": {}
  },
  {
   "cell_type": "code",
   "execution_count": 12,
   "source": [
    "#density heatmap shows category vs week vs num_orders.\r\n",
    "#describes the sale of each category over the weeks.\r\n",
    "grouped_df=df.groupby(['week','category'],as_index=False) #group num_orders by week\r\n",
    "cuisine_category_orders=grouped_df['num_orders'].sum()\r\n",
    "fig=px.density_heatmap(cuisine_category_orders,y='category',x='week',z='num_orders',title='Number of orders per week per cuisine',color_continuous_scale='Inferno')\r\n",
    "fig.show()"
   ],
   "outputs": [
    {
     "output_type": "display_data",
     "data": {
      "application/vnd.plotly.v1+json": {
       "config": {
        "plotlyServerURL": "https://plot.ly"
       },
       "data": [
        {
         "coloraxis": "coloraxis",
         "histfunc": "sum",
         "hovertemplate": "week=%{x}<br>category=%{y}<br>sum of num_orders=%{z}<extra></extra>",
         "name": "",
         "type": "histogram2d",
         "x": [
          1,
          1,
          1,
          1,
          1,
          1,
          1,
          1,
          1,
          1,
          1,
          1,
          2,
          2,
          2,
          2,
          2,
          2,
          2,
          2,
          2,
          2,
          2,
          2,
          3,
          3,
          3,
          3,
          3,
          3,
          3,
          3,
          3,
          3,
          3,
          3,
          4,
          4,
          4,
          4,
          4,
          4,
          4,
          4,
          4,
          4,
          4,
          4,
          5,
          5,
          5,
          5,
          5,
          5,
          5,
          5,
          5,
          5,
          5,
          5,
          6,
          6,
          6,
          6,
          6,
          6,
          6,
          6,
          6,
          6,
          6,
          6,
          7,
          7,
          7,
          7,
          7,
          7,
          7,
          7,
          7,
          7,
          7,
          7,
          8,
          8,
          8,
          8,
          8,
          8,
          8,
          8,
          8,
          8,
          8,
          8,
          9,
          9,
          9,
          9,
          9,
          9,
          9,
          9,
          9,
          9,
          9,
          9,
          10,
          10,
          10,
          10,
          10,
          10,
          10,
          10,
          10,
          10,
          10,
          10,
          10,
          11,
          11,
          11,
          11,
          11,
          11,
          11,
          11,
          11,
          11,
          11,
          11,
          12,
          12,
          12,
          12,
          12,
          12,
          12,
          12,
          12,
          12,
          12,
          12,
          13,
          13,
          13,
          13,
          13,
          13,
          13,
          13,
          13,
          13,
          13,
          13,
          14,
          14,
          14,
          14,
          14,
          14,
          14,
          14,
          14,
          14,
          14,
          14,
          14,
          15,
          15,
          15,
          15,
          15,
          15,
          15,
          15,
          15,
          15,
          15,
          15,
          15,
          16,
          16,
          16,
          16,
          16,
          16,
          16,
          16,
          16,
          16,
          16,
          16,
          16,
          17,
          17,
          17,
          17,
          17,
          17,
          17,
          17,
          17,
          17,
          17,
          17,
          17,
          18,
          18,
          18,
          18,
          18,
          18,
          18,
          18,
          18,
          18,
          18,
          18,
          18,
          19,
          19,
          19,
          19,
          19,
          19,
          19,
          19,
          19,
          19,
          19,
          19,
          19,
          20,
          20,
          20,
          20,
          20,
          20,
          20,
          20,
          20,
          20,
          20,
          20,
          20,
          21,
          21,
          21,
          21,
          21,
          21,
          21,
          21,
          21,
          21,
          21,
          21,
          21,
          22,
          22,
          22,
          22,
          22,
          22,
          22,
          22,
          22,
          22,
          22,
          22,
          22,
          23,
          23,
          23,
          23,
          23,
          23,
          23,
          23,
          23,
          23,
          23,
          23,
          23,
          24,
          24,
          24,
          24,
          24,
          24,
          24,
          24,
          24,
          24,
          24,
          24,
          24,
          25,
          25,
          25,
          25,
          25,
          25,
          25,
          25,
          25,
          25,
          25,
          25,
          25,
          26,
          26,
          26,
          26,
          26,
          26,
          26,
          26,
          26,
          26,
          26,
          26,
          26,
          27,
          27,
          27,
          27,
          27,
          27,
          27,
          27,
          27,
          27,
          27,
          27,
          27,
          28,
          28,
          28,
          28,
          28,
          28,
          28,
          28,
          28,
          28,
          28,
          28,
          28,
          29,
          29,
          29,
          29,
          29,
          29,
          29,
          29,
          29,
          29,
          29,
          29,
          29,
          30,
          30,
          30,
          30,
          30,
          30,
          30,
          30,
          30,
          30,
          30,
          30,
          30,
          31,
          31,
          31,
          31,
          31,
          31,
          31,
          31,
          31,
          31,
          31,
          31,
          31,
          32,
          32,
          32,
          32,
          32,
          32,
          32,
          32,
          32,
          32,
          32,
          32,
          32,
          33,
          33,
          33,
          33,
          33,
          33,
          33,
          33,
          33,
          33,
          33,
          33,
          33,
          34,
          34,
          34,
          34,
          34,
          34,
          34,
          34,
          34,
          34,
          34,
          34,
          34,
          35,
          35,
          35,
          35,
          35,
          35,
          35,
          35,
          35,
          35,
          35,
          35,
          35,
          36,
          36,
          36,
          36,
          36,
          36,
          36,
          36,
          36,
          36,
          36,
          36,
          36,
          37,
          37,
          37,
          37,
          37,
          37,
          37,
          37,
          37,
          37,
          37,
          37,
          37,
          38,
          38,
          38,
          38,
          38,
          38,
          38,
          38,
          38,
          38,
          38,
          38,
          38,
          39,
          39,
          39,
          39,
          39,
          39,
          39,
          39,
          39,
          39,
          39,
          39,
          39,
          40,
          40,
          40,
          40,
          40,
          40,
          40,
          40,
          40,
          40,
          40,
          40,
          40,
          41,
          41,
          41,
          41,
          41,
          41,
          41,
          41,
          41,
          41,
          41,
          41,
          41,
          42,
          42,
          42,
          42,
          42,
          42,
          42,
          42,
          42,
          42,
          42,
          42,
          42,
          43,
          43,
          43,
          43,
          43,
          43,
          43,
          43,
          43,
          43,
          43,
          43,
          43,
          44,
          44,
          44,
          44,
          44,
          44,
          44,
          44,
          44,
          44,
          44,
          44,
          44,
          45,
          45,
          45,
          45,
          45,
          45,
          45,
          45,
          45,
          45,
          45,
          45,
          45,
          46,
          46,
          46,
          46,
          46,
          46,
          46,
          46,
          46,
          46,
          46,
          46,
          46,
          47,
          47,
          47,
          47,
          47,
          47,
          47,
          47,
          47,
          47,
          47,
          47,
          47,
          48,
          48,
          48,
          48,
          48,
          48,
          48,
          48,
          48,
          48,
          48,
          48,
          48,
          49,
          49,
          49,
          49,
          49,
          49,
          49,
          49,
          49,
          49,
          49,
          49,
          49,
          50,
          50,
          50,
          50,
          50,
          50,
          50,
          50,
          50,
          50,
          50,
          50,
          50,
          51,
          51,
          51,
          51,
          51,
          51,
          51,
          51,
          51,
          51,
          51,
          51,
          51,
          52,
          52,
          52,
          52,
          52,
          52,
          52,
          52,
          52,
          52,
          52,
          52,
          52,
          53,
          53,
          53,
          53,
          53,
          53,
          53,
          53,
          53,
          53,
          53,
          53,
          53,
          54,
          54,
          54,
          54,
          54,
          54,
          54,
          54,
          54,
          54,
          54,
          54,
          54,
          55,
          55,
          55,
          55,
          55,
          55,
          55,
          55,
          55,
          55,
          55,
          55,
          55,
          56,
          56,
          56,
          56,
          56,
          56,
          56,
          56,
          56,
          56,
          56,
          56,
          56,
          57,
          57,
          57,
          57,
          57,
          57,
          57,
          57,
          57,
          57,
          57,
          57,
          57,
          58,
          58,
          58,
          58,
          58,
          58,
          58,
          58,
          58,
          58,
          58,
          58,
          58,
          59,
          59,
          59,
          59,
          59,
          59,
          59,
          59,
          59,
          59,
          59,
          59,
          59,
          59,
          60,
          60,
          60,
          60,
          60,
          60,
          60,
          60,
          60,
          60,
          60,
          60,
          60,
          60,
          61,
          61,
          61,
          61,
          61,
          61,
          61,
          61,
          61,
          61,
          61,
          61,
          61,
          61,
          62,
          62,
          62,
          62,
          62,
          62,
          62,
          62,
          62,
          62,
          62,
          62,
          62,
          62,
          63,
          63,
          63,
          63,
          63,
          63,
          63,
          63,
          63,
          63,
          63,
          63,
          63,
          63,
          64,
          64,
          64,
          64,
          64,
          64,
          64,
          64,
          64,
          64,
          64,
          64,
          64,
          64,
          65,
          65,
          65,
          65,
          65,
          65,
          65,
          65,
          65,
          65,
          65,
          65,
          65,
          65,
          66,
          66,
          66,
          66,
          66,
          66,
          66,
          66,
          66,
          66,
          66,
          66,
          66,
          66,
          67,
          67,
          67,
          67,
          67,
          67,
          67,
          67,
          67,
          67,
          67,
          67,
          67,
          67,
          68,
          68,
          68,
          68,
          68,
          68,
          68,
          68,
          68,
          68,
          68,
          68,
          68,
          68,
          69,
          69,
          69,
          69,
          69,
          69,
          69,
          69,
          69,
          69,
          69,
          69,
          69,
          69,
          70,
          70,
          70,
          70,
          70,
          70,
          70,
          70,
          70,
          70,
          70,
          70,
          70,
          70,
          71,
          71,
          71,
          71,
          71,
          71,
          71,
          71,
          71,
          71,
          71,
          71,
          71,
          71,
          72,
          72,
          72,
          72,
          72,
          72,
          72,
          72,
          72,
          72,
          72,
          72,
          72,
          72,
          73,
          73,
          73,
          73,
          73,
          73,
          73,
          73,
          73,
          73,
          73,
          73,
          73,
          73,
          74,
          74,
          74,
          74,
          74,
          74,
          74,
          74,
          74,
          74,
          74,
          74,
          74,
          74,
          75,
          75,
          75,
          75,
          75,
          75,
          75,
          75,
          75,
          75,
          75,
          75,
          75,
          75,
          76,
          76,
          76,
          76,
          76,
          76,
          76,
          76,
          76,
          76,
          76,
          76,
          76,
          76,
          77,
          77,
          77,
          77,
          77,
          77,
          77,
          77,
          77,
          77,
          77,
          77,
          77,
          77,
          78,
          78,
          78,
          78,
          78,
          78,
          78,
          78,
          78,
          78,
          78,
          78,
          78,
          78,
          79,
          79,
          79,
          79,
          79,
          79,
          79,
          79,
          79,
          79,
          79,
          79,
          79,
          79,
          80,
          80,
          80,
          80,
          80,
          80,
          80,
          80,
          80,
          80,
          80,
          80,
          80,
          80,
          81,
          81,
          81,
          81,
          81,
          81,
          81,
          81,
          81,
          81,
          81,
          81,
          81,
          81,
          82,
          82,
          82,
          82,
          82,
          82,
          82,
          82,
          82,
          82,
          82,
          82,
          82,
          82,
          83,
          83,
          83,
          83,
          83,
          83,
          83,
          83,
          83,
          83,
          83,
          83,
          83,
          83,
          84,
          84,
          84,
          84,
          84,
          84,
          84,
          84,
          84,
          84,
          84,
          84,
          84,
          84,
          85,
          85,
          85,
          85,
          85,
          85,
          85,
          85,
          85,
          85,
          85,
          85,
          85,
          85,
          86,
          86,
          86,
          86,
          86,
          86,
          86,
          86,
          86,
          86,
          86,
          86,
          86,
          86,
          87,
          87,
          87,
          87,
          87,
          87,
          87,
          87,
          87,
          87,
          87,
          87,
          87,
          87,
          88,
          88,
          88,
          88,
          88,
          88,
          88,
          88,
          88,
          88,
          88,
          88,
          88,
          88,
          89,
          89,
          89,
          89,
          89,
          89,
          89,
          89,
          89,
          89,
          89,
          89,
          89,
          89,
          90,
          90,
          90,
          90,
          90,
          90,
          90,
          90,
          90,
          90,
          90,
          90,
          90,
          90,
          91,
          91,
          91,
          91,
          91,
          91,
          91,
          91,
          91,
          91,
          91,
          91,
          91,
          91,
          92,
          92,
          92,
          92,
          92,
          92,
          92,
          92,
          92,
          92,
          92,
          92,
          92,
          92,
          93,
          93,
          93,
          93,
          93,
          93,
          93,
          93,
          93,
          93,
          93,
          93,
          93,
          93,
          94,
          94,
          94,
          94,
          94,
          94,
          94,
          94,
          94,
          94,
          94,
          94,
          94,
          94,
          95,
          95,
          95,
          95,
          95,
          95,
          95,
          95,
          95,
          95,
          95,
          95,
          95,
          95,
          96,
          96,
          96,
          96,
          96,
          96,
          96,
          96,
          96,
          96,
          96,
          96,
          96,
          96,
          97,
          97,
          97,
          97,
          97,
          97,
          97,
          97,
          97,
          97,
          97,
          97,
          97,
          97,
          98,
          98,
          98,
          98,
          98,
          98,
          98,
          98,
          98,
          98,
          98,
          98,
          98,
          98,
          99,
          99,
          99,
          99,
          99,
          99,
          99,
          99,
          99,
          99,
          99,
          99,
          99,
          99,
          100,
          100,
          100,
          100,
          100,
          100,
          100,
          100,
          100,
          100,
          100,
          100,
          100,
          100,
          101,
          101,
          101,
          101,
          101,
          101,
          101,
          101,
          101,
          101,
          101,
          101,
          101,
          101,
          102,
          102,
          102,
          102,
          102,
          102,
          102,
          102,
          102,
          102,
          102,
          102,
          102,
          102,
          103,
          103,
          103,
          103,
          103,
          103,
          103,
          103,
          103,
          103,
          103,
          103,
          103,
          103,
          104,
          104,
          104,
          104,
          104,
          104,
          104,
          104,
          104,
          104,
          104,
          104,
          104,
          104,
          105,
          105,
          105,
          105,
          105,
          105,
          105,
          105,
          105,
          105,
          105,
          105,
          105,
          105,
          106,
          106,
          106,
          106,
          106,
          106,
          106,
          106,
          106,
          106,
          106,
          106,
          106,
          106,
          107,
          107,
          107,
          107,
          107,
          107,
          107,
          107,
          107,
          107,
          107,
          107,
          107,
          107,
          108,
          108,
          108,
          108,
          108,
          108,
          108,
          108,
          108,
          108,
          108,
          108,
          108,
          108,
          109,
          109,
          109,
          109,
          109,
          109,
          109,
          109,
          109,
          109,
          109,
          109,
          109,
          109,
          110,
          110,
          110,
          110,
          110,
          110,
          110,
          110,
          110,
          110,
          110,
          110,
          110,
          110,
          111,
          111,
          111,
          111,
          111,
          111,
          111,
          111,
          111,
          111,
          111,
          111,
          111,
          111,
          112,
          112,
          112,
          112,
          112,
          112,
          112,
          112,
          112,
          112,
          112,
          112,
          112,
          112,
          113,
          113,
          113,
          113,
          113,
          113,
          113,
          113,
          113,
          113,
          113,
          113,
          113,
          113,
          114,
          114,
          114,
          114,
          114,
          114,
          114,
          114,
          114,
          114,
          114,
          114,
          114,
          114,
          115,
          115,
          115,
          115,
          115,
          115,
          115,
          115,
          115,
          115,
          115,
          115,
          115,
          115,
          116,
          116,
          116,
          116,
          116,
          116,
          116,
          116,
          116,
          116,
          116,
          116,
          116,
          116,
          117,
          117,
          117,
          117,
          117,
          117,
          117,
          117,
          117,
          117,
          117,
          117,
          117,
          117,
          118,
          118,
          118,
          118,
          118,
          118,
          118,
          118,
          118,
          118,
          118,
          118,
          118,
          118,
          119,
          119,
          119,
          119,
          119,
          119,
          119,
          119,
          119,
          119,
          119,
          119,
          119,
          119,
          120,
          120,
          120,
          120,
          120,
          120,
          120,
          120,
          120,
          120,
          120,
          120,
          120,
          120,
          121,
          121,
          121,
          121,
          121,
          121,
          121,
          121,
          121,
          121,
          121,
          121,
          121,
          121,
          122,
          122,
          122,
          122,
          122,
          122,
          122,
          122,
          122,
          122,
          122,
          122,
          122,
          122,
          123,
          123,
          123,
          123,
          123,
          123,
          123,
          123,
          123,
          123,
          123,
          123,
          123,
          123,
          124,
          124,
          124,
          124,
          124,
          124,
          124,
          124,
          124,
          124,
          124,
          124,
          124,
          124,
          125,
          125,
          125,
          125,
          125,
          125,
          125,
          125,
          125,
          125,
          125,
          125,
          125,
          125,
          126,
          126,
          126,
          126,
          126,
          126,
          126,
          126,
          126,
          126,
          126,
          126,
          126,
          126,
          127,
          127,
          127,
          127,
          127,
          127,
          127,
          127,
          127,
          127,
          127,
          127,
          127,
          127,
          128,
          128,
          128,
          128,
          128,
          128,
          128,
          128,
          128,
          128,
          128,
          128,
          128,
          128,
          129,
          129,
          129,
          129,
          129,
          129,
          129,
          129,
          129,
          129,
          129,
          129,
          129,
          129,
          130,
          130,
          130,
          130,
          130,
          130,
          130,
          130,
          130,
          130,
          130,
          130,
          130,
          130,
          131,
          131,
          131,
          131,
          131,
          131,
          131,
          131,
          131,
          131,
          131,
          131,
          131,
          131,
          132,
          132,
          132,
          132,
          132,
          132,
          132,
          132,
          132,
          132,
          132,
          132,
          132,
          132,
          133,
          133,
          133,
          133,
          133,
          133,
          133,
          133,
          133,
          133,
          133,
          133,
          133,
          133,
          134,
          134,
          134,
          134,
          134,
          134,
          134,
          134,
          134,
          134,
          134,
          134,
          134,
          134,
          135,
          135,
          135,
          135,
          135,
          135,
          135,
          135,
          135,
          135,
          135,
          135,
          135,
          135,
          136,
          136,
          136,
          136,
          136,
          136,
          136,
          136,
          136,
          136,
          136,
          136,
          136,
          136,
          137,
          137,
          137,
          137,
          137,
          137,
          137,
          137,
          137,
          137,
          137,
          137,
          137,
          137,
          138,
          138,
          138,
          138,
          138,
          138,
          138,
          138,
          138,
          138,
          138,
          138,
          138,
          138,
          139,
          139,
          139,
          139,
          139,
          139,
          139,
          139,
          139,
          139,
          139,
          139,
          139,
          139,
          140,
          140,
          140,
          140,
          140,
          140,
          140,
          140,
          140,
          140,
          140,
          140,
          140,
          140,
          141,
          141,
          141,
          141,
          141,
          141,
          141,
          141,
          141,
          141,
          141,
          141,
          141,
          141,
          142,
          142,
          142,
          142,
          142,
          142,
          142,
          142,
          142,
          142,
          142,
          142,
          142,
          142,
          143,
          143,
          143,
          143,
          143,
          143,
          143,
          143,
          143,
          143,
          143,
          143,
          143,
          143,
          144,
          144,
          144,
          144,
          144,
          144,
          144,
          144,
          144,
          144,
          144,
          144,
          144,
          144,
          145,
          145,
          145,
          145,
          145,
          145,
          145,
          145,
          145,
          145,
          145,
          145,
          145,
          145
         ],
         "xaxis": "x",
         "xbingroup": "x",
         "y": [
          "Beverages",
          "Biryani",
          "Desert",
          "Extras",
          "Other Snacks",
          "Pasta",
          "Pizza",
          "Rice Bowl",
          "Sandwich",
          "Seafood",
          "Soup",
          "Starters",
          "Beverages",
          "Biryani",
          "Desert",
          "Extras",
          "Other Snacks",
          "Pasta",
          "Pizza",
          "Rice Bowl",
          "Sandwich",
          "Seafood",
          "Soup",
          "Starters",
          "Beverages",
          "Biryani",
          "Desert",
          "Extras",
          "Other Snacks",
          "Pasta",
          "Pizza",
          "Rice Bowl",
          "Sandwich",
          "Seafood",
          "Soup",
          "Starters",
          "Beverages",
          "Biryani",
          "Desert",
          "Extras",
          "Other Snacks",
          "Pasta",
          "Pizza",
          "Rice Bowl",
          "Sandwich",
          "Seafood",
          "Soup",
          "Starters",
          "Beverages",
          "Biryani",
          "Desert",
          "Extras",
          "Other Snacks",
          "Pasta",
          "Pizza",
          "Rice Bowl",
          "Sandwich",
          "Seafood",
          "Soup",
          "Starters",
          "Beverages",
          "Biryani",
          "Desert",
          "Extras",
          "Other Snacks",
          "Pasta",
          "Pizza",
          "Rice Bowl",
          "Sandwich",
          "Seafood",
          "Soup",
          "Starters",
          "Beverages",
          "Biryani",
          "Desert",
          "Extras",
          "Other Snacks",
          "Pasta",
          "Pizza",
          "Rice Bowl",
          "Sandwich",
          "Seafood",
          "Soup",
          "Starters",
          "Beverages",
          "Biryani",
          "Desert",
          "Extras",
          "Other Snacks",
          "Pasta",
          "Pizza",
          "Rice Bowl",
          "Sandwich",
          "Seafood",
          "Soup",
          "Starters",
          "Beverages",
          "Biryani",
          "Desert",
          "Extras",
          "Other Snacks",
          "Pasta",
          "Pizza",
          "Rice Bowl",
          "Sandwich",
          "Seafood",
          "Soup",
          "Starters",
          "Beverages",
          "Biryani",
          "Desert",
          "Extras",
          "Other Snacks",
          "Pasta",
          "Pizza",
          "Rice Bowl",
          "Salad",
          "Sandwich",
          "Seafood",
          "Soup",
          "Starters",
          "Beverages",
          "Biryani",
          "Desert",
          "Extras",
          "Other Snacks",
          "Pasta",
          "Pizza",
          "Rice Bowl",
          "Sandwich",
          "Seafood",
          "Soup",
          "Starters",
          "Beverages",
          "Biryani",
          "Desert",
          "Extras",
          "Other Snacks",
          "Pasta",
          "Pizza",
          "Rice Bowl",
          "Sandwich",
          "Seafood",
          "Soup",
          "Starters",
          "Beverages",
          "Biryani",
          "Desert",
          "Extras",
          "Other Snacks",
          "Pasta",
          "Pizza",
          "Rice Bowl",
          "Sandwich",
          "Seafood",
          "Soup",
          "Starters",
          "Beverages",
          "Biryani",
          "Desert",
          "Extras",
          "Other Snacks",
          "Pasta",
          "Pizza",
          "Rice Bowl",
          "Salad",
          "Sandwich",
          "Seafood",
          "Soup",
          "Starters",
          "Beverages",
          "Biryani",
          "Desert",
          "Extras",
          "Other Snacks",
          "Pasta",
          "Pizza",
          "Rice Bowl",
          "Salad",
          "Sandwich",
          "Seafood",
          "Soup",
          "Starters",
          "Beverages",
          "Biryani",
          "Desert",
          "Extras",
          "Other Snacks",
          "Pasta",
          "Pizza",
          "Rice Bowl",
          "Salad",
          "Sandwich",
          "Seafood",
          "Soup",
          "Starters",
          "Beverages",
          "Biryani",
          "Desert",
          "Extras",
          "Other Snacks",
          "Pasta",
          "Pizza",
          "Rice Bowl",
          "Salad",
          "Sandwich",
          "Seafood",
          "Soup",
          "Starters",
          "Beverages",
          "Biryani",
          "Desert",
          "Extras",
          "Other Snacks",
          "Pasta",
          "Pizza",
          "Rice Bowl",
          "Salad",
          "Sandwich",
          "Seafood",
          "Soup",
          "Starters",
          "Beverages",
          "Biryani",
          "Desert",
          "Extras",
          "Other Snacks",
          "Pasta",
          "Pizza",
          "Rice Bowl",
          "Salad",
          "Sandwich",
          "Seafood",
          "Soup",
          "Starters",
          "Beverages",
          "Biryani",
          "Desert",
          "Extras",
          "Other Snacks",
          "Pasta",
          "Pizza",
          "Rice Bowl",
          "Salad",
          "Sandwich",
          "Seafood",
          "Soup",
          "Starters",
          "Beverages",
          "Biryani",
          "Desert",
          "Extras",
          "Other Snacks",
          "Pasta",
          "Pizza",
          "Rice Bowl",
          "Salad",
          "Sandwich",
          "Seafood",
          "Soup",
          "Starters",
          "Beverages",
          "Biryani",
          "Desert",
          "Extras",
          "Other Snacks",
          "Pasta",
          "Pizza",
          "Rice Bowl",
          "Salad",
          "Sandwich",
          "Seafood",
          "Soup",
          "Starters",
          "Beverages",
          "Biryani",
          "Desert",
          "Extras",
          "Other Snacks",
          "Pasta",
          "Pizza",
          "Rice Bowl",
          "Salad",
          "Sandwich",
          "Seafood",
          "Soup",
          "Starters",
          "Beverages",
          "Biryani",
          "Desert",
          "Extras",
          "Other Snacks",
          "Pasta",
          "Pizza",
          "Rice Bowl",
          "Salad",
          "Sandwich",
          "Seafood",
          "Soup",
          "Starters",
          "Beverages",
          "Biryani",
          "Desert",
          "Extras",
          "Other Snacks",
          "Pasta",
          "Pizza",
          "Rice Bowl",
          "Salad",
          "Sandwich",
          "Seafood",
          "Soup",
          "Starters",
          "Beverages",
          "Biryani",
          "Desert",
          "Extras",
          "Other Snacks",
          "Pasta",
          "Pizza",
          "Rice Bowl",
          "Salad",
          "Sandwich",
          "Seafood",
          "Soup",
          "Starters",
          "Beverages",
          "Biryani",
          "Desert",
          "Extras",
          "Other Snacks",
          "Pasta",
          "Pizza",
          "Rice Bowl",
          "Salad",
          "Sandwich",
          "Seafood",
          "Soup",
          "Starters",
          "Beverages",
          "Biryani",
          "Desert",
          "Extras",
          "Other Snacks",
          "Pasta",
          "Pizza",
          "Rice Bowl",
          "Salad",
          "Sandwich",
          "Seafood",
          "Soup",
          "Starters",
          "Beverages",
          "Biryani",
          "Desert",
          "Extras",
          "Other Snacks",
          "Pasta",
          "Pizza",
          "Rice Bowl",
          "Salad",
          "Sandwich",
          "Seafood",
          "Soup",
          "Starters",
          "Beverages",
          "Biryani",
          "Desert",
          "Extras",
          "Other Snacks",
          "Pasta",
          "Pizza",
          "Rice Bowl",
          "Salad",
          "Sandwich",
          "Seafood",
          "Soup",
          "Starters",
          "Beverages",
          "Biryani",
          "Desert",
          "Extras",
          "Other Snacks",
          "Pasta",
          "Pizza",
          "Rice Bowl",
          "Salad",
          "Sandwich",
          "Seafood",
          "Soup",
          "Starters",
          "Beverages",
          "Biryani",
          "Desert",
          "Extras",
          "Other Snacks",
          "Pasta",
          "Pizza",
          "Rice Bowl",
          "Salad",
          "Sandwich",
          "Seafood",
          "Soup",
          "Starters",
          "Beverages",
          "Biryani",
          "Desert",
          "Extras",
          "Other Snacks",
          "Pasta",
          "Pizza",
          "Rice Bowl",
          "Salad",
          "Sandwich",
          "Seafood",
          "Soup",
          "Starters",
          "Beverages",
          "Biryani",
          "Desert",
          "Extras",
          "Other Snacks",
          "Pasta",
          "Pizza",
          "Rice Bowl",
          "Salad",
          "Sandwich",
          "Seafood",
          "Soup",
          "Starters",
          "Beverages",
          "Biryani",
          "Desert",
          "Extras",
          "Other Snacks",
          "Pasta",
          "Pizza",
          "Rice Bowl",
          "Salad",
          "Sandwich",
          "Seafood",
          "Soup",
          "Starters",
          "Beverages",
          "Biryani",
          "Desert",
          "Extras",
          "Other Snacks",
          "Pasta",
          "Pizza",
          "Rice Bowl",
          "Salad",
          "Sandwich",
          "Seafood",
          "Soup",
          "Starters",
          "Beverages",
          "Biryani",
          "Desert",
          "Extras",
          "Other Snacks",
          "Pasta",
          "Pizza",
          "Rice Bowl",
          "Salad",
          "Sandwich",
          "Seafood",
          "Soup",
          "Starters",
          "Beverages",
          "Biryani",
          "Desert",
          "Extras",
          "Other Snacks",
          "Pasta",
          "Pizza",
          "Rice Bowl",
          "Salad",
          "Sandwich",
          "Seafood",
          "Soup",
          "Starters",
          "Beverages",
          "Biryani",
          "Desert",
          "Extras",
          "Other Snacks",
          "Pasta",
          "Pizza",
          "Rice Bowl",
          "Salad",
          "Sandwich",
          "Seafood",
          "Soup",
          "Starters",
          "Beverages",
          "Biryani",
          "Desert",
          "Extras",
          "Other Snacks",
          "Pasta",
          "Pizza",
          "Rice Bowl",
          "Salad",
          "Sandwich",
          "Seafood",
          "Soup",
          "Starters",
          "Beverages",
          "Biryani",
          "Desert",
          "Extras",
          "Other Snacks",
          "Pasta",
          "Pizza",
          "Rice Bowl",
          "Salad",
          "Sandwich",
          "Seafood",
          "Soup",
          "Starters",
          "Beverages",
          "Biryani",
          "Desert",
          "Extras",
          "Other Snacks",
          "Pasta",
          "Pizza",
          "Rice Bowl",
          "Salad",
          "Sandwich",
          "Seafood",
          "Soup",
          "Starters",
          "Beverages",
          "Biryani",
          "Desert",
          "Extras",
          "Other Snacks",
          "Pasta",
          "Pizza",
          "Rice Bowl",
          "Salad",
          "Sandwich",
          "Seafood",
          "Soup",
          "Starters",
          "Beverages",
          "Biryani",
          "Desert",
          "Extras",
          "Other Snacks",
          "Pasta",
          "Pizza",
          "Rice Bowl",
          "Salad",
          "Sandwich",
          "Seafood",
          "Soup",
          "Starters",
          "Beverages",
          "Biryani",
          "Desert",
          "Extras",
          "Other Snacks",
          "Pasta",
          "Pizza",
          "Rice Bowl",
          "Salad",
          "Sandwich",
          "Seafood",
          "Soup",
          "Starters",
          "Beverages",
          "Biryani",
          "Desert",
          "Extras",
          "Other Snacks",
          "Pasta",
          "Pizza",
          "Rice Bowl",
          "Salad",
          "Sandwich",
          "Seafood",
          "Soup",
          "Starters",
          "Beverages",
          "Biryani",
          "Desert",
          "Extras",
          "Other Snacks",
          "Pasta",
          "Pizza",
          "Rice Bowl",
          "Salad",
          "Sandwich",
          "Seafood",
          "Soup",
          "Starters",
          "Beverages",
          "Biryani",
          "Desert",
          "Extras",
          "Other Snacks",
          "Pasta",
          "Pizza",
          "Rice Bowl",
          "Salad",
          "Sandwich",
          "Seafood",
          "Soup",
          "Starters",
          "Beverages",
          "Biryani",
          "Desert",
          "Extras",
          "Other Snacks",
          "Pasta",
          "Pizza",
          "Rice Bowl",
          "Salad",
          "Sandwich",
          "Seafood",
          "Soup",
          "Starters",
          "Beverages",
          "Biryani",
          "Desert",
          "Extras",
          "Other Snacks",
          "Pasta",
          "Pizza",
          "Rice Bowl",
          "Salad",
          "Sandwich",
          "Seafood",
          "Soup",
          "Starters",
          "Beverages",
          "Biryani",
          "Desert",
          "Extras",
          "Other Snacks",
          "Pasta",
          "Pizza",
          "Rice Bowl",
          "Salad",
          "Sandwich",
          "Seafood",
          "Soup",
          "Starters",
          "Beverages",
          "Biryani",
          "Desert",
          "Extras",
          "Other Snacks",
          "Pasta",
          "Pizza",
          "Rice Bowl",
          "Salad",
          "Sandwich",
          "Seafood",
          "Soup",
          "Starters",
          "Beverages",
          "Biryani",
          "Desert",
          "Extras",
          "Other Snacks",
          "Pasta",
          "Pizza",
          "Rice Bowl",
          "Salad",
          "Sandwich",
          "Seafood",
          "Soup",
          "Starters",
          "Beverages",
          "Biryani",
          "Desert",
          "Extras",
          "Other Snacks",
          "Pasta",
          "Pizza",
          "Rice Bowl",
          "Salad",
          "Sandwich",
          "Seafood",
          "Soup",
          "Starters",
          "Beverages",
          "Biryani",
          "Desert",
          "Extras",
          "Other Snacks",
          "Pasta",
          "Pizza",
          "Rice Bowl",
          "Salad",
          "Sandwich",
          "Seafood",
          "Soup",
          "Starters",
          "Beverages",
          "Biryani",
          "Desert",
          "Extras",
          "Other Snacks",
          "Pasta",
          "Pizza",
          "Rice Bowl",
          "Salad",
          "Sandwich",
          "Seafood",
          "Soup",
          "Starters",
          "Beverages",
          "Biryani",
          "Desert",
          "Extras",
          "Other Snacks",
          "Pasta",
          "Pizza",
          "Rice Bowl",
          "Salad",
          "Sandwich",
          "Seafood",
          "Soup",
          "Starters",
          "Beverages",
          "Biryani",
          "Desert",
          "Extras",
          "Other Snacks",
          "Pasta",
          "Pizza",
          "Rice Bowl",
          "Salad",
          "Sandwich",
          "Seafood",
          "Soup",
          "Starters",
          "Beverages",
          "Biryani",
          "Desert",
          "Extras",
          "Fish",
          "Other Snacks",
          "Pasta",
          "Pizza",
          "Rice Bowl",
          "Salad",
          "Sandwich",
          "Seafood",
          "Soup",
          "Starters",
          "Beverages",
          "Biryani",
          "Desert",
          "Extras",
          "Fish",
          "Other Snacks",
          "Pasta",
          "Pizza",
          "Rice Bowl",
          "Salad",
          "Sandwich",
          "Seafood",
          "Soup",
          "Starters",
          "Beverages",
          "Biryani",
          "Desert",
          "Extras",
          "Fish",
          "Other Snacks",
          "Pasta",
          "Pizza",
          "Rice Bowl",
          "Salad",
          "Sandwich",
          "Seafood",
          "Soup",
          "Starters",
          "Beverages",
          "Biryani",
          "Desert",
          "Extras",
          "Fish",
          "Other Snacks",
          "Pasta",
          "Pizza",
          "Rice Bowl",
          "Salad",
          "Sandwich",
          "Seafood",
          "Soup",
          "Starters",
          "Beverages",
          "Biryani",
          "Desert",
          "Extras",
          "Fish",
          "Other Snacks",
          "Pasta",
          "Pizza",
          "Rice Bowl",
          "Salad",
          "Sandwich",
          "Seafood",
          "Soup",
          "Starters",
          "Beverages",
          "Biryani",
          "Desert",
          "Extras",
          "Fish",
          "Other Snacks",
          "Pasta",
          "Pizza",
          "Rice Bowl",
          "Salad",
          "Sandwich",
          "Seafood",
          "Soup",
          "Starters",
          "Beverages",
          "Biryani",
          "Desert",
          "Extras",
          "Fish",
          "Other Snacks",
          "Pasta",
          "Pizza",
          "Rice Bowl",
          "Salad",
          "Sandwich",
          "Seafood",
          "Soup",
          "Starters",
          "Beverages",
          "Biryani",
          "Desert",
          "Extras",
          "Fish",
          "Other Snacks",
          "Pasta",
          "Pizza",
          "Rice Bowl",
          "Salad",
          "Sandwich",
          "Seafood",
          "Soup",
          "Starters",
          "Beverages",
          "Biryani",
          "Desert",
          "Extras",
          "Fish",
          "Other Snacks",
          "Pasta",
          "Pizza",
          "Rice Bowl",
          "Salad",
          "Sandwich",
          "Seafood",
          "Soup",
          "Starters",
          "Beverages",
          "Biryani",
          "Desert",
          "Extras",
          "Fish",
          "Other Snacks",
          "Pasta",
          "Pizza",
          "Rice Bowl",
          "Salad",
          "Sandwich",
          "Seafood",
          "Soup",
          "Starters",
          "Beverages",
          "Biryani",
          "Desert",
          "Extras",
          "Fish",
          "Other Snacks",
          "Pasta",
          "Pizza",
          "Rice Bowl",
          "Salad",
          "Sandwich",
          "Seafood",
          "Soup",
          "Starters",
          "Beverages",
          "Biryani",
          "Desert",
          "Extras",
          "Fish",
          "Other Snacks",
          "Pasta",
          "Pizza",
          "Rice Bowl",
          "Salad",
          "Sandwich",
          "Seafood",
          "Soup",
          "Starters",
          "Beverages",
          "Biryani",
          "Desert",
          "Extras",
          "Fish",
          "Other Snacks",
          "Pasta",
          "Pizza",
          "Rice Bowl",
          "Salad",
          "Sandwich",
          "Seafood",
          "Soup",
          "Starters",
          "Beverages",
          "Biryani",
          "Desert",
          "Extras",
          "Fish",
          "Other Snacks",
          "Pasta",
          "Pizza",
          "Rice Bowl",
          "Salad",
          "Sandwich",
          "Seafood",
          "Soup",
          "Starters",
          "Beverages",
          "Biryani",
          "Desert",
          "Extras",
          "Fish",
          "Other Snacks",
          "Pasta",
          "Pizza",
          "Rice Bowl",
          "Salad",
          "Sandwich",
          "Seafood",
          "Soup",
          "Starters",
          "Beverages",
          "Biryani",
          "Desert",
          "Extras",
          "Fish",
          "Other Snacks",
          "Pasta",
          "Pizza",
          "Rice Bowl",
          "Salad",
          "Sandwich",
          "Seafood",
          "Soup",
          "Starters",
          "Beverages",
          "Biryani",
          "Desert",
          "Extras",
          "Fish",
          "Other Snacks",
          "Pasta",
          "Pizza",
          "Rice Bowl",
          "Salad",
          "Sandwich",
          "Seafood",
          "Soup",
          "Starters",
          "Beverages",
          "Biryani",
          "Desert",
          "Extras",
          "Fish",
          "Other Snacks",
          "Pasta",
          "Pizza",
          "Rice Bowl",
          "Salad",
          "Sandwich",
          "Seafood",
          "Soup",
          "Starters",
          "Beverages",
          "Biryani",
          "Desert",
          "Extras",
          "Fish",
          "Other Snacks",
          "Pasta",
          "Pizza",
          "Rice Bowl",
          "Salad",
          "Sandwich",
          "Seafood",
          "Soup",
          "Starters",
          "Beverages",
          "Biryani",
          "Desert",
          "Extras",
          "Fish",
          "Other Snacks",
          "Pasta",
          "Pizza",
          "Rice Bowl",
          "Salad",
          "Sandwich",
          "Seafood",
          "Soup",
          "Starters",
          "Beverages",
          "Biryani",
          "Desert",
          "Extras",
          "Fish",
          "Other Snacks",
          "Pasta",
          "Pizza",
          "Rice Bowl",
          "Salad",
          "Sandwich",
          "Seafood",
          "Soup",
          "Starters",
          "Beverages",
          "Biryani",
          "Desert",
          "Extras",
          "Fish",
          "Other Snacks",
          "Pasta",
          "Pizza",
          "Rice Bowl",
          "Salad",
          "Sandwich",
          "Seafood",
          "Soup",
          "Starters",
          "Beverages",
          "Biryani",
          "Desert",
          "Extras",
          "Fish",
          "Other Snacks",
          "Pasta",
          "Pizza",
          "Rice Bowl",
          "Salad",
          "Sandwich",
          "Seafood",
          "Soup",
          "Starters",
          "Beverages",
          "Biryani",
          "Desert",
          "Extras",
          "Fish",
          "Other Snacks",
          "Pasta",
          "Pizza",
          "Rice Bowl",
          "Salad",
          "Sandwich",
          "Seafood",
          "Soup",
          "Starters",
          "Beverages",
          "Biryani",
          "Desert",
          "Extras",
          "Fish",
          "Other Snacks",
          "Pasta",
          "Pizza",
          "Rice Bowl",
          "Salad",
          "Sandwich",
          "Seafood",
          "Soup",
          "Starters",
          "Beverages",
          "Biryani",
          "Desert",
          "Extras",
          "Fish",
          "Other Snacks",
          "Pasta",
          "Pizza",
          "Rice Bowl",
          "Salad",
          "Sandwich",
          "Seafood",
          "Soup",
          "Starters",
          "Beverages",
          "Biryani",
          "Desert",
          "Extras",
          "Fish",
          "Other Snacks",
          "Pasta",
          "Pizza",
          "Rice Bowl",
          "Salad",
          "Sandwich",
          "Seafood",
          "Soup",
          "Starters",
          "Beverages",
          "Biryani",
          "Desert",
          "Extras",
          "Fish",
          "Other Snacks",
          "Pasta",
          "Pizza",
          "Rice Bowl",
          "Salad",
          "Sandwich",
          "Seafood",
          "Soup",
          "Starters",
          "Beverages",
          "Biryani",
          "Desert",
          "Extras",
          "Fish",
          "Other Snacks",
          "Pasta",
          "Pizza",
          "Rice Bowl",
          "Salad",
          "Sandwich",
          "Seafood",
          "Soup",
          "Starters",
          "Beverages",
          "Biryani",
          "Desert",
          "Extras",
          "Fish",
          "Other Snacks",
          "Pasta",
          "Pizza",
          "Rice Bowl",
          "Salad",
          "Sandwich",
          "Seafood",
          "Soup",
          "Starters",
          "Beverages",
          "Biryani",
          "Desert",
          "Extras",
          "Fish",
          "Other Snacks",
          "Pasta",
          "Pizza",
          "Rice Bowl",
          "Salad",
          "Sandwich",
          "Seafood",
          "Soup",
          "Starters",
          "Beverages",
          "Biryani",
          "Desert",
          "Extras",
          "Fish",
          "Other Snacks",
          "Pasta",
          "Pizza",
          "Rice Bowl",
          "Salad",
          "Sandwich",
          "Seafood",
          "Soup",
          "Starters",
          "Beverages",
          "Biryani",
          "Desert",
          "Extras",
          "Fish",
          "Other Snacks",
          "Pasta",
          "Pizza",
          "Rice Bowl",
          "Salad",
          "Sandwich",
          "Seafood",
          "Soup",
          "Starters",
          "Beverages",
          "Biryani",
          "Desert",
          "Extras",
          "Fish",
          "Other Snacks",
          "Pasta",
          "Pizza",
          "Rice Bowl",
          "Salad",
          "Sandwich",
          "Seafood",
          "Soup",
          "Starters",
          "Beverages",
          "Biryani",
          "Desert",
          "Extras",
          "Fish",
          "Other Snacks",
          "Pasta",
          "Pizza",
          "Rice Bowl",
          "Salad",
          "Sandwich",
          "Seafood",
          "Soup",
          "Starters",
          "Beverages",
          "Biryani",
          "Desert",
          "Extras",
          "Fish",
          "Other Snacks",
          "Pasta",
          "Pizza",
          "Rice Bowl",
          "Salad",
          "Sandwich",
          "Seafood",
          "Soup",
          "Starters",
          "Beverages",
          "Biryani",
          "Desert",
          "Extras",
          "Fish",
          "Other Snacks",
          "Pasta",
          "Pizza",
          "Rice Bowl",
          "Salad",
          "Sandwich",
          "Seafood",
          "Soup",
          "Starters",
          "Beverages",
          "Biryani",
          "Desert",
          "Extras",
          "Fish",
          "Other Snacks",
          "Pasta",
          "Pizza",
          "Rice Bowl",
          "Salad",
          "Sandwich",
          "Seafood",
          "Soup",
          "Starters",
          "Beverages",
          "Biryani",
          "Desert",
          "Extras",
          "Fish",
          "Other Snacks",
          "Pasta",
          "Pizza",
          "Rice Bowl",
          "Salad",
          "Sandwich",
          "Seafood",
          "Soup",
          "Starters",
          "Beverages",
          "Biryani",
          "Desert",
          "Extras",
          "Fish",
          "Other Snacks",
          "Pasta",
          "Pizza",
          "Rice Bowl",
          "Salad",
          "Sandwich",
          "Seafood",
          "Soup",
          "Starters",
          "Beverages",
          "Biryani",
          "Desert",
          "Extras",
          "Fish",
          "Other Snacks",
          "Pasta",
          "Pizza",
          "Rice Bowl",
          "Salad",
          "Sandwich",
          "Seafood",
          "Soup",
          "Starters",
          "Beverages",
          "Biryani",
          "Desert",
          "Extras",
          "Fish",
          "Other Snacks",
          "Pasta",
          "Pizza",
          "Rice Bowl",
          "Salad",
          "Sandwich",
          "Seafood",
          "Soup",
          "Starters",
          "Beverages",
          "Biryani",
          "Desert",
          "Extras",
          "Fish",
          "Other Snacks",
          "Pasta",
          "Pizza",
          "Rice Bowl",
          "Salad",
          "Sandwich",
          "Seafood",
          "Soup",
          "Starters",
          "Beverages",
          "Biryani",
          "Desert",
          "Extras",
          "Fish",
          "Other Snacks",
          "Pasta",
          "Pizza",
          "Rice Bowl",
          "Salad",
          "Sandwich",
          "Seafood",
          "Soup",
          "Starters",
          "Beverages",
          "Biryani",
          "Desert",
          "Extras",
          "Fish",
          "Other Snacks",
          "Pasta",
          "Pizza",
          "Rice Bowl",
          "Salad",
          "Sandwich",
          "Seafood",
          "Soup",
          "Starters",
          "Beverages",
          "Biryani",
          "Desert",
          "Extras",
          "Fish",
          "Other Snacks",
          "Pasta",
          "Pizza",
          "Rice Bowl",
          "Salad",
          "Sandwich",
          "Seafood",
          "Soup",
          "Starters",
          "Beverages",
          "Biryani",
          "Desert",
          "Extras",
          "Fish",
          "Other Snacks",
          "Pasta",
          "Pizza",
          "Rice Bowl",
          "Salad",
          "Sandwich",
          "Seafood",
          "Soup",
          "Starters",
          "Beverages",
          "Biryani",
          "Desert",
          "Extras",
          "Fish",
          "Other Snacks",
          "Pasta",
          "Pizza",
          "Rice Bowl",
          "Salad",
          "Sandwich",
          "Seafood",
          "Soup",
          "Starters",
          "Beverages",
          "Biryani",
          "Desert",
          "Extras",
          "Fish",
          "Other Snacks",
          "Pasta",
          "Pizza",
          "Rice Bowl",
          "Salad",
          "Sandwich",
          "Seafood",
          "Soup",
          "Starters",
          "Beverages",
          "Biryani",
          "Desert",
          "Extras",
          "Fish",
          "Other Snacks",
          "Pasta",
          "Pizza",
          "Rice Bowl",
          "Salad",
          "Sandwich",
          "Seafood",
          "Soup",
          "Starters",
          "Beverages",
          "Biryani",
          "Desert",
          "Extras",
          "Fish",
          "Other Snacks",
          "Pasta",
          "Pizza",
          "Rice Bowl",
          "Salad",
          "Sandwich",
          "Seafood",
          "Soup",
          "Starters",
          "Beverages",
          "Biryani",
          "Desert",
          "Extras",
          "Fish",
          "Other Snacks",
          "Pasta",
          "Pizza",
          "Rice Bowl",
          "Salad",
          "Sandwich",
          "Seafood",
          "Soup",
          "Starters",
          "Beverages",
          "Biryani",
          "Desert",
          "Extras",
          "Fish",
          "Other Snacks",
          "Pasta",
          "Pizza",
          "Rice Bowl",
          "Salad",
          "Sandwich",
          "Seafood",
          "Soup",
          "Starters",
          "Beverages",
          "Biryani",
          "Desert",
          "Extras",
          "Fish",
          "Other Snacks",
          "Pasta",
          "Pizza",
          "Rice Bowl",
          "Salad",
          "Sandwich",
          "Seafood",
          "Soup",
          "Starters",
          "Beverages",
          "Biryani",
          "Desert",
          "Extras",
          "Fish",
          "Other Snacks",
          "Pasta",
          "Pizza",
          "Rice Bowl",
          "Salad",
          "Sandwich",
          "Seafood",
          "Soup",
          "Starters",
          "Beverages",
          "Biryani",
          "Desert",
          "Extras",
          "Fish",
          "Other Snacks",
          "Pasta",
          "Pizza",
          "Rice Bowl",
          "Salad",
          "Sandwich",
          "Seafood",
          "Soup",
          "Starters",
          "Beverages",
          "Biryani",
          "Desert",
          "Extras",
          "Fish",
          "Other Snacks",
          "Pasta",
          "Pizza",
          "Rice Bowl",
          "Salad",
          "Sandwich",
          "Seafood",
          "Soup",
          "Starters",
          "Beverages",
          "Biryani",
          "Desert",
          "Extras",
          "Fish",
          "Other Snacks",
          "Pasta",
          "Pizza",
          "Rice Bowl",
          "Salad",
          "Sandwich",
          "Seafood",
          "Soup",
          "Starters",
          "Beverages",
          "Biryani",
          "Desert",
          "Extras",
          "Fish",
          "Other Snacks",
          "Pasta",
          "Pizza",
          "Rice Bowl",
          "Salad",
          "Sandwich",
          "Seafood",
          "Soup",
          "Starters",
          "Beverages",
          "Biryani",
          "Desert",
          "Extras",
          "Fish",
          "Other Snacks",
          "Pasta",
          "Pizza",
          "Rice Bowl",
          "Salad",
          "Sandwich",
          "Seafood",
          "Soup",
          "Starters",
          "Beverages",
          "Biryani",
          "Desert",
          "Extras",
          "Fish",
          "Other Snacks",
          "Pasta",
          "Pizza",
          "Rice Bowl",
          "Salad",
          "Sandwich",
          "Seafood",
          "Soup",
          "Starters",
          "Beverages",
          "Biryani",
          "Desert",
          "Extras",
          "Fish",
          "Other Snacks",
          "Pasta",
          "Pizza",
          "Rice Bowl",
          "Salad",
          "Sandwich",
          "Seafood",
          "Soup",
          "Starters",
          "Beverages",
          "Biryani",
          "Desert",
          "Extras",
          "Fish",
          "Other Snacks",
          "Pasta",
          "Pizza",
          "Rice Bowl",
          "Salad",
          "Sandwich",
          "Seafood",
          "Soup",
          "Starters",
          "Beverages",
          "Biryani",
          "Desert",
          "Extras",
          "Fish",
          "Other Snacks",
          "Pasta",
          "Pizza",
          "Rice Bowl",
          "Salad",
          "Sandwich",
          "Seafood",
          "Soup",
          "Starters",
          "Beverages",
          "Biryani",
          "Desert",
          "Extras",
          "Fish",
          "Other Snacks",
          "Pasta",
          "Pizza",
          "Rice Bowl",
          "Salad",
          "Sandwich",
          "Seafood",
          "Soup",
          "Starters",
          "Beverages",
          "Biryani",
          "Desert",
          "Extras",
          "Fish",
          "Other Snacks",
          "Pasta",
          "Pizza",
          "Rice Bowl",
          "Salad",
          "Sandwich",
          "Seafood",
          "Soup",
          "Starters",
          "Beverages",
          "Biryani",
          "Desert",
          "Extras",
          "Fish",
          "Other Snacks",
          "Pasta",
          "Pizza",
          "Rice Bowl",
          "Salad",
          "Sandwich",
          "Seafood",
          "Soup",
          "Starters",
          "Beverages",
          "Biryani",
          "Desert",
          "Extras",
          "Fish",
          "Other Snacks",
          "Pasta",
          "Pizza",
          "Rice Bowl",
          "Salad",
          "Sandwich",
          "Seafood",
          "Soup",
          "Starters",
          "Beverages",
          "Biryani",
          "Desert",
          "Extras",
          "Fish",
          "Other Snacks",
          "Pasta",
          "Pizza",
          "Rice Bowl",
          "Salad",
          "Sandwich",
          "Seafood",
          "Soup",
          "Starters",
          "Beverages",
          "Biryani",
          "Desert",
          "Extras",
          "Fish",
          "Other Snacks",
          "Pasta",
          "Pizza",
          "Rice Bowl",
          "Salad",
          "Sandwich",
          "Seafood",
          "Soup",
          "Starters",
          "Beverages",
          "Biryani",
          "Desert",
          "Extras",
          "Fish",
          "Other Snacks",
          "Pasta",
          "Pizza",
          "Rice Bowl",
          "Salad",
          "Sandwich",
          "Seafood",
          "Soup",
          "Starters",
          "Beverages",
          "Biryani",
          "Desert",
          "Extras",
          "Fish",
          "Other Snacks",
          "Pasta",
          "Pizza",
          "Rice Bowl",
          "Salad",
          "Sandwich",
          "Seafood",
          "Soup",
          "Starters",
          "Beverages",
          "Biryani",
          "Desert",
          "Extras",
          "Fish",
          "Other Snacks",
          "Pasta",
          "Pizza",
          "Rice Bowl",
          "Salad",
          "Sandwich",
          "Seafood",
          "Soup",
          "Starters",
          "Beverages",
          "Biryani",
          "Desert",
          "Extras",
          "Fish",
          "Other Snacks",
          "Pasta",
          "Pizza",
          "Rice Bowl",
          "Salad",
          "Sandwich",
          "Seafood",
          "Soup",
          "Starters",
          "Beverages",
          "Biryani",
          "Desert",
          "Extras",
          "Fish",
          "Other Snacks",
          "Pasta",
          "Pizza",
          "Rice Bowl",
          "Salad",
          "Sandwich",
          "Seafood",
          "Soup",
          "Starters",
          "Beverages",
          "Biryani",
          "Desert",
          "Extras",
          "Fish",
          "Other Snacks",
          "Pasta",
          "Pizza",
          "Rice Bowl",
          "Salad",
          "Sandwich",
          "Seafood",
          "Soup",
          "Starters",
          "Beverages",
          "Biryani",
          "Desert",
          "Extras",
          "Fish",
          "Other Snacks",
          "Pasta",
          "Pizza",
          "Rice Bowl",
          "Salad",
          "Sandwich",
          "Seafood",
          "Soup",
          "Starters",
          "Beverages",
          "Biryani",
          "Desert",
          "Extras",
          "Fish",
          "Other Snacks",
          "Pasta",
          "Pizza",
          "Rice Bowl",
          "Salad",
          "Sandwich",
          "Seafood",
          "Soup",
          "Starters",
          "Beverages",
          "Biryani",
          "Desert",
          "Extras",
          "Fish",
          "Other Snacks",
          "Pasta",
          "Pizza",
          "Rice Bowl",
          "Salad",
          "Sandwich",
          "Seafood",
          "Soup",
          "Starters",
          "Beverages",
          "Biryani",
          "Desert",
          "Extras",
          "Fish",
          "Other Snacks",
          "Pasta",
          "Pizza",
          "Rice Bowl",
          "Salad",
          "Sandwich",
          "Seafood",
          "Soup",
          "Starters",
          "Beverages",
          "Biryani",
          "Desert",
          "Extras",
          "Fish",
          "Other Snacks",
          "Pasta",
          "Pizza",
          "Rice Bowl",
          "Salad",
          "Sandwich",
          "Seafood",
          "Soup",
          "Starters",
          "Beverages",
          "Biryani",
          "Desert",
          "Extras",
          "Fish",
          "Other Snacks",
          "Pasta",
          "Pizza",
          "Rice Bowl",
          "Salad",
          "Sandwich",
          "Seafood",
          "Soup",
          "Starters",
          "Beverages",
          "Biryani",
          "Desert",
          "Extras",
          "Fish",
          "Other Snacks",
          "Pasta",
          "Pizza",
          "Rice Bowl",
          "Salad",
          "Sandwich",
          "Seafood",
          "Soup",
          "Starters",
          "Beverages",
          "Biryani",
          "Desert",
          "Extras",
          "Fish",
          "Other Snacks",
          "Pasta",
          "Pizza",
          "Rice Bowl",
          "Salad",
          "Sandwich",
          "Seafood",
          "Soup",
          "Starters",
          "Beverages",
          "Biryani",
          "Desert",
          "Extras",
          "Fish",
          "Other Snacks",
          "Pasta",
          "Pizza",
          "Rice Bowl",
          "Salad",
          "Sandwich",
          "Seafood",
          "Soup",
          "Starters",
          "Beverages",
          "Biryani",
          "Desert",
          "Extras",
          "Fish",
          "Other Snacks",
          "Pasta",
          "Pizza",
          "Rice Bowl",
          "Salad",
          "Sandwich",
          "Seafood",
          "Soup",
          "Starters",
          "Beverages",
          "Biryani",
          "Desert",
          "Extras",
          "Fish",
          "Other Snacks",
          "Pasta",
          "Pizza",
          "Rice Bowl",
          "Salad",
          "Sandwich",
          "Seafood",
          "Soup",
          "Starters"
         ],
         "yaxis": "y",
         "ybingroup": "y",
         "z": [
          322382,
          8309,
          16095,
          30651,
          34302,
          18720,
          60999,
          137916,
          113218,
          10558,
          5070,
          34041,
          381602,
          6638,
          11506,
          29102,
          34621,
          17741,
          53729,
          109530,
          94048,
          9927,
          4813,
          33827,
          332159,
          6930,
          10853,
          29833,
          33038,
          18425,
          29590,
          101579,
          82063,
          9943,
          4551,
          36298,
          345707,
          6162,
          11425,
          38935,
          41500,
          9719,
          38632,
          109936,
          80333,
          12527,
          5490,
          43163,
          280863,
          5572,
          12062,
          30328,
          24157,
          9867,
          31206,
          642726,
          71882,
          43585,
          3994,
          42433,
          249871,
          5366,
          16375,
          31062,
          26257,
          10179,
          28994,
          427297,
          63264,
          40621,
          4284,
          43718,
          260323,
          5666,
          15613,
          32464,
          26156,
          10992,
          30564,
          422294,
          68758,
          12094,
          4482,
          45397,
          268201,
          6013,
          9146,
          30860,
          25685,
          15930,
          15987,
          174331,
          67738,
          6682,
          4358,
          45587,
          275116,
          4344,
          10690,
          31348,
          26809,
          8673,
          34067,
          120108,
          73918,
          85412,
          3274,
          49484,
          260035,
          4385,
          10138,
          30936,
          41672,
          7565,
          36397,
          109433,
          40,
          187790,
          86996,
          3240,
          33198,
          273518,
          4018,
          9497,
          27003,
          37685,
          14755,
          35790,
          110949,
          168044,
          57004,
          2697,
          31265,
          281409,
          3759,
          9953,
          27291,
          32798,
          17489,
          52691,
          111765,
          108706,
          8870,
          2746,
          32782,
          272346,
          3871,
          9412,
          27665,
          26909,
          14808,
          60394,
          117370,
          77290,
          9042,
          4543,
          32452,
          253255,
          3810,
          10881,
          27607,
          71361,
          15414,
          30577,
          108773,
          1337,
          68165,
          9872,
          4871,
          31058,
          297220,
          4977,
          15797,
          28925,
          41515,
          12573,
          29651,
          107537,
          3241,
          64380,
          10665,
          4485,
          30753,
          280448,
          4382,
          11232,
          29517,
          36463,
          8187,
          27528,
          102324,
          4907,
          61945,
          8824,
          4866,
          30892,
          331819,
          4482,
          13704,
          32727,
          29043,
          9018,
          30425,
          226733,
          17396,
          77240,
          10766,
          5413,
          31519,
          316719,
          4361,
          11930,
          32236,
          28095,
          12637,
          30490,
          112206,
          25188,
          314753,
          8546,
          5295,
          30104,
          278288,
          4242,
          12612,
          31972,
          29295,
          12723,
          30426,
          170225,
          33481,
          138895,
          9156,
          4918,
          30963,
          262033,
          3403,
          13130,
          33237,
          29070,
          11662,
          52173,
          111324,
          34022,
          83674,
          7046,
          5870,
          31190,
          280691,
          4302,
          9336,
          28624,
          27841,
          13406,
          47508,
          119721,
          37655,
          95019,
          8029,
          5123,
          29758,
          293111,
          4057,
          8180,
          32296,
          38468,
          10755,
          32637,
          119649,
          39201,
          210751,
          8806,
          5388,
          30812,
          273041,
          3660,
          7466,
          31452,
          35238,
          11004,
          30695,
          112502,
          38497,
          187041,
          8546,
          4810,
          29319,
          258579,
          3573,
          7297,
          33398,
          35101,
          10016,
          29374,
          100116,
          45622,
          84708,
          8997,
          1627,
          28933,
          245077,
          3208,
          7282,
          30818,
          29455,
          12675,
          28195,
          213480,
          49143,
          80824,
          16427,
          5225,
          27774,
          258807,
          3559,
          7349,
          33180,
          31208,
          13630,
          79307,
          189175,
          55149,
          86063,
          13000,
          6094,
          29284,
          256262,
          3546,
          8024,
          28946,
          29026,
          14201,
          76171,
          94137,
          96449,
          87368,
          12512,
          5087,
          28285,
          241114,
          3923,
          16494,
          27815,
          40269,
          8175,
          25544,
          90310,
          59505,
          87481,
          15051,
          5166,
          28016,
          245599,
          4335,
          13776,
          27058,
          36615,
          8372,
          23288,
          88436,
          59560,
          74733,
          10399,
          6746,
          26497,
          259773,
          4170,
          11888,
          26600,
          26350,
          11052,
          23804,
          139284,
          72185,
          297530,
          8754,
          6567,
          27442,
          276740,
          3831,
          12901,
          28523,
          18243,
          10931,
          26933,
          124067,
          126626,
          109836,
          10498,
          6683,
          27402,
          287075,
          3975,
          20057,
          27316,
          15162,
          13307,
          23903,
          135460,
          82827,
          381664,
          8088,
          7336,
          28032,
          288199,
          3987,
          11468,
          27788,
          14814,
          16189,
          19253,
          117788,
          73117,
          94260,
          26966,
          4795,
          32312,
          282779,
          3787,
          12226,
          28471,
          12441,
          14850,
          17736,
          108575,
          65500,
          81137,
          29369,
          5262,
          31470,
          275069,
          3134,
          11196,
          31318,
          15000,
          12744,
          25715,
          76459,
          79679,
          55841,
          8370,
          5522,
          30411,
          299689,
          4536,
          8189,
          28799,
          13525,
          13187,
          30633,
          112491,
          76019,
          94129,
          9880,
          4678,
          29110,
          255643,
          3817,
          8202,
          28650,
          13706,
          7950,
          183275,
          108176,
          141449,
          83066,
          7930,
          7651,
          28338,
          254333,
          4315,
          8745,
          27916,
          13679,
          9753,
          147515,
          324809,
          63083,
          77534,
          7256,
          7146,
          28482,
          268678,
          4401,
          9667,
          27199,
          18813,
          14407,
          105409,
          116547,
          76339,
          81760,
          9841,
          8629,
          29274,
          272009,
          4128,
          8541,
          27525,
          21494,
          14421,
          95499,
          108955,
          70388,
          103700,
          41484,
          9100,
          29915,
          278330,
          3959,
          9233,
          27377,
          26865,
          13208,
          30898,
          155561,
          71126,
          85801,
          52987,
          6880,
          29268,
          267267,
          3991,
          11954,
          27215,
          29562,
          11150,
          28459,
          94779,
          158878,
          84237,
          11336,
          7611,
          29850,
          252891,
          3976,
          30003,
          27417,
          36968,
          9256,
          28819,
          101360,
          73440,
          80058,
          12357,
          7377,
          29349,
          254031,
          3708,
          29978,
          28201,
          33447,
          10363,
          32583,
          124676,
          85685,
          82724,
          17736,
          7402,
          28049,
          281532,
          3766,
          20319,
          29461,
          30292,
          8997,
          88539,
          302572,
          76762,
          86911,
          14343,
          7197,
          30508,
          295455,
          3753,
          14640,
          28996,
          30980,
          7499,
          80034,
          173517,
          51253,
          122514,
          14441,
          7568,
          31970,
          247269,
          3379,
          12205,
          27000,
          28755,
          8591,
          71373,
          133002,
          70828,
          161661,
          7796,
          7796,
          28614,
          355019,
          4338,
          13221,
          33763,
          35987,
          8283,
          36410,
          128303,
          144247,
          485452,
          16426,
          8111,
          33897,
          421975,
          3790,
          11350,
          39247,
          38308,
          7490,
          32057,
          114914,
          97928,
          107033,
          15397,
          8878,
          38613,
          423582,
          3651,
          10718,
          41302,
          43661,
          5883,
          30366,
          104055,
          64459,
          95383,
          15717,
          10905,
          41096,
          306472,
          3537,
          9347,
          31141,
          30206,
          7366,
          26835,
          86529,
          55893,
          112784,
          13406,
          9285,
          30235,
          421625,
          4782,
          11980,
          29878,
          29034,
          17313,
          34107,
          118677,
          119948,
          100474,
          119224,
          8101,
          31668,
          494640,
          6277,
          11204,
          23634,
          29100,
          16665,
          37301,
          124750,
          110026,
          113147,
          107090,
          5727,
          28675,
          361839,
          4870,
          11292,
          22120,
          27980,
          11934,
          32062,
          87269,
          77020,
          72662,
          14875,
          5301,
          28044,
          329728,
          5099,
          18947,
          23225,
          28510,
          13797,
          93765,
          155600,
          74676,
          88119,
          9967,
          5601,
          28111,
          295204,
          5022,
          14186,
          23132,
          46315,
          7341,
          31027,
          116800,
          184373,
          76813,
          9866,
          4886,
          28285,
          330341,
          3967,
          13573,
          27175,
          50554,
          7726,
          41136,
          133368,
          165693,
          89785,
          14324,
          6875,
          32204,
          285949,
          4553,
          14301,
          22580,
          36891,
          8096,
          36359,
          216095,
          77369,
          81448,
          17030,
          5815,
          27959,
          272594,
          4921,
          10206,
          23622,
          607,
          31175,
          8898,
          31005,
          181757,
          76765,
          85061,
          16214,
          5317,
          28639,
          271668,
          5541,
          9189,
          25813,
          890,
          32297,
          9399,
          28890,
          121910,
          86991,
          456194,
          42730,
          5913,
          34034,
          296179,
          4626,
          6472,
          25777,
          1661,
          30337,
          12940,
          137217,
          105041,
          82125,
          99815,
          12087,
          5922,
          39906,
          120450,
          1929,
          5542,
          25218,
          717,
          14363,
          6101,
          50012,
          46313,
          37640,
          43129,
          5356,
          6052,
          17243,
          225295,
          4374,
          20304,
          23235,
          2784,
          52281,
          10191,
          156092,
          92333,
          69671,
          107070,
          10331,
          4982,
          33132,
          232918,
          3941,
          19333,
          23546,
          2910,
          46503,
          8853,
          132715,
          92667,
          75625,
          100394,
          9619,
          4966,
          30518,
          295603,
          3674,
          9816,
          22585,
          3156,
          32862,
          6735,
          24909,
          112367,
          166739,
          92870,
          35643,
          5374,
          32536,
          269757,
          3651,
          8170,
          21747,
          3797,
          29070,
          10641,
          26824,
          107941,
          81059,
          96440,
          13795,
          5778,
          31413,
          305542,
          4100,
          9901,
          23901,
          3920,
          31657,
          10281,
          24737,
          113728,
          76915,
          98986,
          15099,
          5324,
          32190,
          309691,
          4618,
          9144,
          23914,
          3752,
          30727,
          10284,
          22616,
          106224,
          69833,
          368918,
          13860,
          5558,
          30835,
          304744,
          4101,
          8688,
          26030,
          3771,
          28975,
          8378,
          24064,
          115735,
          79727,
          374333,
          56389,
          6485,
          33768,
          242671,
          4358,
          10018,
          25394,
          4185,
          27898,
          18378,
          25360,
          122304,
          46282,
          388667,
          50216,
          6776,
          32142,
          290429,
          4926,
          12212,
          28469,
          4543,
          29306,
          15732,
          23560,
          127165,
          76060,
          347178,
          13542,
          6981,
          35623,
          283304,
          3611,
          24681,
          26011,
          4495,
          29456,
          9996,
          20147,
          110894,
          78811,
          92188,
          10776,
          6445,
          31736,
          257247,
          3393,
          14646,
          27811,
          5633,
          48532,
          10690,
          19314,
          100307,
          77239,
          86215,
          11997,
          7070,
          32584,
          287035,
          3374,
          14628,
          26456,
          7626,
          44978,
          6524,
          28314,
          109266,
          73711,
          137626,
          12929,
          5689,
          31435,
          256943,
          4092,
          13368,
          26995,
          8687,
          42887,
          9445,
          108460,
          113737,
          78537,
          262279,
          9705,
          6384,
          29241,
          234731,
          3765,
          9508,
          24647,
          7103,
          37929,
          8265,
          84521,
          103571,
          206383,
          139359,
          9397,
          5373,
          28376,
          228944,
          3356,
          9219,
          26655,
          8201,
          32542,
          8012,
          18325,
          196851,
          178658,
          74156,
          14825,
          5699,
          27951,
          243855,
          3662,
          8408,
          29399,
          8210,
          33244,
          7343,
          21777,
          185392,
          190631,
          78912,
          14913,
          6986,
          29298,
          236119,
          4090,
          9568,
          26699,
          8598,
          32012,
          6221,
          88466,
          114967,
          180685,
          249155,
          14089,
          6578,
          27364,
          248453,
          3999,
          19021,
          26691,
          8698,
          51249,
          8180,
          25108,
          113314,
          54333,
          87640,
          17256,
          5571,
          28550,
          229211,
          3894,
          14484,
          24736,
          8119,
          46921,
          9439,
          22067,
          108778,
          82353,
          87408,
          10735,
          6799,
          26468,
          249369,
          3703,
          11355,
          24715,
          7815,
          35971,
          12839,
          23678,
          173658,
          185780,
          87894,
          9092,
          6415,
          27193,
          287775,
          4444,
          20162,
          28075,
          8048,
          30842,
          12494,
          29331,
          249753,
          83167,
          101026,
          9805,
          6927,
          28242,
          251099,
          4618,
          13350,
          27412,
          6992,
          36053,
          9031,
          109350,
          103722,
          76812,
          86853,
          6965,
          6617,
          29441,
          281469,
          5149,
          14360,
          25098,
          8981,
          40910,
          12301,
          93951,
          117110,
          91127,
          73835,
          6333,
          5612,
          84197,
          286522,
          4520,
          14779,
          23532,
          8864,
          39265,
          14124,
          50201,
          127872,
          91680,
          69925,
          6019,
          5521,
          80691,
          278150,
          3901,
          11500,
          25622,
          7952,
          39904,
          12392,
          61642,
          98672,
          104678,
          69959,
          6016,
          5791,
          78961,
          287451,
          4362,
          10782,
          26556,
          8635,
          38949,
          15522,
          65952,
          97605,
          81799,
          58509,
          7441,
          6222,
          35408,
          285074,
          4492,
          11710,
          25163,
          9899,
          26693,
          10592,
          97544,
          106537,
          62471,
          57266,
          6872,
          6862,
          32314,
          245572,
          3777,
          11491,
          24800,
          8627,
          26946,
          13350,
          47543,
          214147,
          119866,
          55084,
          40115,
          6137,
          32413,
          286089,
          4362,
          11921,
          28424,
          8758,
          29386,
          13362,
          52362,
          119499,
          133320,
          66379,
          41920,
          7106,
          31509,
          276950,
          3565,
          11303,
          27861,
          8140,
          27275,
          10564,
          139121,
          112183,
          80624,
          164613,
          7655,
          7258,
          31033,
          283342,
          3893,
          11781,
          26328,
          7843,
          28740,
          11079,
          131358,
          110946,
          78967,
          157477,
          7956,
          8772,
          31688,
          279597,
          4232,
          11294,
          26950,
          9065,
          29052,
          11597,
          23671,
          133948,
          109386,
          91125,
          54697,
          10375,
          30041,
          265984,
          3581,
          13686,
          27369,
          10292,
          28362,
          10355,
          23813,
          265610,
          81378,
          84321,
          49945,
          10201,
          30944,
          285387,
          3994,
          17703,
          26148,
          11145,
          45728,
          11520,
          28574,
          117501,
          86139,
          83138,
          9205,
          9740,
          29195,
          226640,
          3660,
          16599,
          25451,
          12150,
          45363,
          11181,
          27993,
          60121,
          62167,
          70945,
          9184,
          7786,
          30737,
          284155,
          3676,
          15336,
          25459,
          11167,
          38975,
          14419,
          47293,
          247356,
          72179,
          83724,
          8185,
          9212,
          32885,
          248529,
          3464,
          13684,
          26145,
          8429,
          30561,
          12090,
          39083,
          170334,
          72242,
          68708,
          7622,
          11019,
          30138,
          327596,
          3976,
          15575,
          30076,
          17823,
          35695,
          13290,
          34114,
          302550,
          97969,
          88196,
          76623,
          10816,
          33863,
          332476,
          3649,
          13231,
          37487,
          16426,
          42759,
          11515,
          33942,
          234667,
          82547,
          73583,
          61981,
          15106,
          40078,
          337190,
          3314,
          6506,
          37791,
          8215,
          44157,
          5995,
          31584,
          216118,
          71455,
          61349,
          9382,
          15165,
          42762,
          264307,
          3476,
          3050,
          32491,
          7779,
          32284,
          6694,
          27620,
          167213,
          61352,
          53690,
          8022,
          13145,
          32446,
          287216,
          4642,
          12284,
          27720,
          9370,
          37646,
          17738,
          33182,
          119352,
          95840,
          77150,
          10420,
          10132,
          31952,
          345229,
          6925,
          14209,
          27428,
          10570,
          36396,
          25676,
          31155,
          131421,
          96594,
          116593,
          9561,
          7517,
          32205,
          279600,
          5961,
          13727,
          25824,
          8979,
          37230,
          12992,
          27946,
          175424,
          88403,
          79075,
          54496,
          7572,
          30256,
          258895,
          6360,
          13244,
          25507,
          6209,
          40087,
          10902,
          11904,
          155938,
          83874,
          74580,
          20539,
          6499,
          69313,
          260584,
          4154,
          15597,
          23029,
          11134,
          32311,
          10818,
          106588,
          117811,
          81835,
          158765,
          8119,
          6607,
          71412,
          295726,
          4098,
          17976,
          30532,
          12518,
          40513,
          12371,
          164296,
          134176,
          94085,
          168023,
          11572,
          7623,
          74809,
          285002,
          4852,
          14249,
          23668,
          11073,
          33344,
          10285,
          28970,
          123165,
          74580,
          202679,
          18638,
          5567,
          53183,
          275008,
          1775,
          13979,
          10093,
          12466,
          36281,
          10797,
          23684,
          224214,
          74102,
          182700,
          10103,
          2688,
          14741,
          233997,
          2108,
          14663,
          10002,
          13401,
          36696,
          10442,
          26254,
          203757,
          85794,
          186540,
          10162,
          2335,
          15956,
          297180,
          4612,
          16785,
          28476,
          11625,
          42795,
          16973,
          142845,
          107928,
          85194,
          90244,
          8281,
          6750,
          30008,
          279558,
          4263,
          13975,
          26206,
          11260,
          37310,
          13368,
          127953,
          99018,
          76317,
          83224,
          7542,
          6729,
          26878,
          266242,
          4486,
          14038,
          28355,
          11530,
          28106,
          9106,
          93042,
          92928,
          137078,
          76565,
          7987,
          6929,
          29077,
          267604,
          4233,
          14780,
          26944,
          10876,
          28861,
          8243,
          83687,
          94803,
          142723,
          128110,
          9129,
          7300,
          28172,
          281576,
          4348,
          19514,
          27943,
          11829,
          28541,
          8350,
          43575,
          117404,
          151689,
          70149,
          8167,
          8204,
          28336,
          278818,
          4619,
          18469,
          27230,
          13876,
          28106,
          7300,
          21987,
          118302,
          127495,
          69159,
          8363,
          7445,
          46538,
          265792,
          4548,
          18771,
          26167,
          6843,
          33980,
          6365,
          23049,
          236762,
          73936,
          68149,
          9050,
          9608,
          28689,
          258785,
          5289,
          19235,
          24808,
          12290,
          32281,
          7434,
          21827,
          196381,
          66878,
          62754,
          8869,
          9429,
          27611,
          284432,
          6057,
          13852,
          24718,
          11097,
          36719,
          9549,
          97824,
          111259,
          87792,
          220621,
          8146,
          9227,
          29207,
          258730,
          5100,
          14755,
          26176,
          9803,
          45894,
          18534,
          29912,
          127333,
          81202,
          210882,
          75406,
          10797,
          30182,
          233376,
          5187,
          12885,
          26181,
          11500,
          45426,
          17170,
          30900,
          130288,
          54386,
          205204,
          66052,
          9186,
          42185,
          272184,
          4836,
          13990,
          26109,
          9323,
          25816,
          12644,
          25671,
          118351,
          71509,
          190903,
          7213,
          9188,
          39520,
          268179,
          4097,
          17678,
          28149,
          7822,
          25949,
          12845,
          24623,
          114480,
          120990,
          78849,
          7190,
          11389,
          28301,
          295132,
          4351,
          19008,
          30775,
          7819,
          26927,
          11014,
          67829,
          125100,
          96627,
          82259,
          6886,
          10432,
          26679,
          275161,
          4188,
          16702,
          26990,
          8917,
          26030,
          10744,
          72308,
          120715,
          79315,
          79550,
          6749,
          10097,
          25271,
          236519,
          4245,
          16939,
          26078,
          9873,
          33435,
          10274,
          34002,
          112785,
          67058,
          285481,
          7941,
          10050,
          23717,
          267748,
          4925,
          12472,
          24671,
          31574,
          31969,
          9987,
          34519,
          121243,
          56917,
          209072,
          7257,
          9362,
          21945,
          276365,
          4140,
          13867,
          26217,
          29366,
          32740,
          6888,
          91520,
          236381,
          68173,
          94855,
          6345,
          9997,
          23165,
          285943,
          4441,
          13066,
          26938,
          25644,
          33770,
          8752,
          89761,
          204005,
          62473,
          108396,
          6405,
          9650,
          20709,
          292267,
          4322,
          18078,
          25808,
          27777,
          37399,
          8295,
          36065,
          124307,
          54555,
          275677,
          6525,
          9631,
          18668,
          249767,
          4300,
          18724,
          23989,
          10751,
          36910,
          9249,
          29733,
          118763,
          52231,
          213875,
          39321,
          9474,
          18496,
          294198,
          4401,
          17310,
          25218,
          10991,
          24397,
          9804,
          37678,
          318536,
          68513,
          93349,
          40419,
          10042,
          20216,
          227322,
          3936,
          17612,
          27631,
          10728,
          24558,
          10689,
          75914,
          166127,
          70956,
          104023,
          7321,
          10767,
          19522,
          270988,
          4653,
          10028,
          25691,
          11861,
          25199,
          9512,
          68152,
          153539,
          60731,
          92878,
          6456,
          10079,
          19856,
          252057,
          6727,
          27405,
          27284,
          8212,
          43967,
          9932,
          40462,
          132354,
          56930,
          76096,
          6759,
          9870,
          21685,
          224558,
          6417,
          21633,
          26509,
          10703,
          43059,
          9637,
          35570,
          125680,
          54407,
          73313,
          6503,
          9356,
          19998,
          245790,
          6227,
          18208,
          27679,
          24045,
          37332,
          16264,
          42544,
          124708,
          72581,
          100160,
          5057,
          10667,
          20673,
          283746,
          5661,
          14240,
          27976,
          24997,
          27440,
          18865,
          52517,
          126284,
          85387,
          97630,
          5705,
          11046,
          21195,
          254794,
          4257,
          14838,
          25546,
          11995,
          25759,
          8319,
          142724,
          110136,
          56277,
          84638,
          5224,
          10297,
          21436,
          255403,
          4085,
          13563,
          26632,
          11315,
          24928,
          7125,
          112694,
          107032,
          57146,
          82977,
          5285,
          10324,
          21152,
          265240,
          3776,
          14534,
          25632,
          12243,
          25381,
          12541,
          42731,
          127751,
          72211,
          94747,
          32441,
          9990,
          20708,
          265886,
          4296,
          12996,
          26097,
          12298,
          33256,
          11749,
          47089,
          118935,
          112883,
          93063,
          31412,
          10531,
          20706,
          235091,
          4794,
          14406,
          25794,
          10348,
          34184,
          11910,
          39980,
          93183,
          85582,
          84678,
          5503,
          10225,
          16248
         ]
        }
       ],
       "layout": {
        "coloraxis": {
         "colorbar": {
          "title": {
           "text": "sum of num_orders"
          }
         },
         "colorscale": [
          [
           0,
           "#000004"
          ],
          [
           0.1111111111111111,
           "#1b0c41"
          ],
          [
           0.2222222222222222,
           "#4a0c6b"
          ],
          [
           0.3333333333333333,
           "#781c6d"
          ],
          [
           0.4444444444444444,
           "#a52c60"
          ],
          [
           0.5555555555555556,
           "#cf4446"
          ],
          [
           0.6666666666666666,
           "#ed6925"
          ],
          [
           0.7777777777777778,
           "#fb9b06"
          ],
          [
           0.8888888888888888,
           "#f7d13d"
          ],
          [
           1,
           "#fcffa4"
          ]
         ]
        },
        "legend": {
         "tracegroupgap": 0
        },
        "template": {
         "data": {
          "bar": [
           {
            "error_x": {
             "color": "#2a3f5f"
            },
            "error_y": {
             "color": "#2a3f5f"
            },
            "marker": {
             "line": {
              "color": "#E5ECF6",
              "width": 0.5
             },
             "pattern": {
              "fillmode": "overlay",
              "size": 10,
              "solidity": 0.2
             }
            },
            "type": "bar"
           }
          ],
          "barpolar": [
           {
            "marker": {
             "line": {
              "color": "#E5ECF6",
              "width": 0.5
             },
             "pattern": {
              "fillmode": "overlay",
              "size": 10,
              "solidity": 0.2
             }
            },
            "type": "barpolar"
           }
          ],
          "carpet": [
           {
            "aaxis": {
             "endlinecolor": "#2a3f5f",
             "gridcolor": "white",
             "linecolor": "white",
             "minorgridcolor": "white",
             "startlinecolor": "#2a3f5f"
            },
            "baxis": {
             "endlinecolor": "#2a3f5f",
             "gridcolor": "white",
             "linecolor": "white",
             "minorgridcolor": "white",
             "startlinecolor": "#2a3f5f"
            },
            "type": "carpet"
           }
          ],
          "choropleth": [
           {
            "colorbar": {
             "outlinewidth": 0,
             "ticks": ""
            },
            "type": "choropleth"
           }
          ],
          "contour": [
           {
            "colorbar": {
             "outlinewidth": 0,
             "ticks": ""
            },
            "colorscale": [
             [
              0,
              "#0d0887"
             ],
             [
              0.1111111111111111,
              "#46039f"
             ],
             [
              0.2222222222222222,
              "#7201a8"
             ],
             [
              0.3333333333333333,
              "#9c179e"
             ],
             [
              0.4444444444444444,
              "#bd3786"
             ],
             [
              0.5555555555555556,
              "#d8576b"
             ],
             [
              0.6666666666666666,
              "#ed7953"
             ],
             [
              0.7777777777777778,
              "#fb9f3a"
             ],
             [
              0.8888888888888888,
              "#fdca26"
             ],
             [
              1,
              "#f0f921"
             ]
            ],
            "type": "contour"
           }
          ],
          "contourcarpet": [
           {
            "colorbar": {
             "outlinewidth": 0,
             "ticks": ""
            },
            "type": "contourcarpet"
           }
          ],
          "heatmap": [
           {
            "colorbar": {
             "outlinewidth": 0,
             "ticks": ""
            },
            "colorscale": [
             [
              0,
              "#0d0887"
             ],
             [
              0.1111111111111111,
              "#46039f"
             ],
             [
              0.2222222222222222,
              "#7201a8"
             ],
             [
              0.3333333333333333,
              "#9c179e"
             ],
             [
              0.4444444444444444,
              "#bd3786"
             ],
             [
              0.5555555555555556,
              "#d8576b"
             ],
             [
              0.6666666666666666,
              "#ed7953"
             ],
             [
              0.7777777777777778,
              "#fb9f3a"
             ],
             [
              0.8888888888888888,
              "#fdca26"
             ],
             [
              1,
              "#f0f921"
             ]
            ],
            "type": "heatmap"
           }
          ],
          "heatmapgl": [
           {
            "colorbar": {
             "outlinewidth": 0,
             "ticks": ""
            },
            "colorscale": [
             [
              0,
              "#0d0887"
             ],
             [
              0.1111111111111111,
              "#46039f"
             ],
             [
              0.2222222222222222,
              "#7201a8"
             ],
             [
              0.3333333333333333,
              "#9c179e"
             ],
             [
              0.4444444444444444,
              "#bd3786"
             ],
             [
              0.5555555555555556,
              "#d8576b"
             ],
             [
              0.6666666666666666,
              "#ed7953"
             ],
             [
              0.7777777777777778,
              "#fb9f3a"
             ],
             [
              0.8888888888888888,
              "#fdca26"
             ],
             [
              1,
              "#f0f921"
             ]
            ],
            "type": "heatmapgl"
           }
          ],
          "histogram": [
           {
            "marker": {
             "pattern": {
              "fillmode": "overlay",
              "size": 10,
              "solidity": 0.2
             }
            },
            "type": "histogram"
           }
          ],
          "histogram2d": [
           {
            "colorbar": {
             "outlinewidth": 0,
             "ticks": ""
            },
            "colorscale": [
             [
              0,
              "#0d0887"
             ],
             [
              0.1111111111111111,
              "#46039f"
             ],
             [
              0.2222222222222222,
              "#7201a8"
             ],
             [
              0.3333333333333333,
              "#9c179e"
             ],
             [
              0.4444444444444444,
              "#bd3786"
             ],
             [
              0.5555555555555556,
              "#d8576b"
             ],
             [
              0.6666666666666666,
              "#ed7953"
             ],
             [
              0.7777777777777778,
              "#fb9f3a"
             ],
             [
              0.8888888888888888,
              "#fdca26"
             ],
             [
              1,
              "#f0f921"
             ]
            ],
            "type": "histogram2d"
           }
          ],
          "histogram2dcontour": [
           {
            "colorbar": {
             "outlinewidth": 0,
             "ticks": ""
            },
            "colorscale": [
             [
              0,
              "#0d0887"
             ],
             [
              0.1111111111111111,
              "#46039f"
             ],
             [
              0.2222222222222222,
              "#7201a8"
             ],
             [
              0.3333333333333333,
              "#9c179e"
             ],
             [
              0.4444444444444444,
              "#bd3786"
             ],
             [
              0.5555555555555556,
              "#d8576b"
             ],
             [
              0.6666666666666666,
              "#ed7953"
             ],
             [
              0.7777777777777778,
              "#fb9f3a"
             ],
             [
              0.8888888888888888,
              "#fdca26"
             ],
             [
              1,
              "#f0f921"
             ]
            ],
            "type": "histogram2dcontour"
           }
          ],
          "mesh3d": [
           {
            "colorbar": {
             "outlinewidth": 0,
             "ticks": ""
            },
            "type": "mesh3d"
           }
          ],
          "parcoords": [
           {
            "line": {
             "colorbar": {
              "outlinewidth": 0,
              "ticks": ""
             }
            },
            "type": "parcoords"
           }
          ],
          "pie": [
           {
            "automargin": true,
            "type": "pie"
           }
          ],
          "scatter": [
           {
            "marker": {
             "colorbar": {
              "outlinewidth": 0,
              "ticks": ""
             }
            },
            "type": "scatter"
           }
          ],
          "scatter3d": [
           {
            "line": {
             "colorbar": {
              "outlinewidth": 0,
              "ticks": ""
             }
            },
            "marker": {
             "colorbar": {
              "outlinewidth": 0,
              "ticks": ""
             }
            },
            "type": "scatter3d"
           }
          ],
          "scattercarpet": [
           {
            "marker": {
             "colorbar": {
              "outlinewidth": 0,
              "ticks": ""
             }
            },
            "type": "scattercarpet"
           }
          ],
          "scattergeo": [
           {
            "marker": {
             "colorbar": {
              "outlinewidth": 0,
              "ticks": ""
             }
            },
            "type": "scattergeo"
           }
          ],
          "scattergl": [
           {
            "marker": {
             "colorbar": {
              "outlinewidth": 0,
              "ticks": ""
             }
            },
            "type": "scattergl"
           }
          ],
          "scattermapbox": [
           {
            "marker": {
             "colorbar": {
              "outlinewidth": 0,
              "ticks": ""
             }
            },
            "type": "scattermapbox"
           }
          ],
          "scatterpolar": [
           {
            "marker": {
             "colorbar": {
              "outlinewidth": 0,
              "ticks": ""
             }
            },
            "type": "scatterpolar"
           }
          ],
          "scatterpolargl": [
           {
            "marker": {
             "colorbar": {
              "outlinewidth": 0,
              "ticks": ""
             }
            },
            "type": "scatterpolargl"
           }
          ],
          "scatterternary": [
           {
            "marker": {
             "colorbar": {
              "outlinewidth": 0,
              "ticks": ""
             }
            },
            "type": "scatterternary"
           }
          ],
          "surface": [
           {
            "colorbar": {
             "outlinewidth": 0,
             "ticks": ""
            },
            "colorscale": [
             [
              0,
              "#0d0887"
             ],
             [
              0.1111111111111111,
              "#46039f"
             ],
             [
              0.2222222222222222,
              "#7201a8"
             ],
             [
              0.3333333333333333,
              "#9c179e"
             ],
             [
              0.4444444444444444,
              "#bd3786"
             ],
             [
              0.5555555555555556,
              "#d8576b"
             ],
             [
              0.6666666666666666,
              "#ed7953"
             ],
             [
              0.7777777777777778,
              "#fb9f3a"
             ],
             [
              0.8888888888888888,
              "#fdca26"
             ],
             [
              1,
              "#f0f921"
             ]
            ],
            "type": "surface"
           }
          ],
          "table": [
           {
            "cells": {
             "fill": {
              "color": "#EBF0F8"
             },
             "line": {
              "color": "white"
             }
            },
            "header": {
             "fill": {
              "color": "#C8D4E3"
             },
             "line": {
              "color": "white"
             }
            },
            "type": "table"
           }
          ]
         },
         "layout": {
          "annotationdefaults": {
           "arrowcolor": "#2a3f5f",
           "arrowhead": 0,
           "arrowwidth": 1
          },
          "autotypenumbers": "strict",
          "coloraxis": {
           "colorbar": {
            "outlinewidth": 0,
            "ticks": ""
           }
          },
          "colorscale": {
           "diverging": [
            [
             0,
             "#8e0152"
            ],
            [
             0.1,
             "#c51b7d"
            ],
            [
             0.2,
             "#de77ae"
            ],
            [
             0.3,
             "#f1b6da"
            ],
            [
             0.4,
             "#fde0ef"
            ],
            [
             0.5,
             "#f7f7f7"
            ],
            [
             0.6,
             "#e6f5d0"
            ],
            [
             0.7,
             "#b8e186"
            ],
            [
             0.8,
             "#7fbc41"
            ],
            [
             0.9,
             "#4d9221"
            ],
            [
             1,
             "#276419"
            ]
           ],
           "sequential": [
            [
             0,
             "#0d0887"
            ],
            [
             0.1111111111111111,
             "#46039f"
            ],
            [
             0.2222222222222222,
             "#7201a8"
            ],
            [
             0.3333333333333333,
             "#9c179e"
            ],
            [
             0.4444444444444444,
             "#bd3786"
            ],
            [
             0.5555555555555556,
             "#d8576b"
            ],
            [
             0.6666666666666666,
             "#ed7953"
            ],
            [
             0.7777777777777778,
             "#fb9f3a"
            ],
            [
             0.8888888888888888,
             "#fdca26"
            ],
            [
             1,
             "#f0f921"
            ]
           ],
           "sequentialminus": [
            [
             0,
             "#0d0887"
            ],
            [
             0.1111111111111111,
             "#46039f"
            ],
            [
             0.2222222222222222,
             "#7201a8"
            ],
            [
             0.3333333333333333,
             "#9c179e"
            ],
            [
             0.4444444444444444,
             "#bd3786"
            ],
            [
             0.5555555555555556,
             "#d8576b"
            ],
            [
             0.6666666666666666,
             "#ed7953"
            ],
            [
             0.7777777777777778,
             "#fb9f3a"
            ],
            [
             0.8888888888888888,
             "#fdca26"
            ],
            [
             1,
             "#f0f921"
            ]
           ]
          },
          "colorway": [
           "#636efa",
           "#EF553B",
           "#00cc96",
           "#ab63fa",
           "#FFA15A",
           "#19d3f3",
           "#FF6692",
           "#B6E880",
           "#FF97FF",
           "#FECB52"
          ],
          "font": {
           "color": "#2a3f5f"
          },
          "geo": {
           "bgcolor": "white",
           "lakecolor": "white",
           "landcolor": "#E5ECF6",
           "showlakes": true,
           "showland": true,
           "subunitcolor": "white"
          },
          "hoverlabel": {
           "align": "left"
          },
          "hovermode": "closest",
          "mapbox": {
           "style": "light"
          },
          "paper_bgcolor": "white",
          "plot_bgcolor": "#E5ECF6",
          "polar": {
           "angularaxis": {
            "gridcolor": "white",
            "linecolor": "white",
            "ticks": ""
           },
           "bgcolor": "#E5ECF6",
           "radialaxis": {
            "gridcolor": "white",
            "linecolor": "white",
            "ticks": ""
           }
          },
          "scene": {
           "xaxis": {
            "backgroundcolor": "#E5ECF6",
            "gridcolor": "white",
            "gridwidth": 2,
            "linecolor": "white",
            "showbackground": true,
            "ticks": "",
            "zerolinecolor": "white"
           },
           "yaxis": {
            "backgroundcolor": "#E5ECF6",
            "gridcolor": "white",
            "gridwidth": 2,
            "linecolor": "white",
            "showbackground": true,
            "ticks": "",
            "zerolinecolor": "white"
           },
           "zaxis": {
            "backgroundcolor": "#E5ECF6",
            "gridcolor": "white",
            "gridwidth": 2,
            "linecolor": "white",
            "showbackground": true,
            "ticks": "",
            "zerolinecolor": "white"
           }
          },
          "shapedefaults": {
           "line": {
            "color": "#2a3f5f"
           }
          },
          "ternary": {
           "aaxis": {
            "gridcolor": "white",
            "linecolor": "white",
            "ticks": ""
           },
           "baxis": {
            "gridcolor": "white",
            "linecolor": "white",
            "ticks": ""
           },
           "bgcolor": "#E5ECF6",
           "caxis": {
            "gridcolor": "white",
            "linecolor": "white",
            "ticks": ""
           }
          },
          "title": {
           "x": 0.05
          },
          "xaxis": {
           "automargin": true,
           "gridcolor": "white",
           "linecolor": "white",
           "ticks": "",
           "title": {
            "standoff": 15
           },
           "zerolinecolor": "white",
           "zerolinewidth": 2
          },
          "yaxis": {
           "automargin": true,
           "gridcolor": "white",
           "linecolor": "white",
           "ticks": "",
           "title": {
            "standoff": 15
           },
           "zerolinecolor": "white",
           "zerolinewidth": 2
          }
         }
        },
        "title": {
         "text": "Number of orders per week per cuisine"
        },
        "xaxis": {
         "anchor": "y",
         "domain": [
          0,
          1
         ],
         "title": {
          "text": "week"
         }
        },
        "yaxis": {
         "anchor": "x",
         "domain": [
          0,
          1
         ],
         "title": {
          "text": "category"
         }
        }
       }
      },
      "text/html": [
       "<div>                            <div id=\"03a966f2-78bc-46b2-af36-7d0c8710afb0\" class=\"plotly-graph-div\" style=\"height:525px; width:100%;\"></div>            <script type=\"text/javascript\">                require([\"plotly\"], function(Plotly) {                    window.PLOTLYENV=window.PLOTLYENV || {};                                    if (document.getElementById(\"03a966f2-78bc-46b2-af36-7d0c8710afb0\")) {                    Plotly.newPlot(                        \"03a966f2-78bc-46b2-af36-7d0c8710afb0\",                        [{\"coloraxis\":\"coloraxis\",\"histfunc\":\"sum\",\"hovertemplate\":\"week=%{x}<br>category=%{y}<br>sum of num_orders=%{z}<extra></extra>\",\"name\":\"\",\"type\":\"histogram2d\",\"x\":[1,1,1,1,1,1,1,1,1,1,1,1,2,2,2,2,2,2,2,2,2,2,2,2,3,3,3,3,3,3,3,3,3,3,3,3,4,4,4,4,4,4,4,4,4,4,4,4,5,5,5,5,5,5,5,5,5,5,5,5,6,6,6,6,6,6,6,6,6,6,6,6,7,7,7,7,7,7,7,7,7,7,7,7,8,8,8,8,8,8,8,8,8,8,8,8,9,9,9,9,9,9,9,9,9,9,9,9,10,10,10,10,10,10,10,10,10,10,10,10,10,11,11,11,11,11,11,11,11,11,11,11,11,12,12,12,12,12,12,12,12,12,12,12,12,13,13,13,13,13,13,13,13,13,13,13,13,14,14,14,14,14,14,14,14,14,14,14,14,14,15,15,15,15,15,15,15,15,15,15,15,15,15,16,16,16,16,16,16,16,16,16,16,16,16,16,17,17,17,17,17,17,17,17,17,17,17,17,17,18,18,18,18,18,18,18,18,18,18,18,18,18,19,19,19,19,19,19,19,19,19,19,19,19,19,20,20,20,20,20,20,20,20,20,20,20,20,20,21,21,21,21,21,21,21,21,21,21,21,21,21,22,22,22,22,22,22,22,22,22,22,22,22,22,23,23,23,23,23,23,23,23,23,23,23,23,23,24,24,24,24,24,24,24,24,24,24,24,24,24,25,25,25,25,25,25,25,25,25,25,25,25,25,26,26,26,26,26,26,26,26,26,26,26,26,26,27,27,27,27,27,27,27,27,27,27,27,27,27,28,28,28,28,28,28,28,28,28,28,28,28,28,29,29,29,29,29,29,29,29,29,29,29,29,29,30,30,30,30,30,30,30,30,30,30,30,30,30,31,31,31,31,31,31,31,31,31,31,31,31,31,32,32,32,32,32,32,32,32,32,32,32,32,32,33,33,33,33,33,33,33,33,33,33,33,33,33,34,34,34,34,34,34,34,34,34,34,34,34,34,35,35,35,35,35,35,35,35,35,35,35,35,35,36,36,36,36,36,36,36,36,36,36,36,36,36,37,37,37,37,37,37,37,37,37,37,37,37,37,38,38,38,38,38,38,38,38,38,38,38,38,38,39,39,39,39,39,39,39,39,39,39,39,39,39,40,40,40,40,40,40,40,40,40,40,40,40,40,41,41,41,41,41,41,41,41,41,41,41,41,41,42,42,42,42,42,42,42,42,42,42,42,42,42,43,43,43,43,43,43,43,43,43,43,43,43,43,44,44,44,44,44,44,44,44,44,44,44,44,44,45,45,45,45,45,45,45,45,45,45,45,45,45,46,46,46,46,46,46,46,46,46,46,46,46,46,47,47,47,47,47,47,47,47,47,47,47,47,47,48,48,48,48,48,48,48,48,48,48,48,48,48,49,49,49,49,49,49,49,49,49,49,49,49,49,50,50,50,50,50,50,50,50,50,50,50,50,50,51,51,51,51,51,51,51,51,51,51,51,51,51,52,52,52,52,52,52,52,52,52,52,52,52,52,53,53,53,53,53,53,53,53,53,53,53,53,53,54,54,54,54,54,54,54,54,54,54,54,54,54,55,55,55,55,55,55,55,55,55,55,55,55,55,56,56,56,56,56,56,56,56,56,56,56,56,56,57,57,57,57,57,57,57,57,57,57,57,57,57,58,58,58,58,58,58,58,58,58,58,58,58,58,59,59,59,59,59,59,59,59,59,59,59,59,59,59,60,60,60,60,60,60,60,60,60,60,60,60,60,60,61,61,61,61,61,61,61,61,61,61,61,61,61,61,62,62,62,62,62,62,62,62,62,62,62,62,62,62,63,63,63,63,63,63,63,63,63,63,63,63,63,63,64,64,64,64,64,64,64,64,64,64,64,64,64,64,65,65,65,65,65,65,65,65,65,65,65,65,65,65,66,66,66,66,66,66,66,66,66,66,66,66,66,66,67,67,67,67,67,67,67,67,67,67,67,67,67,67,68,68,68,68,68,68,68,68,68,68,68,68,68,68,69,69,69,69,69,69,69,69,69,69,69,69,69,69,70,70,70,70,70,70,70,70,70,70,70,70,70,70,71,71,71,71,71,71,71,71,71,71,71,71,71,71,72,72,72,72,72,72,72,72,72,72,72,72,72,72,73,73,73,73,73,73,73,73,73,73,73,73,73,73,74,74,74,74,74,74,74,74,74,74,74,74,74,74,75,75,75,75,75,75,75,75,75,75,75,75,75,75,76,76,76,76,76,76,76,76,76,76,76,76,76,76,77,77,77,77,77,77,77,77,77,77,77,77,77,77,78,78,78,78,78,78,78,78,78,78,78,78,78,78,79,79,79,79,79,79,79,79,79,79,79,79,79,79,80,80,80,80,80,80,80,80,80,80,80,80,80,80,81,81,81,81,81,81,81,81,81,81,81,81,81,81,82,82,82,82,82,82,82,82,82,82,82,82,82,82,83,83,83,83,83,83,83,83,83,83,83,83,83,83,84,84,84,84,84,84,84,84,84,84,84,84,84,84,85,85,85,85,85,85,85,85,85,85,85,85,85,85,86,86,86,86,86,86,86,86,86,86,86,86,86,86,87,87,87,87,87,87,87,87,87,87,87,87,87,87,88,88,88,88,88,88,88,88,88,88,88,88,88,88,89,89,89,89,89,89,89,89,89,89,89,89,89,89,90,90,90,90,90,90,90,90,90,90,90,90,90,90,91,91,91,91,91,91,91,91,91,91,91,91,91,91,92,92,92,92,92,92,92,92,92,92,92,92,92,92,93,93,93,93,93,93,93,93,93,93,93,93,93,93,94,94,94,94,94,94,94,94,94,94,94,94,94,94,95,95,95,95,95,95,95,95,95,95,95,95,95,95,96,96,96,96,96,96,96,96,96,96,96,96,96,96,97,97,97,97,97,97,97,97,97,97,97,97,97,97,98,98,98,98,98,98,98,98,98,98,98,98,98,98,99,99,99,99,99,99,99,99,99,99,99,99,99,99,100,100,100,100,100,100,100,100,100,100,100,100,100,100,101,101,101,101,101,101,101,101,101,101,101,101,101,101,102,102,102,102,102,102,102,102,102,102,102,102,102,102,103,103,103,103,103,103,103,103,103,103,103,103,103,103,104,104,104,104,104,104,104,104,104,104,104,104,104,104,105,105,105,105,105,105,105,105,105,105,105,105,105,105,106,106,106,106,106,106,106,106,106,106,106,106,106,106,107,107,107,107,107,107,107,107,107,107,107,107,107,107,108,108,108,108,108,108,108,108,108,108,108,108,108,108,109,109,109,109,109,109,109,109,109,109,109,109,109,109,110,110,110,110,110,110,110,110,110,110,110,110,110,110,111,111,111,111,111,111,111,111,111,111,111,111,111,111,112,112,112,112,112,112,112,112,112,112,112,112,112,112,113,113,113,113,113,113,113,113,113,113,113,113,113,113,114,114,114,114,114,114,114,114,114,114,114,114,114,114,115,115,115,115,115,115,115,115,115,115,115,115,115,115,116,116,116,116,116,116,116,116,116,116,116,116,116,116,117,117,117,117,117,117,117,117,117,117,117,117,117,117,118,118,118,118,118,118,118,118,118,118,118,118,118,118,119,119,119,119,119,119,119,119,119,119,119,119,119,119,120,120,120,120,120,120,120,120,120,120,120,120,120,120,121,121,121,121,121,121,121,121,121,121,121,121,121,121,122,122,122,122,122,122,122,122,122,122,122,122,122,122,123,123,123,123,123,123,123,123,123,123,123,123,123,123,124,124,124,124,124,124,124,124,124,124,124,124,124,124,125,125,125,125,125,125,125,125,125,125,125,125,125,125,126,126,126,126,126,126,126,126,126,126,126,126,126,126,127,127,127,127,127,127,127,127,127,127,127,127,127,127,128,128,128,128,128,128,128,128,128,128,128,128,128,128,129,129,129,129,129,129,129,129,129,129,129,129,129,129,130,130,130,130,130,130,130,130,130,130,130,130,130,130,131,131,131,131,131,131,131,131,131,131,131,131,131,131,132,132,132,132,132,132,132,132,132,132,132,132,132,132,133,133,133,133,133,133,133,133,133,133,133,133,133,133,134,134,134,134,134,134,134,134,134,134,134,134,134,134,135,135,135,135,135,135,135,135,135,135,135,135,135,135,136,136,136,136,136,136,136,136,136,136,136,136,136,136,137,137,137,137,137,137,137,137,137,137,137,137,137,137,138,138,138,138,138,138,138,138,138,138,138,138,138,138,139,139,139,139,139,139,139,139,139,139,139,139,139,139,140,140,140,140,140,140,140,140,140,140,140,140,140,140,141,141,141,141,141,141,141,141,141,141,141,141,141,141,142,142,142,142,142,142,142,142,142,142,142,142,142,142,143,143,143,143,143,143,143,143,143,143,143,143,143,143,144,144,144,144,144,144,144,144,144,144,144,144,144,144,145,145,145,145,145,145,145,145,145,145,145,145,145,145],\"xaxis\":\"x\",\"xbingroup\":\"x\",\"y\":[\"Beverages\",\"Biryani\",\"Desert\",\"Extras\",\"Other Snacks\",\"Pasta\",\"Pizza\",\"Rice Bowl\",\"Sandwich\",\"Seafood\",\"Soup\",\"Starters\",\"Beverages\",\"Biryani\",\"Desert\",\"Extras\",\"Other Snacks\",\"Pasta\",\"Pizza\",\"Rice Bowl\",\"Sandwich\",\"Seafood\",\"Soup\",\"Starters\",\"Beverages\",\"Biryani\",\"Desert\",\"Extras\",\"Other Snacks\",\"Pasta\",\"Pizza\",\"Rice Bowl\",\"Sandwich\",\"Seafood\",\"Soup\",\"Starters\",\"Beverages\",\"Biryani\",\"Desert\",\"Extras\",\"Other Snacks\",\"Pasta\",\"Pizza\",\"Rice Bowl\",\"Sandwich\",\"Seafood\",\"Soup\",\"Starters\",\"Beverages\",\"Biryani\",\"Desert\",\"Extras\",\"Other Snacks\",\"Pasta\",\"Pizza\",\"Rice Bowl\",\"Sandwich\",\"Seafood\",\"Soup\",\"Starters\",\"Beverages\",\"Biryani\",\"Desert\",\"Extras\",\"Other Snacks\",\"Pasta\",\"Pizza\",\"Rice Bowl\",\"Sandwich\",\"Seafood\",\"Soup\",\"Starters\",\"Beverages\",\"Biryani\",\"Desert\",\"Extras\",\"Other Snacks\",\"Pasta\",\"Pizza\",\"Rice Bowl\",\"Sandwich\",\"Seafood\",\"Soup\",\"Starters\",\"Beverages\",\"Biryani\",\"Desert\",\"Extras\",\"Other Snacks\",\"Pasta\",\"Pizza\",\"Rice Bowl\",\"Sandwich\",\"Seafood\",\"Soup\",\"Starters\",\"Beverages\",\"Biryani\",\"Desert\",\"Extras\",\"Other Snacks\",\"Pasta\",\"Pizza\",\"Rice Bowl\",\"Sandwich\",\"Seafood\",\"Soup\",\"Starters\",\"Beverages\",\"Biryani\",\"Desert\",\"Extras\",\"Other Snacks\",\"Pasta\",\"Pizza\",\"Rice Bowl\",\"Salad\",\"Sandwich\",\"Seafood\",\"Soup\",\"Starters\",\"Beverages\",\"Biryani\",\"Desert\",\"Extras\",\"Other Snacks\",\"Pasta\",\"Pizza\",\"Rice Bowl\",\"Sandwich\",\"Seafood\",\"Soup\",\"Starters\",\"Beverages\",\"Biryani\",\"Desert\",\"Extras\",\"Other Snacks\",\"Pasta\",\"Pizza\",\"Rice Bowl\",\"Sandwich\",\"Seafood\",\"Soup\",\"Starters\",\"Beverages\",\"Biryani\",\"Desert\",\"Extras\",\"Other Snacks\",\"Pasta\",\"Pizza\",\"Rice Bowl\",\"Sandwich\",\"Seafood\",\"Soup\",\"Starters\",\"Beverages\",\"Biryani\",\"Desert\",\"Extras\",\"Other Snacks\",\"Pasta\",\"Pizza\",\"Rice Bowl\",\"Salad\",\"Sandwich\",\"Seafood\",\"Soup\",\"Starters\",\"Beverages\",\"Biryani\",\"Desert\",\"Extras\",\"Other Snacks\",\"Pasta\",\"Pizza\",\"Rice Bowl\",\"Salad\",\"Sandwich\",\"Seafood\",\"Soup\",\"Starters\",\"Beverages\",\"Biryani\",\"Desert\",\"Extras\",\"Other Snacks\",\"Pasta\",\"Pizza\",\"Rice Bowl\",\"Salad\",\"Sandwich\",\"Seafood\",\"Soup\",\"Starters\",\"Beverages\",\"Biryani\",\"Desert\",\"Extras\",\"Other Snacks\",\"Pasta\",\"Pizza\",\"Rice Bowl\",\"Salad\",\"Sandwich\",\"Seafood\",\"Soup\",\"Starters\",\"Beverages\",\"Biryani\",\"Desert\",\"Extras\",\"Other Snacks\",\"Pasta\",\"Pizza\",\"Rice Bowl\",\"Salad\",\"Sandwich\",\"Seafood\",\"Soup\",\"Starters\",\"Beverages\",\"Biryani\",\"Desert\",\"Extras\",\"Other Snacks\",\"Pasta\",\"Pizza\",\"Rice Bowl\",\"Salad\",\"Sandwich\",\"Seafood\",\"Soup\",\"Starters\",\"Beverages\",\"Biryani\",\"Desert\",\"Extras\",\"Other Snacks\",\"Pasta\",\"Pizza\",\"Rice Bowl\",\"Salad\",\"Sandwich\",\"Seafood\",\"Soup\",\"Starters\",\"Beverages\",\"Biryani\",\"Desert\",\"Extras\",\"Other Snacks\",\"Pasta\",\"Pizza\",\"Rice Bowl\",\"Salad\",\"Sandwich\",\"Seafood\",\"Soup\",\"Starters\",\"Beverages\",\"Biryani\",\"Desert\",\"Extras\",\"Other Snacks\",\"Pasta\",\"Pizza\",\"Rice Bowl\",\"Salad\",\"Sandwich\",\"Seafood\",\"Soup\",\"Starters\",\"Beverages\",\"Biryani\",\"Desert\",\"Extras\",\"Other Snacks\",\"Pasta\",\"Pizza\",\"Rice Bowl\",\"Salad\",\"Sandwich\",\"Seafood\",\"Soup\",\"Starters\",\"Beverages\",\"Biryani\",\"Desert\",\"Extras\",\"Other Snacks\",\"Pasta\",\"Pizza\",\"Rice Bowl\",\"Salad\",\"Sandwich\",\"Seafood\",\"Soup\",\"Starters\",\"Beverages\",\"Biryani\",\"Desert\",\"Extras\",\"Other Snacks\",\"Pasta\",\"Pizza\",\"Rice Bowl\",\"Salad\",\"Sandwich\",\"Seafood\",\"Soup\",\"Starters\",\"Beverages\",\"Biryani\",\"Desert\",\"Extras\",\"Other Snacks\",\"Pasta\",\"Pizza\",\"Rice Bowl\",\"Salad\",\"Sandwich\",\"Seafood\",\"Soup\",\"Starters\",\"Beverages\",\"Biryani\",\"Desert\",\"Extras\",\"Other Snacks\",\"Pasta\",\"Pizza\",\"Rice Bowl\",\"Salad\",\"Sandwich\",\"Seafood\",\"Soup\",\"Starters\",\"Beverages\",\"Biryani\",\"Desert\",\"Extras\",\"Other Snacks\",\"Pasta\",\"Pizza\",\"Rice Bowl\",\"Salad\",\"Sandwich\",\"Seafood\",\"Soup\",\"Starters\",\"Beverages\",\"Biryani\",\"Desert\",\"Extras\",\"Other Snacks\",\"Pasta\",\"Pizza\",\"Rice Bowl\",\"Salad\",\"Sandwich\",\"Seafood\",\"Soup\",\"Starters\",\"Beverages\",\"Biryani\",\"Desert\",\"Extras\",\"Other Snacks\",\"Pasta\",\"Pizza\",\"Rice Bowl\",\"Salad\",\"Sandwich\",\"Seafood\",\"Soup\",\"Starters\",\"Beverages\",\"Biryani\",\"Desert\",\"Extras\",\"Other Snacks\",\"Pasta\",\"Pizza\",\"Rice Bowl\",\"Salad\",\"Sandwich\",\"Seafood\",\"Soup\",\"Starters\",\"Beverages\",\"Biryani\",\"Desert\",\"Extras\",\"Other Snacks\",\"Pasta\",\"Pizza\",\"Rice Bowl\",\"Salad\",\"Sandwich\",\"Seafood\",\"Soup\",\"Starters\",\"Beverages\",\"Biryani\",\"Desert\",\"Extras\",\"Other Snacks\",\"Pasta\",\"Pizza\",\"Rice Bowl\",\"Salad\",\"Sandwich\",\"Seafood\",\"Soup\",\"Starters\",\"Beverages\",\"Biryani\",\"Desert\",\"Extras\",\"Other Snacks\",\"Pasta\",\"Pizza\",\"Rice Bowl\",\"Salad\",\"Sandwich\",\"Seafood\",\"Soup\",\"Starters\",\"Beverages\",\"Biryani\",\"Desert\",\"Extras\",\"Other Snacks\",\"Pasta\",\"Pizza\",\"Rice Bowl\",\"Salad\",\"Sandwich\",\"Seafood\",\"Soup\",\"Starters\",\"Beverages\",\"Biryani\",\"Desert\",\"Extras\",\"Other Snacks\",\"Pasta\",\"Pizza\",\"Rice Bowl\",\"Salad\",\"Sandwich\",\"Seafood\",\"Soup\",\"Starters\",\"Beverages\",\"Biryani\",\"Desert\",\"Extras\",\"Other Snacks\",\"Pasta\",\"Pizza\",\"Rice Bowl\",\"Salad\",\"Sandwich\",\"Seafood\",\"Soup\",\"Starters\",\"Beverages\",\"Biryani\",\"Desert\",\"Extras\",\"Other Snacks\",\"Pasta\",\"Pizza\",\"Rice Bowl\",\"Salad\",\"Sandwich\",\"Seafood\",\"Soup\",\"Starters\",\"Beverages\",\"Biryani\",\"Desert\",\"Extras\",\"Other Snacks\",\"Pasta\",\"Pizza\",\"Rice Bowl\",\"Salad\",\"Sandwich\",\"Seafood\",\"Soup\",\"Starters\",\"Beverages\",\"Biryani\",\"Desert\",\"Extras\",\"Other Snacks\",\"Pasta\",\"Pizza\",\"Rice Bowl\",\"Salad\",\"Sandwich\",\"Seafood\",\"Soup\",\"Starters\",\"Beverages\",\"Biryani\",\"Desert\",\"Extras\",\"Other Snacks\",\"Pasta\",\"Pizza\",\"Rice Bowl\",\"Salad\",\"Sandwich\",\"Seafood\",\"Soup\",\"Starters\",\"Beverages\",\"Biryani\",\"Desert\",\"Extras\",\"Other Snacks\",\"Pasta\",\"Pizza\",\"Rice Bowl\",\"Salad\",\"Sandwich\",\"Seafood\",\"Soup\",\"Starters\",\"Beverages\",\"Biryani\",\"Desert\",\"Extras\",\"Other Snacks\",\"Pasta\",\"Pizza\",\"Rice Bowl\",\"Salad\",\"Sandwich\",\"Seafood\",\"Soup\",\"Starters\",\"Beverages\",\"Biryani\",\"Desert\",\"Extras\",\"Other Snacks\",\"Pasta\",\"Pizza\",\"Rice Bowl\",\"Salad\",\"Sandwich\",\"Seafood\",\"Soup\",\"Starters\",\"Beverages\",\"Biryani\",\"Desert\",\"Extras\",\"Other Snacks\",\"Pasta\",\"Pizza\",\"Rice Bowl\",\"Salad\",\"Sandwich\",\"Seafood\",\"Soup\",\"Starters\",\"Beverages\",\"Biryani\",\"Desert\",\"Extras\",\"Other Snacks\",\"Pasta\",\"Pizza\",\"Rice Bowl\",\"Salad\",\"Sandwich\",\"Seafood\",\"Soup\",\"Starters\",\"Beverages\",\"Biryani\",\"Desert\",\"Extras\",\"Other Snacks\",\"Pasta\",\"Pizza\",\"Rice Bowl\",\"Salad\",\"Sandwich\",\"Seafood\",\"Soup\",\"Starters\",\"Beverages\",\"Biryani\",\"Desert\",\"Extras\",\"Other Snacks\",\"Pasta\",\"Pizza\",\"Rice Bowl\",\"Salad\",\"Sandwich\",\"Seafood\",\"Soup\",\"Starters\",\"Beverages\",\"Biryani\",\"Desert\",\"Extras\",\"Other Snacks\",\"Pasta\",\"Pizza\",\"Rice Bowl\",\"Salad\",\"Sandwich\",\"Seafood\",\"Soup\",\"Starters\",\"Beverages\",\"Biryani\",\"Desert\",\"Extras\",\"Other Snacks\",\"Pasta\",\"Pizza\",\"Rice Bowl\",\"Salad\",\"Sandwich\",\"Seafood\",\"Soup\",\"Starters\",\"Beverages\",\"Biryani\",\"Desert\",\"Extras\",\"Other Snacks\",\"Pasta\",\"Pizza\",\"Rice Bowl\",\"Salad\",\"Sandwich\",\"Seafood\",\"Soup\",\"Starters\",\"Beverages\",\"Biryani\",\"Desert\",\"Extras\",\"Other Snacks\",\"Pasta\",\"Pizza\",\"Rice Bowl\",\"Salad\",\"Sandwich\",\"Seafood\",\"Soup\",\"Starters\",\"Beverages\",\"Biryani\",\"Desert\",\"Extras\",\"Other Snacks\",\"Pasta\",\"Pizza\",\"Rice Bowl\",\"Salad\",\"Sandwich\",\"Seafood\",\"Soup\",\"Starters\",\"Beverages\",\"Biryani\",\"Desert\",\"Extras\",\"Other Snacks\",\"Pasta\",\"Pizza\",\"Rice Bowl\",\"Salad\",\"Sandwich\",\"Seafood\",\"Soup\",\"Starters\",\"Beverages\",\"Biryani\",\"Desert\",\"Extras\",\"Other Snacks\",\"Pasta\",\"Pizza\",\"Rice Bowl\",\"Salad\",\"Sandwich\",\"Seafood\",\"Soup\",\"Starters\",\"Beverages\",\"Biryani\",\"Desert\",\"Extras\",\"Other Snacks\",\"Pasta\",\"Pizza\",\"Rice Bowl\",\"Salad\",\"Sandwich\",\"Seafood\",\"Soup\",\"Starters\",\"Beverages\",\"Biryani\",\"Desert\",\"Extras\",\"Other Snacks\",\"Pasta\",\"Pizza\",\"Rice Bowl\",\"Salad\",\"Sandwich\",\"Seafood\",\"Soup\",\"Starters\",\"Beverages\",\"Biryani\",\"Desert\",\"Extras\",\"Other Snacks\",\"Pasta\",\"Pizza\",\"Rice Bowl\",\"Salad\",\"Sandwich\",\"Seafood\",\"Soup\",\"Starters\",\"Beverages\",\"Biryani\",\"Desert\",\"Extras\",\"Fish\",\"Other Snacks\",\"Pasta\",\"Pizza\",\"Rice Bowl\",\"Salad\",\"Sandwich\",\"Seafood\",\"Soup\",\"Starters\",\"Beverages\",\"Biryani\",\"Desert\",\"Extras\",\"Fish\",\"Other Snacks\",\"Pasta\",\"Pizza\",\"Rice Bowl\",\"Salad\",\"Sandwich\",\"Seafood\",\"Soup\",\"Starters\",\"Beverages\",\"Biryani\",\"Desert\",\"Extras\",\"Fish\",\"Other Snacks\",\"Pasta\",\"Pizza\",\"Rice Bowl\",\"Salad\",\"Sandwich\",\"Seafood\",\"Soup\",\"Starters\",\"Beverages\",\"Biryani\",\"Desert\",\"Extras\",\"Fish\",\"Other Snacks\",\"Pasta\",\"Pizza\",\"Rice Bowl\",\"Salad\",\"Sandwich\",\"Seafood\",\"Soup\",\"Starters\",\"Beverages\",\"Biryani\",\"Desert\",\"Extras\",\"Fish\",\"Other Snacks\",\"Pasta\",\"Pizza\",\"Rice Bowl\",\"Salad\",\"Sandwich\",\"Seafood\",\"Soup\",\"Starters\",\"Beverages\",\"Biryani\",\"Desert\",\"Extras\",\"Fish\",\"Other Snacks\",\"Pasta\",\"Pizza\",\"Rice Bowl\",\"Salad\",\"Sandwich\",\"Seafood\",\"Soup\",\"Starters\",\"Beverages\",\"Biryani\",\"Desert\",\"Extras\",\"Fish\",\"Other Snacks\",\"Pasta\",\"Pizza\",\"Rice Bowl\",\"Salad\",\"Sandwich\",\"Seafood\",\"Soup\",\"Starters\",\"Beverages\",\"Biryani\",\"Desert\",\"Extras\",\"Fish\",\"Other Snacks\",\"Pasta\",\"Pizza\",\"Rice Bowl\",\"Salad\",\"Sandwich\",\"Seafood\",\"Soup\",\"Starters\",\"Beverages\",\"Biryani\",\"Desert\",\"Extras\",\"Fish\",\"Other Snacks\",\"Pasta\",\"Pizza\",\"Rice Bowl\",\"Salad\",\"Sandwich\",\"Seafood\",\"Soup\",\"Starters\",\"Beverages\",\"Biryani\",\"Desert\",\"Extras\",\"Fish\",\"Other Snacks\",\"Pasta\",\"Pizza\",\"Rice Bowl\",\"Salad\",\"Sandwich\",\"Seafood\",\"Soup\",\"Starters\",\"Beverages\",\"Biryani\",\"Desert\",\"Extras\",\"Fish\",\"Other Snacks\",\"Pasta\",\"Pizza\",\"Rice Bowl\",\"Salad\",\"Sandwich\",\"Seafood\",\"Soup\",\"Starters\",\"Beverages\",\"Biryani\",\"Desert\",\"Extras\",\"Fish\",\"Other Snacks\",\"Pasta\",\"Pizza\",\"Rice Bowl\",\"Salad\",\"Sandwich\",\"Seafood\",\"Soup\",\"Starters\",\"Beverages\",\"Biryani\",\"Desert\",\"Extras\",\"Fish\",\"Other Snacks\",\"Pasta\",\"Pizza\",\"Rice Bowl\",\"Salad\",\"Sandwich\",\"Seafood\",\"Soup\",\"Starters\",\"Beverages\",\"Biryani\",\"Desert\",\"Extras\",\"Fish\",\"Other Snacks\",\"Pasta\",\"Pizza\",\"Rice Bowl\",\"Salad\",\"Sandwich\",\"Seafood\",\"Soup\",\"Starters\",\"Beverages\",\"Biryani\",\"Desert\",\"Extras\",\"Fish\",\"Other Snacks\",\"Pasta\",\"Pizza\",\"Rice Bowl\",\"Salad\",\"Sandwich\",\"Seafood\",\"Soup\",\"Starters\",\"Beverages\",\"Biryani\",\"Desert\",\"Extras\",\"Fish\",\"Other Snacks\",\"Pasta\",\"Pizza\",\"Rice Bowl\",\"Salad\",\"Sandwich\",\"Seafood\",\"Soup\",\"Starters\",\"Beverages\",\"Biryani\",\"Desert\",\"Extras\",\"Fish\",\"Other Snacks\",\"Pasta\",\"Pizza\",\"Rice Bowl\",\"Salad\",\"Sandwich\",\"Seafood\",\"Soup\",\"Starters\",\"Beverages\",\"Biryani\",\"Desert\",\"Extras\",\"Fish\",\"Other Snacks\",\"Pasta\",\"Pizza\",\"Rice Bowl\",\"Salad\",\"Sandwich\",\"Seafood\",\"Soup\",\"Starters\",\"Beverages\",\"Biryani\",\"Desert\",\"Extras\",\"Fish\",\"Other Snacks\",\"Pasta\",\"Pizza\",\"Rice Bowl\",\"Salad\",\"Sandwich\",\"Seafood\",\"Soup\",\"Starters\",\"Beverages\",\"Biryani\",\"Desert\",\"Extras\",\"Fish\",\"Other Snacks\",\"Pasta\",\"Pizza\",\"Rice Bowl\",\"Salad\",\"Sandwich\",\"Seafood\",\"Soup\",\"Starters\",\"Beverages\",\"Biryani\",\"Desert\",\"Extras\",\"Fish\",\"Other Snacks\",\"Pasta\",\"Pizza\",\"Rice Bowl\",\"Salad\",\"Sandwich\",\"Seafood\",\"Soup\",\"Starters\",\"Beverages\",\"Biryani\",\"Desert\",\"Extras\",\"Fish\",\"Other Snacks\",\"Pasta\",\"Pizza\",\"Rice Bowl\",\"Salad\",\"Sandwich\",\"Seafood\",\"Soup\",\"Starters\",\"Beverages\",\"Biryani\",\"Desert\",\"Extras\",\"Fish\",\"Other Snacks\",\"Pasta\",\"Pizza\",\"Rice Bowl\",\"Salad\",\"Sandwich\",\"Seafood\",\"Soup\",\"Starters\",\"Beverages\",\"Biryani\",\"Desert\",\"Extras\",\"Fish\",\"Other Snacks\",\"Pasta\",\"Pizza\",\"Rice Bowl\",\"Salad\",\"Sandwich\",\"Seafood\",\"Soup\",\"Starters\",\"Beverages\",\"Biryani\",\"Desert\",\"Extras\",\"Fish\",\"Other Snacks\",\"Pasta\",\"Pizza\",\"Rice Bowl\",\"Salad\",\"Sandwich\",\"Seafood\",\"Soup\",\"Starters\",\"Beverages\",\"Biryani\",\"Desert\",\"Extras\",\"Fish\",\"Other Snacks\",\"Pasta\",\"Pizza\",\"Rice Bowl\",\"Salad\",\"Sandwich\",\"Seafood\",\"Soup\",\"Starters\",\"Beverages\",\"Biryani\",\"Desert\",\"Extras\",\"Fish\",\"Other Snacks\",\"Pasta\",\"Pizza\",\"Rice Bowl\",\"Salad\",\"Sandwich\",\"Seafood\",\"Soup\",\"Starters\",\"Beverages\",\"Biryani\",\"Desert\",\"Extras\",\"Fish\",\"Other Snacks\",\"Pasta\",\"Pizza\",\"Rice Bowl\",\"Salad\",\"Sandwich\",\"Seafood\",\"Soup\",\"Starters\",\"Beverages\",\"Biryani\",\"Desert\",\"Extras\",\"Fish\",\"Other Snacks\",\"Pasta\",\"Pizza\",\"Rice Bowl\",\"Salad\",\"Sandwich\",\"Seafood\",\"Soup\",\"Starters\",\"Beverages\",\"Biryani\",\"Desert\",\"Extras\",\"Fish\",\"Other Snacks\",\"Pasta\",\"Pizza\",\"Rice Bowl\",\"Salad\",\"Sandwich\",\"Seafood\",\"Soup\",\"Starters\",\"Beverages\",\"Biryani\",\"Desert\",\"Extras\",\"Fish\",\"Other Snacks\",\"Pasta\",\"Pizza\",\"Rice Bowl\",\"Salad\",\"Sandwich\",\"Seafood\",\"Soup\",\"Starters\",\"Beverages\",\"Biryani\",\"Desert\",\"Extras\",\"Fish\",\"Other Snacks\",\"Pasta\",\"Pizza\",\"Rice Bowl\",\"Salad\",\"Sandwich\",\"Seafood\",\"Soup\",\"Starters\",\"Beverages\",\"Biryani\",\"Desert\",\"Extras\",\"Fish\",\"Other Snacks\",\"Pasta\",\"Pizza\",\"Rice Bowl\",\"Salad\",\"Sandwich\",\"Seafood\",\"Soup\",\"Starters\",\"Beverages\",\"Biryani\",\"Desert\",\"Extras\",\"Fish\",\"Other Snacks\",\"Pasta\",\"Pizza\",\"Rice Bowl\",\"Salad\",\"Sandwich\",\"Seafood\",\"Soup\",\"Starters\",\"Beverages\",\"Biryani\",\"Desert\",\"Extras\",\"Fish\",\"Other Snacks\",\"Pasta\",\"Pizza\",\"Rice Bowl\",\"Salad\",\"Sandwich\",\"Seafood\",\"Soup\",\"Starters\",\"Beverages\",\"Biryani\",\"Desert\",\"Extras\",\"Fish\",\"Other Snacks\",\"Pasta\",\"Pizza\",\"Rice Bowl\",\"Salad\",\"Sandwich\",\"Seafood\",\"Soup\",\"Starters\",\"Beverages\",\"Biryani\",\"Desert\",\"Extras\",\"Fish\",\"Other Snacks\",\"Pasta\",\"Pizza\",\"Rice Bowl\",\"Salad\",\"Sandwich\",\"Seafood\",\"Soup\",\"Starters\",\"Beverages\",\"Biryani\",\"Desert\",\"Extras\",\"Fish\",\"Other Snacks\",\"Pasta\",\"Pizza\",\"Rice Bowl\",\"Salad\",\"Sandwich\",\"Seafood\",\"Soup\",\"Starters\",\"Beverages\",\"Biryani\",\"Desert\",\"Extras\",\"Fish\",\"Other Snacks\",\"Pasta\",\"Pizza\",\"Rice Bowl\",\"Salad\",\"Sandwich\",\"Seafood\",\"Soup\",\"Starters\",\"Beverages\",\"Biryani\",\"Desert\",\"Extras\",\"Fish\",\"Other Snacks\",\"Pasta\",\"Pizza\",\"Rice Bowl\",\"Salad\",\"Sandwich\",\"Seafood\",\"Soup\",\"Starters\",\"Beverages\",\"Biryani\",\"Desert\",\"Extras\",\"Fish\",\"Other Snacks\",\"Pasta\",\"Pizza\",\"Rice Bowl\",\"Salad\",\"Sandwich\",\"Seafood\",\"Soup\",\"Starters\",\"Beverages\",\"Biryani\",\"Desert\",\"Extras\",\"Fish\",\"Other Snacks\",\"Pasta\",\"Pizza\",\"Rice Bowl\",\"Salad\",\"Sandwich\",\"Seafood\",\"Soup\",\"Starters\",\"Beverages\",\"Biryani\",\"Desert\",\"Extras\",\"Fish\",\"Other Snacks\",\"Pasta\",\"Pizza\",\"Rice Bowl\",\"Salad\",\"Sandwich\",\"Seafood\",\"Soup\",\"Starters\",\"Beverages\",\"Biryani\",\"Desert\",\"Extras\",\"Fish\",\"Other Snacks\",\"Pasta\",\"Pizza\",\"Rice Bowl\",\"Salad\",\"Sandwich\",\"Seafood\",\"Soup\",\"Starters\",\"Beverages\",\"Biryani\",\"Desert\",\"Extras\",\"Fish\",\"Other Snacks\",\"Pasta\",\"Pizza\",\"Rice Bowl\",\"Salad\",\"Sandwich\",\"Seafood\",\"Soup\",\"Starters\",\"Beverages\",\"Biryani\",\"Desert\",\"Extras\",\"Fish\",\"Other Snacks\",\"Pasta\",\"Pizza\",\"Rice Bowl\",\"Salad\",\"Sandwich\",\"Seafood\",\"Soup\",\"Starters\",\"Beverages\",\"Biryani\",\"Desert\",\"Extras\",\"Fish\",\"Other Snacks\",\"Pasta\",\"Pizza\",\"Rice Bowl\",\"Salad\",\"Sandwich\",\"Seafood\",\"Soup\",\"Starters\",\"Beverages\",\"Biryani\",\"Desert\",\"Extras\",\"Fish\",\"Other Snacks\",\"Pasta\",\"Pizza\",\"Rice Bowl\",\"Salad\",\"Sandwich\",\"Seafood\",\"Soup\",\"Starters\",\"Beverages\",\"Biryani\",\"Desert\",\"Extras\",\"Fish\",\"Other Snacks\",\"Pasta\",\"Pizza\",\"Rice Bowl\",\"Salad\",\"Sandwich\",\"Seafood\",\"Soup\",\"Starters\",\"Beverages\",\"Biryani\",\"Desert\",\"Extras\",\"Fish\",\"Other Snacks\",\"Pasta\",\"Pizza\",\"Rice Bowl\",\"Salad\",\"Sandwich\",\"Seafood\",\"Soup\",\"Starters\",\"Beverages\",\"Biryani\",\"Desert\",\"Extras\",\"Fish\",\"Other Snacks\",\"Pasta\",\"Pizza\",\"Rice Bowl\",\"Salad\",\"Sandwich\",\"Seafood\",\"Soup\",\"Starters\",\"Beverages\",\"Biryani\",\"Desert\",\"Extras\",\"Fish\",\"Other Snacks\",\"Pasta\",\"Pizza\",\"Rice Bowl\",\"Salad\",\"Sandwich\",\"Seafood\",\"Soup\",\"Starters\",\"Beverages\",\"Biryani\",\"Desert\",\"Extras\",\"Fish\",\"Other Snacks\",\"Pasta\",\"Pizza\",\"Rice Bowl\",\"Salad\",\"Sandwich\",\"Seafood\",\"Soup\",\"Starters\",\"Beverages\",\"Biryani\",\"Desert\",\"Extras\",\"Fish\",\"Other Snacks\",\"Pasta\",\"Pizza\",\"Rice Bowl\",\"Salad\",\"Sandwich\",\"Seafood\",\"Soup\",\"Starters\",\"Beverages\",\"Biryani\",\"Desert\",\"Extras\",\"Fish\",\"Other Snacks\",\"Pasta\",\"Pizza\",\"Rice Bowl\",\"Salad\",\"Sandwich\",\"Seafood\",\"Soup\",\"Starters\",\"Beverages\",\"Biryani\",\"Desert\",\"Extras\",\"Fish\",\"Other Snacks\",\"Pasta\",\"Pizza\",\"Rice Bowl\",\"Salad\",\"Sandwich\",\"Seafood\",\"Soup\",\"Starters\",\"Beverages\",\"Biryani\",\"Desert\",\"Extras\",\"Fish\",\"Other Snacks\",\"Pasta\",\"Pizza\",\"Rice Bowl\",\"Salad\",\"Sandwich\",\"Seafood\",\"Soup\",\"Starters\",\"Beverages\",\"Biryani\",\"Desert\",\"Extras\",\"Fish\",\"Other Snacks\",\"Pasta\",\"Pizza\",\"Rice Bowl\",\"Salad\",\"Sandwich\",\"Seafood\",\"Soup\",\"Starters\",\"Beverages\",\"Biryani\",\"Desert\",\"Extras\",\"Fish\",\"Other Snacks\",\"Pasta\",\"Pizza\",\"Rice Bowl\",\"Salad\",\"Sandwich\",\"Seafood\",\"Soup\",\"Starters\",\"Beverages\",\"Biryani\",\"Desert\",\"Extras\",\"Fish\",\"Other Snacks\",\"Pasta\",\"Pizza\",\"Rice Bowl\",\"Salad\",\"Sandwich\",\"Seafood\",\"Soup\",\"Starters\",\"Beverages\",\"Biryani\",\"Desert\",\"Extras\",\"Fish\",\"Other Snacks\",\"Pasta\",\"Pizza\",\"Rice Bowl\",\"Salad\",\"Sandwich\",\"Seafood\",\"Soup\",\"Starters\",\"Beverages\",\"Biryani\",\"Desert\",\"Extras\",\"Fish\",\"Other Snacks\",\"Pasta\",\"Pizza\",\"Rice Bowl\",\"Salad\",\"Sandwich\",\"Seafood\",\"Soup\",\"Starters\",\"Beverages\",\"Biryani\",\"Desert\",\"Extras\",\"Fish\",\"Other Snacks\",\"Pasta\",\"Pizza\",\"Rice Bowl\",\"Salad\",\"Sandwich\",\"Seafood\",\"Soup\",\"Starters\",\"Beverages\",\"Biryani\",\"Desert\",\"Extras\",\"Fish\",\"Other Snacks\",\"Pasta\",\"Pizza\",\"Rice Bowl\",\"Salad\",\"Sandwich\",\"Seafood\",\"Soup\",\"Starters\",\"Beverages\",\"Biryani\",\"Desert\",\"Extras\",\"Fish\",\"Other Snacks\",\"Pasta\",\"Pizza\",\"Rice Bowl\",\"Salad\",\"Sandwich\",\"Seafood\",\"Soup\",\"Starters\",\"Beverages\",\"Biryani\",\"Desert\",\"Extras\",\"Fish\",\"Other Snacks\",\"Pasta\",\"Pizza\",\"Rice Bowl\",\"Salad\",\"Sandwich\",\"Seafood\",\"Soup\",\"Starters\",\"Beverages\",\"Biryani\",\"Desert\",\"Extras\",\"Fish\",\"Other Snacks\",\"Pasta\",\"Pizza\",\"Rice Bowl\",\"Salad\",\"Sandwich\",\"Seafood\",\"Soup\",\"Starters\",\"Beverages\",\"Biryani\",\"Desert\",\"Extras\",\"Fish\",\"Other Snacks\",\"Pasta\",\"Pizza\",\"Rice Bowl\",\"Salad\",\"Sandwich\",\"Seafood\",\"Soup\",\"Starters\",\"Beverages\",\"Biryani\",\"Desert\",\"Extras\",\"Fish\",\"Other Snacks\",\"Pasta\",\"Pizza\",\"Rice Bowl\",\"Salad\",\"Sandwich\",\"Seafood\",\"Soup\",\"Starters\",\"Beverages\",\"Biryani\",\"Desert\",\"Extras\",\"Fish\",\"Other Snacks\",\"Pasta\",\"Pizza\",\"Rice Bowl\",\"Salad\",\"Sandwich\",\"Seafood\",\"Soup\",\"Starters\",\"Beverages\",\"Biryani\",\"Desert\",\"Extras\",\"Fish\",\"Other Snacks\",\"Pasta\",\"Pizza\",\"Rice Bowl\",\"Salad\",\"Sandwich\",\"Seafood\",\"Soup\",\"Starters\",\"Beverages\",\"Biryani\",\"Desert\",\"Extras\",\"Fish\",\"Other Snacks\",\"Pasta\",\"Pizza\",\"Rice Bowl\",\"Salad\",\"Sandwich\",\"Seafood\",\"Soup\",\"Starters\",\"Beverages\",\"Biryani\",\"Desert\",\"Extras\",\"Fish\",\"Other Snacks\",\"Pasta\",\"Pizza\",\"Rice Bowl\",\"Salad\",\"Sandwich\",\"Seafood\",\"Soup\",\"Starters\",\"Beverages\",\"Biryani\",\"Desert\",\"Extras\",\"Fish\",\"Other Snacks\",\"Pasta\",\"Pizza\",\"Rice Bowl\",\"Salad\",\"Sandwich\",\"Seafood\",\"Soup\",\"Starters\",\"Beverages\",\"Biryani\",\"Desert\",\"Extras\",\"Fish\",\"Other Snacks\",\"Pasta\",\"Pizza\",\"Rice Bowl\",\"Salad\",\"Sandwich\",\"Seafood\",\"Soup\",\"Starters\",\"Beverages\",\"Biryani\",\"Desert\",\"Extras\",\"Fish\",\"Other Snacks\",\"Pasta\",\"Pizza\",\"Rice Bowl\",\"Salad\",\"Sandwich\",\"Seafood\",\"Soup\",\"Starters\",\"Beverages\",\"Biryani\",\"Desert\",\"Extras\",\"Fish\",\"Other Snacks\",\"Pasta\",\"Pizza\",\"Rice Bowl\",\"Salad\",\"Sandwich\",\"Seafood\",\"Soup\",\"Starters\",\"Beverages\",\"Biryani\",\"Desert\",\"Extras\",\"Fish\",\"Other Snacks\",\"Pasta\",\"Pizza\",\"Rice Bowl\",\"Salad\",\"Sandwich\",\"Seafood\",\"Soup\",\"Starters\",\"Beverages\",\"Biryani\",\"Desert\",\"Extras\",\"Fish\",\"Other Snacks\",\"Pasta\",\"Pizza\",\"Rice Bowl\",\"Salad\",\"Sandwich\",\"Seafood\",\"Soup\",\"Starters\",\"Beverages\",\"Biryani\",\"Desert\",\"Extras\",\"Fish\",\"Other Snacks\",\"Pasta\",\"Pizza\",\"Rice Bowl\",\"Salad\",\"Sandwich\",\"Seafood\",\"Soup\",\"Starters\",\"Beverages\",\"Biryani\",\"Desert\",\"Extras\",\"Fish\",\"Other Snacks\",\"Pasta\",\"Pizza\",\"Rice Bowl\",\"Salad\",\"Sandwich\",\"Seafood\",\"Soup\",\"Starters\",\"Beverages\",\"Biryani\",\"Desert\",\"Extras\",\"Fish\",\"Other Snacks\",\"Pasta\",\"Pizza\",\"Rice Bowl\",\"Salad\",\"Sandwich\",\"Seafood\",\"Soup\",\"Starters\",\"Beverages\",\"Biryani\",\"Desert\",\"Extras\",\"Fish\",\"Other Snacks\",\"Pasta\",\"Pizza\",\"Rice Bowl\",\"Salad\",\"Sandwich\",\"Seafood\",\"Soup\",\"Starters\",\"Beverages\",\"Biryani\",\"Desert\",\"Extras\",\"Fish\",\"Other Snacks\",\"Pasta\",\"Pizza\",\"Rice Bowl\",\"Salad\",\"Sandwich\",\"Seafood\",\"Soup\",\"Starters\",\"Beverages\",\"Biryani\",\"Desert\",\"Extras\",\"Fish\",\"Other Snacks\",\"Pasta\",\"Pizza\",\"Rice Bowl\",\"Salad\",\"Sandwich\",\"Seafood\",\"Soup\",\"Starters\",\"Beverages\",\"Biryani\",\"Desert\",\"Extras\",\"Fish\",\"Other Snacks\",\"Pasta\",\"Pizza\",\"Rice Bowl\",\"Salad\",\"Sandwich\",\"Seafood\",\"Soup\",\"Starters\",\"Beverages\",\"Biryani\",\"Desert\",\"Extras\",\"Fish\",\"Other Snacks\",\"Pasta\",\"Pizza\",\"Rice Bowl\",\"Salad\",\"Sandwich\",\"Seafood\",\"Soup\",\"Starters\"],\"yaxis\":\"y\",\"ybingroup\":\"y\",\"z\":[322382,8309,16095,30651,34302,18720,60999,137916,113218,10558,5070,34041,381602,6638,11506,29102,34621,17741,53729,109530,94048,9927,4813,33827,332159,6930,10853,29833,33038,18425,29590,101579,82063,9943,4551,36298,345707,6162,11425,38935,41500,9719,38632,109936,80333,12527,5490,43163,280863,5572,12062,30328,24157,9867,31206,642726,71882,43585,3994,42433,249871,5366,16375,31062,26257,10179,28994,427297,63264,40621,4284,43718,260323,5666,15613,32464,26156,10992,30564,422294,68758,12094,4482,45397,268201,6013,9146,30860,25685,15930,15987,174331,67738,6682,4358,45587,275116,4344,10690,31348,26809,8673,34067,120108,73918,85412,3274,49484,260035,4385,10138,30936,41672,7565,36397,109433,40,187790,86996,3240,33198,273518,4018,9497,27003,37685,14755,35790,110949,168044,57004,2697,31265,281409,3759,9953,27291,32798,17489,52691,111765,108706,8870,2746,32782,272346,3871,9412,27665,26909,14808,60394,117370,77290,9042,4543,32452,253255,3810,10881,27607,71361,15414,30577,108773,1337,68165,9872,4871,31058,297220,4977,15797,28925,41515,12573,29651,107537,3241,64380,10665,4485,30753,280448,4382,11232,29517,36463,8187,27528,102324,4907,61945,8824,4866,30892,331819,4482,13704,32727,29043,9018,30425,226733,17396,77240,10766,5413,31519,316719,4361,11930,32236,28095,12637,30490,112206,25188,314753,8546,5295,30104,278288,4242,12612,31972,29295,12723,30426,170225,33481,138895,9156,4918,30963,262033,3403,13130,33237,29070,11662,52173,111324,34022,83674,7046,5870,31190,280691,4302,9336,28624,27841,13406,47508,119721,37655,95019,8029,5123,29758,293111,4057,8180,32296,38468,10755,32637,119649,39201,210751,8806,5388,30812,273041,3660,7466,31452,35238,11004,30695,112502,38497,187041,8546,4810,29319,258579,3573,7297,33398,35101,10016,29374,100116,45622,84708,8997,1627,28933,245077,3208,7282,30818,29455,12675,28195,213480,49143,80824,16427,5225,27774,258807,3559,7349,33180,31208,13630,79307,189175,55149,86063,13000,6094,29284,256262,3546,8024,28946,29026,14201,76171,94137,96449,87368,12512,5087,28285,241114,3923,16494,27815,40269,8175,25544,90310,59505,87481,15051,5166,28016,245599,4335,13776,27058,36615,8372,23288,88436,59560,74733,10399,6746,26497,259773,4170,11888,26600,26350,11052,23804,139284,72185,297530,8754,6567,27442,276740,3831,12901,28523,18243,10931,26933,124067,126626,109836,10498,6683,27402,287075,3975,20057,27316,15162,13307,23903,135460,82827,381664,8088,7336,28032,288199,3987,11468,27788,14814,16189,19253,117788,73117,94260,26966,4795,32312,282779,3787,12226,28471,12441,14850,17736,108575,65500,81137,29369,5262,31470,275069,3134,11196,31318,15000,12744,25715,76459,79679,55841,8370,5522,30411,299689,4536,8189,28799,13525,13187,30633,112491,76019,94129,9880,4678,29110,255643,3817,8202,28650,13706,7950,183275,108176,141449,83066,7930,7651,28338,254333,4315,8745,27916,13679,9753,147515,324809,63083,77534,7256,7146,28482,268678,4401,9667,27199,18813,14407,105409,116547,76339,81760,9841,8629,29274,272009,4128,8541,27525,21494,14421,95499,108955,70388,103700,41484,9100,29915,278330,3959,9233,27377,26865,13208,30898,155561,71126,85801,52987,6880,29268,267267,3991,11954,27215,29562,11150,28459,94779,158878,84237,11336,7611,29850,252891,3976,30003,27417,36968,9256,28819,101360,73440,80058,12357,7377,29349,254031,3708,29978,28201,33447,10363,32583,124676,85685,82724,17736,7402,28049,281532,3766,20319,29461,30292,8997,88539,302572,76762,86911,14343,7197,30508,295455,3753,14640,28996,30980,7499,80034,173517,51253,122514,14441,7568,31970,247269,3379,12205,27000,28755,8591,71373,133002,70828,161661,7796,7796,28614,355019,4338,13221,33763,35987,8283,36410,128303,144247,485452,16426,8111,33897,421975,3790,11350,39247,38308,7490,32057,114914,97928,107033,15397,8878,38613,423582,3651,10718,41302,43661,5883,30366,104055,64459,95383,15717,10905,41096,306472,3537,9347,31141,30206,7366,26835,86529,55893,112784,13406,9285,30235,421625,4782,11980,29878,29034,17313,34107,118677,119948,100474,119224,8101,31668,494640,6277,11204,23634,29100,16665,37301,124750,110026,113147,107090,5727,28675,361839,4870,11292,22120,27980,11934,32062,87269,77020,72662,14875,5301,28044,329728,5099,18947,23225,28510,13797,93765,155600,74676,88119,9967,5601,28111,295204,5022,14186,23132,46315,7341,31027,116800,184373,76813,9866,4886,28285,330341,3967,13573,27175,50554,7726,41136,133368,165693,89785,14324,6875,32204,285949,4553,14301,22580,36891,8096,36359,216095,77369,81448,17030,5815,27959,272594,4921,10206,23622,607,31175,8898,31005,181757,76765,85061,16214,5317,28639,271668,5541,9189,25813,890,32297,9399,28890,121910,86991,456194,42730,5913,34034,296179,4626,6472,25777,1661,30337,12940,137217,105041,82125,99815,12087,5922,39906,120450,1929,5542,25218,717,14363,6101,50012,46313,37640,43129,5356,6052,17243,225295,4374,20304,23235,2784,52281,10191,156092,92333,69671,107070,10331,4982,33132,232918,3941,19333,23546,2910,46503,8853,132715,92667,75625,100394,9619,4966,30518,295603,3674,9816,22585,3156,32862,6735,24909,112367,166739,92870,35643,5374,32536,269757,3651,8170,21747,3797,29070,10641,26824,107941,81059,96440,13795,5778,31413,305542,4100,9901,23901,3920,31657,10281,24737,113728,76915,98986,15099,5324,32190,309691,4618,9144,23914,3752,30727,10284,22616,106224,69833,368918,13860,5558,30835,304744,4101,8688,26030,3771,28975,8378,24064,115735,79727,374333,56389,6485,33768,242671,4358,10018,25394,4185,27898,18378,25360,122304,46282,388667,50216,6776,32142,290429,4926,12212,28469,4543,29306,15732,23560,127165,76060,347178,13542,6981,35623,283304,3611,24681,26011,4495,29456,9996,20147,110894,78811,92188,10776,6445,31736,257247,3393,14646,27811,5633,48532,10690,19314,100307,77239,86215,11997,7070,32584,287035,3374,14628,26456,7626,44978,6524,28314,109266,73711,137626,12929,5689,31435,256943,4092,13368,26995,8687,42887,9445,108460,113737,78537,262279,9705,6384,29241,234731,3765,9508,24647,7103,37929,8265,84521,103571,206383,139359,9397,5373,28376,228944,3356,9219,26655,8201,32542,8012,18325,196851,178658,74156,14825,5699,27951,243855,3662,8408,29399,8210,33244,7343,21777,185392,190631,78912,14913,6986,29298,236119,4090,9568,26699,8598,32012,6221,88466,114967,180685,249155,14089,6578,27364,248453,3999,19021,26691,8698,51249,8180,25108,113314,54333,87640,17256,5571,28550,229211,3894,14484,24736,8119,46921,9439,22067,108778,82353,87408,10735,6799,26468,249369,3703,11355,24715,7815,35971,12839,23678,173658,185780,87894,9092,6415,27193,287775,4444,20162,28075,8048,30842,12494,29331,249753,83167,101026,9805,6927,28242,251099,4618,13350,27412,6992,36053,9031,109350,103722,76812,86853,6965,6617,29441,281469,5149,14360,25098,8981,40910,12301,93951,117110,91127,73835,6333,5612,84197,286522,4520,14779,23532,8864,39265,14124,50201,127872,91680,69925,6019,5521,80691,278150,3901,11500,25622,7952,39904,12392,61642,98672,104678,69959,6016,5791,78961,287451,4362,10782,26556,8635,38949,15522,65952,97605,81799,58509,7441,6222,35408,285074,4492,11710,25163,9899,26693,10592,97544,106537,62471,57266,6872,6862,32314,245572,3777,11491,24800,8627,26946,13350,47543,214147,119866,55084,40115,6137,32413,286089,4362,11921,28424,8758,29386,13362,52362,119499,133320,66379,41920,7106,31509,276950,3565,11303,27861,8140,27275,10564,139121,112183,80624,164613,7655,7258,31033,283342,3893,11781,26328,7843,28740,11079,131358,110946,78967,157477,7956,8772,31688,279597,4232,11294,26950,9065,29052,11597,23671,133948,109386,91125,54697,10375,30041,265984,3581,13686,27369,10292,28362,10355,23813,265610,81378,84321,49945,10201,30944,285387,3994,17703,26148,11145,45728,11520,28574,117501,86139,83138,9205,9740,29195,226640,3660,16599,25451,12150,45363,11181,27993,60121,62167,70945,9184,7786,30737,284155,3676,15336,25459,11167,38975,14419,47293,247356,72179,83724,8185,9212,32885,248529,3464,13684,26145,8429,30561,12090,39083,170334,72242,68708,7622,11019,30138,327596,3976,15575,30076,17823,35695,13290,34114,302550,97969,88196,76623,10816,33863,332476,3649,13231,37487,16426,42759,11515,33942,234667,82547,73583,61981,15106,40078,337190,3314,6506,37791,8215,44157,5995,31584,216118,71455,61349,9382,15165,42762,264307,3476,3050,32491,7779,32284,6694,27620,167213,61352,53690,8022,13145,32446,287216,4642,12284,27720,9370,37646,17738,33182,119352,95840,77150,10420,10132,31952,345229,6925,14209,27428,10570,36396,25676,31155,131421,96594,116593,9561,7517,32205,279600,5961,13727,25824,8979,37230,12992,27946,175424,88403,79075,54496,7572,30256,258895,6360,13244,25507,6209,40087,10902,11904,155938,83874,74580,20539,6499,69313,260584,4154,15597,23029,11134,32311,10818,106588,117811,81835,158765,8119,6607,71412,295726,4098,17976,30532,12518,40513,12371,164296,134176,94085,168023,11572,7623,74809,285002,4852,14249,23668,11073,33344,10285,28970,123165,74580,202679,18638,5567,53183,275008,1775,13979,10093,12466,36281,10797,23684,224214,74102,182700,10103,2688,14741,233997,2108,14663,10002,13401,36696,10442,26254,203757,85794,186540,10162,2335,15956,297180,4612,16785,28476,11625,42795,16973,142845,107928,85194,90244,8281,6750,30008,279558,4263,13975,26206,11260,37310,13368,127953,99018,76317,83224,7542,6729,26878,266242,4486,14038,28355,11530,28106,9106,93042,92928,137078,76565,7987,6929,29077,267604,4233,14780,26944,10876,28861,8243,83687,94803,142723,128110,9129,7300,28172,281576,4348,19514,27943,11829,28541,8350,43575,117404,151689,70149,8167,8204,28336,278818,4619,18469,27230,13876,28106,7300,21987,118302,127495,69159,8363,7445,46538,265792,4548,18771,26167,6843,33980,6365,23049,236762,73936,68149,9050,9608,28689,258785,5289,19235,24808,12290,32281,7434,21827,196381,66878,62754,8869,9429,27611,284432,6057,13852,24718,11097,36719,9549,97824,111259,87792,220621,8146,9227,29207,258730,5100,14755,26176,9803,45894,18534,29912,127333,81202,210882,75406,10797,30182,233376,5187,12885,26181,11500,45426,17170,30900,130288,54386,205204,66052,9186,42185,272184,4836,13990,26109,9323,25816,12644,25671,118351,71509,190903,7213,9188,39520,268179,4097,17678,28149,7822,25949,12845,24623,114480,120990,78849,7190,11389,28301,295132,4351,19008,30775,7819,26927,11014,67829,125100,96627,82259,6886,10432,26679,275161,4188,16702,26990,8917,26030,10744,72308,120715,79315,79550,6749,10097,25271,236519,4245,16939,26078,9873,33435,10274,34002,112785,67058,285481,7941,10050,23717,267748,4925,12472,24671,31574,31969,9987,34519,121243,56917,209072,7257,9362,21945,276365,4140,13867,26217,29366,32740,6888,91520,236381,68173,94855,6345,9997,23165,285943,4441,13066,26938,25644,33770,8752,89761,204005,62473,108396,6405,9650,20709,292267,4322,18078,25808,27777,37399,8295,36065,124307,54555,275677,6525,9631,18668,249767,4300,18724,23989,10751,36910,9249,29733,118763,52231,213875,39321,9474,18496,294198,4401,17310,25218,10991,24397,9804,37678,318536,68513,93349,40419,10042,20216,227322,3936,17612,27631,10728,24558,10689,75914,166127,70956,104023,7321,10767,19522,270988,4653,10028,25691,11861,25199,9512,68152,153539,60731,92878,6456,10079,19856,252057,6727,27405,27284,8212,43967,9932,40462,132354,56930,76096,6759,9870,21685,224558,6417,21633,26509,10703,43059,9637,35570,125680,54407,73313,6503,9356,19998,245790,6227,18208,27679,24045,37332,16264,42544,124708,72581,100160,5057,10667,20673,283746,5661,14240,27976,24997,27440,18865,52517,126284,85387,97630,5705,11046,21195,254794,4257,14838,25546,11995,25759,8319,142724,110136,56277,84638,5224,10297,21436,255403,4085,13563,26632,11315,24928,7125,112694,107032,57146,82977,5285,10324,21152,265240,3776,14534,25632,12243,25381,12541,42731,127751,72211,94747,32441,9990,20708,265886,4296,12996,26097,12298,33256,11749,47089,118935,112883,93063,31412,10531,20706,235091,4794,14406,25794,10348,34184,11910,39980,93183,85582,84678,5503,10225,16248]}],                        {\"coloraxis\":{\"colorbar\":{\"title\":{\"text\":\"sum of num_orders\"}},\"colorscale\":[[0.0,\"#000004\"],[0.1111111111111111,\"#1b0c41\"],[0.2222222222222222,\"#4a0c6b\"],[0.3333333333333333,\"#781c6d\"],[0.4444444444444444,\"#a52c60\"],[0.5555555555555556,\"#cf4446\"],[0.6666666666666666,\"#ed6925\"],[0.7777777777777778,\"#fb9b06\"],[0.8888888888888888,\"#f7d13d\"],[1.0,\"#fcffa4\"]]},\"legend\":{\"tracegroupgap\":0},\"template\":{\"data\":{\"bar\":[{\"error_x\":{\"color\":\"#2a3f5f\"},\"error_y\":{\"color\":\"#2a3f5f\"},\"marker\":{\"line\":{\"color\":\"#E5ECF6\",\"width\":0.5},\"pattern\":{\"fillmode\":\"overlay\",\"size\":10,\"solidity\":0.2}},\"type\":\"bar\"}],\"barpolar\":[{\"marker\":{\"line\":{\"color\":\"#E5ECF6\",\"width\":0.5},\"pattern\":{\"fillmode\":\"overlay\",\"size\":10,\"solidity\":0.2}},\"type\":\"barpolar\"}],\"carpet\":[{\"aaxis\":{\"endlinecolor\":\"#2a3f5f\",\"gridcolor\":\"white\",\"linecolor\":\"white\",\"minorgridcolor\":\"white\",\"startlinecolor\":\"#2a3f5f\"},\"baxis\":{\"endlinecolor\":\"#2a3f5f\",\"gridcolor\":\"white\",\"linecolor\":\"white\",\"minorgridcolor\":\"white\",\"startlinecolor\":\"#2a3f5f\"},\"type\":\"carpet\"}],\"choropleth\":[{\"colorbar\":{\"outlinewidth\":0,\"ticks\":\"\"},\"type\":\"choropleth\"}],\"contour\":[{\"colorbar\":{\"outlinewidth\":0,\"ticks\":\"\"},\"colorscale\":[[0.0,\"#0d0887\"],[0.1111111111111111,\"#46039f\"],[0.2222222222222222,\"#7201a8\"],[0.3333333333333333,\"#9c179e\"],[0.4444444444444444,\"#bd3786\"],[0.5555555555555556,\"#d8576b\"],[0.6666666666666666,\"#ed7953\"],[0.7777777777777778,\"#fb9f3a\"],[0.8888888888888888,\"#fdca26\"],[1.0,\"#f0f921\"]],\"type\":\"contour\"}],\"contourcarpet\":[{\"colorbar\":{\"outlinewidth\":0,\"ticks\":\"\"},\"type\":\"contourcarpet\"}],\"heatmap\":[{\"colorbar\":{\"outlinewidth\":0,\"ticks\":\"\"},\"colorscale\":[[0.0,\"#0d0887\"],[0.1111111111111111,\"#46039f\"],[0.2222222222222222,\"#7201a8\"],[0.3333333333333333,\"#9c179e\"],[0.4444444444444444,\"#bd3786\"],[0.5555555555555556,\"#d8576b\"],[0.6666666666666666,\"#ed7953\"],[0.7777777777777778,\"#fb9f3a\"],[0.8888888888888888,\"#fdca26\"],[1.0,\"#f0f921\"]],\"type\":\"heatmap\"}],\"heatmapgl\":[{\"colorbar\":{\"outlinewidth\":0,\"ticks\":\"\"},\"colorscale\":[[0.0,\"#0d0887\"],[0.1111111111111111,\"#46039f\"],[0.2222222222222222,\"#7201a8\"],[0.3333333333333333,\"#9c179e\"],[0.4444444444444444,\"#bd3786\"],[0.5555555555555556,\"#d8576b\"],[0.6666666666666666,\"#ed7953\"],[0.7777777777777778,\"#fb9f3a\"],[0.8888888888888888,\"#fdca26\"],[1.0,\"#f0f921\"]],\"type\":\"heatmapgl\"}],\"histogram\":[{\"marker\":{\"pattern\":{\"fillmode\":\"overlay\",\"size\":10,\"solidity\":0.2}},\"type\":\"histogram\"}],\"histogram2d\":[{\"colorbar\":{\"outlinewidth\":0,\"ticks\":\"\"},\"colorscale\":[[0.0,\"#0d0887\"],[0.1111111111111111,\"#46039f\"],[0.2222222222222222,\"#7201a8\"],[0.3333333333333333,\"#9c179e\"],[0.4444444444444444,\"#bd3786\"],[0.5555555555555556,\"#d8576b\"],[0.6666666666666666,\"#ed7953\"],[0.7777777777777778,\"#fb9f3a\"],[0.8888888888888888,\"#fdca26\"],[1.0,\"#f0f921\"]],\"type\":\"histogram2d\"}],\"histogram2dcontour\":[{\"colorbar\":{\"outlinewidth\":0,\"ticks\":\"\"},\"colorscale\":[[0.0,\"#0d0887\"],[0.1111111111111111,\"#46039f\"],[0.2222222222222222,\"#7201a8\"],[0.3333333333333333,\"#9c179e\"],[0.4444444444444444,\"#bd3786\"],[0.5555555555555556,\"#d8576b\"],[0.6666666666666666,\"#ed7953\"],[0.7777777777777778,\"#fb9f3a\"],[0.8888888888888888,\"#fdca26\"],[1.0,\"#f0f921\"]],\"type\":\"histogram2dcontour\"}],\"mesh3d\":[{\"colorbar\":{\"outlinewidth\":0,\"ticks\":\"\"},\"type\":\"mesh3d\"}],\"parcoords\":[{\"line\":{\"colorbar\":{\"outlinewidth\":0,\"ticks\":\"\"}},\"type\":\"parcoords\"}],\"pie\":[{\"automargin\":true,\"type\":\"pie\"}],\"scatter\":[{\"marker\":{\"colorbar\":{\"outlinewidth\":0,\"ticks\":\"\"}},\"type\":\"scatter\"}],\"scatter3d\":[{\"line\":{\"colorbar\":{\"outlinewidth\":0,\"ticks\":\"\"}},\"marker\":{\"colorbar\":{\"outlinewidth\":0,\"ticks\":\"\"}},\"type\":\"scatter3d\"}],\"scattercarpet\":[{\"marker\":{\"colorbar\":{\"outlinewidth\":0,\"ticks\":\"\"}},\"type\":\"scattercarpet\"}],\"scattergeo\":[{\"marker\":{\"colorbar\":{\"outlinewidth\":0,\"ticks\":\"\"}},\"type\":\"scattergeo\"}],\"scattergl\":[{\"marker\":{\"colorbar\":{\"outlinewidth\":0,\"ticks\":\"\"}},\"type\":\"scattergl\"}],\"scattermapbox\":[{\"marker\":{\"colorbar\":{\"outlinewidth\":0,\"ticks\":\"\"}},\"type\":\"scattermapbox\"}],\"scatterpolar\":[{\"marker\":{\"colorbar\":{\"outlinewidth\":0,\"ticks\":\"\"}},\"type\":\"scatterpolar\"}],\"scatterpolargl\":[{\"marker\":{\"colorbar\":{\"outlinewidth\":0,\"ticks\":\"\"}},\"type\":\"scatterpolargl\"}],\"scatterternary\":[{\"marker\":{\"colorbar\":{\"outlinewidth\":0,\"ticks\":\"\"}},\"type\":\"scatterternary\"}],\"surface\":[{\"colorbar\":{\"outlinewidth\":0,\"ticks\":\"\"},\"colorscale\":[[0.0,\"#0d0887\"],[0.1111111111111111,\"#46039f\"],[0.2222222222222222,\"#7201a8\"],[0.3333333333333333,\"#9c179e\"],[0.4444444444444444,\"#bd3786\"],[0.5555555555555556,\"#d8576b\"],[0.6666666666666666,\"#ed7953\"],[0.7777777777777778,\"#fb9f3a\"],[0.8888888888888888,\"#fdca26\"],[1.0,\"#f0f921\"]],\"type\":\"surface\"}],\"table\":[{\"cells\":{\"fill\":{\"color\":\"#EBF0F8\"},\"line\":{\"color\":\"white\"}},\"header\":{\"fill\":{\"color\":\"#C8D4E3\"},\"line\":{\"color\":\"white\"}},\"type\":\"table\"}]},\"layout\":{\"annotationdefaults\":{\"arrowcolor\":\"#2a3f5f\",\"arrowhead\":0,\"arrowwidth\":1},\"autotypenumbers\":\"strict\",\"coloraxis\":{\"colorbar\":{\"outlinewidth\":0,\"ticks\":\"\"}},\"colorscale\":{\"diverging\":[[0,\"#8e0152\"],[0.1,\"#c51b7d\"],[0.2,\"#de77ae\"],[0.3,\"#f1b6da\"],[0.4,\"#fde0ef\"],[0.5,\"#f7f7f7\"],[0.6,\"#e6f5d0\"],[0.7,\"#b8e186\"],[0.8,\"#7fbc41\"],[0.9,\"#4d9221\"],[1,\"#276419\"]],\"sequential\":[[0.0,\"#0d0887\"],[0.1111111111111111,\"#46039f\"],[0.2222222222222222,\"#7201a8\"],[0.3333333333333333,\"#9c179e\"],[0.4444444444444444,\"#bd3786\"],[0.5555555555555556,\"#d8576b\"],[0.6666666666666666,\"#ed7953\"],[0.7777777777777778,\"#fb9f3a\"],[0.8888888888888888,\"#fdca26\"],[1.0,\"#f0f921\"]],\"sequentialminus\":[[0.0,\"#0d0887\"],[0.1111111111111111,\"#46039f\"],[0.2222222222222222,\"#7201a8\"],[0.3333333333333333,\"#9c179e\"],[0.4444444444444444,\"#bd3786\"],[0.5555555555555556,\"#d8576b\"],[0.6666666666666666,\"#ed7953\"],[0.7777777777777778,\"#fb9f3a\"],[0.8888888888888888,\"#fdca26\"],[1.0,\"#f0f921\"]]},\"colorway\":[\"#636efa\",\"#EF553B\",\"#00cc96\",\"#ab63fa\",\"#FFA15A\",\"#19d3f3\",\"#FF6692\",\"#B6E880\",\"#FF97FF\",\"#FECB52\"],\"font\":{\"color\":\"#2a3f5f\"},\"geo\":{\"bgcolor\":\"white\",\"lakecolor\":\"white\",\"landcolor\":\"#E5ECF6\",\"showlakes\":true,\"showland\":true,\"subunitcolor\":\"white\"},\"hoverlabel\":{\"align\":\"left\"},\"hovermode\":\"closest\",\"mapbox\":{\"style\":\"light\"},\"paper_bgcolor\":\"white\",\"plot_bgcolor\":\"#E5ECF6\",\"polar\":{\"angularaxis\":{\"gridcolor\":\"white\",\"linecolor\":\"white\",\"ticks\":\"\"},\"bgcolor\":\"#E5ECF6\",\"radialaxis\":{\"gridcolor\":\"white\",\"linecolor\":\"white\",\"ticks\":\"\"}},\"scene\":{\"xaxis\":{\"backgroundcolor\":\"#E5ECF6\",\"gridcolor\":\"white\",\"gridwidth\":2,\"linecolor\":\"white\",\"showbackground\":true,\"ticks\":\"\",\"zerolinecolor\":\"white\"},\"yaxis\":{\"backgroundcolor\":\"#E5ECF6\",\"gridcolor\":\"white\",\"gridwidth\":2,\"linecolor\":\"white\",\"showbackground\":true,\"ticks\":\"\",\"zerolinecolor\":\"white\"},\"zaxis\":{\"backgroundcolor\":\"#E5ECF6\",\"gridcolor\":\"white\",\"gridwidth\":2,\"linecolor\":\"white\",\"showbackground\":true,\"ticks\":\"\",\"zerolinecolor\":\"white\"}},\"shapedefaults\":{\"line\":{\"color\":\"#2a3f5f\"}},\"ternary\":{\"aaxis\":{\"gridcolor\":\"white\",\"linecolor\":\"white\",\"ticks\":\"\"},\"baxis\":{\"gridcolor\":\"white\",\"linecolor\":\"white\",\"ticks\":\"\"},\"bgcolor\":\"#E5ECF6\",\"caxis\":{\"gridcolor\":\"white\",\"linecolor\":\"white\",\"ticks\":\"\"}},\"title\":{\"x\":0.05},\"xaxis\":{\"automargin\":true,\"gridcolor\":\"white\",\"linecolor\":\"white\",\"ticks\":\"\",\"title\":{\"standoff\":15},\"zerolinecolor\":\"white\",\"zerolinewidth\":2},\"yaxis\":{\"automargin\":true,\"gridcolor\":\"white\",\"linecolor\":\"white\",\"ticks\":\"\",\"title\":{\"standoff\":15},\"zerolinecolor\":\"white\",\"zerolinewidth\":2}}},\"title\":{\"text\":\"Number of orders per week per cuisine\"},\"xaxis\":{\"anchor\":\"y\",\"domain\":[0.0,1.0],\"title\":{\"text\":\"week\"}},\"yaxis\":{\"anchor\":\"x\",\"domain\":[0.0,1.0],\"title\":{\"text\":\"category\"}}},                        {\"responsive\": true}                    ).then(function(){\n",
       "                            \n",
       "var gd = document.getElementById('03a966f2-78bc-46b2-af36-7d0c8710afb0');\n",
       "var x = new MutationObserver(function (mutations, observer) {{\n",
       "        var display = window.getComputedStyle(gd).display;\n",
       "        if (!display || display === 'none') {{\n",
       "            console.log([gd, 'removed!']);\n",
       "            Plotly.purge(gd);\n",
       "            observer.disconnect();\n",
       "        }}\n",
       "}});\n",
       "\n",
       "// Listen for the removal of the full notebook cells\n",
       "var notebookContainer = gd.closest('#notebook-container');\n",
       "if (notebookContainer) {{\n",
       "    x.observe(notebookContainer, {childList: true});\n",
       "}}\n",
       "\n",
       "// Listen for the clearing of the current output cell\n",
       "var outputEl = gd.closest('.output');\n",
       "if (outputEl) {{\n",
       "    x.observe(outputEl, {childList: true});\n",
       "}}\n",
       "\n",
       "                        })                };                });            </script>        </div>"
      ]
     },
     "metadata": {}
    }
   ],
   "metadata": {}
  },
  {
   "cell_type": "code",
   "execution_count": 19,
   "source": [
    "#compare multiple food categories depending on the user's choice\r\n",
    "def choose(choices):\r\n",
    "    info=['Beverages','Rice Bowl','Sandwich','Pizza','Starters','Desert','Salad','Pasta','Seafood','Biryani','Soup','Fish','Extras','Other Snacks']\r\n",
    "    data_frames=[]\r\n",
    "    for i in choices:\r\n",
    "        data_frames.append(category_orders(info[i]))\r\n",
    "    fig=go.Figure()\r\n",
    "    for i in range(0,len(data_frames)):\r\n",
    "        colors=['salmon','violet','seagreen','yellow','turquoise','limegreen','mistyrose','tomato','lavender','khaki','olive','teal','orange','chocolate']\r\n",
    "        fig.add_trace(go.Scatter(x=data_frames[i].week,y=data_frames[i].num_orders,name=info[choices[i]-1],mode='lines+markers',line=dict(color=colors[i],width=1)))\r\n",
    "        fig.update_layout(title='Number of Orders per week',xaxis_title='Week',yaxis_title='Number of Orders')\r\n",
    "    fig.show()\r\n",
    "def category_orders(category):\r\n",
    "    grouped_df=df.groupby(['category','week'],as_index=False) #group num_orders by week\r\n",
    "    single_category_orders=grouped_df['num_orders'].sum()\r\n",
    "    arr=[]\r\n",
    "    weeks=0\r\n",
    "    for index, row in single_category_orders.iterrows():\r\n",
    "        if row['category']==category:\r\n",
    "            weeks+=1\r\n",
    "            arr.append(row['num_orders'])\r\n",
    "    weeks=[i for i in range(1,weeks+1)]\r\n",
    "    weekly_category_orders=pd.DataFrame(list(zip(weeks,arr)),columns=['week','num_orders'])\r\n",
    "    return weekly_category_orders\r\n",
    "    \r\n",
    "print(\"Pick the categories to be compared\")\r\n",
    "print('1.Beverages \\t2.Rice Bowl \\t3.Sandwich \\t4.Pizza \\t5.Starters \\t6.Desert \\t7.Salad \\n8.Pasta \\t9.Seafood \\t10.Biryani \\t11.Soup \\t12.Fish \\t13.Extras \\t14.Other Snacks')\r\n",
    "n=int(input(\"Enter the number of categories\"))\r\n",
    "choices=[]\r\n",
    "print(\"Enter the categories\")\r\n",
    "for i in range(n):\r\n",
    "    choices.append(int(input()))\r\n",
    "choose(choices)"
   ],
   "outputs": [
    {
     "output_type": "stream",
     "name": "stdout",
     "text": [
      "Pick the categories to be compared\n",
      "1.Beverages \t2.Rice Bowl \t3.Sandwich \t4.Pizza \t5.Starters \t6.Desert \t7.Salad \n",
      "8.Pasta \t9.Seafood \t10.Biryani \t11.Soup \t12.Fish \t13.Extras \t14.Other Snacks\n",
      "Enter the categories\n"
     ]
    },
    {
     "output_type": "display_data",
     "data": {
      "application/vnd.plotly.v1+json": {
       "config": {
        "plotlyServerURL": "https://plot.ly"
       },
       "data": [
        {
         "line": {
          "color": "salmon",
          "width": 1
         },
         "mode": "lines+markers",
         "name": "Sandwich",
         "type": "scatter",
         "x": [
          1,
          2,
          3,
          4,
          5,
          6,
          7,
          8,
          9,
          10,
          11,
          12,
          13,
          14,
          15,
          16,
          17,
          18,
          19,
          20,
          21,
          22,
          23,
          24,
          25,
          26,
          27,
          28,
          29,
          30,
          31,
          32,
          33,
          34,
          35,
          36,
          37,
          38,
          39,
          40,
          41,
          42,
          43,
          44,
          45,
          46,
          47,
          48,
          49,
          50,
          51,
          52,
          53,
          54,
          55,
          56,
          57,
          58,
          59,
          60,
          61,
          62,
          63,
          64,
          65,
          66,
          67,
          68,
          69,
          70,
          71,
          72,
          73,
          74,
          75,
          76,
          77,
          78,
          79,
          80,
          81,
          82,
          83,
          84,
          85,
          86,
          87,
          88,
          89,
          90,
          91,
          92,
          93,
          94,
          95,
          96,
          97,
          98,
          99,
          100,
          101,
          102,
          103,
          104,
          105,
          106,
          107,
          108,
          109,
          110,
          111,
          112,
          113,
          114,
          115,
          116,
          117,
          118,
          119,
          120,
          121,
          122,
          123,
          124,
          125,
          126,
          127,
          128,
          129,
          130,
          131,
          132,
          133,
          134,
          135,
          136,
          137,
          138,
          139,
          140,
          141,
          142,
          143,
          144,
          145
         ],
         "y": [
          60999,
          53729,
          29590,
          38632,
          31206,
          28994,
          30564,
          15987,
          34067,
          36397,
          35790,
          52691,
          60394,
          30577,
          29651,
          27528,
          30425,
          30490,
          30426,
          52173,
          47508,
          32637,
          30695,
          29374,
          28195,
          79307,
          76171,
          25544,
          23288,
          23804,
          26933,
          23903,
          19253,
          17736,
          25715,
          30633,
          183275,
          147515,
          105409,
          95499,
          30898,
          28459,
          28819,
          32583,
          88539,
          80034,
          71373,
          36410,
          32057,
          30366,
          26835,
          34107,
          37301,
          32062,
          93765,
          31027,
          41136,
          36359,
          31005,
          28890,
          137217,
          50012,
          156092,
          132715,
          24909,
          26824,
          24737,
          22616,
          24064,
          25360,
          23560,
          20147,
          19314,
          28314,
          108460,
          84521,
          18325,
          21777,
          88466,
          25108,
          22067,
          23678,
          29331,
          109350,
          93951,
          50201,
          61642,
          65952,
          97544,
          47543,
          52362,
          139121,
          131358,
          23671,
          23813,
          28574,
          27993,
          47293,
          39083,
          34114,
          33942,
          31584,
          27620,
          33182,
          31155,
          27946,
          11904,
          106588,
          164296,
          28970,
          23684,
          26254,
          142845,
          127953,
          93042,
          83687,
          43575,
          21987,
          23049,
          21827,
          97824,
          29912,
          30900,
          25671,
          24623,
          67829,
          72308,
          34002,
          34519,
          91520,
          89761,
          36065,
          29733,
          37678,
          75914,
          68152,
          40462,
          35570,
          42544,
          52517,
          142724,
          112694,
          42731,
          47089,
          39980
         ]
        },
        {
         "line": {
          "color": "violet",
          "width": 1
         },
         "mode": "lines+markers",
         "name": "Desert",
         "type": "scatter",
         "x": [
          1,
          2,
          3,
          4,
          5,
          6,
          7,
          8,
          9,
          10,
          11,
          12,
          13,
          14,
          15,
          16,
          17,
          18,
          19,
          20,
          21,
          22,
          23,
          24,
          25,
          26,
          27,
          28,
          29,
          30,
          31,
          32,
          33,
          34,
          35,
          36,
          37,
          38,
          39,
          40,
          41,
          42,
          43,
          44,
          45,
          46,
          47,
          48,
          49,
          50,
          51,
          52,
          53,
          54,
          55,
          56,
          57,
          58,
          59,
          60,
          61,
          62,
          63,
          64,
          65,
          66,
          67,
          68,
          69,
          70,
          71,
          72,
          73,
          74,
          75,
          76,
          77,
          78,
          79,
          80,
          81,
          82,
          83,
          84,
          85,
          86,
          87,
          88,
          89,
          90,
          91,
          92,
          93,
          94,
          95,
          96,
          97,
          98,
          99,
          100,
          101,
          102,
          103,
          104,
          105,
          106,
          107,
          108,
          109,
          110,
          111,
          112,
          113,
          114,
          115,
          116,
          117,
          118,
          119,
          120,
          121,
          122,
          123,
          124,
          125,
          126,
          127,
          128,
          129,
          130,
          131,
          132,
          133
         ],
         "y": [
          40,
          1337,
          3241,
          4907,
          17396,
          25188,
          33481,
          34022,
          37655,
          39201,
          38497,
          45622,
          49143,
          55149,
          96449,
          59505,
          59560,
          72185,
          126626,
          82827,
          73117,
          65500,
          79679,
          76019,
          141449,
          63083,
          76339,
          70388,
          71126,
          158878,
          73440,
          85685,
          76762,
          51253,
          70828,
          144247,
          97928,
          64459,
          55893,
          119948,
          110026,
          77020,
          74676,
          184373,
          165693,
          77369,
          76765,
          86991,
          82125,
          37640,
          69671,
          75625,
          166739,
          81059,
          76915,
          69833,
          79727,
          46282,
          76060,
          78811,
          77239,
          73711,
          78537,
          206383,
          178658,
          190631,
          180685,
          54333,
          82353,
          185780,
          83167,
          76812,
          91127,
          91680,
          104678,
          81799,
          62471,
          119866,
          133320,
          80624,
          78967,
          109386,
          81378,
          86139,
          62167,
          72179,
          72242,
          97969,
          82547,
          71455,
          61352,
          95840,
          96594,
          88403,
          83874,
          81835,
          94085,
          74580,
          74102,
          85794,
          85194,
          76317,
          137078,
          142723,
          151689,
          127495,
          73936,
          66878,
          87792,
          81202,
          54386,
          71509,
          120990,
          96627,
          79315,
          67058,
          56917,
          68173,
          62473,
          54555,
          52231,
          68513,
          70956,
          60731,
          56930,
          54407,
          72581,
          85387,
          56277,
          57146,
          72211,
          112883,
          85582
         ]
        },
        {
         "line": {
          "color": "seagreen",
          "width": 1
         },
         "mode": "lines+markers",
         "name": "Seafood",
         "type": "scatter",
         "x": [
          1,
          2,
          3,
          4,
          5,
          6,
          7,
          8,
          9,
          10,
          11,
          12,
          13,
          14,
          15,
          16,
          17,
          18,
          19,
          20,
          21,
          22,
          23,
          24,
          25,
          26,
          27,
          28,
          29,
          30,
          31,
          32,
          33,
          34,
          35,
          36,
          37,
          38,
          39,
          40,
          41,
          42,
          43,
          44,
          45,
          46,
          47,
          48,
          49,
          50,
          51,
          52,
          53,
          54,
          55,
          56,
          57,
          58,
          59,
          60,
          61,
          62,
          63,
          64,
          65,
          66,
          67,
          68,
          69,
          70,
          71,
          72,
          73,
          74,
          75,
          76,
          77,
          78,
          79,
          80,
          81,
          82,
          83,
          84,
          85,
          86,
          87,
          88,
          89,
          90,
          91,
          92,
          93,
          94,
          95,
          96,
          97,
          98,
          99,
          100,
          101,
          102,
          103,
          104,
          105,
          106,
          107,
          108,
          109,
          110,
          111,
          112,
          113,
          114,
          115,
          116,
          117,
          118,
          119,
          120,
          121,
          122,
          123,
          124,
          125,
          126,
          127,
          128,
          129,
          130,
          131,
          132,
          133,
          134,
          135,
          136,
          137,
          138,
          139,
          140,
          141,
          142,
          143,
          144,
          145
         ],
         "y": [
          8309,
          6638,
          6930,
          6162,
          5572,
          5366,
          5666,
          6013,
          4344,
          4385,
          4018,
          3759,
          3871,
          3810,
          4977,
          4382,
          4482,
          4361,
          4242,
          3403,
          4302,
          4057,
          3660,
          3573,
          3208,
          3559,
          3546,
          3923,
          4335,
          4170,
          3831,
          3975,
          3987,
          3787,
          3134,
          4536,
          3817,
          4315,
          4401,
          4128,
          3959,
          3991,
          3976,
          3708,
          3766,
          3753,
          3379,
          4338,
          3790,
          3651,
          3537,
          4782,
          6277,
          4870,
          5099,
          5022,
          3967,
          4553,
          4921,
          5541,
          4626,
          1929,
          4374,
          3941,
          3674,
          3651,
          4100,
          4618,
          4101,
          4358,
          4926,
          3611,
          3393,
          3374,
          4092,
          3765,
          3356,
          3662,
          4090,
          3999,
          3894,
          3703,
          4444,
          4618,
          5149,
          4520,
          3901,
          4362,
          4492,
          3777,
          4362,
          3565,
          3893,
          4232,
          3581,
          3994,
          3660,
          3676,
          3464,
          3976,
          3649,
          3314,
          3476,
          4642,
          6925,
          5961,
          6360,
          4154,
          4098,
          4852,
          1775,
          2108,
          4612,
          4263,
          4486,
          4233,
          4348,
          4619,
          4548,
          5289,
          6057,
          5100,
          5187,
          4836,
          4097,
          4351,
          4188,
          4245,
          4925,
          4140,
          4441,
          4322,
          4300,
          4401,
          3936,
          4653,
          6727,
          6417,
          6227,
          5661,
          4257,
          4085,
          3776,
          4296,
          4794
         ]
        }
       ],
       "layout": {
        "template": {
         "data": {
          "bar": [
           {
            "error_x": {
             "color": "#2a3f5f"
            },
            "error_y": {
             "color": "#2a3f5f"
            },
            "marker": {
             "line": {
              "color": "#E5ECF6",
              "width": 0.5
             },
             "pattern": {
              "fillmode": "overlay",
              "size": 10,
              "solidity": 0.2
             }
            },
            "type": "bar"
           }
          ],
          "barpolar": [
           {
            "marker": {
             "line": {
              "color": "#E5ECF6",
              "width": 0.5
             },
             "pattern": {
              "fillmode": "overlay",
              "size": 10,
              "solidity": 0.2
             }
            },
            "type": "barpolar"
           }
          ],
          "carpet": [
           {
            "aaxis": {
             "endlinecolor": "#2a3f5f",
             "gridcolor": "white",
             "linecolor": "white",
             "minorgridcolor": "white",
             "startlinecolor": "#2a3f5f"
            },
            "baxis": {
             "endlinecolor": "#2a3f5f",
             "gridcolor": "white",
             "linecolor": "white",
             "minorgridcolor": "white",
             "startlinecolor": "#2a3f5f"
            },
            "type": "carpet"
           }
          ],
          "choropleth": [
           {
            "colorbar": {
             "outlinewidth": 0,
             "ticks": ""
            },
            "type": "choropleth"
           }
          ],
          "contour": [
           {
            "colorbar": {
             "outlinewidth": 0,
             "ticks": ""
            },
            "colorscale": [
             [
              0,
              "#0d0887"
             ],
             [
              0.1111111111111111,
              "#46039f"
             ],
             [
              0.2222222222222222,
              "#7201a8"
             ],
             [
              0.3333333333333333,
              "#9c179e"
             ],
             [
              0.4444444444444444,
              "#bd3786"
             ],
             [
              0.5555555555555556,
              "#d8576b"
             ],
             [
              0.6666666666666666,
              "#ed7953"
             ],
             [
              0.7777777777777778,
              "#fb9f3a"
             ],
             [
              0.8888888888888888,
              "#fdca26"
             ],
             [
              1,
              "#f0f921"
             ]
            ],
            "type": "contour"
           }
          ],
          "contourcarpet": [
           {
            "colorbar": {
             "outlinewidth": 0,
             "ticks": ""
            },
            "type": "contourcarpet"
           }
          ],
          "heatmap": [
           {
            "colorbar": {
             "outlinewidth": 0,
             "ticks": ""
            },
            "colorscale": [
             [
              0,
              "#0d0887"
             ],
             [
              0.1111111111111111,
              "#46039f"
             ],
             [
              0.2222222222222222,
              "#7201a8"
             ],
             [
              0.3333333333333333,
              "#9c179e"
             ],
             [
              0.4444444444444444,
              "#bd3786"
             ],
             [
              0.5555555555555556,
              "#d8576b"
             ],
             [
              0.6666666666666666,
              "#ed7953"
             ],
             [
              0.7777777777777778,
              "#fb9f3a"
             ],
             [
              0.8888888888888888,
              "#fdca26"
             ],
             [
              1,
              "#f0f921"
             ]
            ],
            "type": "heatmap"
           }
          ],
          "heatmapgl": [
           {
            "colorbar": {
             "outlinewidth": 0,
             "ticks": ""
            },
            "colorscale": [
             [
              0,
              "#0d0887"
             ],
             [
              0.1111111111111111,
              "#46039f"
             ],
             [
              0.2222222222222222,
              "#7201a8"
             ],
             [
              0.3333333333333333,
              "#9c179e"
             ],
             [
              0.4444444444444444,
              "#bd3786"
             ],
             [
              0.5555555555555556,
              "#d8576b"
             ],
             [
              0.6666666666666666,
              "#ed7953"
             ],
             [
              0.7777777777777778,
              "#fb9f3a"
             ],
             [
              0.8888888888888888,
              "#fdca26"
             ],
             [
              1,
              "#f0f921"
             ]
            ],
            "type": "heatmapgl"
           }
          ],
          "histogram": [
           {
            "marker": {
             "pattern": {
              "fillmode": "overlay",
              "size": 10,
              "solidity": 0.2
             }
            },
            "type": "histogram"
           }
          ],
          "histogram2d": [
           {
            "colorbar": {
             "outlinewidth": 0,
             "ticks": ""
            },
            "colorscale": [
             [
              0,
              "#0d0887"
             ],
             [
              0.1111111111111111,
              "#46039f"
             ],
             [
              0.2222222222222222,
              "#7201a8"
             ],
             [
              0.3333333333333333,
              "#9c179e"
             ],
             [
              0.4444444444444444,
              "#bd3786"
             ],
             [
              0.5555555555555556,
              "#d8576b"
             ],
             [
              0.6666666666666666,
              "#ed7953"
             ],
             [
              0.7777777777777778,
              "#fb9f3a"
             ],
             [
              0.8888888888888888,
              "#fdca26"
             ],
             [
              1,
              "#f0f921"
             ]
            ],
            "type": "histogram2d"
           }
          ],
          "histogram2dcontour": [
           {
            "colorbar": {
             "outlinewidth": 0,
             "ticks": ""
            },
            "colorscale": [
             [
              0,
              "#0d0887"
             ],
             [
              0.1111111111111111,
              "#46039f"
             ],
             [
              0.2222222222222222,
              "#7201a8"
             ],
             [
              0.3333333333333333,
              "#9c179e"
             ],
             [
              0.4444444444444444,
              "#bd3786"
             ],
             [
              0.5555555555555556,
              "#d8576b"
             ],
             [
              0.6666666666666666,
              "#ed7953"
             ],
             [
              0.7777777777777778,
              "#fb9f3a"
             ],
             [
              0.8888888888888888,
              "#fdca26"
             ],
             [
              1,
              "#f0f921"
             ]
            ],
            "type": "histogram2dcontour"
           }
          ],
          "mesh3d": [
           {
            "colorbar": {
             "outlinewidth": 0,
             "ticks": ""
            },
            "type": "mesh3d"
           }
          ],
          "parcoords": [
           {
            "line": {
             "colorbar": {
              "outlinewidth": 0,
              "ticks": ""
             }
            },
            "type": "parcoords"
           }
          ],
          "pie": [
           {
            "automargin": true,
            "type": "pie"
           }
          ],
          "scatter": [
           {
            "marker": {
             "colorbar": {
              "outlinewidth": 0,
              "ticks": ""
             }
            },
            "type": "scatter"
           }
          ],
          "scatter3d": [
           {
            "line": {
             "colorbar": {
              "outlinewidth": 0,
              "ticks": ""
             }
            },
            "marker": {
             "colorbar": {
              "outlinewidth": 0,
              "ticks": ""
             }
            },
            "type": "scatter3d"
           }
          ],
          "scattercarpet": [
           {
            "marker": {
             "colorbar": {
              "outlinewidth": 0,
              "ticks": ""
             }
            },
            "type": "scattercarpet"
           }
          ],
          "scattergeo": [
           {
            "marker": {
             "colorbar": {
              "outlinewidth": 0,
              "ticks": ""
             }
            },
            "type": "scattergeo"
           }
          ],
          "scattergl": [
           {
            "marker": {
             "colorbar": {
              "outlinewidth": 0,
              "ticks": ""
             }
            },
            "type": "scattergl"
           }
          ],
          "scattermapbox": [
           {
            "marker": {
             "colorbar": {
              "outlinewidth": 0,
              "ticks": ""
             }
            },
            "type": "scattermapbox"
           }
          ],
          "scatterpolar": [
           {
            "marker": {
             "colorbar": {
              "outlinewidth": 0,
              "ticks": ""
             }
            },
            "type": "scatterpolar"
           }
          ],
          "scatterpolargl": [
           {
            "marker": {
             "colorbar": {
              "outlinewidth": 0,
              "ticks": ""
             }
            },
            "type": "scatterpolargl"
           }
          ],
          "scatterternary": [
           {
            "marker": {
             "colorbar": {
              "outlinewidth": 0,
              "ticks": ""
             }
            },
            "type": "scatterternary"
           }
          ],
          "surface": [
           {
            "colorbar": {
             "outlinewidth": 0,
             "ticks": ""
            },
            "colorscale": [
             [
              0,
              "#0d0887"
             ],
             [
              0.1111111111111111,
              "#46039f"
             ],
             [
              0.2222222222222222,
              "#7201a8"
             ],
             [
              0.3333333333333333,
              "#9c179e"
             ],
             [
              0.4444444444444444,
              "#bd3786"
             ],
             [
              0.5555555555555556,
              "#d8576b"
             ],
             [
              0.6666666666666666,
              "#ed7953"
             ],
             [
              0.7777777777777778,
              "#fb9f3a"
             ],
             [
              0.8888888888888888,
              "#fdca26"
             ],
             [
              1,
              "#f0f921"
             ]
            ],
            "type": "surface"
           }
          ],
          "table": [
           {
            "cells": {
             "fill": {
              "color": "#EBF0F8"
             },
             "line": {
              "color": "white"
             }
            },
            "header": {
             "fill": {
              "color": "#C8D4E3"
             },
             "line": {
              "color": "white"
             }
            },
            "type": "table"
           }
          ]
         },
         "layout": {
          "annotationdefaults": {
           "arrowcolor": "#2a3f5f",
           "arrowhead": 0,
           "arrowwidth": 1
          },
          "autotypenumbers": "strict",
          "coloraxis": {
           "colorbar": {
            "outlinewidth": 0,
            "ticks": ""
           }
          },
          "colorscale": {
           "diverging": [
            [
             0,
             "#8e0152"
            ],
            [
             0.1,
             "#c51b7d"
            ],
            [
             0.2,
             "#de77ae"
            ],
            [
             0.3,
             "#f1b6da"
            ],
            [
             0.4,
             "#fde0ef"
            ],
            [
             0.5,
             "#f7f7f7"
            ],
            [
             0.6,
             "#e6f5d0"
            ],
            [
             0.7,
             "#b8e186"
            ],
            [
             0.8,
             "#7fbc41"
            ],
            [
             0.9,
             "#4d9221"
            ],
            [
             1,
             "#276419"
            ]
           ],
           "sequential": [
            [
             0,
             "#0d0887"
            ],
            [
             0.1111111111111111,
             "#46039f"
            ],
            [
             0.2222222222222222,
             "#7201a8"
            ],
            [
             0.3333333333333333,
             "#9c179e"
            ],
            [
             0.4444444444444444,
             "#bd3786"
            ],
            [
             0.5555555555555556,
             "#d8576b"
            ],
            [
             0.6666666666666666,
             "#ed7953"
            ],
            [
             0.7777777777777778,
             "#fb9f3a"
            ],
            [
             0.8888888888888888,
             "#fdca26"
            ],
            [
             1,
             "#f0f921"
            ]
           ],
           "sequentialminus": [
            [
             0,
             "#0d0887"
            ],
            [
             0.1111111111111111,
             "#46039f"
            ],
            [
             0.2222222222222222,
             "#7201a8"
            ],
            [
             0.3333333333333333,
             "#9c179e"
            ],
            [
             0.4444444444444444,
             "#bd3786"
            ],
            [
             0.5555555555555556,
             "#d8576b"
            ],
            [
             0.6666666666666666,
             "#ed7953"
            ],
            [
             0.7777777777777778,
             "#fb9f3a"
            ],
            [
             0.8888888888888888,
             "#fdca26"
            ],
            [
             1,
             "#f0f921"
            ]
           ]
          },
          "colorway": [
           "#636efa",
           "#EF553B",
           "#00cc96",
           "#ab63fa",
           "#FFA15A",
           "#19d3f3",
           "#FF6692",
           "#B6E880",
           "#FF97FF",
           "#FECB52"
          ],
          "font": {
           "color": "#2a3f5f"
          },
          "geo": {
           "bgcolor": "white",
           "lakecolor": "white",
           "landcolor": "#E5ECF6",
           "showlakes": true,
           "showland": true,
           "subunitcolor": "white"
          },
          "hoverlabel": {
           "align": "left"
          },
          "hovermode": "closest",
          "mapbox": {
           "style": "light"
          },
          "paper_bgcolor": "white",
          "plot_bgcolor": "#E5ECF6",
          "polar": {
           "angularaxis": {
            "gridcolor": "white",
            "linecolor": "white",
            "ticks": ""
           },
           "bgcolor": "#E5ECF6",
           "radialaxis": {
            "gridcolor": "white",
            "linecolor": "white",
            "ticks": ""
           }
          },
          "scene": {
           "xaxis": {
            "backgroundcolor": "#E5ECF6",
            "gridcolor": "white",
            "gridwidth": 2,
            "linecolor": "white",
            "showbackground": true,
            "ticks": "",
            "zerolinecolor": "white"
           },
           "yaxis": {
            "backgroundcolor": "#E5ECF6",
            "gridcolor": "white",
            "gridwidth": 2,
            "linecolor": "white",
            "showbackground": true,
            "ticks": "",
            "zerolinecolor": "white"
           },
           "zaxis": {
            "backgroundcolor": "#E5ECF6",
            "gridcolor": "white",
            "gridwidth": 2,
            "linecolor": "white",
            "showbackground": true,
            "ticks": "",
            "zerolinecolor": "white"
           }
          },
          "shapedefaults": {
           "line": {
            "color": "#2a3f5f"
           }
          },
          "ternary": {
           "aaxis": {
            "gridcolor": "white",
            "linecolor": "white",
            "ticks": ""
           },
           "baxis": {
            "gridcolor": "white",
            "linecolor": "white",
            "ticks": ""
           },
           "bgcolor": "#E5ECF6",
           "caxis": {
            "gridcolor": "white",
            "linecolor": "white",
            "ticks": ""
           }
          },
          "title": {
           "x": 0.05
          },
          "xaxis": {
           "automargin": true,
           "gridcolor": "white",
           "linecolor": "white",
           "ticks": "",
           "title": {
            "standoff": 15
           },
           "zerolinecolor": "white",
           "zerolinewidth": 2
          },
          "yaxis": {
           "automargin": true,
           "gridcolor": "white",
           "linecolor": "white",
           "ticks": "",
           "title": {
            "standoff": 15
           },
           "zerolinecolor": "white",
           "zerolinewidth": 2
          }
         }
        },
        "title": {
         "text": "Number of Orders per week"
        },
        "xaxis": {
         "title": {
          "text": "Week"
         }
        },
        "yaxis": {
         "title": {
          "text": "Number of Orders"
         }
        }
       }
      },
      "text/html": [
       "<div>                            <div id=\"b64897f2-e6f2-4484-a418-6a55102e5f8f\" class=\"plotly-graph-div\" style=\"height:525px; width:100%;\"></div>            <script type=\"text/javascript\">                require([\"plotly\"], function(Plotly) {                    window.PLOTLYENV=window.PLOTLYENV || {};                                    if (document.getElementById(\"b64897f2-e6f2-4484-a418-6a55102e5f8f\")) {                    Plotly.newPlot(                        \"b64897f2-e6f2-4484-a418-6a55102e5f8f\",                        [{\"line\":{\"color\":\"salmon\",\"width\":1},\"mode\":\"lines+markers\",\"name\":\"Sandwich\",\"type\":\"scatter\",\"x\":[1,2,3,4,5,6,7,8,9,10,11,12,13,14,15,16,17,18,19,20,21,22,23,24,25,26,27,28,29,30,31,32,33,34,35,36,37,38,39,40,41,42,43,44,45,46,47,48,49,50,51,52,53,54,55,56,57,58,59,60,61,62,63,64,65,66,67,68,69,70,71,72,73,74,75,76,77,78,79,80,81,82,83,84,85,86,87,88,89,90,91,92,93,94,95,96,97,98,99,100,101,102,103,104,105,106,107,108,109,110,111,112,113,114,115,116,117,118,119,120,121,122,123,124,125,126,127,128,129,130,131,132,133,134,135,136,137,138,139,140,141,142,143,144,145],\"y\":[60999,53729,29590,38632,31206,28994,30564,15987,34067,36397,35790,52691,60394,30577,29651,27528,30425,30490,30426,52173,47508,32637,30695,29374,28195,79307,76171,25544,23288,23804,26933,23903,19253,17736,25715,30633,183275,147515,105409,95499,30898,28459,28819,32583,88539,80034,71373,36410,32057,30366,26835,34107,37301,32062,93765,31027,41136,36359,31005,28890,137217,50012,156092,132715,24909,26824,24737,22616,24064,25360,23560,20147,19314,28314,108460,84521,18325,21777,88466,25108,22067,23678,29331,109350,93951,50201,61642,65952,97544,47543,52362,139121,131358,23671,23813,28574,27993,47293,39083,34114,33942,31584,27620,33182,31155,27946,11904,106588,164296,28970,23684,26254,142845,127953,93042,83687,43575,21987,23049,21827,97824,29912,30900,25671,24623,67829,72308,34002,34519,91520,89761,36065,29733,37678,75914,68152,40462,35570,42544,52517,142724,112694,42731,47089,39980]},{\"line\":{\"color\":\"violet\",\"width\":1},\"mode\":\"lines+markers\",\"name\":\"Desert\",\"type\":\"scatter\",\"x\":[1,2,3,4,5,6,7,8,9,10,11,12,13,14,15,16,17,18,19,20,21,22,23,24,25,26,27,28,29,30,31,32,33,34,35,36,37,38,39,40,41,42,43,44,45,46,47,48,49,50,51,52,53,54,55,56,57,58,59,60,61,62,63,64,65,66,67,68,69,70,71,72,73,74,75,76,77,78,79,80,81,82,83,84,85,86,87,88,89,90,91,92,93,94,95,96,97,98,99,100,101,102,103,104,105,106,107,108,109,110,111,112,113,114,115,116,117,118,119,120,121,122,123,124,125,126,127,128,129,130,131,132,133],\"y\":[40,1337,3241,4907,17396,25188,33481,34022,37655,39201,38497,45622,49143,55149,96449,59505,59560,72185,126626,82827,73117,65500,79679,76019,141449,63083,76339,70388,71126,158878,73440,85685,76762,51253,70828,144247,97928,64459,55893,119948,110026,77020,74676,184373,165693,77369,76765,86991,82125,37640,69671,75625,166739,81059,76915,69833,79727,46282,76060,78811,77239,73711,78537,206383,178658,190631,180685,54333,82353,185780,83167,76812,91127,91680,104678,81799,62471,119866,133320,80624,78967,109386,81378,86139,62167,72179,72242,97969,82547,71455,61352,95840,96594,88403,83874,81835,94085,74580,74102,85794,85194,76317,137078,142723,151689,127495,73936,66878,87792,81202,54386,71509,120990,96627,79315,67058,56917,68173,62473,54555,52231,68513,70956,60731,56930,54407,72581,85387,56277,57146,72211,112883,85582]},{\"line\":{\"color\":\"seagreen\",\"width\":1},\"mode\":\"lines+markers\",\"name\":\"Seafood\",\"type\":\"scatter\",\"x\":[1,2,3,4,5,6,7,8,9,10,11,12,13,14,15,16,17,18,19,20,21,22,23,24,25,26,27,28,29,30,31,32,33,34,35,36,37,38,39,40,41,42,43,44,45,46,47,48,49,50,51,52,53,54,55,56,57,58,59,60,61,62,63,64,65,66,67,68,69,70,71,72,73,74,75,76,77,78,79,80,81,82,83,84,85,86,87,88,89,90,91,92,93,94,95,96,97,98,99,100,101,102,103,104,105,106,107,108,109,110,111,112,113,114,115,116,117,118,119,120,121,122,123,124,125,126,127,128,129,130,131,132,133,134,135,136,137,138,139,140,141,142,143,144,145],\"y\":[8309,6638,6930,6162,5572,5366,5666,6013,4344,4385,4018,3759,3871,3810,4977,4382,4482,4361,4242,3403,4302,4057,3660,3573,3208,3559,3546,3923,4335,4170,3831,3975,3987,3787,3134,4536,3817,4315,4401,4128,3959,3991,3976,3708,3766,3753,3379,4338,3790,3651,3537,4782,6277,4870,5099,5022,3967,4553,4921,5541,4626,1929,4374,3941,3674,3651,4100,4618,4101,4358,4926,3611,3393,3374,4092,3765,3356,3662,4090,3999,3894,3703,4444,4618,5149,4520,3901,4362,4492,3777,4362,3565,3893,4232,3581,3994,3660,3676,3464,3976,3649,3314,3476,4642,6925,5961,6360,4154,4098,4852,1775,2108,4612,4263,4486,4233,4348,4619,4548,5289,6057,5100,5187,4836,4097,4351,4188,4245,4925,4140,4441,4322,4300,4401,3936,4653,6727,6417,6227,5661,4257,4085,3776,4296,4794]}],                        {\"template\":{\"data\":{\"bar\":[{\"error_x\":{\"color\":\"#2a3f5f\"},\"error_y\":{\"color\":\"#2a3f5f\"},\"marker\":{\"line\":{\"color\":\"#E5ECF6\",\"width\":0.5},\"pattern\":{\"fillmode\":\"overlay\",\"size\":10,\"solidity\":0.2}},\"type\":\"bar\"}],\"barpolar\":[{\"marker\":{\"line\":{\"color\":\"#E5ECF6\",\"width\":0.5},\"pattern\":{\"fillmode\":\"overlay\",\"size\":10,\"solidity\":0.2}},\"type\":\"barpolar\"}],\"carpet\":[{\"aaxis\":{\"endlinecolor\":\"#2a3f5f\",\"gridcolor\":\"white\",\"linecolor\":\"white\",\"minorgridcolor\":\"white\",\"startlinecolor\":\"#2a3f5f\"},\"baxis\":{\"endlinecolor\":\"#2a3f5f\",\"gridcolor\":\"white\",\"linecolor\":\"white\",\"minorgridcolor\":\"white\",\"startlinecolor\":\"#2a3f5f\"},\"type\":\"carpet\"}],\"choropleth\":[{\"colorbar\":{\"outlinewidth\":0,\"ticks\":\"\"},\"type\":\"choropleth\"}],\"contour\":[{\"colorbar\":{\"outlinewidth\":0,\"ticks\":\"\"},\"colorscale\":[[0.0,\"#0d0887\"],[0.1111111111111111,\"#46039f\"],[0.2222222222222222,\"#7201a8\"],[0.3333333333333333,\"#9c179e\"],[0.4444444444444444,\"#bd3786\"],[0.5555555555555556,\"#d8576b\"],[0.6666666666666666,\"#ed7953\"],[0.7777777777777778,\"#fb9f3a\"],[0.8888888888888888,\"#fdca26\"],[1.0,\"#f0f921\"]],\"type\":\"contour\"}],\"contourcarpet\":[{\"colorbar\":{\"outlinewidth\":0,\"ticks\":\"\"},\"type\":\"contourcarpet\"}],\"heatmap\":[{\"colorbar\":{\"outlinewidth\":0,\"ticks\":\"\"},\"colorscale\":[[0.0,\"#0d0887\"],[0.1111111111111111,\"#46039f\"],[0.2222222222222222,\"#7201a8\"],[0.3333333333333333,\"#9c179e\"],[0.4444444444444444,\"#bd3786\"],[0.5555555555555556,\"#d8576b\"],[0.6666666666666666,\"#ed7953\"],[0.7777777777777778,\"#fb9f3a\"],[0.8888888888888888,\"#fdca26\"],[1.0,\"#f0f921\"]],\"type\":\"heatmap\"}],\"heatmapgl\":[{\"colorbar\":{\"outlinewidth\":0,\"ticks\":\"\"},\"colorscale\":[[0.0,\"#0d0887\"],[0.1111111111111111,\"#46039f\"],[0.2222222222222222,\"#7201a8\"],[0.3333333333333333,\"#9c179e\"],[0.4444444444444444,\"#bd3786\"],[0.5555555555555556,\"#d8576b\"],[0.6666666666666666,\"#ed7953\"],[0.7777777777777778,\"#fb9f3a\"],[0.8888888888888888,\"#fdca26\"],[1.0,\"#f0f921\"]],\"type\":\"heatmapgl\"}],\"histogram\":[{\"marker\":{\"pattern\":{\"fillmode\":\"overlay\",\"size\":10,\"solidity\":0.2}},\"type\":\"histogram\"}],\"histogram2d\":[{\"colorbar\":{\"outlinewidth\":0,\"ticks\":\"\"},\"colorscale\":[[0.0,\"#0d0887\"],[0.1111111111111111,\"#46039f\"],[0.2222222222222222,\"#7201a8\"],[0.3333333333333333,\"#9c179e\"],[0.4444444444444444,\"#bd3786\"],[0.5555555555555556,\"#d8576b\"],[0.6666666666666666,\"#ed7953\"],[0.7777777777777778,\"#fb9f3a\"],[0.8888888888888888,\"#fdca26\"],[1.0,\"#f0f921\"]],\"type\":\"histogram2d\"}],\"histogram2dcontour\":[{\"colorbar\":{\"outlinewidth\":0,\"ticks\":\"\"},\"colorscale\":[[0.0,\"#0d0887\"],[0.1111111111111111,\"#46039f\"],[0.2222222222222222,\"#7201a8\"],[0.3333333333333333,\"#9c179e\"],[0.4444444444444444,\"#bd3786\"],[0.5555555555555556,\"#d8576b\"],[0.6666666666666666,\"#ed7953\"],[0.7777777777777778,\"#fb9f3a\"],[0.8888888888888888,\"#fdca26\"],[1.0,\"#f0f921\"]],\"type\":\"histogram2dcontour\"}],\"mesh3d\":[{\"colorbar\":{\"outlinewidth\":0,\"ticks\":\"\"},\"type\":\"mesh3d\"}],\"parcoords\":[{\"line\":{\"colorbar\":{\"outlinewidth\":0,\"ticks\":\"\"}},\"type\":\"parcoords\"}],\"pie\":[{\"automargin\":true,\"type\":\"pie\"}],\"scatter\":[{\"marker\":{\"colorbar\":{\"outlinewidth\":0,\"ticks\":\"\"}},\"type\":\"scatter\"}],\"scatter3d\":[{\"line\":{\"colorbar\":{\"outlinewidth\":0,\"ticks\":\"\"}},\"marker\":{\"colorbar\":{\"outlinewidth\":0,\"ticks\":\"\"}},\"type\":\"scatter3d\"}],\"scattercarpet\":[{\"marker\":{\"colorbar\":{\"outlinewidth\":0,\"ticks\":\"\"}},\"type\":\"scattercarpet\"}],\"scattergeo\":[{\"marker\":{\"colorbar\":{\"outlinewidth\":0,\"ticks\":\"\"}},\"type\":\"scattergeo\"}],\"scattergl\":[{\"marker\":{\"colorbar\":{\"outlinewidth\":0,\"ticks\":\"\"}},\"type\":\"scattergl\"}],\"scattermapbox\":[{\"marker\":{\"colorbar\":{\"outlinewidth\":0,\"ticks\":\"\"}},\"type\":\"scattermapbox\"}],\"scatterpolar\":[{\"marker\":{\"colorbar\":{\"outlinewidth\":0,\"ticks\":\"\"}},\"type\":\"scatterpolar\"}],\"scatterpolargl\":[{\"marker\":{\"colorbar\":{\"outlinewidth\":0,\"ticks\":\"\"}},\"type\":\"scatterpolargl\"}],\"scatterternary\":[{\"marker\":{\"colorbar\":{\"outlinewidth\":0,\"ticks\":\"\"}},\"type\":\"scatterternary\"}],\"surface\":[{\"colorbar\":{\"outlinewidth\":0,\"ticks\":\"\"},\"colorscale\":[[0.0,\"#0d0887\"],[0.1111111111111111,\"#46039f\"],[0.2222222222222222,\"#7201a8\"],[0.3333333333333333,\"#9c179e\"],[0.4444444444444444,\"#bd3786\"],[0.5555555555555556,\"#d8576b\"],[0.6666666666666666,\"#ed7953\"],[0.7777777777777778,\"#fb9f3a\"],[0.8888888888888888,\"#fdca26\"],[1.0,\"#f0f921\"]],\"type\":\"surface\"}],\"table\":[{\"cells\":{\"fill\":{\"color\":\"#EBF0F8\"},\"line\":{\"color\":\"white\"}},\"header\":{\"fill\":{\"color\":\"#C8D4E3\"},\"line\":{\"color\":\"white\"}},\"type\":\"table\"}]},\"layout\":{\"annotationdefaults\":{\"arrowcolor\":\"#2a3f5f\",\"arrowhead\":0,\"arrowwidth\":1},\"autotypenumbers\":\"strict\",\"coloraxis\":{\"colorbar\":{\"outlinewidth\":0,\"ticks\":\"\"}},\"colorscale\":{\"diverging\":[[0,\"#8e0152\"],[0.1,\"#c51b7d\"],[0.2,\"#de77ae\"],[0.3,\"#f1b6da\"],[0.4,\"#fde0ef\"],[0.5,\"#f7f7f7\"],[0.6,\"#e6f5d0\"],[0.7,\"#b8e186\"],[0.8,\"#7fbc41\"],[0.9,\"#4d9221\"],[1,\"#276419\"]],\"sequential\":[[0.0,\"#0d0887\"],[0.1111111111111111,\"#46039f\"],[0.2222222222222222,\"#7201a8\"],[0.3333333333333333,\"#9c179e\"],[0.4444444444444444,\"#bd3786\"],[0.5555555555555556,\"#d8576b\"],[0.6666666666666666,\"#ed7953\"],[0.7777777777777778,\"#fb9f3a\"],[0.8888888888888888,\"#fdca26\"],[1.0,\"#f0f921\"]],\"sequentialminus\":[[0.0,\"#0d0887\"],[0.1111111111111111,\"#46039f\"],[0.2222222222222222,\"#7201a8\"],[0.3333333333333333,\"#9c179e\"],[0.4444444444444444,\"#bd3786\"],[0.5555555555555556,\"#d8576b\"],[0.6666666666666666,\"#ed7953\"],[0.7777777777777778,\"#fb9f3a\"],[0.8888888888888888,\"#fdca26\"],[1.0,\"#f0f921\"]]},\"colorway\":[\"#636efa\",\"#EF553B\",\"#00cc96\",\"#ab63fa\",\"#FFA15A\",\"#19d3f3\",\"#FF6692\",\"#B6E880\",\"#FF97FF\",\"#FECB52\"],\"font\":{\"color\":\"#2a3f5f\"},\"geo\":{\"bgcolor\":\"white\",\"lakecolor\":\"white\",\"landcolor\":\"#E5ECF6\",\"showlakes\":true,\"showland\":true,\"subunitcolor\":\"white\"},\"hoverlabel\":{\"align\":\"left\"},\"hovermode\":\"closest\",\"mapbox\":{\"style\":\"light\"},\"paper_bgcolor\":\"white\",\"plot_bgcolor\":\"#E5ECF6\",\"polar\":{\"angularaxis\":{\"gridcolor\":\"white\",\"linecolor\":\"white\",\"ticks\":\"\"},\"bgcolor\":\"#E5ECF6\",\"radialaxis\":{\"gridcolor\":\"white\",\"linecolor\":\"white\",\"ticks\":\"\"}},\"scene\":{\"xaxis\":{\"backgroundcolor\":\"#E5ECF6\",\"gridcolor\":\"white\",\"gridwidth\":2,\"linecolor\":\"white\",\"showbackground\":true,\"ticks\":\"\",\"zerolinecolor\":\"white\"},\"yaxis\":{\"backgroundcolor\":\"#E5ECF6\",\"gridcolor\":\"white\",\"gridwidth\":2,\"linecolor\":\"white\",\"showbackground\":true,\"ticks\":\"\",\"zerolinecolor\":\"white\"},\"zaxis\":{\"backgroundcolor\":\"#E5ECF6\",\"gridcolor\":\"white\",\"gridwidth\":2,\"linecolor\":\"white\",\"showbackground\":true,\"ticks\":\"\",\"zerolinecolor\":\"white\"}},\"shapedefaults\":{\"line\":{\"color\":\"#2a3f5f\"}},\"ternary\":{\"aaxis\":{\"gridcolor\":\"white\",\"linecolor\":\"white\",\"ticks\":\"\"},\"baxis\":{\"gridcolor\":\"white\",\"linecolor\":\"white\",\"ticks\":\"\"},\"bgcolor\":\"#E5ECF6\",\"caxis\":{\"gridcolor\":\"white\",\"linecolor\":\"white\",\"ticks\":\"\"}},\"title\":{\"x\":0.05},\"xaxis\":{\"automargin\":true,\"gridcolor\":\"white\",\"linecolor\":\"white\",\"ticks\":\"\",\"title\":{\"standoff\":15},\"zerolinecolor\":\"white\",\"zerolinewidth\":2},\"yaxis\":{\"automargin\":true,\"gridcolor\":\"white\",\"linecolor\":\"white\",\"ticks\":\"\",\"title\":{\"standoff\":15},\"zerolinecolor\":\"white\",\"zerolinewidth\":2}}},\"title\":{\"text\":\"Number of Orders per week\"},\"xaxis\":{\"title\":{\"text\":\"Week\"}},\"yaxis\":{\"title\":{\"text\":\"Number of Orders\"}}},                        {\"responsive\": true}                    ).then(function(){\n",
       "                            \n",
       "var gd = document.getElementById('b64897f2-e6f2-4484-a418-6a55102e5f8f');\n",
       "var x = new MutationObserver(function (mutations, observer) {{\n",
       "        var display = window.getComputedStyle(gd).display;\n",
       "        if (!display || display === 'none') {{\n",
       "            console.log([gd, 'removed!']);\n",
       "            Plotly.purge(gd);\n",
       "            observer.disconnect();\n",
       "        }}\n",
       "}});\n",
       "\n",
       "// Listen for the removal of the full notebook cells\n",
       "var notebookContainer = gd.closest('#notebook-container');\n",
       "if (notebookContainer) {{\n",
       "    x.observe(notebookContainer, {childList: true});\n",
       "}}\n",
       "\n",
       "// Listen for the clearing of the current output cell\n",
       "var outputEl = gd.closest('.output');\n",
       "if (outputEl) {{\n",
       "    x.observe(outputEl, {childList: true});\n",
       "}}\n",
       "\n",
       "                        })                };                });            </script>        </div>"
      ]
     },
     "metadata": {}
    }
   ],
   "metadata": {}
  },
  {
   "cell_type": "code",
   "execution_count": 14,
   "source": [
    "#weekly sales at centers of different types\r\n",
    "grouped_df=df.groupby(['center_type','week'],as_index=False) #group num_orders by centre_type and week\r\n",
    "center_type_orders=grouped_df['num_orders'].sum() #calculate sum of orders in the grouping\r\n",
    "center_type_orders\r\n",
    "\r\n",
    "#plot the total orders per week\r\n",
    "a,b,c=[],[],[]\r\n",
    "for index, row in center_type_orders.iterrows():\r\n",
    "    if row['center_type']=='TYPE_A':\r\n",
    "        a.append(row['num_orders'])\r\n",
    "    elif row['center_type']=='TYPE_B':\r\n",
    "        b.append(row['num_orders'])\r\n",
    "    else: #row['center_type']=='TYPE_C':\r\n",
    "        c.append(row['num_orders'])\r\n",
    "x=list(i for i in range(1,146))\r\n",
    "center_type_orders=pd.DataFrame(list(zip(x,a,b,c)),columns=['week','TYPE_A','TYPE_B','TYPE_C'])\r\n",
    "fig=go.Figure()\r\n",
    "fig.add_trace(go.Scatter(x=center_type_orders.week,y=center_type_orders.TYPE_A,mode='lines+markers',name='TYPE_A',line=dict(color='firebrick',width=1)))\r\n",
    "fig.add_trace(go.Scatter(x=center_type_orders.week,y=center_type_orders.TYPE_B,mode='lines+markers',name='TYPE_B',line=dict(color='green',width=1)))\r\n",
    "fig.add_trace(go.Scatter(x=center_type_orders.week,y=center_type_orders.TYPE_C,mode='lines+markers',name='TYPE_C',line=dict(color='blue',width=1)))\r\n",
    "fig.update_layout(title='Number of Orders per Week in Each Type of Center',xaxis_title='Week',yaxis_title='Revenue')"
   ],
   "outputs": [
    {
     "output_type": "display_data",
     "data": {
      "application/vnd.plotly.v1+json": {
       "config": {
        "plotlyServerURL": "https://plot.ly"
       },
       "data": [
        {
         "line": {
          "color": "firebrick",
          "width": 1
         },
         "mode": "lines+markers",
         "name": "TYPE_A",
         "type": "scatter",
         "x": [
          1,
          2,
          3,
          4,
          5,
          6,
          7,
          8,
          9,
          10,
          11,
          12,
          13,
          14,
          15,
          16,
          17,
          18,
          19,
          20,
          21,
          22,
          23,
          24,
          25,
          26,
          27,
          28,
          29,
          30,
          31,
          32,
          33,
          34,
          35,
          36,
          37,
          38,
          39,
          40,
          41,
          42,
          43,
          44,
          45,
          46,
          47,
          48,
          49,
          50,
          51,
          52,
          53,
          54,
          55,
          56,
          57,
          58,
          59,
          60,
          61,
          62,
          63,
          64,
          65,
          66,
          67,
          68,
          69,
          70,
          71,
          72,
          73,
          74,
          75,
          76,
          77,
          78,
          79,
          80,
          81,
          82,
          83,
          84,
          85,
          86,
          87,
          88,
          89,
          90,
          91,
          92,
          93,
          94,
          95,
          96,
          97,
          98,
          99,
          100,
          101,
          102,
          103,
          104,
          105,
          106,
          107,
          108,
          109,
          110,
          111,
          112,
          113,
          114,
          115,
          116,
          117,
          118,
          119,
          120,
          121,
          122,
          123,
          124,
          125,
          126,
          127,
          128,
          129,
          130,
          131,
          132,
          133,
          134,
          135,
          136,
          137,
          138,
          139,
          140,
          141,
          142,
          143,
          144,
          145
         ],
         "y": [
          452098,
          463522,
          402058,
          432580,
          710639,
          560098,
          561359,
          400030,
          424272,
          480031,
          463268,
          406303,
          380525,
          379481,
          380719,
          359787,
          487002,
          540223,
          458578,
          399855,
          414517,
          472764,
          443974,
          383165,
          448320,
          474935,
          423986,
          383408,
          371004,
          543228,
          440750,
          580994,
          419756,
          397345,
          357278,
          411566,
          517737,
          573087,
          439949,
          463860,
          459620,
          445951,
          404821,
          418171,
          576352,
          512264,
          469560,
          752163,
          546166,
          528276,
          430802,
          600685,
          633739,
          436864,
          505959,
          493943,
          521021,
          485617,
          449901,
          669360,
          486736,
          219225,
          472024,
          456824,
          485760,
          401752,
          439312,
          590468,
          620050,
          570830,
          586720,
          427539,
          407477,
          447551,
          559782,
          523195,
          487412,
          490870,
          564741,
          399389,
          391770,
          494584,
          514080,
          438558,
          504291,
          480764,
          460711,
          424536,
          429541,
          496693,
          473802,
          518464,
          522336,
          478786,
          529382,
          427702,
          350884,
          523526,
          429895,
          624428,
          570286,
          521831,
          424138,
          444459,
          495436,
          483962,
          449365,
          527031,
          593825,
          505502,
          514704,
          494936,
          497707,
          461175,
          461768,
          496459,
          455995,
          434387,
          471702,
          440790,
          548616,
          534349,
          515794,
          477639,
          434348,
          450741,
          428081,
          514595,
          492833,
          534698,
          499654,
          527488,
          473404,
          569952,
          429479,
          437210,
          406684,
          378728,
          419132,
          444448,
          440002,
          417027,
          428894,
          450271,
          381316
         ]
        },
        {
         "line": {
          "color": "green",
          "width": 1
         },
         "mode": "lines+markers",
         "name": "TYPE_B",
         "type": "scatter",
         "x": [
          1,
          2,
          3,
          4,
          5,
          6,
          7,
          8,
          9,
          10,
          11,
          12,
          13,
          14,
          15,
          16,
          17,
          18,
          19,
          20,
          21,
          22,
          23,
          24,
          25,
          26,
          27,
          28,
          29,
          30,
          31,
          32,
          33,
          34,
          35,
          36,
          37,
          38,
          39,
          40,
          41,
          42,
          43,
          44,
          45,
          46,
          47,
          48,
          49,
          50,
          51,
          52,
          53,
          54,
          55,
          56,
          57,
          58,
          59,
          60,
          61,
          62,
          63,
          64,
          65,
          66,
          67,
          68,
          69,
          70,
          71,
          72,
          73,
          74,
          75,
          76,
          77,
          78,
          79,
          80,
          81,
          82,
          83,
          84,
          85,
          86,
          87,
          88,
          89,
          90,
          91,
          92,
          93,
          94,
          95,
          96,
          97,
          98,
          99,
          100,
          101,
          102,
          103,
          104,
          105,
          106,
          107,
          108,
          109,
          110,
          111,
          112,
          113,
          114,
          115,
          116,
          117,
          118,
          119,
          120,
          121,
          122,
          123,
          124,
          125,
          126,
          127,
          128,
          129,
          130,
          131,
          132,
          133,
          134,
          135,
          136,
          137,
          138,
          139,
          140,
          141,
          142,
          143,
          144,
          145
         ],
         "y": [
          199803,
          191094,
          184434,
          191327,
          270642,
          221601,
          218541,
          169628,
          177255,
          196364,
          190531,
          179860,
          161487,
          155096,
          168988,
          157028,
          195106,
          212623,
          201256,
          171209,
          181218,
          195189,
          184559,
          164060,
          182155,
          184913,
          180952,
          164617,
          157779,
          223804,
          189801,
          254509,
          194813,
          190120,
          158395,
          189361,
          214769,
          246358,
          194635,
          204658,
          210324,
          196865,
          180778,
          188353,
          244661,
          214294,
          201612,
          281130,
          227082,
          220473,
          166630,
          246556,
          257897,
          187983,
          229543,
          213233,
          224148,
          209142,
          200089,
          260260,
          210692,
          96858,
          213760,
          205728,
          196564,
          184169,
          196233,
          235695,
          246066,
          225340,
          232783,
          192052,
          187832,
          202428,
          231098,
          212411,
          204733,
          199850,
          228486,
          183971,
          180653,
          214536,
          227148,
          197164,
          223910,
          215340,
          197372,
          191802,
          193770,
          218815,
          206191,
          209475,
          222966,
          217504,
          241854,
          194300,
          162012,
          236250,
          193237,
          271455,
          263425,
          225163,
          176791,
          194139,
          224167,
          220613,
          214462,
          233297,
          264626,
          225882,
          227291,
          214709,
          227494,
          205556,
          213706,
          217840,
          201279,
          199979,
          217108,
          204272,
          229916,
          225845,
          225620,
          214919,
          196462,
          207148,
          200013,
          223086,
          217145,
          223416,
          228603,
          242229,
          220672,
          240255,
          190586,
          197955,
          202498,
          192874,
          196876,
          214837,
          208276,
          201686,
          198275,
          208588,
          182400
         ]
        },
        {
         "line": {
          "color": "blue",
          "width": 1
         },
         "mode": "lines+markers",
         "name": "TYPE_C",
         "type": "scatter",
         "x": [
          1,
          2,
          3,
          4,
          5,
          6,
          7,
          8,
          9,
          10,
          11,
          12,
          13,
          14,
          15,
          16,
          17,
          18,
          19,
          20,
          21,
          22,
          23,
          24,
          25,
          26,
          27,
          28,
          29,
          30,
          31,
          32,
          33,
          34,
          35,
          36,
          37,
          38,
          39,
          40,
          41,
          42,
          43,
          44,
          45,
          46,
          47,
          48,
          49,
          50,
          51,
          52,
          53,
          54,
          55,
          56,
          57,
          58,
          59,
          60,
          61,
          62,
          63,
          64,
          65,
          66,
          67,
          68,
          69,
          70,
          71,
          72,
          73,
          74,
          75,
          76,
          77,
          78,
          79,
          80,
          81,
          82,
          83,
          84,
          85,
          86,
          87,
          88,
          89,
          90,
          91,
          92,
          93,
          94,
          95,
          96,
          97,
          98,
          99,
          100,
          101,
          102,
          103,
          104,
          105,
          106,
          107,
          108,
          109,
          110,
          111,
          112,
          113,
          114,
          115,
          116,
          117,
          118,
          119,
          120,
          121,
          122,
          123,
          124,
          125,
          126,
          127,
          128,
          129,
          130,
          131,
          132,
          133,
          134,
          135,
          136,
          137,
          138,
          139,
          140,
          141,
          142,
          143,
          144,
          145
         ],
         "y": [
          140360,
          132468,
          108770,
          119622,
          217394,
          165589,
          154903,
          100860,
          121716,
          135430,
          118426,
          104096,
          114090,
          102404,
          102012,
          94700,
          138177,
          179714,
          127362,
          106770,
          111278,
          166158,
          144738,
          100116,
          119108,
          145957,
          135076,
          100838,
          96631,
          148367,
          152663,
          198699,
          116367,
          106138,
          114785,
          123938,
          145347,
          155121,
          136380,
          138641,
          121549,
          123473,
          107672,
          132059,
          160186,
          136062,
          137097,
          270164,
          163732,
          142029,
          125604,
          199570,
          216600,
          132421,
          139643,
          136074,
          171552,
          139686,
          126791,
          201839,
          162677,
          63982,
          126291,
          121956,
          162545,
          124162,
          120736,
          183811,
          209072,
          208479,
          196223,
          112960,
          107369,
          139612,
          179880,
          167322,
          141249,
          171310,
          211384,
          114703,
          108989,
          150357,
          158863,
          132593,
          132232,
          127411,
          147057,
          128855,
          120178,
          134360,
          154404,
          180206,
          154868,
          128740,
          134605,
          143115,
          97081,
          134245,
          118916,
          192279,
          165736,
          143989,
          112640,
          136046,
          171876,
          142910,
          120024,
          148436,
          209867,
          157871,
          150636,
          142462,
          164495,
          146870,
          129995,
          141166,
          152351,
          143341,
          122899,
          108809,
          171968,
          184512,
          148512,
          134699,
          119731,
          152949,
          134643,
          140716,
          133683,
          161905,
          171696,
          169657,
          141507,
          164865,
          157041,
          134458,
          110558,
          95741,
          135927,
          143404,
          127962,
          120948,
          132757,
          142338,
          108210
         ]
        }
       ],
       "layout": {
        "template": {
         "data": {
          "bar": [
           {
            "error_x": {
             "color": "#2a3f5f"
            },
            "error_y": {
             "color": "#2a3f5f"
            },
            "marker": {
             "line": {
              "color": "#E5ECF6",
              "width": 0.5
             },
             "pattern": {
              "fillmode": "overlay",
              "size": 10,
              "solidity": 0.2
             }
            },
            "type": "bar"
           }
          ],
          "barpolar": [
           {
            "marker": {
             "line": {
              "color": "#E5ECF6",
              "width": 0.5
             },
             "pattern": {
              "fillmode": "overlay",
              "size": 10,
              "solidity": 0.2
             }
            },
            "type": "barpolar"
           }
          ],
          "carpet": [
           {
            "aaxis": {
             "endlinecolor": "#2a3f5f",
             "gridcolor": "white",
             "linecolor": "white",
             "minorgridcolor": "white",
             "startlinecolor": "#2a3f5f"
            },
            "baxis": {
             "endlinecolor": "#2a3f5f",
             "gridcolor": "white",
             "linecolor": "white",
             "minorgridcolor": "white",
             "startlinecolor": "#2a3f5f"
            },
            "type": "carpet"
           }
          ],
          "choropleth": [
           {
            "colorbar": {
             "outlinewidth": 0,
             "ticks": ""
            },
            "type": "choropleth"
           }
          ],
          "contour": [
           {
            "colorbar": {
             "outlinewidth": 0,
             "ticks": ""
            },
            "colorscale": [
             [
              0,
              "#0d0887"
             ],
             [
              0.1111111111111111,
              "#46039f"
             ],
             [
              0.2222222222222222,
              "#7201a8"
             ],
             [
              0.3333333333333333,
              "#9c179e"
             ],
             [
              0.4444444444444444,
              "#bd3786"
             ],
             [
              0.5555555555555556,
              "#d8576b"
             ],
             [
              0.6666666666666666,
              "#ed7953"
             ],
             [
              0.7777777777777778,
              "#fb9f3a"
             ],
             [
              0.8888888888888888,
              "#fdca26"
             ],
             [
              1,
              "#f0f921"
             ]
            ],
            "type": "contour"
           }
          ],
          "contourcarpet": [
           {
            "colorbar": {
             "outlinewidth": 0,
             "ticks": ""
            },
            "type": "contourcarpet"
           }
          ],
          "heatmap": [
           {
            "colorbar": {
             "outlinewidth": 0,
             "ticks": ""
            },
            "colorscale": [
             [
              0,
              "#0d0887"
             ],
             [
              0.1111111111111111,
              "#46039f"
             ],
             [
              0.2222222222222222,
              "#7201a8"
             ],
             [
              0.3333333333333333,
              "#9c179e"
             ],
             [
              0.4444444444444444,
              "#bd3786"
             ],
             [
              0.5555555555555556,
              "#d8576b"
             ],
             [
              0.6666666666666666,
              "#ed7953"
             ],
             [
              0.7777777777777778,
              "#fb9f3a"
             ],
             [
              0.8888888888888888,
              "#fdca26"
             ],
             [
              1,
              "#f0f921"
             ]
            ],
            "type": "heatmap"
           }
          ],
          "heatmapgl": [
           {
            "colorbar": {
             "outlinewidth": 0,
             "ticks": ""
            },
            "colorscale": [
             [
              0,
              "#0d0887"
             ],
             [
              0.1111111111111111,
              "#46039f"
             ],
             [
              0.2222222222222222,
              "#7201a8"
             ],
             [
              0.3333333333333333,
              "#9c179e"
             ],
             [
              0.4444444444444444,
              "#bd3786"
             ],
             [
              0.5555555555555556,
              "#d8576b"
             ],
             [
              0.6666666666666666,
              "#ed7953"
             ],
             [
              0.7777777777777778,
              "#fb9f3a"
             ],
             [
              0.8888888888888888,
              "#fdca26"
             ],
             [
              1,
              "#f0f921"
             ]
            ],
            "type": "heatmapgl"
           }
          ],
          "histogram": [
           {
            "marker": {
             "pattern": {
              "fillmode": "overlay",
              "size": 10,
              "solidity": 0.2
             }
            },
            "type": "histogram"
           }
          ],
          "histogram2d": [
           {
            "colorbar": {
             "outlinewidth": 0,
             "ticks": ""
            },
            "colorscale": [
             [
              0,
              "#0d0887"
             ],
             [
              0.1111111111111111,
              "#46039f"
             ],
             [
              0.2222222222222222,
              "#7201a8"
             ],
             [
              0.3333333333333333,
              "#9c179e"
             ],
             [
              0.4444444444444444,
              "#bd3786"
             ],
             [
              0.5555555555555556,
              "#d8576b"
             ],
             [
              0.6666666666666666,
              "#ed7953"
             ],
             [
              0.7777777777777778,
              "#fb9f3a"
             ],
             [
              0.8888888888888888,
              "#fdca26"
             ],
             [
              1,
              "#f0f921"
             ]
            ],
            "type": "histogram2d"
           }
          ],
          "histogram2dcontour": [
           {
            "colorbar": {
             "outlinewidth": 0,
             "ticks": ""
            },
            "colorscale": [
             [
              0,
              "#0d0887"
             ],
             [
              0.1111111111111111,
              "#46039f"
             ],
             [
              0.2222222222222222,
              "#7201a8"
             ],
             [
              0.3333333333333333,
              "#9c179e"
             ],
             [
              0.4444444444444444,
              "#bd3786"
             ],
             [
              0.5555555555555556,
              "#d8576b"
             ],
             [
              0.6666666666666666,
              "#ed7953"
             ],
             [
              0.7777777777777778,
              "#fb9f3a"
             ],
             [
              0.8888888888888888,
              "#fdca26"
             ],
             [
              1,
              "#f0f921"
             ]
            ],
            "type": "histogram2dcontour"
           }
          ],
          "mesh3d": [
           {
            "colorbar": {
             "outlinewidth": 0,
             "ticks": ""
            },
            "type": "mesh3d"
           }
          ],
          "parcoords": [
           {
            "line": {
             "colorbar": {
              "outlinewidth": 0,
              "ticks": ""
             }
            },
            "type": "parcoords"
           }
          ],
          "pie": [
           {
            "automargin": true,
            "type": "pie"
           }
          ],
          "scatter": [
           {
            "marker": {
             "colorbar": {
              "outlinewidth": 0,
              "ticks": ""
             }
            },
            "type": "scatter"
           }
          ],
          "scatter3d": [
           {
            "line": {
             "colorbar": {
              "outlinewidth": 0,
              "ticks": ""
             }
            },
            "marker": {
             "colorbar": {
              "outlinewidth": 0,
              "ticks": ""
             }
            },
            "type": "scatter3d"
           }
          ],
          "scattercarpet": [
           {
            "marker": {
             "colorbar": {
              "outlinewidth": 0,
              "ticks": ""
             }
            },
            "type": "scattercarpet"
           }
          ],
          "scattergeo": [
           {
            "marker": {
             "colorbar": {
              "outlinewidth": 0,
              "ticks": ""
             }
            },
            "type": "scattergeo"
           }
          ],
          "scattergl": [
           {
            "marker": {
             "colorbar": {
              "outlinewidth": 0,
              "ticks": ""
             }
            },
            "type": "scattergl"
           }
          ],
          "scattermapbox": [
           {
            "marker": {
             "colorbar": {
              "outlinewidth": 0,
              "ticks": ""
             }
            },
            "type": "scattermapbox"
           }
          ],
          "scatterpolar": [
           {
            "marker": {
             "colorbar": {
              "outlinewidth": 0,
              "ticks": ""
             }
            },
            "type": "scatterpolar"
           }
          ],
          "scatterpolargl": [
           {
            "marker": {
             "colorbar": {
              "outlinewidth": 0,
              "ticks": ""
             }
            },
            "type": "scatterpolargl"
           }
          ],
          "scatterternary": [
           {
            "marker": {
             "colorbar": {
              "outlinewidth": 0,
              "ticks": ""
             }
            },
            "type": "scatterternary"
           }
          ],
          "surface": [
           {
            "colorbar": {
             "outlinewidth": 0,
             "ticks": ""
            },
            "colorscale": [
             [
              0,
              "#0d0887"
             ],
             [
              0.1111111111111111,
              "#46039f"
             ],
             [
              0.2222222222222222,
              "#7201a8"
             ],
             [
              0.3333333333333333,
              "#9c179e"
             ],
             [
              0.4444444444444444,
              "#bd3786"
             ],
             [
              0.5555555555555556,
              "#d8576b"
             ],
             [
              0.6666666666666666,
              "#ed7953"
             ],
             [
              0.7777777777777778,
              "#fb9f3a"
             ],
             [
              0.8888888888888888,
              "#fdca26"
             ],
             [
              1,
              "#f0f921"
             ]
            ],
            "type": "surface"
           }
          ],
          "table": [
           {
            "cells": {
             "fill": {
              "color": "#EBF0F8"
             },
             "line": {
              "color": "white"
             }
            },
            "header": {
             "fill": {
              "color": "#C8D4E3"
             },
             "line": {
              "color": "white"
             }
            },
            "type": "table"
           }
          ]
         },
         "layout": {
          "annotationdefaults": {
           "arrowcolor": "#2a3f5f",
           "arrowhead": 0,
           "arrowwidth": 1
          },
          "autotypenumbers": "strict",
          "coloraxis": {
           "colorbar": {
            "outlinewidth": 0,
            "ticks": ""
           }
          },
          "colorscale": {
           "diverging": [
            [
             0,
             "#8e0152"
            ],
            [
             0.1,
             "#c51b7d"
            ],
            [
             0.2,
             "#de77ae"
            ],
            [
             0.3,
             "#f1b6da"
            ],
            [
             0.4,
             "#fde0ef"
            ],
            [
             0.5,
             "#f7f7f7"
            ],
            [
             0.6,
             "#e6f5d0"
            ],
            [
             0.7,
             "#b8e186"
            ],
            [
             0.8,
             "#7fbc41"
            ],
            [
             0.9,
             "#4d9221"
            ],
            [
             1,
             "#276419"
            ]
           ],
           "sequential": [
            [
             0,
             "#0d0887"
            ],
            [
             0.1111111111111111,
             "#46039f"
            ],
            [
             0.2222222222222222,
             "#7201a8"
            ],
            [
             0.3333333333333333,
             "#9c179e"
            ],
            [
             0.4444444444444444,
             "#bd3786"
            ],
            [
             0.5555555555555556,
             "#d8576b"
            ],
            [
             0.6666666666666666,
             "#ed7953"
            ],
            [
             0.7777777777777778,
             "#fb9f3a"
            ],
            [
             0.8888888888888888,
             "#fdca26"
            ],
            [
             1,
             "#f0f921"
            ]
           ],
           "sequentialminus": [
            [
             0,
             "#0d0887"
            ],
            [
             0.1111111111111111,
             "#46039f"
            ],
            [
             0.2222222222222222,
             "#7201a8"
            ],
            [
             0.3333333333333333,
             "#9c179e"
            ],
            [
             0.4444444444444444,
             "#bd3786"
            ],
            [
             0.5555555555555556,
             "#d8576b"
            ],
            [
             0.6666666666666666,
             "#ed7953"
            ],
            [
             0.7777777777777778,
             "#fb9f3a"
            ],
            [
             0.8888888888888888,
             "#fdca26"
            ],
            [
             1,
             "#f0f921"
            ]
           ]
          },
          "colorway": [
           "#636efa",
           "#EF553B",
           "#00cc96",
           "#ab63fa",
           "#FFA15A",
           "#19d3f3",
           "#FF6692",
           "#B6E880",
           "#FF97FF",
           "#FECB52"
          ],
          "font": {
           "color": "#2a3f5f"
          },
          "geo": {
           "bgcolor": "white",
           "lakecolor": "white",
           "landcolor": "#E5ECF6",
           "showlakes": true,
           "showland": true,
           "subunitcolor": "white"
          },
          "hoverlabel": {
           "align": "left"
          },
          "hovermode": "closest",
          "mapbox": {
           "style": "light"
          },
          "paper_bgcolor": "white",
          "plot_bgcolor": "#E5ECF6",
          "polar": {
           "angularaxis": {
            "gridcolor": "white",
            "linecolor": "white",
            "ticks": ""
           },
           "bgcolor": "#E5ECF6",
           "radialaxis": {
            "gridcolor": "white",
            "linecolor": "white",
            "ticks": ""
           }
          },
          "scene": {
           "xaxis": {
            "backgroundcolor": "#E5ECF6",
            "gridcolor": "white",
            "gridwidth": 2,
            "linecolor": "white",
            "showbackground": true,
            "ticks": "",
            "zerolinecolor": "white"
           },
           "yaxis": {
            "backgroundcolor": "#E5ECF6",
            "gridcolor": "white",
            "gridwidth": 2,
            "linecolor": "white",
            "showbackground": true,
            "ticks": "",
            "zerolinecolor": "white"
           },
           "zaxis": {
            "backgroundcolor": "#E5ECF6",
            "gridcolor": "white",
            "gridwidth": 2,
            "linecolor": "white",
            "showbackground": true,
            "ticks": "",
            "zerolinecolor": "white"
           }
          },
          "shapedefaults": {
           "line": {
            "color": "#2a3f5f"
           }
          },
          "ternary": {
           "aaxis": {
            "gridcolor": "white",
            "linecolor": "white",
            "ticks": ""
           },
           "baxis": {
            "gridcolor": "white",
            "linecolor": "white",
            "ticks": ""
           },
           "bgcolor": "#E5ECF6",
           "caxis": {
            "gridcolor": "white",
            "linecolor": "white",
            "ticks": ""
           }
          },
          "title": {
           "x": 0.05
          },
          "xaxis": {
           "automargin": true,
           "gridcolor": "white",
           "linecolor": "white",
           "ticks": "",
           "title": {
            "standoff": 15
           },
           "zerolinecolor": "white",
           "zerolinewidth": 2
          },
          "yaxis": {
           "automargin": true,
           "gridcolor": "white",
           "linecolor": "white",
           "ticks": "",
           "title": {
            "standoff": 15
           },
           "zerolinecolor": "white",
           "zerolinewidth": 2
          }
         }
        },
        "title": {
         "text": "Number of Orders per Week in Each Type of Center"
        },
        "xaxis": {
         "title": {
          "text": "Week"
         }
        },
        "yaxis": {
         "title": {
          "text": "Revenue"
         }
        }
       }
      },
      "text/html": [
       "<div>                            <div id=\"80f2ccf1-42c0-418a-be46-ca00bc8d9889\" class=\"plotly-graph-div\" style=\"height:525px; width:100%;\"></div>            <script type=\"text/javascript\">                require([\"plotly\"], function(Plotly) {                    window.PLOTLYENV=window.PLOTLYENV || {};                                    if (document.getElementById(\"80f2ccf1-42c0-418a-be46-ca00bc8d9889\")) {                    Plotly.newPlot(                        \"80f2ccf1-42c0-418a-be46-ca00bc8d9889\",                        [{\"line\":{\"color\":\"firebrick\",\"width\":1},\"mode\":\"lines+markers\",\"name\":\"TYPE_A\",\"type\":\"scatter\",\"x\":[1,2,3,4,5,6,7,8,9,10,11,12,13,14,15,16,17,18,19,20,21,22,23,24,25,26,27,28,29,30,31,32,33,34,35,36,37,38,39,40,41,42,43,44,45,46,47,48,49,50,51,52,53,54,55,56,57,58,59,60,61,62,63,64,65,66,67,68,69,70,71,72,73,74,75,76,77,78,79,80,81,82,83,84,85,86,87,88,89,90,91,92,93,94,95,96,97,98,99,100,101,102,103,104,105,106,107,108,109,110,111,112,113,114,115,116,117,118,119,120,121,122,123,124,125,126,127,128,129,130,131,132,133,134,135,136,137,138,139,140,141,142,143,144,145],\"y\":[452098,463522,402058,432580,710639,560098,561359,400030,424272,480031,463268,406303,380525,379481,380719,359787,487002,540223,458578,399855,414517,472764,443974,383165,448320,474935,423986,383408,371004,543228,440750,580994,419756,397345,357278,411566,517737,573087,439949,463860,459620,445951,404821,418171,576352,512264,469560,752163,546166,528276,430802,600685,633739,436864,505959,493943,521021,485617,449901,669360,486736,219225,472024,456824,485760,401752,439312,590468,620050,570830,586720,427539,407477,447551,559782,523195,487412,490870,564741,399389,391770,494584,514080,438558,504291,480764,460711,424536,429541,496693,473802,518464,522336,478786,529382,427702,350884,523526,429895,624428,570286,521831,424138,444459,495436,483962,449365,527031,593825,505502,514704,494936,497707,461175,461768,496459,455995,434387,471702,440790,548616,534349,515794,477639,434348,450741,428081,514595,492833,534698,499654,527488,473404,569952,429479,437210,406684,378728,419132,444448,440002,417027,428894,450271,381316]},{\"line\":{\"color\":\"green\",\"width\":1},\"mode\":\"lines+markers\",\"name\":\"TYPE_B\",\"type\":\"scatter\",\"x\":[1,2,3,4,5,6,7,8,9,10,11,12,13,14,15,16,17,18,19,20,21,22,23,24,25,26,27,28,29,30,31,32,33,34,35,36,37,38,39,40,41,42,43,44,45,46,47,48,49,50,51,52,53,54,55,56,57,58,59,60,61,62,63,64,65,66,67,68,69,70,71,72,73,74,75,76,77,78,79,80,81,82,83,84,85,86,87,88,89,90,91,92,93,94,95,96,97,98,99,100,101,102,103,104,105,106,107,108,109,110,111,112,113,114,115,116,117,118,119,120,121,122,123,124,125,126,127,128,129,130,131,132,133,134,135,136,137,138,139,140,141,142,143,144,145],\"y\":[199803,191094,184434,191327,270642,221601,218541,169628,177255,196364,190531,179860,161487,155096,168988,157028,195106,212623,201256,171209,181218,195189,184559,164060,182155,184913,180952,164617,157779,223804,189801,254509,194813,190120,158395,189361,214769,246358,194635,204658,210324,196865,180778,188353,244661,214294,201612,281130,227082,220473,166630,246556,257897,187983,229543,213233,224148,209142,200089,260260,210692,96858,213760,205728,196564,184169,196233,235695,246066,225340,232783,192052,187832,202428,231098,212411,204733,199850,228486,183971,180653,214536,227148,197164,223910,215340,197372,191802,193770,218815,206191,209475,222966,217504,241854,194300,162012,236250,193237,271455,263425,225163,176791,194139,224167,220613,214462,233297,264626,225882,227291,214709,227494,205556,213706,217840,201279,199979,217108,204272,229916,225845,225620,214919,196462,207148,200013,223086,217145,223416,228603,242229,220672,240255,190586,197955,202498,192874,196876,214837,208276,201686,198275,208588,182400]},{\"line\":{\"color\":\"blue\",\"width\":1},\"mode\":\"lines+markers\",\"name\":\"TYPE_C\",\"type\":\"scatter\",\"x\":[1,2,3,4,5,6,7,8,9,10,11,12,13,14,15,16,17,18,19,20,21,22,23,24,25,26,27,28,29,30,31,32,33,34,35,36,37,38,39,40,41,42,43,44,45,46,47,48,49,50,51,52,53,54,55,56,57,58,59,60,61,62,63,64,65,66,67,68,69,70,71,72,73,74,75,76,77,78,79,80,81,82,83,84,85,86,87,88,89,90,91,92,93,94,95,96,97,98,99,100,101,102,103,104,105,106,107,108,109,110,111,112,113,114,115,116,117,118,119,120,121,122,123,124,125,126,127,128,129,130,131,132,133,134,135,136,137,138,139,140,141,142,143,144,145],\"y\":[140360,132468,108770,119622,217394,165589,154903,100860,121716,135430,118426,104096,114090,102404,102012,94700,138177,179714,127362,106770,111278,166158,144738,100116,119108,145957,135076,100838,96631,148367,152663,198699,116367,106138,114785,123938,145347,155121,136380,138641,121549,123473,107672,132059,160186,136062,137097,270164,163732,142029,125604,199570,216600,132421,139643,136074,171552,139686,126791,201839,162677,63982,126291,121956,162545,124162,120736,183811,209072,208479,196223,112960,107369,139612,179880,167322,141249,171310,211384,114703,108989,150357,158863,132593,132232,127411,147057,128855,120178,134360,154404,180206,154868,128740,134605,143115,97081,134245,118916,192279,165736,143989,112640,136046,171876,142910,120024,148436,209867,157871,150636,142462,164495,146870,129995,141166,152351,143341,122899,108809,171968,184512,148512,134699,119731,152949,134643,140716,133683,161905,171696,169657,141507,164865,157041,134458,110558,95741,135927,143404,127962,120948,132757,142338,108210]}],                        {\"template\":{\"data\":{\"bar\":[{\"error_x\":{\"color\":\"#2a3f5f\"},\"error_y\":{\"color\":\"#2a3f5f\"},\"marker\":{\"line\":{\"color\":\"#E5ECF6\",\"width\":0.5},\"pattern\":{\"fillmode\":\"overlay\",\"size\":10,\"solidity\":0.2}},\"type\":\"bar\"}],\"barpolar\":[{\"marker\":{\"line\":{\"color\":\"#E5ECF6\",\"width\":0.5},\"pattern\":{\"fillmode\":\"overlay\",\"size\":10,\"solidity\":0.2}},\"type\":\"barpolar\"}],\"carpet\":[{\"aaxis\":{\"endlinecolor\":\"#2a3f5f\",\"gridcolor\":\"white\",\"linecolor\":\"white\",\"minorgridcolor\":\"white\",\"startlinecolor\":\"#2a3f5f\"},\"baxis\":{\"endlinecolor\":\"#2a3f5f\",\"gridcolor\":\"white\",\"linecolor\":\"white\",\"minorgridcolor\":\"white\",\"startlinecolor\":\"#2a3f5f\"},\"type\":\"carpet\"}],\"choropleth\":[{\"colorbar\":{\"outlinewidth\":0,\"ticks\":\"\"},\"type\":\"choropleth\"}],\"contour\":[{\"colorbar\":{\"outlinewidth\":0,\"ticks\":\"\"},\"colorscale\":[[0.0,\"#0d0887\"],[0.1111111111111111,\"#46039f\"],[0.2222222222222222,\"#7201a8\"],[0.3333333333333333,\"#9c179e\"],[0.4444444444444444,\"#bd3786\"],[0.5555555555555556,\"#d8576b\"],[0.6666666666666666,\"#ed7953\"],[0.7777777777777778,\"#fb9f3a\"],[0.8888888888888888,\"#fdca26\"],[1.0,\"#f0f921\"]],\"type\":\"contour\"}],\"contourcarpet\":[{\"colorbar\":{\"outlinewidth\":0,\"ticks\":\"\"},\"type\":\"contourcarpet\"}],\"heatmap\":[{\"colorbar\":{\"outlinewidth\":0,\"ticks\":\"\"},\"colorscale\":[[0.0,\"#0d0887\"],[0.1111111111111111,\"#46039f\"],[0.2222222222222222,\"#7201a8\"],[0.3333333333333333,\"#9c179e\"],[0.4444444444444444,\"#bd3786\"],[0.5555555555555556,\"#d8576b\"],[0.6666666666666666,\"#ed7953\"],[0.7777777777777778,\"#fb9f3a\"],[0.8888888888888888,\"#fdca26\"],[1.0,\"#f0f921\"]],\"type\":\"heatmap\"}],\"heatmapgl\":[{\"colorbar\":{\"outlinewidth\":0,\"ticks\":\"\"},\"colorscale\":[[0.0,\"#0d0887\"],[0.1111111111111111,\"#46039f\"],[0.2222222222222222,\"#7201a8\"],[0.3333333333333333,\"#9c179e\"],[0.4444444444444444,\"#bd3786\"],[0.5555555555555556,\"#d8576b\"],[0.6666666666666666,\"#ed7953\"],[0.7777777777777778,\"#fb9f3a\"],[0.8888888888888888,\"#fdca26\"],[1.0,\"#f0f921\"]],\"type\":\"heatmapgl\"}],\"histogram\":[{\"marker\":{\"pattern\":{\"fillmode\":\"overlay\",\"size\":10,\"solidity\":0.2}},\"type\":\"histogram\"}],\"histogram2d\":[{\"colorbar\":{\"outlinewidth\":0,\"ticks\":\"\"},\"colorscale\":[[0.0,\"#0d0887\"],[0.1111111111111111,\"#46039f\"],[0.2222222222222222,\"#7201a8\"],[0.3333333333333333,\"#9c179e\"],[0.4444444444444444,\"#bd3786\"],[0.5555555555555556,\"#d8576b\"],[0.6666666666666666,\"#ed7953\"],[0.7777777777777778,\"#fb9f3a\"],[0.8888888888888888,\"#fdca26\"],[1.0,\"#f0f921\"]],\"type\":\"histogram2d\"}],\"histogram2dcontour\":[{\"colorbar\":{\"outlinewidth\":0,\"ticks\":\"\"},\"colorscale\":[[0.0,\"#0d0887\"],[0.1111111111111111,\"#46039f\"],[0.2222222222222222,\"#7201a8\"],[0.3333333333333333,\"#9c179e\"],[0.4444444444444444,\"#bd3786\"],[0.5555555555555556,\"#d8576b\"],[0.6666666666666666,\"#ed7953\"],[0.7777777777777778,\"#fb9f3a\"],[0.8888888888888888,\"#fdca26\"],[1.0,\"#f0f921\"]],\"type\":\"histogram2dcontour\"}],\"mesh3d\":[{\"colorbar\":{\"outlinewidth\":0,\"ticks\":\"\"},\"type\":\"mesh3d\"}],\"parcoords\":[{\"line\":{\"colorbar\":{\"outlinewidth\":0,\"ticks\":\"\"}},\"type\":\"parcoords\"}],\"pie\":[{\"automargin\":true,\"type\":\"pie\"}],\"scatter\":[{\"marker\":{\"colorbar\":{\"outlinewidth\":0,\"ticks\":\"\"}},\"type\":\"scatter\"}],\"scatter3d\":[{\"line\":{\"colorbar\":{\"outlinewidth\":0,\"ticks\":\"\"}},\"marker\":{\"colorbar\":{\"outlinewidth\":0,\"ticks\":\"\"}},\"type\":\"scatter3d\"}],\"scattercarpet\":[{\"marker\":{\"colorbar\":{\"outlinewidth\":0,\"ticks\":\"\"}},\"type\":\"scattercarpet\"}],\"scattergeo\":[{\"marker\":{\"colorbar\":{\"outlinewidth\":0,\"ticks\":\"\"}},\"type\":\"scattergeo\"}],\"scattergl\":[{\"marker\":{\"colorbar\":{\"outlinewidth\":0,\"ticks\":\"\"}},\"type\":\"scattergl\"}],\"scattermapbox\":[{\"marker\":{\"colorbar\":{\"outlinewidth\":0,\"ticks\":\"\"}},\"type\":\"scattermapbox\"}],\"scatterpolar\":[{\"marker\":{\"colorbar\":{\"outlinewidth\":0,\"ticks\":\"\"}},\"type\":\"scatterpolar\"}],\"scatterpolargl\":[{\"marker\":{\"colorbar\":{\"outlinewidth\":0,\"ticks\":\"\"}},\"type\":\"scatterpolargl\"}],\"scatterternary\":[{\"marker\":{\"colorbar\":{\"outlinewidth\":0,\"ticks\":\"\"}},\"type\":\"scatterternary\"}],\"surface\":[{\"colorbar\":{\"outlinewidth\":0,\"ticks\":\"\"},\"colorscale\":[[0.0,\"#0d0887\"],[0.1111111111111111,\"#46039f\"],[0.2222222222222222,\"#7201a8\"],[0.3333333333333333,\"#9c179e\"],[0.4444444444444444,\"#bd3786\"],[0.5555555555555556,\"#d8576b\"],[0.6666666666666666,\"#ed7953\"],[0.7777777777777778,\"#fb9f3a\"],[0.8888888888888888,\"#fdca26\"],[1.0,\"#f0f921\"]],\"type\":\"surface\"}],\"table\":[{\"cells\":{\"fill\":{\"color\":\"#EBF0F8\"},\"line\":{\"color\":\"white\"}},\"header\":{\"fill\":{\"color\":\"#C8D4E3\"},\"line\":{\"color\":\"white\"}},\"type\":\"table\"}]},\"layout\":{\"annotationdefaults\":{\"arrowcolor\":\"#2a3f5f\",\"arrowhead\":0,\"arrowwidth\":1},\"autotypenumbers\":\"strict\",\"coloraxis\":{\"colorbar\":{\"outlinewidth\":0,\"ticks\":\"\"}},\"colorscale\":{\"diverging\":[[0,\"#8e0152\"],[0.1,\"#c51b7d\"],[0.2,\"#de77ae\"],[0.3,\"#f1b6da\"],[0.4,\"#fde0ef\"],[0.5,\"#f7f7f7\"],[0.6,\"#e6f5d0\"],[0.7,\"#b8e186\"],[0.8,\"#7fbc41\"],[0.9,\"#4d9221\"],[1,\"#276419\"]],\"sequential\":[[0.0,\"#0d0887\"],[0.1111111111111111,\"#46039f\"],[0.2222222222222222,\"#7201a8\"],[0.3333333333333333,\"#9c179e\"],[0.4444444444444444,\"#bd3786\"],[0.5555555555555556,\"#d8576b\"],[0.6666666666666666,\"#ed7953\"],[0.7777777777777778,\"#fb9f3a\"],[0.8888888888888888,\"#fdca26\"],[1.0,\"#f0f921\"]],\"sequentialminus\":[[0.0,\"#0d0887\"],[0.1111111111111111,\"#46039f\"],[0.2222222222222222,\"#7201a8\"],[0.3333333333333333,\"#9c179e\"],[0.4444444444444444,\"#bd3786\"],[0.5555555555555556,\"#d8576b\"],[0.6666666666666666,\"#ed7953\"],[0.7777777777777778,\"#fb9f3a\"],[0.8888888888888888,\"#fdca26\"],[1.0,\"#f0f921\"]]},\"colorway\":[\"#636efa\",\"#EF553B\",\"#00cc96\",\"#ab63fa\",\"#FFA15A\",\"#19d3f3\",\"#FF6692\",\"#B6E880\",\"#FF97FF\",\"#FECB52\"],\"font\":{\"color\":\"#2a3f5f\"},\"geo\":{\"bgcolor\":\"white\",\"lakecolor\":\"white\",\"landcolor\":\"#E5ECF6\",\"showlakes\":true,\"showland\":true,\"subunitcolor\":\"white\"},\"hoverlabel\":{\"align\":\"left\"},\"hovermode\":\"closest\",\"mapbox\":{\"style\":\"light\"},\"paper_bgcolor\":\"white\",\"plot_bgcolor\":\"#E5ECF6\",\"polar\":{\"angularaxis\":{\"gridcolor\":\"white\",\"linecolor\":\"white\",\"ticks\":\"\"},\"bgcolor\":\"#E5ECF6\",\"radialaxis\":{\"gridcolor\":\"white\",\"linecolor\":\"white\",\"ticks\":\"\"}},\"scene\":{\"xaxis\":{\"backgroundcolor\":\"#E5ECF6\",\"gridcolor\":\"white\",\"gridwidth\":2,\"linecolor\":\"white\",\"showbackground\":true,\"ticks\":\"\",\"zerolinecolor\":\"white\"},\"yaxis\":{\"backgroundcolor\":\"#E5ECF6\",\"gridcolor\":\"white\",\"gridwidth\":2,\"linecolor\":\"white\",\"showbackground\":true,\"ticks\":\"\",\"zerolinecolor\":\"white\"},\"zaxis\":{\"backgroundcolor\":\"#E5ECF6\",\"gridcolor\":\"white\",\"gridwidth\":2,\"linecolor\":\"white\",\"showbackground\":true,\"ticks\":\"\",\"zerolinecolor\":\"white\"}},\"shapedefaults\":{\"line\":{\"color\":\"#2a3f5f\"}},\"ternary\":{\"aaxis\":{\"gridcolor\":\"white\",\"linecolor\":\"white\",\"ticks\":\"\"},\"baxis\":{\"gridcolor\":\"white\",\"linecolor\":\"white\",\"ticks\":\"\"},\"bgcolor\":\"#E5ECF6\",\"caxis\":{\"gridcolor\":\"white\",\"linecolor\":\"white\",\"ticks\":\"\"}},\"title\":{\"x\":0.05},\"xaxis\":{\"automargin\":true,\"gridcolor\":\"white\",\"linecolor\":\"white\",\"ticks\":\"\",\"title\":{\"standoff\":15},\"zerolinecolor\":\"white\",\"zerolinewidth\":2},\"yaxis\":{\"automargin\":true,\"gridcolor\":\"white\",\"linecolor\":\"white\",\"ticks\":\"\",\"title\":{\"standoff\":15},\"zerolinecolor\":\"white\",\"zerolinewidth\":2}}},\"title\":{\"text\":\"Number of Orders per Week in Each Type of Center\"},\"xaxis\":{\"title\":{\"text\":\"Week\"}},\"yaxis\":{\"title\":{\"text\":\"Revenue\"}}},                        {\"responsive\": true}                    ).then(function(){\n",
       "                            \n",
       "var gd = document.getElementById('80f2ccf1-42c0-418a-be46-ca00bc8d9889');\n",
       "var x = new MutationObserver(function (mutations, observer) {{\n",
       "        var display = window.getComputedStyle(gd).display;\n",
       "        if (!display || display === 'none') {{\n",
       "            console.log([gd, 'removed!']);\n",
       "            Plotly.purge(gd);\n",
       "            observer.disconnect();\n",
       "        }}\n",
       "}});\n",
       "\n",
       "// Listen for the removal of the full notebook cells\n",
       "var notebookContainer = gd.closest('#notebook-container');\n",
       "if (notebookContainer) {{\n",
       "    x.observe(notebookContainer, {childList: true});\n",
       "}}\n",
       "\n",
       "// Listen for the clearing of the current output cell\n",
       "var outputEl = gd.closest('.output');\n",
       "if (outputEl) {{\n",
       "    x.observe(outputEl, {childList: true});\n",
       "}}\n",
       "\n",
       "                        })                };                });            </script>        </div>"
      ]
     },
     "metadata": {}
    }
   ],
   "metadata": {}
  },
  {
   "cell_type": "code",
   "execution_count": 15,
   "source": [
    "#Highest number of orders in type_A, followed by type_B and type_C"
   ],
   "outputs": [],
   "metadata": {}
  },
  {
   "cell_type": "code",
   "execution_count": 16,
   "source": [
    "#effect of promotional emailer and homepage feature on number of orders\r\n",
    "grouped_df=df.groupby(['emailer_for_promotion','homepage_featured'],as_index=False) #group num_orders by week\r\n",
    "cuisine_category_orders=grouped_df['num_orders'].sum()\r\n",
    "cuisine_category_orders\r\n"
   ],
   "outputs": [
    {
     "output_type": "execute_result",
     "data": {
      "text/html": [
       "<div>\n",
       "<style scoped>\n",
       "    .dataframe tbody tr th:only-of-type {\n",
       "        vertical-align: middle;\n",
       "    }\n",
       "\n",
       "    .dataframe tbody tr th {\n",
       "        vertical-align: top;\n",
       "    }\n",
       "\n",
       "    .dataframe thead th {\n",
       "        text-align: right;\n",
       "    }\n",
       "</style>\n",
       "<table border=\"1\" class=\"dataframe\">\n",
       "  <thead>\n",
       "    <tr style=\"text-align: right;\">\n",
       "      <th></th>\n",
       "      <th>emailer_for_promotion</th>\n",
       "      <th>homepage_featured</th>\n",
       "      <th>num_orders</th>\n",
       "    </tr>\n",
       "  </thead>\n",
       "  <tbody>\n",
       "    <tr>\n",
       "      <th>0</th>\n",
       "      <td>0</td>\n",
       "      <td>0</td>\n",
       "      <td>82214568</td>\n",
       "    </tr>\n",
       "    <tr>\n",
       "      <th>1</th>\n",
       "      <td>0</td>\n",
       "      <td>1</td>\n",
       "      <td>13960753</td>\n",
       "    </tr>\n",
       "    <tr>\n",
       "      <th>2</th>\n",
       "      <td>1</td>\n",
       "      <td>0</td>\n",
       "      <td>7684936</td>\n",
       "    </tr>\n",
       "    <tr>\n",
       "      <th>3</th>\n",
       "      <td>1</td>\n",
       "      <td>1</td>\n",
       "      <td>15697228</td>\n",
       "    </tr>\n",
       "  </tbody>\n",
       "</table>\n",
       "</div>"
      ],
      "text/plain": [
       "   emailer_for_promotion  homepage_featured  num_orders\n",
       "0                      0                  0    82214568\n",
       "1                      0                  1    13960753\n",
       "2                      1                  0     7684936\n",
       "3                      1                  1    15697228"
      ]
     },
     "metadata": {},
     "execution_count": 16
    }
   ],
   "metadata": {}
  },
  {
   "cell_type": "code",
   "execution_count": 17,
   "source": [
    "#Promotional emails and homepage features do not increase the number of orders."
   ],
   "outputs": [],
   "metadata": {}
  },
  {
   "cell_type": "code",
   "execution_count": null,
   "source": [],
   "outputs": [],
   "metadata": {}
  }
 ],
 "metadata": {
  "orig_nbformat": 4,
  "language_info": {
   "name": "python",
   "version": "3.7.6",
   "mimetype": "text/x-python",
   "codemirror_mode": {
    "name": "ipython",
    "version": 3
   },
   "pygments_lexer": "ipython3",
   "nbconvert_exporter": "python",
   "file_extension": ".py"
  },
  "kernelspec": {
   "name": "python3",
   "display_name": "Python 3.7.6 64-bit ('base': conda)"
  },
  "interpreter": {
   "hash": "c0f70214c0dd213f07f54ee5d6e0ea644bdbba35113c9bfe8aaa0d1db03ad5dd"
  }
 },
 "nbformat": 4,
 "nbformat_minor": 2
}